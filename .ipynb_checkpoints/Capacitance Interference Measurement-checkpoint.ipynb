{
 "cells": [
  {
   "cell_type": "markdown",
   "metadata": {},
   "source": [
    "# Import Commands"
   ]
  },
  {
   "cell_type": "code",
   "execution_count": 1,
   "metadata": {
    "ExecuteTime": {
     "end_time": "2023-08-17T21:28:10.448694Z",
     "start_time": "2023-08-17T21:28:08.287570Z"
    }
   },
   "outputs": [],
   "source": [
    "#%qtconsole\n",
    "#%matplotlib inline\n",
    "\n",
    "import matplotlib.pyplot as plt\n",
    "from functools import partial\n",
    "import numpy as np\n",
    "import time \n",
    "import qcodes as qc\n",
    "import os\n",
    "\n",
    "\n",
    "from qcodes import Station, load_or_create_experiment, initialise_database, Measurement, load_by_run_spec, load_by_guid, initialise_or_create_database_at \n",
    "from qcodes.utils.dataset.doNd import do1d, do2d, plot\n",
    "\n",
    "from qcodes_contrib_drivers.drivers.Tektronix.Keithley_2700 import Keithley_2700\n",
    "from qcodes.instrument_drivers.tektronix.Keithley_2600_channels import Keithley_2600\n",
    "from qcodes_contrib_drivers.drivers.Oxford.IPS120 import OxfordInstruments_IPS120\n",
    "from qcodes.instrument.visa import VisaInstrument\n",
    "from qcodes_contrib_drivers.drivers.StanfordResearchSystems.SIM928 import SIM928\n",
    "from qcodes.instrument_drivers.stanford_research.SR830 import SR830\n",
    "from qcodes.instrument_drivers.stanford_research.SR860 import SR860\n",
    "from qcodes.dataset.plotting import plot_dataset"
   ]
  },
  {
   "cell_type": "markdown",
   "metadata": {},
   "source": [
    "# Initialize Instruments"
   ]
  },
  {
   "cell_type": "code",
   "execution_count": 3,
   "metadata": {
    "ExecuteTime": {
     "end_time": "2023-08-17T21:28:28.421722Z",
     "start_time": "2023-08-17T21:28:26.788629Z"
    }
   },
   "outputs": [
    {
     "name": "stdout",
     "output_type": "stream",
     "text": [
      "Connected to: Stanford_Research_Systems SR860 (serial:004479, firmware:V1.51) in 0.08s\n",
      "Connected to: Stanford_Research_Systems SIM900 (serial:s/n130213, firmware:ver3.6) in 1.54s\n"
     ]
    }
   ],
   "source": [
    "#Magnet Controller\n",
    "#mag120 = OxfordInstruments_IPS120('ips','TCPIP0::169.254.255.2::7020::SOCKET',23)\n",
    "#mag120 = OxfordInstruments_IPS120('ips','GPIB0::23::INSTR')\n",
    "#Lockins(SR860 and SR830)\n",
    "rxx2=SR860('Zoe', 'GPIB1::4::INSTR')\n",
    "#rxy=SR830('Dilbert','GPIB1::6::INSTR' )\n",
    "#SIM900 Controller(DC Voltage source)\n",
    "sim=SIM928('sim','GPIB1::15::INSTR')"
   ]
  },
  {
   "cell_type": "markdown",
   "metadata": {},
   "source": [
    "# Set Parameters for Instruments"
   ]
  },
  {
   "cell_type": "code",
   "execution_count": 4,
   "metadata": {
    "ExecuteTime": {
     "end_time": "2023-08-17T21:28:31.420894Z",
     "start_time": "2023-08-17T21:28:31.408893Z"
    }
   },
   "outputs": [],
   "source": [
    "#Parameters for SIM Controller\n",
    "#sim.volt_2()\n",
    "#sim.volt_2.step=0.001\n",
    "#sim.volt_2.inter_delay=0.2\n",
    "waitTime = 5\n",
    "step_size = 0.005\n",
    "V1_start = 0.4\n",
    "V1_end = -0.1\n",
    "V2_start = 0.4\n",
    "V2_end = -0.6\n",
    "V1_SIMPORT = 6\n",
    "V2_SIMPORT = 7"
   ]
  },
  {
   "cell_type": "markdown",
   "metadata": {},
   "source": [
    "# Set Up Database for Data Collection"
   ]
  },
  {
   "cell_type": "code",
   "execution_count": 7,
   "metadata": {
    "ExecuteTime": {
     "end_time": "2023-08-17T21:29:26.144023Z",
     "start_time": "2023-08-17T21:29:25.104964Z"
    }
   },
   "outputs": [],
   "source": [
    "initialise_or_create_database_at(\"C:\\\\Users\\\\Admin\\\\Desktop\\\\MattMann\\\\8-3-22.1MM11C5\\\\Capacitance Correction\\\\QPC7&3 With QPC18.db\")"
   ]
  },
  {
   "cell_type": "markdown",
   "metadata": {},
   "source": [
    "# Run Measurement"
   ]
  },
  {
   "cell_type": "code",
   "execution_count": 19,
   "metadata": {
    "ExecuteTime": {
     "end_time": "2023-08-18T03:32:12.128967Z",
     "start_time": "2023-08-18T03:32:06.899668Z"
    }
   },
   "outputs": [
    {
     "name": "stdout",
     "output_type": "stream",
     "text": [
      "Starting experimental run with id: 5. \n"
     ]
    },
    {
     "name": "stderr",
     "output_type": "stream",
     "text": [
      "An exception occured in measurement with guid: aaaaaaaa-0000-0000-0000-018a06b3469d;\n",
      "Traceback:\n",
      "Traceback (most recent call last):\n",
      "  File \"C:\\Users\\Admin\\AppData\\Local\\Temp\\ipykernel_5592\\553028012.py\", line 15, in <module>\n",
      "    ds.add_result(i, j, rxx2.X)\n",
      "  File \"C:\\Anaconda3\\envs\\MattMann\\lib\\site-packages\\qcodes\\dataset\\measurements.py\", line 176, in add_result\n",
      "    for partial_result in res_tuple\n",
      "  File \"C:\\Anaconda3\\envs\\MattMann\\lib\\site-packages\\qcodes\\dataset\\measurements.py\", line 176, in <genexpr>\n",
      "    for partial_result in res_tuple\n",
      "IndexError: invalid index to scalar variable.\n",
      "\n"
     ]
    },
    {
     "ename": "IndexError",
     "evalue": "invalid index to scalar variable.",
     "output_type": "error",
     "traceback": [
      "\u001b[1;31m---------------------------------------------------------------------------\u001b[0m",
      "\u001b[1;31mIndexError\u001b[0m                                Traceback (most recent call last)",
      "\u001b[1;32m~\\AppData\\Local\\Temp\\ipykernel_5592\\553028012.py\u001b[0m in \u001b[0;36m<module>\u001b[1;34m\u001b[0m\n\u001b[0;32m     13\u001b[0m             \u001b[0msim\u001b[0m\u001b[1;33m.\u001b[0m\u001b[0mset_voltage\u001b[0m\u001b[1;33m(\u001b[0m\u001b[0mV2_SIMPORT\u001b[0m\u001b[1;33m,\u001b[0m \u001b[0mj\u001b[0m\u001b[1;33m)\u001b[0m\u001b[1;33m\u001b[0m\u001b[1;33m\u001b[0m\u001b[0m\n\u001b[0;32m     14\u001b[0m             \u001b[0mtime\u001b[0m\u001b[1;33m.\u001b[0m\u001b[0msleep\u001b[0m\u001b[1;33m(\u001b[0m\u001b[1;36m5\u001b[0m\u001b[1;33m)\u001b[0m\u001b[1;33m\u001b[0m\u001b[1;33m\u001b[0m\u001b[0m\n\u001b[1;32m---> 15\u001b[1;33m             \u001b[0mds\u001b[0m\u001b[1;33m.\u001b[0m\u001b[0madd_result\u001b[0m\u001b[1;33m(\u001b[0m\u001b[0mi\u001b[0m\u001b[1;33m,\u001b[0m \u001b[0mj\u001b[0m\u001b[1;33m,\u001b[0m \u001b[0mrxx2\u001b[0m\u001b[1;33m.\u001b[0m\u001b[0mX\u001b[0m\u001b[1;33m)\u001b[0m\u001b[1;33m\u001b[0m\u001b[1;33m\u001b[0m\u001b[0m\n\u001b[0m\u001b[0;32m     16\u001b[0m         \u001b[0msim\u001b[0m\u001b[1;33m.\u001b[0m\u001b[0mset_voltage\u001b[0m\u001b[1;33m(\u001b[0m\u001b[0mV1_SIMPORT\u001b[0m\u001b[1;33m,\u001b[0m \u001b[0mi\u001b[0m\u001b[1;33m-\u001b[0m\u001b[0mstep_size\u001b[0m\u001b[1;33m)\u001b[0m\u001b[1;33m\u001b[0m\u001b[1;33m\u001b[0m\u001b[0m\n\u001b[0;32m     17\u001b[0m         \u001b[1;31m#Sweep Up\u001b[0m\u001b[1;33m\u001b[0m\u001b[1;33m\u001b[0m\u001b[1;33m\u001b[0m\u001b[0m\n",
      "\u001b[1;32mC:\\Anaconda3\\envs\\MattMann\\lib\\site-packages\\qcodes\\dataset\\measurements.py\u001b[0m in \u001b[0;36madd_result\u001b[1;34m(self, *res_tuple)\u001b[0m\n\u001b[0;32m    174\u001b[0m             \u001b[1;32mif\u001b[0m \u001b[0misinstance\u001b[0m\u001b[1;33m(\u001b[0m\u001b[0mpartial_result\u001b[0m\u001b[1;33m[\u001b[0m\u001b[1;36m0\u001b[0m\u001b[1;33m]\u001b[0m\u001b[1;33m,\u001b[0m \u001b[0mParameterBase\u001b[0m\u001b[1;33m)\u001b[0m\u001b[1;33m\u001b[0m\u001b[1;33m\u001b[0m\u001b[0m\n\u001b[0;32m    175\u001b[0m             \u001b[1;32melse\u001b[0m \u001b[0mpartial_result\u001b[0m\u001b[1;33m[\u001b[0m\u001b[1;36m0\u001b[0m\u001b[1;33m]\u001b[0m\u001b[1;33m\u001b[0m\u001b[1;33m\u001b[0m\u001b[0m\n\u001b[1;32m--> 176\u001b[1;33m             \u001b[1;32mfor\u001b[0m \u001b[0mpartial_result\u001b[0m \u001b[1;32min\u001b[0m \u001b[0mres_tuple\u001b[0m\u001b[1;33m\u001b[0m\u001b[1;33m\u001b[0m\u001b[0m\n\u001b[0m\u001b[0;32m    177\u001b[0m         )\n\u001b[0;32m    178\u001b[0m         \u001b[1;32mif\u001b[0m \u001b[0mlen\u001b[0m\u001b[1;33m(\u001b[0m\u001b[0mset\u001b[0m\u001b[1;33m(\u001b[0m\u001b[0mparameter_names\u001b[0m\u001b[1;33m)\u001b[0m\u001b[1;33m)\u001b[0m \u001b[1;33m!=\u001b[0m \u001b[0mlen\u001b[0m\u001b[1;33m(\u001b[0m\u001b[0mparameter_names\u001b[0m\u001b[1;33m)\u001b[0m\u001b[1;33m:\u001b[0m\u001b[1;33m\u001b[0m\u001b[1;33m\u001b[0m\u001b[0m\n",
      "\u001b[1;32mC:\\Anaconda3\\envs\\MattMann\\lib\\site-packages\\qcodes\\dataset\\measurements.py\u001b[0m in \u001b[0;36m<genexpr>\u001b[1;34m(.0)\u001b[0m\n\u001b[0;32m    174\u001b[0m             \u001b[1;32mif\u001b[0m \u001b[0misinstance\u001b[0m\u001b[1;33m(\u001b[0m\u001b[0mpartial_result\u001b[0m\u001b[1;33m[\u001b[0m\u001b[1;36m0\u001b[0m\u001b[1;33m]\u001b[0m\u001b[1;33m,\u001b[0m \u001b[0mParameterBase\u001b[0m\u001b[1;33m)\u001b[0m\u001b[1;33m\u001b[0m\u001b[1;33m\u001b[0m\u001b[0m\n\u001b[0;32m    175\u001b[0m             \u001b[1;32melse\u001b[0m \u001b[0mpartial_result\u001b[0m\u001b[1;33m[\u001b[0m\u001b[1;36m0\u001b[0m\u001b[1;33m]\u001b[0m\u001b[1;33m\u001b[0m\u001b[1;33m\u001b[0m\u001b[0m\n\u001b[1;32m--> 176\u001b[1;33m             \u001b[1;32mfor\u001b[0m \u001b[0mpartial_result\u001b[0m \u001b[1;32min\u001b[0m \u001b[0mres_tuple\u001b[0m\u001b[1;33m\u001b[0m\u001b[1;33m\u001b[0m\u001b[0m\n\u001b[0m\u001b[0;32m    177\u001b[0m         )\n\u001b[0;32m    178\u001b[0m         \u001b[1;32mif\u001b[0m \u001b[0mlen\u001b[0m\u001b[1;33m(\u001b[0m\u001b[0mset\u001b[0m\u001b[1;33m(\u001b[0m\u001b[0mparameter_names\u001b[0m\u001b[1;33m)\u001b[0m\u001b[1;33m)\u001b[0m \u001b[1;33m!=\u001b[0m \u001b[0mlen\u001b[0m\u001b[1;33m(\u001b[0m\u001b[0mparameter_names\u001b[0m\u001b[1;33m)\u001b[0m\u001b[1;33m:\u001b[0m\u001b[1;33m\u001b[0m\u001b[1;33m\u001b[0m\u001b[0m\n",
      "\u001b[1;31mIndexError\u001b[0m: invalid index to scalar variable."
     ]
    }
   ],
   "source": [
    "import numpy as np\n",
    "import time\n",
    "#exp = load_or_create_experiment('Capacitance Correction with QPC7&3 With QPC18')\n",
    "#meas = Measurement()\n",
    "#meas.register_parameter(rxx2.X)\n",
    "\n",
    "\n",
    "\n",
    "for i in np.arange(V1_start, V1_end, -2*step_size):\n",
    "    sim.set_voltage(V1_SIMPORT, i)\n",
    "    #Sweep Down\n",
    "    for j in np.arange(V2_start, V2_end, -1*step_size):\n",
    "        sim.set_voltage(V2_SIMPORT, j)\n",
    "        time.sleep(5)\n",
    "    sim.set_voltage(V1_SIMPORT, i-step_size)\n",
    "    #Sweep Up\n",
    "    for j in np.arange(V2_end, V2_start, step_size):\n",
    "        sim.set_voltage(V2_SIMPORT, j)\n",
    "        time.sleep(5)\n",
    "        "
   ]
  },
  {
   "cell_type": "code",
   "execution_count": 17,
   "metadata": {
    "ExecuteTime": {
     "end_time": "2023-08-18T03:25:14.982107Z",
     "start_time": "2023-08-18T03:25:14.974107Z"
    }
   },
   "outputs": [
    {
     "name": "stdout",
     "output_type": "stream",
     "text": [
      "0.4\n",
      "-0.1\n",
      "0.005\n",
      "[]\n",
      "0.4\n",
      "0.395\n",
      "0.39\n",
      "0.385\n",
      "0.38\n",
      "0.375\n",
      "0.37\n",
      "0.365\n",
      "0.36\n",
      "0.355\n",
      "0.35\n",
      "0.345\n",
      "0.33999999999999997\n",
      "0.33499999999999996\n",
      "0.32999999999999996\n",
      "0.32499999999999996\n",
      "0.31999999999999995\n",
      "0.31499999999999995\n",
      "0.30999999999999994\n",
      "0.30499999999999994\n",
      "0.29999999999999993\n",
      "0.29499999999999993\n",
      "0.2899999999999999\n",
      "0.2849999999999999\n",
      "0.2799999999999999\n",
      "0.2749999999999999\n",
      "0.2699999999999999\n",
      "0.2649999999999999\n",
      "0.2599999999999999\n",
      "0.2549999999999999\n",
      "0.2499999999999999\n",
      "0.24499999999999988\n",
      "0.23999999999999988\n",
      "0.23499999999999988\n",
      "0.22999999999999987\n",
      "0.22499999999999987\n",
      "0.21999999999999986\n",
      "0.21499999999999986\n",
      "0.20999999999999985\n",
      "0.20499999999999985\n",
      "0.19999999999999984\n",
      "0.19499999999999984\n",
      "0.18999999999999984\n",
      "0.18499999999999983\n",
      "0.17999999999999983\n",
      "0.17499999999999982\n",
      "0.16999999999999982\n",
      "0.1649999999999998\n",
      "0.1599999999999998\n",
      "0.1549999999999998\n",
      "0.1499999999999998\n",
      "0.1449999999999998\n",
      "0.1399999999999998\n",
      "0.1349999999999998\n",
      "0.12999999999999978\n",
      "0.12499999999999978\n",
      "0.11999999999999977\n",
      "0.11499999999999977\n",
      "0.10999999999999976\n",
      "0.10499999999999976\n",
      "0.09999999999999976\n",
      "0.09499999999999975\n",
      "0.08999999999999975\n",
      "0.08499999999999974\n",
      "0.07999999999999974\n",
      "0.07499999999999973\n",
      "0.06999999999999973\n",
      "0.06499999999999972\n",
      "0.05999999999999972\n",
      "0.054999999999999716\n",
      "0.04999999999999971\n",
      "0.04499999999999971\n",
      "0.0399999999999997\n",
      "0.0349999999999997\n",
      "0.029999999999999694\n",
      "0.02499999999999969\n",
      "0.019999999999999685\n",
      "0.01499999999999968\n",
      "0.009999999999999676\n",
      "0.004999999999999671\n",
      "-3.3306690738754696e-16\n",
      "-0.0050000000000003375\n",
      "-0.010000000000000342\n",
      "-0.015000000000000346\n",
      "-0.02000000000000035\n",
      "-0.025000000000000355\n",
      "-0.03000000000000036\n",
      "-0.035000000000000364\n",
      "-0.04000000000000037\n",
      "-0.04500000000000037\n",
      "-0.05000000000000038\n",
      "-0.05500000000000038\n",
      "-0.060000000000000386\n",
      "-0.06500000000000039\n",
      "-0.0700000000000004\n",
      "-0.0750000000000004\n",
      "-0.0800000000000004\n",
      "-0.08500000000000041\n",
      "-0.09000000000000041\n",
      "-0.09500000000000042\n"
     ]
    }
   ],
   "source": []
  },
  {
   "cell_type": "code",
   "execution_count": null,
   "metadata": {},
   "outputs": [],
   "source": []
  }
 ],
 "metadata": {
  "kernelspec": {
   "display_name": "Python 3 (ipykernel)",
   "language": "python",
   "name": "python3"
  },
  "language_info": {
   "codemirror_mode": {
    "name": "ipython",
    "version": 3
   },
   "file_extension": ".py",
   "mimetype": "text/x-python",
   "name": "python",
   "nbconvert_exporter": "python",
   "pygments_lexer": "ipython3",
   "version": "3.7.16"
  },
  "toc": {
   "base_numbering": 1,
   "nav_menu": {},
   "number_sections": true,
   "sideBar": true,
   "skip_h1_title": false,
   "title_cell": "Table of Contents",
   "title_sidebar": "Contents",
   "toc_cell": false,
   "toc_position": {},
   "toc_section_display": true,
   "toc_window_display": false
  },
  "varInspector": {
   "cols": {
    "lenName": 16,
    "lenType": 16,
    "lenVar": 40
   },
   "kernels_config": {
    "python": {
     "delete_cmd_postfix": "",
     "delete_cmd_prefix": "del ",
     "library": "var_list.py",
     "varRefreshCmd": "print(var_dic_list())"
    },
    "r": {
     "delete_cmd_postfix": ") ",
     "delete_cmd_prefix": "rm(",
     "library": "var_list.r",
     "varRefreshCmd": "cat(var_dic_list()) "
    }
   },
   "types_to_exclude": [
    "module",
    "function",
    "builtin_function_or_method",
    "instance",
    "_Feature"
   ],
   "window_display": false
  }
 },
 "nbformat": 4,
 "nbformat_minor": 2
}
