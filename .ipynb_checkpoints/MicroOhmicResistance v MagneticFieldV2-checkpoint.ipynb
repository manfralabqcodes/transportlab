{
 "cells": [
  {
   "cell_type": "markdown",
   "metadata": {},
   "source": [
    "# Import Modules"
   ]
  },
  {
   "cell_type": "code",
   "execution_count": 1,
   "metadata": {
    "ExecuteTime": {
     "end_time": "2023-09-29T20:51:26.218265Z",
     "start_time": "2023-09-29T20:51:23.428106Z"
    }
   },
   "outputs": [],
   "source": [
    "#%qtconsole\n",
    "#%matplotlib inline\n",
    "\n",
    "import matplotlib.pyplot as plt\n",
    "from functools import partial\n",
    "import numpy as np\n",
    "import time \n",
    "import qcodes as qc\n",
    "import os\n",
    "from qcodes.math_utils import FieldVector\n",
    "from qcodes import Station, load_or_create_experiment, initialise_database, Measurement, load_by_run_spec, load_by_guid, initialise_or_create_database_at \n",
    "from qcodes.utils.dataset.doNd import do1d, do2d, plot\n",
    "\n",
    "from qcodes_contrib_drivers.drivers.Tektronix.Keithley_2700 import Keithley_2700\n",
    "from qcodes.instrument_drivers.tektronix.Keithley_2600_channels import Keithley_2600\n",
    "from qcodes_contrib_drivers.drivers.Oxford.IPS120 import OxfordInstruments_IPS120\n",
    "from qcodes.instrument.visa import VisaInstrument\n",
    "from qcodes_contrib_drivers.drivers.StanfordResearchSystems.SIM928 import SIM928\n",
    "from qcodes.instrument_drivers.stanford_research.SR830 import SR830\n",
    "from qcodes.instrument_drivers.stanford_research.SR860 import SR860\n",
    "from qcodes.dataset.plotting import plot_dataset\n",
    "from qcodes.instrument_drivers.oxford.MercuryiPS_VISA import MercuryiPS\n",
    "import IPython.lib.backgroundjobs as bg\n",
    "from plottr.apps import inspectr"
   ]
  },
  {
   "cell_type": "markdown",
   "metadata": {},
   "source": [
    "# Connect to Instruments and Initialize Variables"
   ]
  },
  {
   "cell_type": "code",
   "execution_count": 2,
   "metadata": {
    "ExecuteTime": {
     "end_time": "2023-09-29T20:51:29.555456Z",
     "start_time": "2023-09-29T20:51:29.079429Z"
    }
   },
   "outputs": [
    {
     "name": "stdout",
     "output_type": "stream",
     "text": [
      "Connected to: OXFORD INSTRUMENTS MERCURY IPS (serial:190250049, firmware:2.5.09.000) in 0.12s\n",
      "Connected to: Stanford_Research_Systems SR830 (serial:s/n48257, firmware:ver1.07) in 0.12s\n",
      "Connected to: Stanford_Research_Systems SR860 (serial:004479, firmware:V1.51) in 0.05s\n"
     ]
    },
    {
     "name": "stderr",
     "output_type": "stream",
     "text": [
      "C:\\Anaconda3\\envs\\MattMann\\lib\\site-packages\\qcodes\\instrument\\instrument_base.py:147: QCoDeSDeprecationWarning: Parameter ch1_databuffer on instrument Dilbert does not correctly pass kwargs to its baseclass. A Parameter class must take `**kwargs` and forward them to its baseclass.\n",
      "  QCoDeSDeprecationWarning,\n",
      "C:\\Anaconda3\\envs\\MattMann\\lib\\site-packages\\qcodes\\instrument\\instrument_base.py:147: QCoDeSDeprecationWarning: Parameter ch2_databuffer on instrument Dilbert does not correctly pass kwargs to its baseclass. A Parameter class must take `**kwargs` and forward them to its baseclass.\n",
      "  QCoDeSDeprecationWarning,\n"
     ]
    },
    {
     "name": "stdout",
     "output_type": "stream",
     "text": [
      "Connected to: Stanford_Research_Systems SR860 (serial:003172, firmware:V1.47) in 0.05s\n",
      "Connected to: Stanford_Research_Systems SR860 (serial:004478, firmware:V1.51) in 0.05s\n",
      "Connected to: Stanford_Research_Systems SR830 (serial:s/n48240, firmware:ver1.07) in 0.08s\n"
     ]
    },
    {
     "name": "stderr",
     "output_type": "stream",
     "text": [
      "C:\\Anaconda3\\envs\\MattMann\\lib\\site-packages\\qcodes\\instrument\\instrument_base.py:147: QCoDeSDeprecationWarning: Parameter ch1_databuffer on instrument Wally does not correctly pass kwargs to its baseclass. A Parameter class must take `**kwargs` and forward them to its baseclass.\n",
      "  QCoDeSDeprecationWarning,\n",
      "C:\\Anaconda3\\envs\\MattMann\\lib\\site-packages\\qcodes\\instrument\\instrument_base.py:147: QCoDeSDeprecationWarning: Parameter ch2_databuffer on instrument Wally does not correctly pass kwargs to its baseclass. A Parameter class must take `**kwargs` and forward them to its baseclass.\n",
      "  QCoDeSDeprecationWarning,\n"
     ]
    }
   ],
   "source": [
    "#Magnet Controller\n",
    "mag120 = MercuryiPS('mips', 'TCPIP0::169.254.255.2::7020::SOCKET')\n",
    "#Lockins(SR860 and SR830)\n",
    "rxy1=SR830('Dilbert','GPIB1::6::INSTR' )\n",
    "rxy2=SR860('Laughlin', 'GPIB1::4::INSTR')\n",
    "rxy3=SR860('Kiwi','GPIB1::9::INSTR' )\n",
    "rxy4=SR860('Pangolin', 'GPIB1::12::INSTR')\n",
    "rxy5=SR830('Wally','GPIB1::1::INSTR' )"
   ]
  },
  {
   "cell_type": "markdown",
   "metadata": {},
   "source": [
    "# Global Parameters for Instruments and Experiment"
   ]
  },
  {
   "cell_type": "code",
   "execution_count": 3,
   "metadata": {
    "ExecuteTime": {
     "end_time": "2023-09-29T20:51:32.940650Z",
     "start_time": "2023-09-29T20:51:32.932649Z"
    }
   },
   "outputs": [],
   "source": [
    "csvPath = \"C:\\\\Users\\\\Admin\\\\Desktop\\\\MattMann\\\\8-3-22.1MM11A3\\\\MicroOhmicResistance3\\\\MicroOhmicResistance_34,42,37,43,&36_100pA_SweepUpTonu=1.csv\"\n",
    "sample = \"8-3-22.1MM11A3\"\n",
    "exp_name = \"MicroOhmicResistance_34,42,37,43,&36_100pA_SweepUpTonu=1\"\n",
    "meas_name = 'MicroOhmicResistance_vs_Mag Field'\n",
    "amp = 0.0000000001\n",
    "#Sweep rate in T/s\n",
    "#IMPORTANT: Never go above 50mT/min(0.83mT/s)\n",
    "sweepRate = 0.00083\n",
    "fieldTarget = 7.91"
   ]
  },
  {
   "cell_type": "code",
   "execution_count": 4,
   "metadata": {
    "ExecuteTime": {
     "end_time": "2023-09-29T20:51:35.515797Z",
     "start_time": "2023-09-29T20:51:35.510797Z"
    }
   },
   "outputs": [],
   "source": [
    "dataBasePath = 'C:\\\\Users\\\\Admin\\Desktop\\\\MattMann\\\\8-3-22.1MM11A3\\\\MicroOhmicResistance3\\\\MicroOhmicResistance_Vs_MagField_092923.db'"
   ]
  },
  {
   "cell_type": "markdown",
   "metadata": {},
   "source": [
    "# Set Up Database for Data Collection"
   ]
  },
  {
   "cell_type": "code",
   "execution_count": 5,
   "metadata": {
    "ExecuteTime": {
     "end_time": "2023-09-29T20:51:38.079944Z",
     "start_time": "2023-09-29T20:51:37.980938Z"
    }
   },
   "outputs": [],
   "source": [
    "db_file_path = os.path.join(os.getcwd(), dataBasePath)\n",
    "initialise_or_create_database_at(db_file_path)"
   ]
  },
  {
   "cell_type": "markdown",
   "metadata": {},
   "source": [
    "# Set Magnetic Field Sweep Parameters"
   ]
  },
  {
   "cell_type": "code",
   "execution_count": 6,
   "metadata": {
    "ExecuteTime": {
     "end_time": "2023-09-29T20:51:40.434078Z",
     "start_time": "2023-09-29T20:51:40.388076Z"
    },
    "scrolled": true
   },
   "outputs": [
    {
     "name": "stdout",
     "output_type": "stream",
     "text": [
      "Previous SweepRate\n",
      "0.0008299999999999999\n",
      "New SweepRate\n",
      "0.0008299999999999999\n"
     ]
    }
   ],
   "source": [
    "#Prints old sweep rate, sets new one, prints new sweep rate\n",
    "field = mag120._get_ramp_rate()\n",
    "print(\"Previous SweepRate\")\n",
    "print(field.z)\n",
    "rate = FieldVector(0.0,0.0,sweepRate)\n",
    "mag120._set_ramp_rate(rate)\n",
    "print(\"New SweepRate\")\n",
    "print(mag120._get_ramp_rate().z)"
   ]
  },
  {
   "cell_type": "code",
   "execution_count": 7,
   "metadata": {
    "ExecuteTime": {
     "end_time": "2023-09-29T20:51:43.439250Z",
     "start_time": "2023-09-29T20:51:43.381247Z"
    }
   },
   "outputs": [
    {
     "name": "stdout",
     "output_type": "stream",
     "text": [
      "Previous Target Field\n",
      "3.96\n",
      "New Target Field\n",
      "3.96\n"
     ]
    }
   ],
   "source": [
    "#Prints old target field, sets new one, prints new target field\n",
    "target = FieldVector(0.0,0.0,fieldTarget)\n",
    "print(\"Previous Target Field\")\n",
    "print(mag120._get_target_field().z)\n",
    "mag120._set_target_field(target)\n",
    "print(\"New Target Field\")\n",
    "print(mag120._get_target_field().z)"
   ]
  },
  {
   "cell_type": "markdown",
   "metadata": {},
   "source": [
    "# Set Up Live Plot"
   ]
  },
  {
   "cell_type": "code",
   "execution_count": 8,
   "metadata": {
    "ExecuteTime": {
     "end_time": "2023-09-29T20:51:46.986453Z",
     "start_time": "2023-09-29T20:51:46.973452Z"
    }
   },
   "outputs": [
    {
     "data": {
      "text/plain": [
       "<BackgroundJob #0: <function main at 0x000000001D7300D8>>"
      ]
     },
     "execution_count": 8,
     "metadata": {},
     "output_type": "execute_result"
    }
   ],
   "source": [
    "#Opens windows that will plot results as they are collected\n",
    "jobs = bg.BackgroundJobManager()\n",
    "jobs.new(inspectr.main, db_file_path)"
   ]
  },
  {
   "cell_type": "markdown",
   "metadata": {},
   "source": [
    "# Setup Station and Measurement Parameters"
   ]
  },
  {
   "cell_type": "code",
   "execution_count": 9,
   "metadata": {
    "ExecuteTime": {
     "end_time": "2023-09-29T20:51:52.395762Z",
     "start_time": "2023-09-29T20:51:49.947622Z"
    }
   },
   "outputs": [
    {
     "data": {
      "text/plain": [
       "<qcodes.dataset.measurements.Measurement at 0x1eaf9088>"
      ]
     },
     "execution_count": 9,
     "metadata": {},
     "output_type": "execute_result"
    }
   ],
   "source": [
    "#Handles equipment\n",
    "station = qc.Station()\n",
    "station.add_component(mag120)\n",
    "station.add_component(rxy1)\n",
    "station.add_component(rxy2)\n",
    "station.add_component(rxy3)\n",
    "station.add_component(rxy4)\n",
    "station.add_component(rxy5)\n",
    "\n",
    "#Manages independent and dependent variables\n",
    "cutoff_freq_exp = load_or_create_experiment(\n",
    "    experiment_name=exp_name,\n",
    "    sample_name=sample\n",
    ")\n",
    "context_meas = Measurement(exp=cutoff_freq_exp, station=station, name=meas_name)\n",
    "context_meas.write_period = 0.1\n",
    "\n",
    "context_meas.register_parameter(mag120.field_measured)\n",
    "context_meas.register_parameter(rxy1.X, setpoints=(mag120.field_measured,))\n",
    "context_meas.register_parameter(rxy2.X, setpoints=(mag120.field_measured,))\n",
    "context_meas.register_parameter(rxy3.X, setpoints=(mag120.field_measured,))\n",
    "context_meas.register_parameter(rxy4.X, setpoints=(mag120.field_measured,))\n",
    "context_meas.register_parameter(rxy5.X, setpoints=(mag120.field_measured,))"
   ]
  },
  {
   "cell_type": "markdown",
   "metadata": {
    "ExecuteTime": {
     "end_time": "2023-08-21T20:15:41.493975Z",
     "start_time": "2023-08-21T20:15:41.435972Z"
    }
   },
   "source": [
    "# Sweep Magnetic Field and Measure Results for MicroOhmics"
   ]
  },
  {
   "cell_type": "code",
   "execution_count": null,
   "metadata": {
    "ExecuteTime": {
     "end_time": "2023-09-29T20:52:43.960712Z",
     "start_time": "2023-09-29T20:52:43.960712Z"
    }
   },
   "outputs": [],
   "source": [
    "mag120.ramp('simul')\n",
    "with context_meas.run() as datasaver:\n",
    "    while(mag120._get_field().z<7.9):\n",
    "        set_m = mag120.field_measured.get().z\n",
    "        get_x1 = rxy1.X.get()/amp\n",
    "        get_x2 = rxy2.X.get()/amp\n",
    "        get_x3 = rxy3.X.get()/amp\n",
    "        get_x4 = rxy4.X.get()/amp\n",
    "        get_x5 = rxy5.X.get()/amp\n",
    "\n",
    "        datasaver.add_result((mag120.field_measured, set_m),\n",
    "                             (rxy1.X, get_x1),\n",
    "                             (rxy2.X, get_x2),\n",
    "                             (rxy3.X, get_x3),\n",
    "                             (rxy4.X, get_x4),\n",
    "                             (rxy5.X, get_x5))        \n",
    "        print(set_m)\n",
    "        time.sleep(1)\n",
    "    dataset = datasaver.dataset"
   ]
  },
  {
   "cell_type": "markdown",
   "metadata": {},
   "source": [
    "# Converts Dataset Results to CSV"
   ]
  },
  {
   "cell_type": "code",
   "execution_count": 31,
   "metadata": {
    "ExecuteTime": {
     "end_time": "2023-09-29T18:37:59.036280Z",
     "start_time": "2023-09-29T18:37:58.870271Z"
    }
   },
   "outputs": [],
   "source": [
    "dataset = datasaver.dataset\n",
    "#Converts to pandas dataframe\n",
    "df = dataset.to_pandas_dataframe()\n",
    "#Converts dataframe to csv\n",
    "df.to_csv(csvPath)"
   ]
  },
  {
   "cell_type": "markdown",
   "metadata": {},
   "source": [
    "# Plot Dataset Results"
   ]
  },
  {
   "cell_type": "code",
   "execution_count": null,
   "metadata": {},
   "outputs": [],
   "source": [
    "plot_dataset(dataset)"
   ]
  }
 ],
 "metadata": {
  "kernelspec": {
   "display_name": "Python 3 (ipykernel)",
   "language": "python",
   "name": "python3"
  },
  "language_info": {
   "codemirror_mode": {
    "name": "ipython",
    "version": 3
   },
   "file_extension": ".py",
   "mimetype": "text/x-python",
   "name": "python",
   "nbconvert_exporter": "python",
   "pygments_lexer": "ipython3",
   "version": "3.7.16"
  },
  "toc": {
   "base_numbering": 1,
   "nav_menu": {},
   "number_sections": true,
   "sideBar": true,
   "skip_h1_title": false,
   "title_cell": "Table of Contents",
   "title_sidebar": "Contents",
   "toc_cell": false,
   "toc_position": {},
   "toc_section_display": true,
   "toc_window_display": false
  },
  "varInspector": {
   "cols": {
    "lenName": 16,
    "lenType": 16,
    "lenVar": 40
   },
   "kernels_config": {
    "python": {
     "delete_cmd_postfix": "",
     "delete_cmd_prefix": "del ",
     "library": "var_list.py",
     "varRefreshCmd": "print(var_dic_list())"
    },
    "r": {
     "delete_cmd_postfix": ") ",
     "delete_cmd_prefix": "rm(",
     "library": "var_list.r",
     "varRefreshCmd": "cat(var_dic_list()) "
    }
   },
   "types_to_exclude": [
    "module",
    "function",
    "builtin_function_or_method",
    "instance",
    "_Feature"
   ],
   "window_display": false
  }
 },
 "nbformat": 4,
 "nbformat_minor": 2
}
