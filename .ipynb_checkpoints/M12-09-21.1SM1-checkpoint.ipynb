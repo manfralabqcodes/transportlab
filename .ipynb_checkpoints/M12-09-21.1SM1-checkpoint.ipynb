{
 "cells": [
  {
   "cell_type": "code",
   "execution_count": 1,
   "metadata": {
    "ExecuteTime": {
     "end_time": "2021-10-19T16:22:15.265730Z",
     "start_time": "2021-10-19T16:22:12.906690Z"
    },
    "scrolled": true
   },
   "outputs": [
    {
     "name": "stdout",
     "output_type": "stream",
     "text": [
      "Logging hadn't been started.\n",
      "Activating auto-logging. Current session state plus future input saved.\n",
      "Filename       : C:\\Users\\Admin\\.qcodes\\logs\\command_history.log\n",
      "Mode           : append\n",
      "Output logging : True\n",
      "Raw input log  : False\n",
      "Timestamping   : True\n",
      "State          : active\n",
      "Qcodes Logfile : C:\\Users\\Admin\\.qcodes\\logs\\211019-10796-qcodes.log\n"
     ]
    }
   ],
   "source": [
    "%qtconsole \n",
    "%matplotlib inline\n",
    "\n",
    "import matplotlib.pyplot as plt\n",
    "from functools import partial\n",
    "import numpy as np\n",
    "import time \n",
    "import qcodes as qc\n",
    "import os\n",
    "\n",
    "\n",
    "from qcodes import Station, load_or_create_experiment, initialise_database, Measurement, load_by_run_spec, load_by_guid, initialise_or_create_database_at \n",
    "from qcodes.utils.dataset.doNd import do1d, do2d, plot\n",
    "\n",
    "from qcodes_contrib_drivers.drivers.Tektronix.Keithley_2700 import Keithley_2700\n",
    "from qcodes.instrument_drivers.tektronix.Keithley_2600_channels import Keithley_2600\n",
    "from qcodes_contrib_drivers.drivers.Oxford.IPS120 import OxfordInstruments_IPS120\n",
    "from qcodes.instrument.visa import VisaInstrument\n",
    "from qcodes_contrib_drivers.drivers.StanfordResearchSystems.SIM928 import SIM928\n",
    "from qcodes.instrument_drivers.stanford_research.SR830 import SR830\n",
    "\n",
    "from qcodes.dataset.plotting import plot_dataset\n",
    "\n",
    "qc.logger.start_all_logging()"
   ]
  },
  {
   "cell_type": "markdown",
   "metadata": {},
   "source": [
    "# Set up database"
   ]
  },
  {
   "cell_type": "code",
   "execution_count": 2,
   "metadata": {
    "ExecuteTime": {
     "end_time": "2021-10-19T16:22:15.393736Z",
     "start_time": "2021-10-19T16:22:15.373735Z"
    }
   },
   "outputs": [],
   "source": [
    "initialise_or_create_database_at('C:/Users/Sara/DataBases/M12-09-20.1SM1/M12-09-20.1SM1.db')"
   ]
  },
  {
   "cell_type": "markdown",
   "metadata": {},
   "source": [
    "# Initialize instruments"
   ]
  },
  {
   "cell_type": "code",
   "execution_count": 3,
   "metadata": {
    "ExecuteTime": {
     "end_time": "2021-10-19T16:22:18.480823Z",
     "start_time": "2021-10-19T16:22:18.322815Z"
    }
   },
   "outputs": [],
   "source": [
    "mag120 = OxfordInstruments_IPS120('ips','GPIB0::23::INSTR',23)"
   ]
  },
  {
   "cell_type": "code",
   "execution_count": 4,
   "metadata": {
    "ExecuteTime": {
     "end_time": "2021-10-19T16:22:19.257855Z",
     "start_time": "2021-10-19T16:22:19.237855Z"
    }
   },
   "outputs": [],
   "source": [
    "from qcodes.instrument_drivers.stanford_research.SR860 import SR860"
   ]
  },
  {
   "cell_type": "code",
   "execution_count": 5,
   "metadata": {
    "ExecuteTime": {
     "end_time": "2021-10-19T16:22:20.140905Z",
     "start_time": "2021-10-19T16:22:19.931893Z"
    }
   },
   "outputs": [
    {
     "name": "stdout",
     "output_type": "stream",
     "text": [
      "Connected to: Stanford_Research_Systems SR860 (serial:003804, firmware:V1.51) in 0.08s\n",
      "Connected to: Stanford_Research_Systems SR860 (serial:004479, firmware:V1.51) in 0.05s\n",
      "Connected to: Stanford_Research_Systems SR830 (serial:s/n48257, firmware:ver1.07) in 0.08s\n"
     ]
    }
   ],
   "source": [
    "rxx1=SR860('Beast', 'GPIB1::3::INSTR')\n",
    "rxx2=SR860('Zoe', 'GPIB1::4::INSTR')\n",
    "rxy=SR830('Dilbert','GPIB1::6::INSTR' )"
   ]
  },
  {
   "cell_type": "code",
   "execution_count": 6,
   "metadata": {
    "ExecuteTime": {
     "end_time": "2021-10-19T16:22:23.357965Z",
     "start_time": "2021-10-19T16:22:23.272961Z"
    }
   },
   "outputs": [
    {
     "name": "stdout",
     "output_type": "stream",
     "text": [
      "Connected to: Stanford_Research_Systems SR830 (serial:s/n48240, firmware:ver1.07) in 0.08s\n"
     ]
    }
   ],
   "source": [
    "rxy2=SR830('Wally','GPIB1::1::INSTR' )"
   ]
  },
  {
   "cell_type": "code",
   "execution_count": 72,
   "metadata": {
    "ExecuteTime": {
     "end_time": "2021-10-20T20:56:58.030458Z",
     "start_time": "2021-10-20T20:56:57.112405Z"
    }
   },
   "outputs": [
    {
     "name": "stdout",
     "output_type": "stream",
     "text": [
      "Connected to: Stanford_Research_Systems SIM900 (serial:s/n130213, firmware:ver3.6) in 0.91s\n"
     ]
    }
   ],
   "source": [
    "sim=SIM928('sim','GPIB1::15::INSTR')"
   ]
  },
  {
   "cell_type": "code",
   "execution_count": 74,
   "metadata": {
    "ExecuteTime": {
     "end_time": "2021-10-20T20:59:51.197363Z",
     "start_time": "2021-10-20T20:59:51.082356Z"
    }
   },
   "outputs": [],
   "source": [
    "sim.volt_2()\n",
    "sim.volt_2.step=0.001\n",
    "sim.volt_2.inter_delay=0.2"
   ]
  },
  {
   "cell_type": "markdown",
   "metadata": {},
   "source": [
    "# Add monitor"
   ]
  },
  {
   "cell_type": "code",
   "execution_count": 79,
   "metadata": {
    "ExecuteTime": {
     "end_time": "2021-10-20T21:50:45.266045Z",
     "start_time": "2021-10-20T21:50:45.162039Z"
    }
   },
   "outputs": [],
   "source": [
    "monitor = qc.Monitor(rxx1.X, rxy.X, rxx2.X, sim.volt_2, smu.smua.curr, mag120.field, mag120.current, mag120.current_setpoint, mag120.field_setpoint)"
   ]
  },
  {
   "cell_type": "markdown",
   "metadata": {},
   "source": [
    "# Set Keithley"
   ]
  },
  {
   "cell_type": "code",
   "execution_count": 9,
   "metadata": {
    "ExecuteTime": {
     "end_time": "2021-10-16T19:43:00.390996Z",
     "start_time": "2021-10-16T19:43:00.150988Z"
    }
   },
   "outputs": [
    {
     "data": {
      "text/plain": [
       "-9.971126e-09"
      ]
     },
     "execution_count": 9,
     "metadata": {},
     "output_type": "execute_result"
    }
   ],
   "source": [
    "keith.output_enabled(1) #turns on the keithley\n",
    "keith.source.voltage(0)\n",
    "keith.sense.current()"
   ]
  },
  {
   "cell_type": "code",
   "execution_count": 10,
   "metadata": {
    "ExecuteTime": {
     "end_time": "2021-10-16T19:43:26.775668Z",
     "start_time": "2021-10-16T19:43:26.766668Z"
    }
   },
   "outputs": [],
   "source": [
    "keith.sense.function(\"current\")\n",
    "keith.source.function(\"voltage\")"
   ]
  },
  {
   "cell_type": "code",
   "execution_count": 17,
   "metadata": {
    "ExecuteTime": {
     "end_time": "2021-10-15T18:24:20.198493Z",
     "start_time": "2021-10-15T18:22:39.668743Z"
    },
    "collapsed": true
   },
   "outputs": [
    {
     "name": "stderr",
     "output_type": "stream",
     "text": [
      "2021-10-15 14:22:39,677 ¦ qcodes.instrument.base ¦ WARNING ¦ base ¦ snapshot_base ¦ 247 ¦ [keithley2_source(Source2450)] Snapshot: Could not update parameter: sweep_axis\n",
      "2021-10-15 14:22:49,803 ¦ qcodes.instrument.base ¦ WARNING ¦ base ¦ snapshot_base ¦ 247 ¦ [keithley2_source(Source2450)] Snapshot: Could not update parameter: user_delay\n",
      "2021-10-15 14:22:49,863 ¦ qcodes.instrument.base ¦ WARNING ¦ base ¦ snapshot_base ¦ 247 ¦ [keithley2_source(Source2450)] Snapshot: Could not update parameter: sweep_axis\n",
      "2021-10-15 14:22:59,887 ¦ qcodes.instrument.base ¦ WARNING ¦ base ¦ snapshot_base ¦ 247 ¦ [keithley2_source(Source2450)] Snapshot: Could not update parameter: user_delay\n",
      "2021-10-15 14:23:09,922 ¦ qcodes.instrument.base ¦ WARNING ¦ base ¦ snapshot_base ¦ 247 ¦ [keithley2_sense(Sense2450)] Snapshot: Could not update parameter: user_delay\n",
      "2021-10-15 14:23:19,956 ¦ qcodes.instrument.base ¦ WARNING ¦ base ¦ snapshot_base ¦ 247 ¦ [keithley2_sense(Sense2450)] Snapshot: Could not update parameter: user_delay\n",
      "2021-10-15 14:23:29,989 ¦ qcodes.instrument.base ¦ WARNING ¦ base ¦ snapshot_base ¦ 247 ¦ [keithley2_sense(Sense2450)] Snapshot: Could not update parameter: user_delay\n",
      "2021-10-15 14:23:30,017 ¦ qcodes.instrument.base ¦ WARNING ¦ base ¦ snapshot_base ¦ 247 ¦ [keithley2_source(Source2450)] Snapshot: Could not update parameter: sweep_axis\n"
     ]
    },
    {
     "name": "stdout",
     "output_type": "stream",
     "text": [
      "keithley2:\n",
      "\tparameter      value\n",
      "--------------------------------------------------------------------------------\n",
      "IDN             :\t{'vendor': 'KEITHLEY INSTRUMENTS', 'model': '2450', 'serial...\n",
      "buffer_name     :\tdefbuffer1 \n",
      "line_frequency  :\t60 (Hz)\n",
      "output_enabled  :\tTrue \n",
      "sense_function  :\tcurrent \n",
      "source_function :\tvoltage \n",
      "terminals       :\tFRON \n",
      "timeout         :\t10 (s)\n"
     ]
    },
    {
     "name": "stderr",
     "output_type": "stream",
     "text": [
      "2021-10-15 14:23:40,042 ¦ qcodes.instrument.base ¦ WARNING ¦ base ¦ snapshot_base ¦ 247 ¦ [keithley2_source(Source2450)] Snapshot: Could not update parameter: user_delay\n",
      "2021-10-15 14:23:40,056 ¦ qcodes.instrument.base ¦ WARNING ¦ base ¦ snapshot_base ¦ 247 ¦ [keithley2_source(Source2450)] Snapshot: Could not update parameter: sweep_axis\n"
     ]
    },
    {
     "name": "stdout",
     "output_type": "stream",
     "text": [
      "keithley2_source:\n",
      "\tparameter        value\n",
      "--------------------------------------------------------------------------------\n",
      "auto_delay        :\tTrue \n",
      "auto_range        :\tTrue \n",
      "current           :\tNot available (A)\n",
      "delay             :\t0 \n",
      "limit             :\t21 (A)\n",
      "limit_tripped     :\tFalse \n",
      "range             :\t1e-08 (A)\n",
      "read_back_enabled :\tTrue \n",
      "sweep_axis        :\tNone (A)\n",
      "user_delay        :\tNone \n",
      "user_number       :\tNone \n"
     ]
    },
    {
     "name": "stderr",
     "output_type": "stream",
     "text": [
      "2021-10-15 14:23:50,080 ¦ qcodes.instrument.base ¦ WARNING ¦ base ¦ snapshot_base ¦ 247 ¦ [keithley2_source(Source2450)] Snapshot: Could not update parameter: user_delay\n"
     ]
    },
    {
     "name": "stdout",
     "output_type": "stream",
     "text": [
      "keithley2_source:\n",
      "\tparameter        value\n",
      "--------------------------------------------------------------------------------\n",
      "auto_delay        :\tTrue \n",
      "auto_range        :\tTrue \n",
      "delay             :\t0 \n",
      "limit             :\t1e-08 (V)\n",
      "limit_tripped     :\tTrue \n",
      "range             :\t0.02 (V)\n",
      "read_back_enabled :\tTrue \n",
      "sweep_axis        :\tNone (V)\n",
      "user_delay        :\tNone \n",
      "user_number       :\tNone \n",
      "voltage           :\tNot available (V)\n"
     ]
    },
    {
     "name": "stderr",
     "output_type": "stream",
     "text": [
      "2021-10-15 14:24:00,116 ¦ qcodes.instrument.base ¦ WARNING ¦ base ¦ snapshot_base ¦ 247 ¦ [keithley2_sense(Sense2450)] Snapshot: Could not update parameter: user_delay\n"
     ]
    },
    {
     "name": "stdout",
     "output_type": "stream",
     "text": [
      "keithley2_sense:\n",
      "\tparameter            value\n",
      "--------------------------------------------------------------------------------\n",
      "auto_range            :\tTrue \n",
      "auto_zero_enabled     :\tTrue \n",
      "count                 :\t1 \n",
      "current               :\tNot available (A)\n",
      "four_wire_measurement :\tFalse \n",
      "nplc                  :\t1 \n",
      "range                 :\t1e-08 (A)\n",
      "sweep                 :\tNot available (A)\n",
      "user_delay            :\tNone \n",
      "user_number           :\tNone \n"
     ]
    },
    {
     "name": "stderr",
     "output_type": "stream",
     "text": [
      "2021-10-15 14:24:10,149 ¦ qcodes.instrument.base ¦ WARNING ¦ base ¦ snapshot_base ¦ 247 ¦ [keithley2_sense(Sense2450)] Snapshot: Could not update parameter: user_delay\n"
     ]
    },
    {
     "name": "stdout",
     "output_type": "stream",
     "text": [
      "keithley2_sense:\n",
      "\tparameter            value\n",
      "--------------------------------------------------------------------------------\n",
      "auto_range            :\tTrue \n",
      "auto_zero_enabled     :\tTrue \n",
      "count                 :\t1 \n",
      "four_wire_measurement :\tFalse \n",
      "nplc                  :\t1 \n",
      "range                 :\t2e+08 (Ohm)\n",
      "resistance            :\tNot available (Ohm)\n",
      "sweep                 :\tNot available (Ohm)\n",
      "user_delay            :\tNone \n",
      "user_number           :\tNone \n"
     ]
    },
    {
     "name": "stderr",
     "output_type": "stream",
     "text": [
      "2021-10-15 14:24:20,184 ¦ qcodes.instrument.base ¦ WARNING ¦ base ¦ snapshot_base ¦ 247 ¦ [keithley2_sense(Sense2450)] Snapshot: Could not update parameter: user_delay\n"
     ]
    },
    {
     "name": "stdout",
     "output_type": "stream",
     "text": [
      "keithley2_sense:\n",
      "\tparameter            value\n",
      "--------------------------------------------------------------------------------\n",
      "auto_range            :\tTrue \n",
      "auto_zero_enabled     :\tTrue \n",
      "count                 :\t1 \n",
      "four_wire_measurement :\tFalse \n",
      "nplc                  :\t1 \n",
      "range                 :\t0.02 (V)\n",
      "sweep                 :\tNot available (V)\n",
      "user_delay            :\tNone \n",
      "user_number           :\tNone \n",
      "voltage               :\tNot available (V)\n",
      "keithley2_defbuffer1:\n",
      "\tparameter         value\n",
      "--------------------------------------------------------------------------------\n",
      "elements           :\t[] \n",
      "number_of_readings :\t52350 \n",
      "size               :\t100000 \n"
     ]
    }
   ],
   "source": [
    "keith.print_readable_snapshot(update=True)"
   ]
  },
  {
   "cell_type": "code",
   "execution_count": 69,
   "metadata": {
    "ExecuteTime": {
     "end_time": "2021-10-18T00:42:48.705955Z",
     "start_time": "2021-10-18T00:42:48.685955Z"
    }
   },
   "outputs": [],
   "source": [
    "keith.source.limit(1e-8)"
   ]
  },
  {
   "cell_type": "code",
   "execution_count": 12,
   "metadata": {
    "ExecuteTime": {
     "end_time": "2021-10-16T19:43:30.840780Z",
     "start_time": "2021-10-16T19:43:30.837780Z"
    }
   },
   "outputs": [],
   "source": [
    "keith.source.voltage.step=0.001\n",
    "keith.source.voltage.inter_delay = 0.1"
   ]
  },
  {
   "cell_type": "code",
   "execution_count": 13,
   "metadata": {
    "ExecuteTime": {
     "end_time": "2021-10-16T19:43:33.478835Z",
     "start_time": "2021-10-16T19:43:33.458835Z"
    }
   },
   "outputs": [],
   "source": [
    "keith.source.range(2)"
   ]
  },
  {
   "cell_type": "code",
   "execution_count": 14,
   "metadata": {
    "ExecuteTime": {
     "end_time": "2021-10-16T19:43:37.907952Z",
     "start_time": "2021-10-16T19:43:37.897952Z"
    }
   },
   "outputs": [],
   "source": [
    "from qcodes.dataset import new_experiment"
   ]
  },
  {
   "cell_type": "code",
   "execution_count": 33,
   "metadata": {
    "ExecuteTime": {
     "end_time": "2021-10-15T18:40:07.734689Z",
     "start_time": "2021-10-15T18:40:02.197373Z"
    }
   },
   "outputs": [
    {
     "name": "stdout",
     "output_type": "stream",
     "text": [
      "Starting experimental run with id: 4. Using 'qcodes.utils.dataset.doNd.do1d'\n"
     ]
    },
    {
     "data": {
      "text/plain": [
       "(results #4@C:\\Users\\Sara\\DataBases\\M12-09-20.1SM1\\M12-09-20.1SM1.db\n",
       " -------------------------------------------------------------------\n",
       " keithley2_source_voltage - numeric\n",
       " Beast_X - numeric\n",
       " Dilbert_X - numeric\n",
       " Zoe_X - numeric\n",
       " Dilbert_P - numeric\n",
       " keithley2_sense_current - numeric,\n",
       " [None],\n",
       " [None])"
      ]
     },
     "execution_count": 33,
     "metadata": {},
     "output_type": "execute_result"
    }
   ],
   "source": [
    "#test\n",
    "exp = new_experiment(name='Test', sample_name=\"No sample\")\n",
    "do1d(keith.source.voltage, 0.005, 0, 5, 0.5, rxx1.X, rxy.X, rxx2.X, rxy.P, keith.sense.current, do_plot = False)"
   ]
  },
  {
   "cell_type": "markdown",
   "metadata": {},
   "source": [
    "# Set B field 1T=13.42625A"
   ]
  },
  {
   "cell_type": "code",
   "execution_count": 34,
   "metadata": {
    "ExecuteTime": {
     "end_time": "2021-10-15T18:52:11.661096Z",
     "start_time": "2021-10-15T18:52:11.550089Z"
    }
   },
   "outputs": [],
   "source": [
    "mag120.sweeprate_field(0.05)\n",
    "mag120.current_setpoint(1.3426)"
   ]
  },
  {
   "cell_type": "markdown",
   "metadata": {},
   "source": [
    "# Started n vs Vg scans at 0.1T"
   ]
  },
  {
   "cell_type": "code",
   "execution_count": 43,
   "metadata": {
    "ExecuteTime": {
     "end_time": "2021-10-15T19:18:30.182382Z",
     "start_time": "2021-10-15T19:17:48.415993Z"
    }
   },
   "outputs": [
    {
     "name": "stdout",
     "output_type": "stream",
     "text": [
      "Starting experimental run with id: 11. Using 'qcodes.utils.dataset.doNd.do1d'\n"
     ]
    },
    {
     "data": {
      "text/plain": [
       "(results #11@C:\\Users\\Sara\\DataBases\\M12-09-20.1SM1\\M12-09-20.1SM1.db\n",
       " --------------------------------------------------------------------\n",
       " keithley2_source_voltage - numeric\n",
       " Beast_X - numeric\n",
       " Dilbert_X - numeric\n",
       " Zoe_X - numeric\n",
       " Dilbert_P - numeric\n",
       " keithley2_sense_current - numeric,\n",
       " [None],\n",
       " [None])"
      ]
     },
     "execution_count": 43,
     "metadata": {},
     "output_type": "execute_result"
    }
   ],
   "source": [
    "exp = new_experiment(name='Density vs GateVoltage Iex=7,18 Rxx1=15,16 Rxx2=9,12 Rxy=15,3', sample_name=\"75um HB\")\n",
    "do1d(keith.source.voltage, 0, 0.05, 50, 0.3, rxx1.X, rxy.X, rxx2.X, rxy.P, keith.sense.current, do_plot = False)"
   ]
  },
  {
   "cell_type": "code",
   "execution_count": 45,
   "metadata": {
    "ExecuteTime": {
     "end_time": "2021-10-15T19:19:44.006604Z",
     "start_time": "2021-10-15T19:19:02.209214Z"
    }
   },
   "outputs": [
    {
     "name": "stdout",
     "output_type": "stream",
     "text": [
      "Starting experimental run with id: 13. Using 'qcodes.utils.dataset.doNd.do1d'\n"
     ]
    },
    {
     "data": {
      "text/plain": [
       "(results #13@C:\\Users\\Sara\\DataBases\\M12-09-20.1SM1\\M12-09-20.1SM1.db\n",
       " --------------------------------------------------------------------\n",
       " keithley2_source_voltage - numeric\n",
       " Beast_X - numeric\n",
       " Dilbert_X - numeric\n",
       " Zoe_X - numeric\n",
       " Dilbert_P - numeric\n",
       " keithley2_sense_current - numeric,\n",
       " [None],\n",
       " [None])"
      ]
     },
     "execution_count": 45,
     "metadata": {},
     "output_type": "execute_result"
    }
   ],
   "source": [
    "exp = new_experiment(name='Density vs GateVoltage Iex=7,18 Rxx1=15,16 Rxx2=9,12 Rxy=15,3', sample_name=\"75um HB\")\n",
    "do1d(keith.source.voltage, 0.05, 0.0, 50, 0.3, rxx1.X, rxy.X, rxx2.X, rxy.P, keith.sense.current, do_plot = False)"
   ]
  },
  {
   "cell_type": "code",
   "execution_count": 46,
   "metadata": {
    "ExecuteTime": {
     "end_time": "2021-10-15T19:21:01.476035Z",
     "start_time": "2021-10-15T19:19:44.018605Z"
    }
   },
   "outputs": [
    {
     "name": "stdout",
     "output_type": "stream",
     "text": [
      "Starting experimental run with id: 14. Using 'qcodes.utils.dataset.doNd.do1d'\n"
     ]
    },
    {
     "data": {
      "text/plain": [
       "(results #14@C:\\Users\\Sara\\DataBases\\M12-09-20.1SM1\\M12-09-20.1SM1.db\n",
       " --------------------------------------------------------------------\n",
       " keithley2_source_voltage - numeric\n",
       " Beast_X - numeric\n",
       " Dilbert_X - numeric\n",
       " Zoe_X - numeric\n",
       " Dilbert_P - numeric\n",
       " keithley2_sense_current - numeric,\n",
       " [None],\n",
       " [None])"
      ]
     },
     "execution_count": 46,
     "metadata": {},
     "output_type": "execute_result"
    }
   ],
   "source": [
    "exp = new_experiment(name='Density vs GateVoltage Iex=7,18 Rxx1=15,16 Rxx2=9,12 Rxy=15,3', sample_name=\"75um HB\")\n",
    "do1d(keith.source.voltage, 0, 0.1, 100, 0.3, rxx1.X, rxy.X, rxx2.X, rxy.P, keith.sense.current, do_plot = False)"
   ]
  },
  {
   "cell_type": "code",
   "execution_count": 47,
   "metadata": {
    "ExecuteTime": {
     "end_time": "2021-10-15T19:22:18.880463Z",
     "start_time": "2021-10-15T19:21:01.486036Z"
    }
   },
   "outputs": [
    {
     "name": "stdout",
     "output_type": "stream",
     "text": [
      "Starting experimental run with id: 15. Using 'qcodes.utils.dataset.doNd.do1d'\n"
     ]
    },
    {
     "data": {
      "text/plain": [
       "(results #15@C:\\Users\\Sara\\DataBases\\M12-09-20.1SM1\\M12-09-20.1SM1.db\n",
       " --------------------------------------------------------------------\n",
       " keithley2_source_voltage - numeric\n",
       " Beast_X - numeric\n",
       " Dilbert_X - numeric\n",
       " Zoe_X - numeric\n",
       " Dilbert_P - numeric\n",
       " keithley2_sense_current - numeric,\n",
       " [None],\n",
       " [None])"
      ]
     },
     "execution_count": 47,
     "metadata": {},
     "output_type": "execute_result"
    }
   ],
   "source": [
    "exp = new_experiment(name='Density vs GateVoltage Iex=7,18 Rxx1=15,16 Rxx2=9,12 Rxy=15,3', sample_name=\"75um HB\")\n",
    "do1d(keith.source.voltage, 0.1, 0, 100, 0.3, rxx1.X, rxy.X, rxx2.X, rxy.P, keith.sense.current, do_plot = False)"
   ]
  },
  {
   "cell_type": "code",
   "execution_count": 48,
   "metadata": {
    "ExecuteTime": {
     "end_time": "2021-10-15T19:24:47.663973Z",
     "start_time": "2021-10-15T19:22:18.889463Z"
    }
   },
   "outputs": [
    {
     "name": "stdout",
     "output_type": "stream",
     "text": [
      "Starting experimental run with id: 16. Using 'qcodes.utils.dataset.doNd.do1d'\n"
     ]
    },
    {
     "data": {
      "text/plain": [
       "(results #16@C:\\Users\\Sara\\DataBases\\M12-09-20.1SM1\\M12-09-20.1SM1.db\n",
       " --------------------------------------------------------------------\n",
       " keithley2_source_voltage - numeric\n",
       " Beast_X - numeric\n",
       " Dilbert_X - numeric\n",
       " Zoe_X - numeric\n",
       " Dilbert_P - numeric\n",
       " keithley2_sense_current - numeric,\n",
       " [None],\n",
       " [None])"
      ]
     },
     "execution_count": 48,
     "metadata": {},
     "output_type": "execute_result"
    }
   ],
   "source": [
    "exp = new_experiment(name='Density vs GateVoltage Iex=7,18 Rxx1=15,16 Rxx2=9,12 Rxy=15,3', sample_name=\"75um HB\")\n",
    "do1d(keith.source.voltage, 0, 0.2, 200, 0.3, rxx1.X, rxy.X, rxx2.X, rxy.P, keith.sense.current, do_plot = False)"
   ]
  },
  {
   "cell_type": "code",
   "execution_count": 49,
   "metadata": {
    "ExecuteTime": {
     "end_time": "2021-10-15T19:27:17.070518Z",
     "start_time": "2021-10-15T19:24:47.674973Z"
    }
   },
   "outputs": [
    {
     "name": "stdout",
     "output_type": "stream",
     "text": [
      "Starting experimental run with id: 17. Using 'qcodes.utils.dataset.doNd.do1d'\n"
     ]
    },
    {
     "data": {
      "text/plain": [
       "(results #17@C:\\Users\\Sara\\DataBases\\M12-09-20.1SM1\\M12-09-20.1SM1.db\n",
       " --------------------------------------------------------------------\n",
       " keithley2_source_voltage - numeric\n",
       " Beast_X - numeric\n",
       " Dilbert_X - numeric\n",
       " Zoe_X - numeric\n",
       " Dilbert_P - numeric\n",
       " keithley2_sense_current - numeric,\n",
       " [None],\n",
       " [None])"
      ]
     },
     "execution_count": 49,
     "metadata": {},
     "output_type": "execute_result"
    }
   ],
   "source": [
    "exp = new_experiment(name='Density vs GateVoltage Iex=7,18 Rxx1=15,16 Rxx2=9,12 Rxy=15,3', sample_name=\"75um HB\")\n",
    "do1d(keith.source.voltage, 0.2, 0, 200, 0.3, rxx1.X, rxy.X, rxx2.X, rxy.P, keith.sense.current, do_plot = False)"
   ]
  },
  {
   "cell_type": "code",
   "execution_count": 50,
   "metadata": {
    "ExecuteTime": {
     "end_time": "2021-10-15T19:30:56.985097Z",
     "start_time": "2021-10-15T19:27:17.082519Z"
    }
   },
   "outputs": [
    {
     "name": "stdout",
     "output_type": "stream",
     "text": [
      "Starting experimental run with id: 18. Using 'qcodes.utils.dataset.doNd.do1d'\n"
     ]
    },
    {
     "data": {
      "text/plain": [
       "(results #18@C:\\Users\\Sara\\DataBases\\M12-09-20.1SM1\\M12-09-20.1SM1.db\n",
       " --------------------------------------------------------------------\n",
       " keithley2_source_voltage - numeric\n",
       " Beast_X - numeric\n",
       " Dilbert_X - numeric\n",
       " Zoe_X - numeric\n",
       " Dilbert_P - numeric\n",
       " keithley2_sense_current - numeric,\n",
       " [None],\n",
       " [None])"
      ]
     },
     "execution_count": 50,
     "metadata": {},
     "output_type": "execute_result"
    }
   ],
   "source": [
    "exp = new_experiment(name='Density vs GateVoltage Iex=7,18 Rxx1=15,16 Rxx2=9,12 Rxy=15,3', sample_name=\"75um HB\")\n",
    "do1d(keith.source.voltage, 0, 0.3, 300, 0.3, rxx1.X, rxy.X, rxx2.X, rxy.P, keith.sense.current, do_plot = False)"
   ]
  },
  {
   "cell_type": "code",
   "execution_count": 51,
   "metadata": {
    "ExecuteTime": {
     "end_time": "2021-10-15T19:34:37.126688Z",
     "start_time": "2021-10-15T19:30:56.994097Z"
    }
   },
   "outputs": [
    {
     "name": "stdout",
     "output_type": "stream",
     "text": [
      "Starting experimental run with id: 19. Using 'qcodes.utils.dataset.doNd.do1d'\n"
     ]
    },
    {
     "data": {
      "text/plain": [
       "(results #19@C:\\Users\\Sara\\DataBases\\M12-09-20.1SM1\\M12-09-20.1SM1.db\n",
       " --------------------------------------------------------------------\n",
       " keithley2_source_voltage - numeric\n",
       " Beast_X - numeric\n",
       " Dilbert_X - numeric\n",
       " Zoe_X - numeric\n",
       " Dilbert_P - numeric\n",
       " keithley2_sense_current - numeric,\n",
       " [None],\n",
       " [None])"
      ]
     },
     "execution_count": 51,
     "metadata": {},
     "output_type": "execute_result"
    }
   ],
   "source": [
    "exp = new_experiment(name='Density vs GateVoltage Iex=7,18 Rxx1=15,16 Rxx2=9,12 Rxy=15,3', sample_name=\"75um HB\")\n",
    "do1d(keith.source.voltage, 0.3, 0, 300, 0.3, rxx1.X, rxy.X, rxx2.X, rxy.P, keith.sense.current, do_plot = False)"
   ]
  },
  {
   "cell_type": "code",
   "execution_count": 52,
   "metadata": {
    "ExecuteTime": {
     "end_time": "2021-10-15T19:40:38.409352Z",
     "start_time": "2021-10-15T19:35:46.000627Z"
    }
   },
   "outputs": [
    {
     "name": "stdout",
     "output_type": "stream",
     "text": [
      "Starting experimental run with id: 20. Using 'qcodes.utils.dataset.doNd.do1d'\n"
     ]
    },
    {
     "data": {
      "text/plain": [
       "(results #20@C:\\Users\\Sara\\DataBases\\M12-09-20.1SM1\\M12-09-20.1SM1.db\n",
       " --------------------------------------------------------------------\n",
       " keithley2_source_voltage - numeric\n",
       " Beast_X - numeric\n",
       " Dilbert_X - numeric\n",
       " Zoe_X - numeric\n",
       " Dilbert_P - numeric\n",
       " keithley2_sense_current - numeric,\n",
       " [None],\n",
       " [None])"
      ]
     },
     "execution_count": 52,
     "metadata": {},
     "output_type": "execute_result"
    }
   ],
   "source": [
    "exp = new_experiment(name='Density vs GateVoltage Iex=7,18 Rxx1=15,16 Rxx2=9,12 Rxy=15,3', sample_name=\"75um HB\")\n",
    "do1d(keith.source.voltage, 0, 0.4, 400, 0.3, rxx1.X, rxy.X, rxx2.X, rxy.P, keith.sense.current, do_plot = False)"
   ]
  },
  {
   "cell_type": "code",
   "execution_count": 54,
   "metadata": {
    "ExecuteTime": {
     "end_time": "2021-10-15T19:46:06.100095Z",
     "start_time": "2021-10-15T19:41:14.082393Z"
    }
   },
   "outputs": [
    {
     "name": "stdout",
     "output_type": "stream",
     "text": [
      "Starting experimental run with id: 21. Using 'qcodes.utils.dataset.doNd.do1d'\n"
     ]
    },
    {
     "data": {
      "text/plain": [
       "(results #21@C:\\Users\\Sara\\DataBases\\M12-09-20.1SM1\\M12-09-20.1SM1.db\n",
       " --------------------------------------------------------------------\n",
       " keithley2_source_voltage - numeric\n",
       " Beast_X - numeric\n",
       " Dilbert_X - numeric\n",
       " Zoe_X - numeric\n",
       " Dilbert_P - numeric\n",
       " keithley2_sense_current - numeric,\n",
       " [None],\n",
       " [None])"
      ]
     },
     "execution_count": 54,
     "metadata": {},
     "output_type": "execute_result"
    }
   ],
   "source": [
    "exp = new_experiment(name='Density vs GateVoltage Iex=7,18 Rxx1=15,16 Rxx2=9,12 Rxy=15,3', sample_name=\"75um HB\")\n",
    "do1d(keith.source.voltage, 0.4, 0, 400, 0.3, rxx1.X, rxy.X, rxx2.X, rxy.P, keith.sense.current, do_plot = False)"
   ]
  },
  {
   "cell_type": "code",
   "execution_count": 55,
   "metadata": {
    "ExecuteTime": {
     "end_time": "2021-10-15T19:52:27.085886Z",
     "start_time": "2021-10-15T19:46:23.673100Z"
    }
   },
   "outputs": [
    {
     "name": "stdout",
     "output_type": "stream",
     "text": [
      "Starting experimental run with id: 22. Using 'qcodes.utils.dataset.doNd.do1d'\n"
     ]
    },
    {
     "data": {
      "text/plain": [
       "(results #22@C:\\Users\\Sara\\DataBases\\M12-09-20.1SM1\\M12-09-20.1SM1.db\n",
       " --------------------------------------------------------------------\n",
       " keithley2_source_voltage - numeric\n",
       " Beast_X - numeric\n",
       " Dilbert_X - numeric\n",
       " Zoe_X - numeric\n",
       " Dilbert_P - numeric\n",
       " keithley2_sense_current - numeric,\n",
       " [None],\n",
       " [None])"
      ]
     },
     "execution_count": 55,
     "metadata": {},
     "output_type": "execute_result"
    }
   ],
   "source": [
    "exp = new_experiment(name='Density vs GateVoltage Iex=7,18 Rxx1=15,16 Rxx2=9,12 Rxy=15,3', sample_name=\"75um HB\")\n",
    "do1d(keith.source.voltage, 0, 0.5, 500, 0.3, rxx1.X, rxy.X, rxx2.X, rxy.P, keith.sense.current, do_plot = False)"
   ]
  },
  {
   "cell_type": "code",
   "execution_count": 57,
   "metadata": {
    "ExecuteTime": {
     "end_time": "2021-10-15T19:59:59.367755Z",
     "start_time": "2021-10-15T19:53:55.290931Z"
    }
   },
   "outputs": [
    {
     "name": "stdout",
     "output_type": "stream",
     "text": [
      "Starting experimental run with id: 23. Using 'qcodes.utils.dataset.doNd.do1d'\n"
     ]
    },
    {
     "data": {
      "text/plain": [
       "(results #23@C:\\Users\\Sara\\DataBases\\M12-09-20.1SM1\\M12-09-20.1SM1.db\n",
       " --------------------------------------------------------------------\n",
       " keithley2_source_voltage - numeric\n",
       " Beast_X - numeric\n",
       " Dilbert_X - numeric\n",
       " Zoe_X - numeric\n",
       " Dilbert_P - numeric\n",
       " keithley2_sense_current - numeric,\n",
       " [None],\n",
       " [None])"
      ]
     },
     "execution_count": 57,
     "metadata": {},
     "output_type": "execute_result"
    }
   ],
   "source": [
    "exp = new_experiment(name='Density vs GateVoltage Iex=7,18 Rxx1=15,16 Rxx2=9,12 Rxy=15,3', sample_name=\"75um HB\")\n",
    "do1d(keith.source.voltage, 0.5, 0, 500, 0.3, rxx1.X, rxy.X, rxx2.X, rxy.P, keith.sense.current, do_plot = False)"
   ]
  },
  {
   "cell_type": "code",
   "execution_count": 58,
   "metadata": {
    "ExecuteTime": {
     "end_time": "2021-10-15T20:07:14.917667Z",
     "start_time": "2021-10-15T19:59:59.376756Z"
    }
   },
   "outputs": [
    {
     "name": "stdout",
     "output_type": "stream",
     "text": [
      "Starting experimental run with id: 24. Using 'qcodes.utils.dataset.doNd.do1d'\n"
     ]
    },
    {
     "data": {
      "text/plain": [
       "(results #24@C:\\Users\\Sara\\DataBases\\M12-09-20.1SM1\\M12-09-20.1SM1.db\n",
       " --------------------------------------------------------------------\n",
       " keithley2_source_voltage - numeric\n",
       " Beast_X - numeric\n",
       " Dilbert_X - numeric\n",
       " Zoe_X - numeric\n",
       " Dilbert_P - numeric\n",
       " keithley2_sense_current - numeric,\n",
       " [None],\n",
       " [None])"
      ]
     },
     "execution_count": 58,
     "metadata": {},
     "output_type": "execute_result"
    }
   ],
   "source": [
    "exp = new_experiment(name='Density vs GateVoltage Iex=7,18 Rxx1=15,16 Rxx2=9,12 Rxy=15,3', sample_name=\"75um HB\")\n",
    "do1d(keith.source.voltage, 0, 0.6, 600, 0.3, rxx1.X, rxy.X, rxx2.X, rxy.P, keith.sense.current, do_plot = False)"
   ]
  },
  {
   "cell_type": "code",
   "execution_count": 59,
   "metadata": {
    "ExecuteTime": {
     "end_time": "2021-10-15T20:14:29.270511Z",
     "start_time": "2021-10-15T20:07:14.930668Z"
    }
   },
   "outputs": [
    {
     "name": "stdout",
     "output_type": "stream",
     "text": [
      "Starting experimental run with id: 25. Using 'qcodes.utils.dataset.doNd.do1d'\n"
     ]
    },
    {
     "data": {
      "text/plain": [
       "(results #25@C:\\Users\\Sara\\DataBases\\M12-09-20.1SM1\\M12-09-20.1SM1.db\n",
       " --------------------------------------------------------------------\n",
       " keithley2_source_voltage - numeric\n",
       " Beast_X - numeric\n",
       " Dilbert_X - numeric\n",
       " Zoe_X - numeric\n",
       " Dilbert_P - numeric\n",
       " keithley2_sense_current - numeric,\n",
       " [None],\n",
       " [None])"
      ]
     },
     "execution_count": 59,
     "metadata": {},
     "output_type": "execute_result"
    }
   ],
   "source": [
    "exp = new_experiment(name='Density vs GateVoltage Iex=7,18 Rxx1=15,16 Rxx2=9,12 Rxy=15,3', sample_name=\"75um HB\")\n",
    "do1d(keith.source.voltage, 0.6, 0, 600, 0.3, rxx1.X, rxy.X, rxx2.X, rxy.P, keith.sense.current, do_plot = False)"
   ]
  },
  {
   "cell_type": "code",
   "execution_count": 66,
   "metadata": {
    "ExecuteTime": {
     "end_time": "2021-10-15T21:21:20.473938Z",
     "start_time": "2021-10-15T21:21:20.333930Z"
    }
   },
   "outputs": [],
   "source": [
    "mag120.sweeprate_field(0.05)\n",
    "mag120.current_setpoint(1.3426)\n",
    "mag120.to_setpoint()"
   ]
  },
  {
   "cell_type": "code",
   "execution_count": null,
   "metadata": {
    "ExecuteTime": {
     "end_time": "2021-10-15T21:32:09.768076Z",
     "start_time": "2021-10-15T21:23:54.524Z"
    }
   },
   "outputs": [],
   "source": [
    "exp = new_experiment(name='Density vs GateVoltage Iex=7,18 Rxx1=15,16 Rxx2=9,2 Rxy=8,6', sample_name=\"75um HB\")\n",
    "do1d(keith.source.voltage, 0, 0.6, 600, 0.3, rxx1.X, rxy.X, rxx2.X, rxy.P, keith.sense.current, do_plot = False)"
   ]
  },
  {
   "cell_type": "code",
   "execution_count": 68,
   "metadata": {
    "ExecuteTime": {
     "end_time": "2021-10-15T21:39:00.489488Z",
     "start_time": "2021-10-15T21:32:13.502290Z"
    }
   },
   "outputs": [
    {
     "name": "stdout",
     "output_type": "stream",
     "text": [
      "Starting experimental run with id: 30. Using 'qcodes.utils.dataset.doNd.do1d'\n"
     ]
    },
    {
     "data": {
      "text/plain": [
       "(results #30@C:\\Users\\Sara\\DataBases\\M12-09-20.1SM1\\M12-09-20.1SM1.db\n",
       " --------------------------------------------------------------------\n",
       " keithley2_source_voltage - numeric\n",
       " Beast_X - numeric\n",
       " Dilbert_X - numeric\n",
       " Zoe_X - numeric\n",
       " Dilbert_P - numeric\n",
       " keithley2_sense_current - numeric,\n",
       " [None],\n",
       " [None])"
      ]
     },
     "execution_count": 68,
     "metadata": {},
     "output_type": "execute_result"
    }
   ],
   "source": [
    "exp = new_experiment(name='Density vs GateVoltage Iex=7,18 Rxx1=15,16 Rxx2=9,12 Rxy=15,3', sample_name=\"75um HB\")\n",
    "do1d(keith.source.voltage, 0.55, 0, 550, 0.3, rxx1.X, rxy.X, rxx2.X, rxy.P, keith.sense.current, do_plot = False)"
   ]
  },
  {
   "cell_type": "code",
   "execution_count": 69,
   "metadata": {
    "ExecuteTime": {
     "end_time": "2021-10-15T21:46:01.138780Z",
     "start_time": "2021-10-15T21:39:00.500489Z"
    }
   },
   "outputs": [
    {
     "name": "stdout",
     "output_type": "stream",
     "text": [
      "Starting experimental run with id: 31. Using 'qcodes.utils.dataset.doNd.do1d'\n"
     ]
    },
    {
     "data": {
      "text/plain": [
       "(results #31@C:\\Users\\Sara\\DataBases\\M12-09-20.1SM1\\M12-09-20.1SM1.db\n",
       " --------------------------------------------------------------------\n",
       " keithley2_source_voltage - numeric\n",
       " Beast_X - numeric\n",
       " Dilbert_X - numeric\n",
       " Zoe_X - numeric\n",
       " Dilbert_P - numeric\n",
       " keithley2_sense_current - numeric,\n",
       " [None],\n",
       " [None])"
      ]
     },
     "execution_count": 69,
     "metadata": {},
     "output_type": "execute_result"
    }
   ],
   "source": [
    "exp = new_experiment(name='Density vs GateVoltage Iex=7,18 Rxx1=15,16 Rxx2=9,2 Rxy=8,6', sample_name=\"75um HB\")\n",
    "do1d(keith.source.voltage, 0, 0.55, 550, 0.3, rxx1.X, rxy.X, rxx2.X, rxy.P, keith.sense.current, do_plot = False)"
   ]
  },
  {
   "cell_type": "code",
   "execution_count": 70,
   "metadata": {
    "ExecuteTime": {
     "end_time": "2021-10-15T21:52:57.076249Z",
     "start_time": "2021-10-15T21:46:01.168780Z"
    }
   },
   "outputs": [
    {
     "name": "stdout",
     "output_type": "stream",
     "text": [
      "Starting experimental run with id: 32. Using 'qcodes.utils.dataset.doNd.do1d'\n"
     ]
    },
    {
     "data": {
      "text/plain": [
       "(results #32@C:\\Users\\Sara\\DataBases\\M12-09-20.1SM1\\M12-09-20.1SM1.db\n",
       " --------------------------------------------------------------------\n",
       " keithley2_source_voltage - numeric\n",
       " Beast_X - numeric\n",
       " Dilbert_X - numeric\n",
       " Zoe_X - numeric\n",
       " Dilbert_P - numeric\n",
       " keithley2_sense_current - numeric,\n",
       " [None],\n",
       " [None])"
      ]
     },
     "execution_count": 70,
     "metadata": {},
     "output_type": "execute_result"
    }
   ],
   "source": [
    "exp = new_experiment(name='Density vs GateVoltage Iex=7,18 Rxx1=15,16 Rxx2=9,12 Rxy=15,3', sample_name=\"75um HB\")\n",
    "do1d(keith.source.voltage, 0.55, 0, 550, 0.3, rxx1.X, rxy.X, rxx2.X, rxy.P, keith.sense.current, do_plot = False)"
   ]
  },
  {
   "cell_type": "code",
   "execution_count": 71,
   "metadata": {
    "ExecuteTime": {
     "end_time": "2021-10-15T21:59:35.141277Z",
     "start_time": "2021-10-15T21:52:57.101249Z"
    }
   },
   "outputs": [
    {
     "name": "stdout",
     "output_type": "stream",
     "text": [
      "Starting experimental run with id: 33. Using 'qcodes.utils.dataset.doNd.do1d'\n"
     ]
    },
    {
     "data": {
      "text/plain": [
       "(results #33@C:\\Users\\Sara\\DataBases\\M12-09-20.1SM1\\M12-09-20.1SM1.db\n",
       " --------------------------------------------------------------------\n",
       " keithley2_source_voltage - numeric\n",
       " Beast_X - numeric\n",
       " Dilbert_X - numeric\n",
       " Zoe_X - numeric\n",
       " Dilbert_P - numeric\n",
       " keithley2_sense_current - numeric,\n",
       " [None],\n",
       " [None])"
      ]
     },
     "execution_count": 71,
     "metadata": {},
     "output_type": "execute_result"
    }
   ],
   "source": [
    "exp = new_experiment(name='Density vs GateVoltage Iex=7,18 Rxx1=15,16 Rxx2=9,2 Rxy=8,6', sample_name=\"75um HB\")\n",
    "do1d(keith.source.voltage, 0, 0.55, 550, 0.3, rxx1.X, rxy.X, rxx2.X, rxy.P, keith.sense.current, do_plot = False)"
   ]
  },
  {
   "cell_type": "code",
   "execution_count": 73,
   "metadata": {
    "ExecuteTime": {
     "end_time": "2021-10-15T22:06:41.849491Z",
     "start_time": "2021-10-15T22:00:04.445695Z"
    }
   },
   "outputs": [
    {
     "name": "stdout",
     "output_type": "stream",
     "text": [
      "Starting experimental run with id: 34. Using 'qcodes.utils.dataset.doNd.do1d'\n"
     ]
    },
    {
     "data": {
      "text/plain": [
       "(results #34@C:\\Users\\Sara\\DataBases\\M12-09-20.1SM1\\M12-09-20.1SM1.db\n",
       " --------------------------------------------------------------------\n",
       " keithley2_source_voltage - numeric\n",
       " Beast_X - numeric\n",
       " Dilbert_X - numeric\n",
       " Zoe_X - numeric\n",
       " Dilbert_P - numeric\n",
       " keithley2_sense_current - numeric,\n",
       " [None],\n",
       " [None])"
      ]
     },
     "execution_count": 73,
     "metadata": {},
     "output_type": "execute_result"
    }
   ],
   "source": [
    "exp = new_experiment(name='Density vs GateVoltage Iex=7,18 Rxx1=15,16 Rxx2=9,12 Rxy=15,3', sample_name=\"75um HB\")\n",
    "do1d(keith.source.voltage, 0.55, 0, 550, 0.3, rxx1.X, rxy.X, rxx2.X, rxy.P, keith.sense.current, do_plot = False)"
   ]
  },
  {
   "cell_type": "code",
   "execution_count": 75,
   "metadata": {
    "ExecuteTime": {
     "end_time": "2021-10-15T22:18:06.176523Z",
     "start_time": "2021-10-15T22:11:28.153797Z"
    }
   },
   "outputs": [
    {
     "name": "stdout",
     "output_type": "stream",
     "text": [
      "Starting experimental run with id: 35. Using 'qcodes.utils.dataset.doNd.do1d'\n"
     ]
    },
    {
     "data": {
      "text/plain": [
       "(results #35@C:\\Users\\Sara\\DataBases\\M12-09-20.1SM1\\M12-09-20.1SM1.db\n",
       " --------------------------------------------------------------------\n",
       " keithley2_source_voltage - numeric\n",
       " Beast_X - numeric\n",
       " Dilbert_X - numeric\n",
       " Zoe_X - numeric\n",
       " Dilbert_P - numeric\n",
       " keithley2_sense_current - numeric,\n",
       " [None],\n",
       " [None])"
      ]
     },
     "execution_count": 75,
     "metadata": {},
     "output_type": "execute_result"
    }
   ],
   "source": [
    "exp = new_experiment(name='Density vs GateVoltage Iex=7,18 Rxx1=15,16 Rxx2=9,2 Rxy=8,6', sample_name=\"75um HB\")\n",
    "do1d(keith.source.voltage, 0, 0.55, 550, 0.3, rxx1.X, rxy.X, rxx2.X, rxy.P, keith.sense.current, do_plot = False)"
   ]
  },
  {
   "cell_type": "code",
   "execution_count": 76,
   "metadata": {
    "ExecuteTime": {
     "end_time": "2021-10-15T22:24:44.325559Z",
     "start_time": "2021-10-15T22:18:06.196523Z"
    }
   },
   "outputs": [
    {
     "name": "stdout",
     "output_type": "stream",
     "text": [
      "Starting experimental run with id: 36. Using 'qcodes.utils.dataset.doNd.do1d'\n"
     ]
    },
    {
     "data": {
      "text/plain": [
       "(results #36@C:\\Users\\Sara\\DataBases\\M12-09-20.1SM1\\M12-09-20.1SM1.db\n",
       " --------------------------------------------------------------------\n",
       " keithley2_source_voltage - numeric\n",
       " Beast_X - numeric\n",
       " Dilbert_X - numeric\n",
       " Zoe_X - numeric\n",
       " Dilbert_P - numeric\n",
       " keithley2_sense_current - numeric,\n",
       " [None],\n",
       " [None])"
      ]
     },
     "execution_count": 76,
     "metadata": {},
     "output_type": "execute_result"
    }
   ],
   "source": [
    "exp = new_experiment(name='Density vs GateVoltage Iex=7,18 Rxx1=15,16 Rxx2=9,12 Rxy=15,3', sample_name=\"75um HB\")\n",
    "do1d(keith.source.voltage, 0.55, 0, 550, 0.3, rxx1.X, rxy.X, rxx2.X, rxy.P, keith.sense.current, do_plot = False)"
   ]
  },
  {
   "cell_type": "code",
   "execution_count": 77,
   "metadata": {
    "ExecuteTime": {
     "end_time": "2021-10-15T22:24:44.449566Z",
     "start_time": "2021-10-15T22:24:44.334560Z"
    },
    "collapsed": true
   },
   "outputs": [
    {
     "name": "stderr",
     "output_type": "stream",
     "text": [
      "2021-10-15 18:24:44,423 ¦ qcodes.dataset.sqlite.connection ¦ ERROR ¦ connection ¦ atomic ¦ 106 ¦ Rolling back due to unhandled exception\n",
      "Traceback (most recent call last):\n",
      "  File \"C:\\Users\\Admin\\.conda\\envs\\Sara\\lib\\site-packages\\qcodes\\dataset\\sqlite\\connection.py\", line 103, in atomic\n",
      "    yield conn\n",
      "  File \"C:\\Users\\Admin\\.conda\\envs\\Sara\\lib\\site-packages\\qcodes\\dataset\\sqlite\\queries.py\", line 1238, in _insert_run\n",
      "    curr = transaction(conn, query,\n",
      "  File \"C:\\Users\\Admin\\.conda\\envs\\Sara\\lib\\site-packages\\qcodes\\dataset\\sqlite\\connection.py\", line 134, in transaction\n",
      "    c.execute(sql, args)\n",
      "sqlite3.OperationalError: database is locked\n",
      "2021-10-15 18:24:44,424 ¦ qcodes.dataset.sqlite.connection ¦ ERROR ¦ connection ¦ atomic ¦ 106 ¦ Rolling back due to unhandled exception\n",
      "Traceback (most recent call last):\n",
      "  File \"C:\\Users\\Admin\\.conda\\envs\\Sara\\lib\\site-packages\\qcodes\\dataset\\sqlite\\connection.py\", line 103, in atomic\n",
      "    yield conn\n",
      "  File \"C:\\Users\\Admin\\.conda\\envs\\Sara\\lib\\site-packages\\qcodes\\dataset\\sqlite\\queries.py\", line 1238, in _insert_run\n",
      "    curr = transaction(conn, query,\n",
      "  File \"C:\\Users\\Admin\\.conda\\envs\\Sara\\lib\\site-packages\\qcodes\\dataset\\sqlite\\connection.py\", line 134, in transaction\n",
      "    c.execute(sql, args)\n",
      "sqlite3.OperationalError: database is locked\n",
      "\n",
      "The above exception was the direct cause of the following exception:\n",
      "\n",
      "Traceback (most recent call last):\n",
      "  File \"C:\\Users\\Admin\\.conda\\envs\\Sara\\lib\\site-packages\\qcodes\\dataset\\sqlite\\connection.py\", line 103, in atomic\n",
      "    yield conn\n",
      "  File \"C:\\Users\\Admin\\.conda\\envs\\Sara\\lib\\site-packages\\qcodes\\dataset\\sqlite\\queries.py\", line 1634, in create_run\n",
      "    run_counter, formatted_name, run_id = _insert_run(conn,\n",
      "  File \"C:\\Users\\Admin\\.conda\\envs\\Sara\\lib\\site-packages\\qcodes\\dataset\\sqlite\\queries.py\", line 1238, in _insert_run\n",
      "    curr = transaction(conn, query,\n",
      "  File \"C:\\Users\\Admin\\.conda\\envs\\Sara\\lib\\contextlib.py\", line 131, in __exit__\n",
      "    self.gen.throw(type, value, traceback)\n",
      "  File \"C:\\Users\\Admin\\.conda\\envs\\Sara\\lib\\site-packages\\qcodes\\dataset\\sqlite\\connection.py\", line 107, in atomic\n",
      "    raise RuntimeError(\"Rolling back due to unhandled exception\") from e\n",
      "RuntimeError: Rolling back due to unhandled exception\n"
     ]
    },
    {
     "ename": "RuntimeError",
     "evalue": "Rolling back due to unhandled exception",
     "output_type": "error",
     "traceback": [
      "\u001b[1;31m---------------------------------------------------------------------------\u001b[0m",
      "\u001b[1;31mOperationalError\u001b[0m                          Traceback (most recent call last)",
      "\u001b[1;32m~\\.conda\\envs\\Sara\\lib\\site-packages\\qcodes\\dataset\\sqlite\\connection.py\u001b[0m in \u001b[0;36matomic\u001b[1;34m(conn)\u001b[0m\n\u001b[0;32m    102\u001b[0m                 \u001b[0mconn\u001b[0m\u001b[1;33m.\u001b[0m\u001b[0mcursor\u001b[0m\u001b[1;33m(\u001b[0m\u001b[1;33m)\u001b[0m\u001b[1;33m.\u001b[0m\u001b[0mexecute\u001b[0m\u001b[1;33m(\u001b[0m\u001b[1;34m'BEGIN'\u001b[0m\u001b[1;33m)\u001b[0m\u001b[1;33m\u001b[0m\u001b[1;33m\u001b[0m\u001b[0m\n\u001b[1;32m--> 103\u001b[1;33m             \u001b[1;32myield\u001b[0m \u001b[0mconn\u001b[0m\u001b[1;33m\u001b[0m\u001b[1;33m\u001b[0m\u001b[0m\n\u001b[0m\u001b[0;32m    104\u001b[0m         \u001b[1;32mexcept\u001b[0m \u001b[0mException\u001b[0m \u001b[1;32mas\u001b[0m \u001b[0me\u001b[0m\u001b[1;33m:\u001b[0m\u001b[1;33m\u001b[0m\u001b[1;33m\u001b[0m\u001b[0m\n",
      "\u001b[1;32m~\\.conda\\envs\\Sara\\lib\\site-packages\\qcodes\\dataset\\sqlite\\queries.py\u001b[0m in \u001b[0;36m_insert_run\u001b[1;34m(conn, exp_id, name, guid, parameters, captured_run_id, captured_counter, parent_dataset_links)\u001b[0m\n\u001b[0;32m   1237\u001b[0m             \"\"\"\n\u001b[1;32m-> 1238\u001b[1;33m             curr = transaction(conn, query,\n\u001b[0m\u001b[0;32m   1239\u001b[0m                                \u001b[0mname\u001b[0m\u001b[1;33m,\u001b[0m\u001b[1;33m\u001b[0m\u001b[1;33m\u001b[0m\u001b[0m\n",
      "\u001b[1;32m~\\.conda\\envs\\Sara\\lib\\site-packages\\qcodes\\dataset\\sqlite\\connection.py\u001b[0m in \u001b[0;36mtransaction\u001b[1;34m(conn, sql, *args)\u001b[0m\n\u001b[0;32m    133\u001b[0m     \u001b[1;32mif\u001b[0m \u001b[0mlen\u001b[0m\u001b[1;33m(\u001b[0m\u001b[0margs\u001b[0m\u001b[1;33m)\u001b[0m \u001b[1;33m>\u001b[0m \u001b[1;36m0\u001b[0m\u001b[1;33m:\u001b[0m\u001b[1;33m\u001b[0m\u001b[1;33m\u001b[0m\u001b[0m\n\u001b[1;32m--> 134\u001b[1;33m         \u001b[0mc\u001b[0m\u001b[1;33m.\u001b[0m\u001b[0mexecute\u001b[0m\u001b[1;33m(\u001b[0m\u001b[0msql\u001b[0m\u001b[1;33m,\u001b[0m \u001b[0margs\u001b[0m\u001b[1;33m)\u001b[0m\u001b[1;33m\u001b[0m\u001b[1;33m\u001b[0m\u001b[0m\n\u001b[0m\u001b[0;32m    135\u001b[0m     \u001b[1;32melse\u001b[0m\u001b[1;33m:\u001b[0m\u001b[1;33m\u001b[0m\u001b[1;33m\u001b[0m\u001b[0m\n",
      "\u001b[1;31mOperationalError\u001b[0m: database is locked",
      "\nThe above exception was the direct cause of the following exception:\n",
      "\u001b[1;31mRuntimeError\u001b[0m                              Traceback (most recent call last)",
      "\u001b[1;32m~\\.conda\\envs\\Sara\\lib\\site-packages\\qcodes\\dataset\\sqlite\\connection.py\u001b[0m in \u001b[0;36matomic\u001b[1;34m(conn)\u001b[0m\n\u001b[0;32m    102\u001b[0m                 \u001b[0mconn\u001b[0m\u001b[1;33m.\u001b[0m\u001b[0mcursor\u001b[0m\u001b[1;33m(\u001b[0m\u001b[1;33m)\u001b[0m\u001b[1;33m.\u001b[0m\u001b[0mexecute\u001b[0m\u001b[1;33m(\u001b[0m\u001b[1;34m'BEGIN'\u001b[0m\u001b[1;33m)\u001b[0m\u001b[1;33m\u001b[0m\u001b[1;33m\u001b[0m\u001b[0m\n\u001b[1;32m--> 103\u001b[1;33m             \u001b[1;32myield\u001b[0m \u001b[0mconn\u001b[0m\u001b[1;33m\u001b[0m\u001b[1;33m\u001b[0m\u001b[0m\n\u001b[0m\u001b[0;32m    104\u001b[0m         \u001b[1;32mexcept\u001b[0m \u001b[0mException\u001b[0m \u001b[1;32mas\u001b[0m \u001b[0me\u001b[0m\u001b[1;33m:\u001b[0m\u001b[1;33m\u001b[0m\u001b[1;33m\u001b[0m\u001b[0m\n",
      "\u001b[1;32m~\\.conda\\envs\\Sara\\lib\\site-packages\\qcodes\\dataset\\sqlite\\queries.py\u001b[0m in \u001b[0;36mcreate_run\u001b[1;34m(conn, exp_id, name, guid, parameters, values, metadata, captured_run_id, captured_counter, parent_dataset_links)\u001b[0m\n\u001b[0;32m   1633\u001b[0m     \u001b[1;32mwith\u001b[0m \u001b[0matomic\u001b[0m\u001b[1;33m(\u001b[0m\u001b[0mconn\u001b[0m\u001b[1;33m)\u001b[0m\u001b[1;33m:\u001b[0m\u001b[1;33m\u001b[0m\u001b[1;33m\u001b[0m\u001b[0m\n\u001b[1;32m-> 1634\u001b[1;33m         run_counter, formatted_name, run_id = _insert_run(conn,\n\u001b[0m\u001b[0;32m   1635\u001b[0m                                                           \u001b[0mexp_id\u001b[0m\u001b[1;33m,\u001b[0m\u001b[1;33m\u001b[0m\u001b[1;33m\u001b[0m\u001b[0m\n",
      "\u001b[1;32m~\\.conda\\envs\\Sara\\lib\\site-packages\\qcodes\\dataset\\sqlite\\queries.py\u001b[0m in \u001b[0;36m_insert_run\u001b[1;34m(conn, exp_id, name, guid, parameters, captured_run_id, captured_counter, parent_dataset_links)\u001b[0m\n\u001b[0;32m   1237\u001b[0m             \"\"\"\n\u001b[1;32m-> 1238\u001b[1;33m             curr = transaction(conn, query,\n\u001b[0m\u001b[0;32m   1239\u001b[0m                                \u001b[0mname\u001b[0m\u001b[1;33m,\u001b[0m\u001b[1;33m\u001b[0m\u001b[1;33m\u001b[0m\u001b[0m\n",
      "\u001b[1;32m~\\.conda\\envs\\Sara\\lib\\contextlib.py\u001b[0m in \u001b[0;36m__exit__\u001b[1;34m(self, type, value, traceback)\u001b[0m\n\u001b[0;32m    130\u001b[0m             \u001b[1;32mtry\u001b[0m\u001b[1;33m:\u001b[0m\u001b[1;33m\u001b[0m\u001b[1;33m\u001b[0m\u001b[0m\n\u001b[1;32m--> 131\u001b[1;33m                 \u001b[0mself\u001b[0m\u001b[1;33m.\u001b[0m\u001b[0mgen\u001b[0m\u001b[1;33m.\u001b[0m\u001b[0mthrow\u001b[0m\u001b[1;33m(\u001b[0m\u001b[0mtype\u001b[0m\u001b[1;33m,\u001b[0m \u001b[0mvalue\u001b[0m\u001b[1;33m,\u001b[0m \u001b[0mtraceback\u001b[0m\u001b[1;33m)\u001b[0m\u001b[1;33m\u001b[0m\u001b[1;33m\u001b[0m\u001b[0m\n\u001b[0m\u001b[0;32m    132\u001b[0m             \u001b[1;32mexcept\u001b[0m \u001b[0mStopIteration\u001b[0m \u001b[1;32mas\u001b[0m \u001b[0mexc\u001b[0m\u001b[1;33m:\u001b[0m\u001b[1;33m\u001b[0m\u001b[1;33m\u001b[0m\u001b[0m\n",
      "\u001b[1;32m~\\.conda\\envs\\Sara\\lib\\site-packages\\qcodes\\dataset\\sqlite\\connection.py\u001b[0m in \u001b[0;36matomic\u001b[1;34m(conn)\u001b[0m\n\u001b[0;32m    106\u001b[0m             \u001b[0mlog\u001b[0m\u001b[1;33m.\u001b[0m\u001b[0mexception\u001b[0m\u001b[1;33m(\u001b[0m\u001b[1;34m\"Rolling back due to unhandled exception\"\u001b[0m\u001b[1;33m)\u001b[0m\u001b[1;33m\u001b[0m\u001b[1;33m\u001b[0m\u001b[0m\n\u001b[1;32m--> 107\u001b[1;33m             \u001b[1;32mraise\u001b[0m \u001b[0mRuntimeError\u001b[0m\u001b[1;33m(\u001b[0m\u001b[1;34m\"Rolling back due to unhandled exception\"\u001b[0m\u001b[1;33m)\u001b[0m \u001b[1;32mfrom\u001b[0m \u001b[0me\u001b[0m\u001b[1;33m\u001b[0m\u001b[1;33m\u001b[0m\u001b[0m\n\u001b[0m\u001b[0;32m    108\u001b[0m         \u001b[1;32melse\u001b[0m\u001b[1;33m:\u001b[0m\u001b[1;33m\u001b[0m\u001b[1;33m\u001b[0m\u001b[0m\n",
      "\u001b[1;31mRuntimeError\u001b[0m: Rolling back due to unhandled exception",
      "\nThe above exception was the direct cause of the following exception:\n",
      "\u001b[1;31mRuntimeError\u001b[0m                              Traceback (most recent call last)",
      "\u001b[1;32m<ipython-input-77-d77bbb099b0c>\u001b[0m in \u001b[0;36m<module>\u001b[1;34m\u001b[0m\n\u001b[0;32m      1\u001b[0m \u001b[0mexp\u001b[0m \u001b[1;33m=\u001b[0m \u001b[0mnew_experiment\u001b[0m\u001b[1;33m(\u001b[0m\u001b[0mname\u001b[0m\u001b[1;33m=\u001b[0m\u001b[1;34m'Density vs GateVoltage Iex=7,18 Rxx1=15,16 Rxx2=9,2 Rxy=8,6'\u001b[0m\u001b[1;33m,\u001b[0m \u001b[0msample_name\u001b[0m\u001b[1;33m=\u001b[0m\u001b[1;34m\"75um HB\"\u001b[0m\u001b[1;33m)\u001b[0m\u001b[1;33m\u001b[0m\u001b[1;33m\u001b[0m\u001b[0m\n\u001b[1;32m----> 2\u001b[1;33m \u001b[0mdo1d\u001b[0m\u001b[1;33m(\u001b[0m\u001b[0mkeith\u001b[0m\u001b[1;33m.\u001b[0m\u001b[0msource\u001b[0m\u001b[1;33m.\u001b[0m\u001b[0mvoltage\u001b[0m\u001b[1;33m,\u001b[0m \u001b[1;36m0\u001b[0m\u001b[1;33m,\u001b[0m \u001b[1;36m0.55\u001b[0m\u001b[1;33m,\u001b[0m \u001b[1;36m550\u001b[0m\u001b[1;33m,\u001b[0m \u001b[1;36m0.3\u001b[0m\u001b[1;33m,\u001b[0m \u001b[0mrxx1\u001b[0m\u001b[1;33m.\u001b[0m\u001b[0mX\u001b[0m\u001b[1;33m,\u001b[0m \u001b[0mrxy\u001b[0m\u001b[1;33m.\u001b[0m\u001b[0mX\u001b[0m\u001b[1;33m,\u001b[0m \u001b[0mrxx2\u001b[0m\u001b[1;33m.\u001b[0m\u001b[0mX\u001b[0m\u001b[1;33m,\u001b[0m \u001b[0mrxy\u001b[0m\u001b[1;33m.\u001b[0m\u001b[0mP\u001b[0m\u001b[1;33m,\u001b[0m \u001b[0mkeith\u001b[0m\u001b[1;33m.\u001b[0m\u001b[0msense\u001b[0m\u001b[1;33m.\u001b[0m\u001b[0mcurrent\u001b[0m\u001b[1;33m,\u001b[0m \u001b[0mdo_plot\u001b[0m \u001b[1;33m=\u001b[0m \u001b[1;32mFalse\u001b[0m\u001b[1;33m)\u001b[0m\u001b[1;33m\u001b[0m\u001b[1;33m\u001b[0m\u001b[0m\n\u001b[0m",
      "\u001b[1;32m~\\.conda\\envs\\Sara\\lib\\site-packages\\qcodes\\utils\\dataset\\doNd.py\u001b[0m in \u001b[0;36mdo1d\u001b[1;34m(param_set, start, stop, num_points, delay, enter_actions, exit_actions, write_period, measurement_name, exp, do_plot, use_threads, additional_setpoints, show_progress, log_info, *param_meas)\u001b[0m\n\u001b[0;32m    258\u001b[0m     \u001b[1;31m# and set parameters. For anything more complicated this should be\u001b[0m\u001b[1;33m\u001b[0m\u001b[1;33m\u001b[0m\u001b[1;33m\u001b[0m\u001b[0m\n\u001b[0;32m    259\u001b[0m     \u001b[1;31m# reimplemented from scratch\u001b[0m\u001b[1;33m\u001b[0m\u001b[1;33m\u001b[0m\u001b[1;33m\u001b[0m\u001b[0m\n\u001b[1;32m--> 260\u001b[1;33m     \u001b[1;32mwith\u001b[0m \u001b[0m_catch_keyboard_interrupts\u001b[0m\u001b[1;33m(\u001b[0m\u001b[1;33m)\u001b[0m \u001b[1;32mas\u001b[0m \u001b[0minterrupted\u001b[0m\u001b[1;33m,\u001b[0m \u001b[0mmeas\u001b[0m\u001b[1;33m.\u001b[0m\u001b[0mrun\u001b[0m\u001b[1;33m(\u001b[0m\u001b[1;33m)\u001b[0m \u001b[1;32mas\u001b[0m \u001b[0mdatasaver\u001b[0m\u001b[1;33m:\u001b[0m\u001b[1;33m\u001b[0m\u001b[1;33m\u001b[0m\u001b[0m\n\u001b[0m\u001b[0;32m    261\u001b[0m         \u001b[0mdataset\u001b[0m \u001b[1;33m=\u001b[0m \u001b[0mdatasaver\u001b[0m\u001b[1;33m.\u001b[0m\u001b[0mdataset\u001b[0m\u001b[1;33m\u001b[0m\u001b[1;33m\u001b[0m\u001b[0m\n\u001b[0;32m    262\u001b[0m         \u001b[0madditional_setpoints_data\u001b[0m \u001b[1;33m=\u001b[0m \u001b[0mprocess_params_meas\u001b[0m\u001b[1;33m(\u001b[0m\u001b[0madditional_setpoints\u001b[0m\u001b[1;33m)\u001b[0m\u001b[1;33m\u001b[0m\u001b[1;33m\u001b[0m\u001b[0m\n",
      "\u001b[1;32m~\\.conda\\envs\\Sara\\lib\\site-packages\\qcodes\\dataset\\measurements.py\u001b[0m in \u001b[0;36m__enter__\u001b[1;34m(self)\u001b[0m\n\u001b[0;32m    556\u001b[0m         \u001b[1;32mif\u001b[0m \u001b[0mself\u001b[0m\u001b[1;33m.\u001b[0m\u001b[0m_dataset_class\u001b[0m \u001b[1;32mis\u001b[0m \u001b[0mDataSet\u001b[0m\u001b[1;33m:\u001b[0m\u001b[1;33m\u001b[0m\u001b[1;33m\u001b[0m\u001b[0m\n\u001b[0;32m    557\u001b[0m             \u001b[0mdataset_class\u001b[0m \u001b[1;33m=\u001b[0m \u001b[0mcast\u001b[0m\u001b[1;33m(\u001b[0m\u001b[0mType\u001b[0m\u001b[1;33m[\u001b[0m\u001b[0mDataSet\u001b[0m\u001b[1;33m]\u001b[0m\u001b[1;33m,\u001b[0m \u001b[0mself\u001b[0m\u001b[1;33m.\u001b[0m\u001b[0m_dataset_class\u001b[0m\u001b[1;33m)\u001b[0m\u001b[1;33m\u001b[0m\u001b[1;33m\u001b[0m\u001b[0m\n\u001b[1;32m--> 558\u001b[1;33m             self.ds = dataset_class(\n\u001b[0m\u001b[0;32m    559\u001b[0m                 \u001b[0mname\u001b[0m\u001b[1;33m=\u001b[0m\u001b[0mself\u001b[0m\u001b[1;33m.\u001b[0m\u001b[0mname\u001b[0m\u001b[1;33m,\u001b[0m\u001b[1;33m\u001b[0m\u001b[1;33m\u001b[0m\u001b[0m\n\u001b[0;32m    560\u001b[0m                 \u001b[0mexp_id\u001b[0m\u001b[1;33m=\u001b[0m\u001b[0mexp_id\u001b[0m\u001b[1;33m,\u001b[0m\u001b[1;33m\u001b[0m\u001b[1;33m\u001b[0m\u001b[0m\n",
      "\u001b[1;32m~\\.conda\\envs\\Sara\\lib\\site-packages\\qcodes\\dataset\\data_set.py\u001b[0m in \u001b[0;36m__init__\u001b[1;34m(self, path_to_db, run_id, conn, exp_id, name, specs, values, metadata, shapes, in_memory_cache)\u001b[0m\n\u001b[0;32m    295\u001b[0m                                      \" new_experiment(name, sample_name)\")\n\u001b[0;32m    296\u001b[0m             \u001b[0mname\u001b[0m \u001b[1;33m=\u001b[0m \u001b[0mname\u001b[0m \u001b[1;32mor\u001b[0m \u001b[1;34m\"dataset\"\u001b[0m\u001b[1;33m\u001b[0m\u001b[1;33m\u001b[0m\u001b[0m\n\u001b[1;32m--> 297\u001b[1;33m             _, run_id, __ = create_run(self.conn, exp_id, name,\n\u001b[0m\u001b[0;32m    298\u001b[0m                                        \u001b[0mgenerate_guid\u001b[0m\u001b[1;33m(\u001b[0m\u001b[1;33m)\u001b[0m\u001b[1;33m,\u001b[0m\u001b[1;33m\u001b[0m\u001b[1;33m\u001b[0m\u001b[0m\n\u001b[0;32m    299\u001b[0m                                        \u001b[0mparameters\u001b[0m\u001b[1;33m=\u001b[0m\u001b[1;32mNone\u001b[0m\u001b[1;33m,\u001b[0m\u001b[1;33m\u001b[0m\u001b[1;33m\u001b[0m\u001b[0m\n",
      "\u001b[1;32m~\\.conda\\envs\\Sara\\lib\\site-packages\\qcodes\\dataset\\sqlite\\queries.py\u001b[0m in \u001b[0;36mcreate_run\u001b[1;34m(conn, exp_id, name, guid, parameters, values, metadata, captured_run_id, captured_counter, parent_dataset_links)\u001b[0m\n\u001b[0;32m   1643\u001b[0m             \u001b[0madd_meta_data\u001b[0m\u001b[1;33m(\u001b[0m\u001b[0mconn\u001b[0m\u001b[1;33m,\u001b[0m \u001b[0mrun_id\u001b[0m\u001b[1;33m,\u001b[0m \u001b[0mmetadata\u001b[0m\u001b[1;33m)\u001b[0m\u001b[1;33m\u001b[0m\u001b[1;33m\u001b[0m\u001b[0m\n\u001b[0;32m   1644\u001b[0m         \u001b[0m_update_experiment_run_counter\u001b[0m\u001b[1;33m(\u001b[0m\u001b[0mconn\u001b[0m\u001b[1;33m,\u001b[0m \u001b[0mexp_id\u001b[0m\u001b[1;33m,\u001b[0m \u001b[0mrun_counter\u001b[0m\u001b[1;33m)\u001b[0m\u001b[1;33m\u001b[0m\u001b[1;33m\u001b[0m\u001b[0m\n\u001b[1;32m-> 1645\u001b[1;33m         \u001b[0m_create_run_table\u001b[0m\u001b[1;33m(\u001b[0m\u001b[0mconn\u001b[0m\u001b[1;33m,\u001b[0m \u001b[0mformatted_name\u001b[0m\u001b[1;33m,\u001b[0m \u001b[0mparameters\u001b[0m\u001b[1;33m,\u001b[0m \u001b[0mvalues\u001b[0m\u001b[1;33m)\u001b[0m\u001b[1;33m\u001b[0m\u001b[1;33m\u001b[0m\u001b[0m\n\u001b[0m\u001b[0;32m   1646\u001b[0m \u001b[1;33m\u001b[0m\u001b[0m\n\u001b[0;32m   1647\u001b[0m     \u001b[1;32mreturn\u001b[0m \u001b[0mrun_counter\u001b[0m\u001b[1;33m,\u001b[0m \u001b[0mrun_id\u001b[0m\u001b[1;33m,\u001b[0m \u001b[0mformatted_name\u001b[0m\u001b[1;33m\u001b[0m\u001b[1;33m\u001b[0m\u001b[0m\n",
      "\u001b[1;32m~\\.conda\\envs\\Sara\\lib\\contextlib.py\u001b[0m in \u001b[0;36m__exit__\u001b[1;34m(self, type, value, traceback)\u001b[0m\n\u001b[0;32m    129\u001b[0m                 \u001b[0mvalue\u001b[0m \u001b[1;33m=\u001b[0m \u001b[0mtype\u001b[0m\u001b[1;33m(\u001b[0m\u001b[1;33m)\u001b[0m\u001b[1;33m\u001b[0m\u001b[1;33m\u001b[0m\u001b[0m\n\u001b[0;32m    130\u001b[0m             \u001b[1;32mtry\u001b[0m\u001b[1;33m:\u001b[0m\u001b[1;33m\u001b[0m\u001b[1;33m\u001b[0m\u001b[0m\n\u001b[1;32m--> 131\u001b[1;33m                 \u001b[0mself\u001b[0m\u001b[1;33m.\u001b[0m\u001b[0mgen\u001b[0m\u001b[1;33m.\u001b[0m\u001b[0mthrow\u001b[0m\u001b[1;33m(\u001b[0m\u001b[0mtype\u001b[0m\u001b[1;33m,\u001b[0m \u001b[0mvalue\u001b[0m\u001b[1;33m,\u001b[0m \u001b[0mtraceback\u001b[0m\u001b[1;33m)\u001b[0m\u001b[1;33m\u001b[0m\u001b[1;33m\u001b[0m\u001b[0m\n\u001b[0m\u001b[0;32m    132\u001b[0m             \u001b[1;32mexcept\u001b[0m \u001b[0mStopIteration\u001b[0m \u001b[1;32mas\u001b[0m \u001b[0mexc\u001b[0m\u001b[1;33m:\u001b[0m\u001b[1;33m\u001b[0m\u001b[1;33m\u001b[0m\u001b[0m\n\u001b[0;32m    133\u001b[0m                 \u001b[1;31m# Suppress StopIteration *unless* it's the same exception that\u001b[0m\u001b[1;33m\u001b[0m\u001b[1;33m\u001b[0m\u001b[1;33m\u001b[0m\u001b[0m\n",
      "\u001b[1;32m~\\.conda\\envs\\Sara\\lib\\site-packages\\qcodes\\dataset\\sqlite\\connection.py\u001b[0m in \u001b[0;36matomic\u001b[1;34m(conn)\u001b[0m\n\u001b[0;32m    105\u001b[0m             \u001b[0mconn\u001b[0m\u001b[1;33m.\u001b[0m\u001b[0mrollback\u001b[0m\u001b[1;33m(\u001b[0m\u001b[1;33m)\u001b[0m\u001b[1;33m\u001b[0m\u001b[1;33m\u001b[0m\u001b[0m\n\u001b[0;32m    106\u001b[0m             \u001b[0mlog\u001b[0m\u001b[1;33m.\u001b[0m\u001b[0mexception\u001b[0m\u001b[1;33m(\u001b[0m\u001b[1;34m\"Rolling back due to unhandled exception\"\u001b[0m\u001b[1;33m)\u001b[0m\u001b[1;33m\u001b[0m\u001b[1;33m\u001b[0m\u001b[0m\n\u001b[1;32m--> 107\u001b[1;33m             \u001b[1;32mraise\u001b[0m \u001b[0mRuntimeError\u001b[0m\u001b[1;33m(\u001b[0m\u001b[1;34m\"Rolling back due to unhandled exception\"\u001b[0m\u001b[1;33m)\u001b[0m \u001b[1;32mfrom\u001b[0m \u001b[0me\u001b[0m\u001b[1;33m\u001b[0m\u001b[1;33m\u001b[0m\u001b[0m\n\u001b[0m\u001b[0;32m    108\u001b[0m         \u001b[1;32melse\u001b[0m\u001b[1;33m:\u001b[0m\u001b[1;33m\u001b[0m\u001b[1;33m\u001b[0m\u001b[0m\n\u001b[0;32m    109\u001b[0m             \u001b[1;32mif\u001b[0m \u001b[0mis_outmost\u001b[0m\u001b[1;33m:\u001b[0m\u001b[1;33m\u001b[0m\u001b[1;33m\u001b[0m\u001b[0m\n",
      "\u001b[1;31mRuntimeError\u001b[0m: Rolling back due to unhandled exception"
     ]
    }
   ],
   "source": [
    "exp = new_experiment(name='Density vs GateVoltage Iex=7,18 Rxx1=15,16 Rxx2=9,2 Rxy=8,6', sample_name=\"75um HB\")\n",
    "do1d(keith.source.voltage, 0, 0.55, 550, 0.3, rxx1.X, rxy.X, rxx2.X, rxy.P, keith.sense.current, do_plot = False)"
   ]
  },
  {
   "cell_type": "code",
   "execution_count": 78,
   "metadata": {
    "ExecuteTime": {
     "end_time": "2021-10-15T22:31:28.135545Z",
     "start_time": "2021-10-15T22:24:50.215741Z"
    }
   },
   "outputs": [
    {
     "name": "stdout",
     "output_type": "stream",
     "text": [
      "Starting experimental run with id: 37. Using 'qcodes.utils.dataset.doNd.do1d'\n"
     ]
    },
    {
     "data": {
      "text/plain": [
       "(results #37@C:\\Users\\Sara\\DataBases\\M12-09-20.1SM1\\M12-09-20.1SM1.db\n",
       " --------------------------------------------------------------------\n",
       " keithley2_source_voltage - numeric\n",
       " Beast_X - numeric\n",
       " Dilbert_X - numeric\n",
       " Zoe_X - numeric\n",
       " Dilbert_P - numeric\n",
       " keithley2_sense_current - numeric,\n",
       " [None],\n",
       " [None])"
      ]
     },
     "execution_count": 78,
     "metadata": {},
     "output_type": "execute_result"
    }
   ],
   "source": [
    "exp = new_experiment(name='Density vs GateVoltage Iex=7,18 Rxx1=15,16 Rxx2=9,2 Rxy=8,6', sample_name=\"75um HB\")\n",
    "do1d(keith.source.voltage, 0, 0.55, 550, 0.3, rxx1.X, rxy.X, rxx2.X, rxy.P, keith.sense.current, do_plot = False)"
   ]
  },
  {
   "cell_type": "code",
   "execution_count": 79,
   "metadata": {
    "ExecuteTime": {
     "end_time": "2021-10-15T22:38:31.854928Z",
     "start_time": "2021-10-15T22:31:54.077951Z"
    }
   },
   "outputs": [
    {
     "name": "stdout",
     "output_type": "stream",
     "text": [
      "Starting experimental run with id: 38. Using 'qcodes.utils.dataset.doNd.do1d'\n"
     ]
    },
    {
     "data": {
      "text/plain": [
       "(results #38@C:\\Users\\Sara\\DataBases\\M12-09-20.1SM1\\M12-09-20.1SM1.db\n",
       " --------------------------------------------------------------------\n",
       " keithley2_source_voltage - numeric\n",
       " Beast_X - numeric\n",
       " Dilbert_X - numeric\n",
       " Zoe_X - numeric\n",
       " Dilbert_P - numeric\n",
       " keithley2_sense_current - numeric,\n",
       " [None],\n",
       " [None])"
      ]
     },
     "execution_count": 79,
     "metadata": {},
     "output_type": "execute_result"
    }
   ],
   "source": [
    "exp = new_experiment(name='Density vs GateVoltage Iex=7,18 Rxx1=15,16 Rxx2=9,12 Rxy=15,3', sample_name=\"75um HB\")\n",
    "do1d(keith.source.voltage, 0.55, 0, 550, 0.3, rxx1.X, rxy.X, rxx2.X, rxy.P, keith.sense.current, do_plot = False)"
   ]
  },
  {
   "cell_type": "markdown",
   "metadata": {},
   "source": [
    "# Magnetic Field Scan"
   ]
  },
  {
   "cell_type": "code",
   "execution_count": 80,
   "metadata": {
    "ExecuteTime": {
     "end_time": "2021-10-15T22:38:46.753219Z",
     "start_time": "2021-10-15T22:38:46.684216Z"
    }
   },
   "outputs": [],
   "source": [
    "mag120.sweeprate_field(0.075)\n"
   ]
  },
  {
   "cell_type": "code",
   "execution_count": 83,
   "metadata": {
    "ExecuteTime": {
     "end_time": "2021-10-16T00:21:41.886623Z",
     "start_time": "2021-10-15T22:44:35.746026Z"
    },
    "scrolled": true
   },
   "outputs": [
    {
     "name": "stdout",
     "output_type": "stream",
     "text": [
      "Starting experimental run with id: 40. \n"
     ]
    }
   ],
   "source": [
    "exp = load_or_create_experiment('Bfield 0 to 5T at Vg=0', '75um HB')\n",
    "meas = Measurement()\n",
    "meas.register_parameter(mag120.current)\n",
    "meas.register_parameter(rxx1.X, setpoints=[mag120.current])\n",
    "meas.register_parameter(rxx2.X, setpoints=[mag120.current])\n",
    "meas.register_parameter(rxy.X, setpoints=[mag120.current])\n",
    "meas.register_parameter(rxy2.X, setpoints=[mag120.current])\n",
    "\n",
    "mag120.sweeprate_field(0.075)\n",
    "current=0\n",
    "final_current=67.13125\n",
    "current_now = mag120.current()\n",
    "\n",
    "with meas.run() as ds:  \n",
    "    while current < final_current:\n",
    "        mag120.to_setpoint()\n",
    "        time.sleep(1)\n",
    "        ds.add_result((mag120.current, mag120.current()),\n",
    "                         (rxx1.X, rxx1.X()),\n",
    "                         (rxx2.X,rxx2.X()),\n",
    "                         (rxy.X, rxy.X()),\n",
    "                         (rxy2.X,rxy2.X()))\n",
    "        current=current+0.01342\n",
    "        mag120.current_setpoint(current)\n",
    "        \n",
    "    dataset1=ds.dataset"
   ]
  },
  {
   "cell_type": "code",
   "execution_count": 84,
   "metadata": {
    "ExecuteTime": {
     "end_time": "2021-10-16T00:28:19.518261Z",
     "start_time": "2021-10-16T00:21:41.908623Z"
    }
   },
   "outputs": [
    {
     "name": "stdout",
     "output_type": "stream",
     "text": [
      "Starting experimental run with id: 41. Using 'qcodes.utils.dataset.doNd.do1d'\n"
     ]
    },
    {
     "data": {
      "text/plain": [
       "(results #41@C:\\Users\\Sara\\DataBases\\M12-09-20.1SM1\\M12-09-20.1SM1.db\n",
       " --------------------------------------------------------------------\n",
       " keithley2_source_voltage - numeric\n",
       " Beast_X - numeric\n",
       " Dilbert_X - numeric\n",
       " Zoe_X - numeric\n",
       " Dilbert_P - numeric\n",
       " keithley2_sense_current - numeric,\n",
       " [None],\n",
       " [None])"
      ]
     },
     "execution_count": 84,
     "metadata": {},
     "output_type": "execute_result"
    }
   ],
   "source": [
    "do1d(keith.source.voltage, 0, 0.55, 550, 0.3, rxx1.X, rxy.X, rxx2.X, rxy.P, keith.sense.current, do_plot = False)"
   ]
  },
  {
   "cell_type": "code",
   "execution_count": 86,
   "metadata": {
    "ExecuteTime": {
     "end_time": "2021-10-16T02:11:28.779037Z",
     "start_time": "2021-10-16T00:34:12.882565Z"
    }
   },
   "outputs": [
    {
     "name": "stdout",
     "output_type": "stream",
     "text": [
      "Starting experimental run with id: 42. \n"
     ]
    }
   ],
   "source": [
    "exp = load_or_create_experiment('Bfield 5T to 0T at Vg=0.55', '75um HB')\n",
    "meas = Measurement()\n",
    "meas.register_parameter(mag120.current)\n",
    "meas.register_parameter(rxx1.X, setpoints=[mag120.current])\n",
    "meas.register_parameter(rxx2.X, setpoints=[mag120.current])\n",
    "meas.register_parameter(rxy.X, setpoints=[mag120.current])\n",
    "meas.register_parameter(rxy2.X, setpoints=[mag120.current])\n",
    "\n",
    "mag120.sweeprate_field(0.075)\n",
    "current=67.13125\n",
    "final_current=0\n",
    "current_now = mag120.current()\n",
    "\n",
    "with meas.run() as ds:  \n",
    "    while current > final_current:\n",
    "        mag120.to_setpoint()\n",
    "        time.sleep(1)\n",
    "        ds.add_result((mag120.current, mag120.current()),\n",
    "                         (rxx1.X, rxx1.X()),\n",
    "                         (rxx2.X,rxx2.X()),\n",
    "                         (rxy.X, rxy.X()),\n",
    "                         (rxy2.X,rxy2.X()))\n",
    "        current=current-0.01342\n",
    "        mag120.current_setpoint(current)\n",
    "        \n",
    "    dataset1=ds.dataset"
   ]
  },
  {
   "cell_type": "code",
   "execution_count": 92,
   "metadata": {
    "ExecuteTime": {
     "end_time": "2021-10-16T05:32:56.622880Z",
     "start_time": "2021-10-16T05:32:56.597879Z"
    }
   },
   "outputs": [
    {
     "name": "stdout",
     "output_type": "stream",
     "text": [
      "Beast:\n",
      "\tparameter                                  value\n",
      "--------------------------------------------------------------------------------\n",
      "IDN                                         :\t{'vendor': 'Stanford_Research_S...\n",
      "P                                           :\tNone (deg)\n",
      "R                                           :\tNone (V)\n",
      "R_expand                                    :\tNone \n",
      "R_offset                                    :\tNone (%)\n",
      "X                                           :\t0.0022619 (V)\n",
      "X_expand                                    :\tNone \n",
      "X_offset                                    :\tNone (%)\n",
      "Y                                           :\tNone (V)\n",
      "Y_expand                                    :\tNone \n",
      "Y_offset                                    :\tNone (%)\n",
      "adv_filter                                  :\tNone \n",
      "amplitude                                   :\tNone (V)\n",
      "aux_in0                                     :\tNone (V)\n",
      "aux_in1                                     :\tNone (V)\n",
      "aux_in2                                     :\tNone (V)\n",
      "aux_in3                                     :\tNone (V)\n",
      "aux_out0                                    :\tNone (V)\n",
      "aux_out1                                    :\tNone (V)\n",
      "aux_out2                                    :\tNone (V)\n",
      "aux_out3                                    :\tNone (V)\n",
      "complex_voltage                             :\tNone (V)\n",
      "external_reference_trigger                  :\tNone \n",
      "external_reference_trigger_input_resistance :\tNone \n",
      "filter_slope                                :\tNone (dB/oct)\n",
      "frequency                                   :\tNone (Hz)\n",
      "harmonic                                    :\tNone \n",
      "input_config                                :\ta \n",
      "input_coupling                              :\tNone \n",
      "input_gain                                  :\tNone (ohm)\n",
      "input_range                                 :\tNone (V)\n",
      "input_shield                                :\tNone \n",
      "noise_bandwidth                             :\tNone (Hz)\n",
      "phase                                       :\tNone (deg)\n",
      "reference_source                            :\tNone \n",
      "sensitivity                                 :\tNone \n",
      "signal_input                                :\tNone \n",
      "signal_strength                             :\tNone \n",
      "sine_outdc                                  :\tNone (V)\n",
      "sync_filter                                 :\tNone \n",
      "time_constant                               :\t1 (s)\n",
      "timeout                                     :\t5 (s)\n",
      "Beast_data_channel_1:\n",
      "\tparameter         value\n",
      "--------------------------------------------------------------------------------\n",
      "assigned_parameter :\tNone \n",
      "Beast_data_channel_2:\n",
      "\tparameter         value\n",
      "--------------------------------------------------------------------------------\n",
      "assigned_parameter :\tNone \n",
      "Beast_data_channel_3:\n",
      "\tparameter         value\n",
      "--------------------------------------------------------------------------------\n",
      "assigned_parameter :\tNone \n",
      "Beast_data_channel_4:\n",
      "\tparameter         value\n",
      "--------------------------------------------------------------------------------\n",
      "assigned_parameter :\tNone \n",
      "Beast_Beast_buffer:\n",
      "\tparameter              value\n",
      "--------------------------------------------------------------------------------\n",
      "R                       :\tNot available (V)\n",
      "T                       :\tNot available (deg)\n",
      "X                       :\tNot available (V)\n",
      "Y                       :\tNot available (V)\n",
      "capture_config          :\tNone \n",
      "capture_length_in_kb    :\tNone (kB)\n",
      "capture_rate            :\tNone \n",
      "capture_rate_max        :\t1220.7 \n",
      "capture_status          :\tNone \n",
      "count_capture_bytes     :\tNone (B)\n",
      "count_capture_kilobytes :\tNone (kB)\n"
     ]
    }
   ],
   "source": [
    "rxx1.print_readable_snapshot()"
   ]
  },
  {
   "cell_type": "code",
   "execution_count": 94,
   "metadata": {
    "ExecuteTime": {
     "end_time": "2021-10-16T05:33:55.811439Z",
     "start_time": "2021-10-16T05:33:55.799439Z"
    }
   },
   "outputs": [],
   "source": [
    "rxx1.sensitivity(5e-3)"
   ]
  },
  {
   "cell_type": "code",
   "execution_count": 95,
   "metadata": {
    "ExecuteTime": {
     "end_time": "2021-10-16T05:34:09.896686Z",
     "start_time": "2021-10-16T05:34:09.875686Z"
    }
   },
   "outputs": [
    {
     "data": {
      "text/plain": [
       "0.005"
      ]
     },
     "execution_count": 95,
     "metadata": {},
     "output_type": "execute_result"
    }
   ],
   "source": [
    "rxx1.sensitivity()"
   ]
  },
  {
   "cell_type": "markdown",
   "metadata": {},
   "source": [
    "# Start Beating Pattern Scans "
   ]
  },
  {
   "cell_type": "code",
   "execution_count": 96,
   "metadata": {
    "ExecuteTime": {
     "end_time": "2021-10-16T06:45:35.354492Z",
     "start_time": "2021-10-16T05:35:35.512451Z"
    }
   },
   "outputs": [
    {
     "name": "stdout",
     "output_type": "stream",
     "text": [
      "Starting experimental run with id: 43. \n"
     ]
    }
   ],
   "source": [
    "rxx1.time_constant(1)\n",
    "rxx2.time_constant(1)\n",
    "rxx1.sensitivity(5e-3)\n",
    "rxx2.sensitivity(5e-3)\n",
    "\n",
    "\n",
    "exp = load_or_create_experiment('Bfield 0 tp 1.4T  T=13mK 20mT/min Vg=0.55 V Tc=1s', '75um HB')\n",
    "meas = Measurement()\n",
    "meas.register_parameter(mag120.current)\n",
    "meas.register_parameter(rxx1.X, setpoints=[mag120.current])\n",
    "meas.register_parameter(rxx2.X, setpoints=[mag120.current])\n",
    "meas.register_parameter(rxy.X, setpoints=[mag120.current])\n",
    "meas.register_parameter(rxy2.X, setpoints=[mag120.current])\n",
    "\n",
    "mag120.sweeprate_field(0.02)\n",
    "\n",
    "mag120.current_setpoint(18.7967)\n",
    "mag120.to_setpoint()\n",
    "current=0\n",
    "final_current=18.7967\n",
    "\n",
    "\n",
    "with meas.run() as ds:  \n",
    "    while current < final_current:\n",
    "        ds.add_result((mag120.current, mag120.current()),\n",
    "                         (rxx1.X, rxx1.X()),\n",
    "                         (rxx2.X,rxx2.X()),\n",
    "                         (rxy.X, rxy.X()),\n",
    "                         (rxy2.X,rxy2.X()))\n",
    "        current=mag120.current()\n",
    "    dataset1=ds.dataset"
   ]
  },
  {
   "cell_type": "code",
   "execution_count": 97,
   "metadata": {
    "ExecuteTime": {
     "end_time": "2021-10-16T06:46:16.915582Z",
     "start_time": "2021-10-16T06:45:35.364492Z"
    }
   },
   "outputs": [
    {
     "name": "stdout",
     "output_type": "stream",
     "text": [
      "Starting experimental run with id: 44. Using 'qcodes.utils.dataset.doNd.do1d'\n"
     ]
    },
    {
     "data": {
      "text/plain": [
       "(results #44@C:\\Users\\Sara\\DataBases\\M12-09-20.1SM1\\M12-09-20.1SM1.db\n",
       " --------------------------------------------------------------------\n",
       " keithley2_source_voltage - numeric\n",
       " Beast_X - numeric\n",
       " Dilbert_X - numeric\n",
       " Zoe_X - numeric\n",
       " Dilbert_P - numeric\n",
       " keithley2_sense_current - numeric,\n",
       " [None],\n",
       " [None])"
      ]
     },
     "execution_count": 97,
     "metadata": {},
     "output_type": "execute_result"
    }
   ],
   "source": [
    "do1d(keith.source.voltage, 0.55, 0.50, 50, 0.3, rxx1.X, rxy.X, rxx2.X, rxy.P, keith.sense.current, do_plot = False)"
   ]
  },
  {
   "cell_type": "code",
   "execution_count": 98,
   "metadata": {
    "ExecuteTime": {
     "end_time": "2021-10-16T07:56:14.740893Z",
     "start_time": "2021-10-16T06:46:16.935582Z"
    }
   },
   "outputs": [
    {
     "name": "stdout",
     "output_type": "stream",
     "text": [
      "Starting experimental run with id: 45. \n"
     ]
    }
   ],
   "source": [
    "exp = load_or_create_experiment('Bfield 0 tp 1.4T  T=13mK 20mT/min Vg=0.50 V Tc=1s', '75um HB')\n",
    "meas = Measurement()\n",
    "meas.register_parameter(mag120.current)\n",
    "meas.register_parameter(rxx1.X, setpoints=[mag120.current])\n",
    "meas.register_parameter(rxx2.X, setpoints=[mag120.current])\n",
    "meas.register_parameter(rxy.X, setpoints=[mag120.current])\n",
    "meas.register_parameter(rxy2.X, setpoints=[mag120.current])\n",
    "\n",
    "mag120.sweeprate_field(0.02)\n",
    "\n",
    "mag120.current_setpoint(0)\n",
    "mag120.to_setpoint()\n",
    "current=18.797\n",
    "final_current=0\n",
    "\n",
    "\n",
    "with meas.run() as ds:  \n",
    "    while current > final_current:\n",
    "        ds.add_result((mag120.current, mag120.current()),\n",
    "                         (rxx1.X, rxx1.X()),\n",
    "                         (rxx2.X,rxx2.X()),\n",
    "                         (rxy.X, rxy.X()),\n",
    "                         (rxy2.X,rxy2.X()))\n",
    "        current=mag120.current()\n",
    "    dataset1=ds.dataset"
   ]
  },
  {
   "cell_type": "code",
   "execution_count": 99,
   "metadata": {
    "ExecuteTime": {
     "end_time": "2021-10-16T07:56:56.513985Z",
     "start_time": "2021-10-16T07:56:14.780893Z"
    }
   },
   "outputs": [
    {
     "name": "stdout",
     "output_type": "stream",
     "text": [
      "Starting experimental run with id: 46. Using 'qcodes.utils.dataset.doNd.do1d'\n"
     ]
    },
    {
     "data": {
      "text/plain": [
       "(results #46@C:\\Users\\Sara\\DataBases\\M12-09-20.1SM1\\M12-09-20.1SM1.db\n",
       " --------------------------------------------------------------------\n",
       " keithley2_source_voltage - numeric\n",
       " Beast_X - numeric\n",
       " Dilbert_X - numeric\n",
       " Zoe_X - numeric\n",
       " Dilbert_P - numeric\n",
       " keithley2_sense_current - numeric,\n",
       " [None],\n",
       " [None])"
      ]
     },
     "execution_count": 99,
     "metadata": {},
     "output_type": "execute_result"
    }
   ],
   "source": [
    "do1d(keith.source.voltage, 0.50, 0.45, 50, 0.3, rxx1.X, rxy.X, rxx2.X, rxy.P, keith.sense.current, do_plot = False)"
   ]
  },
  {
   "cell_type": "code",
   "execution_count": 100,
   "metadata": {
    "ExecuteTime": {
     "end_time": "2021-10-16T09:06:54.320271Z",
     "start_time": "2021-10-16T07:56:56.527985Z"
    }
   },
   "outputs": [
    {
     "name": "stdout",
     "output_type": "stream",
     "text": [
      "Starting experimental run with id: 47. \n"
     ]
    }
   ],
   "source": [
    "rxx1.time_constant(1)\n",
    "rxx2.time_constant(1)\n",
    "rxx1.sensitivity(5e-3)\n",
    "rxx2.sensitivity(5e-3)\n",
    "\n",
    "\n",
    "exp = load_or_create_experiment('Bfield 0 tp 1.4T  T=13mK 20mT/min Vg=0.55 V Tc=1s', '75um HB')\n",
    "meas = Measurement()\n",
    "meas.register_parameter(mag120.current)\n",
    "meas.register_parameter(rxx1.X, setpoints=[mag120.current])\n",
    "meas.register_parameter(rxx2.X, setpoints=[mag120.current])\n",
    "meas.register_parameter(rxy.X, setpoints=[mag120.current])\n",
    "meas.register_parameter(rxy2.X, setpoints=[mag120.current])\n",
    "\n",
    "mag120.sweeprate_field(0.02)\n",
    "\n",
    "mag120.current_setpoint(18.7967)\n",
    "mag120.to_setpoint()\n",
    "current=0\n",
    "final_current=18.7967\n",
    "\n",
    "\n",
    "with meas.run() as ds:  \n",
    "    while current < final_current:\n",
    "        ds.add_result((mag120.current, mag120.current()),\n",
    "                         (rxx1.X, rxx1.X()),\n",
    "                         (rxx2.X,rxx2.X()),\n",
    "                         (rxy.X, rxy.X()),\n",
    "                         (rxy2.X,rxy2.X()))\n",
    "        current=mag120.current()\n",
    "    dataset1=ds.dataset"
   ]
  },
  {
   "cell_type": "code",
   "execution_count": 101,
   "metadata": {
    "ExecuteTime": {
     "end_time": "2021-10-16T09:07:35.987361Z",
     "start_time": "2021-10-16T09:06:54.330271Z"
    }
   },
   "outputs": [
    {
     "name": "stdout",
     "output_type": "stream",
     "text": [
      "Starting experimental run with id: 48. Using 'qcodes.utils.dataset.doNd.do1d'\n"
     ]
    },
    {
     "data": {
      "text/plain": [
       "(results #48@C:\\Users\\Sara\\DataBases\\M12-09-20.1SM1\\M12-09-20.1SM1.db\n",
       " --------------------------------------------------------------------\n",
       " keithley2_source_voltage - numeric\n",
       " Beast_X - numeric\n",
       " Dilbert_X - numeric\n",
       " Zoe_X - numeric\n",
       " Dilbert_P - numeric\n",
       " keithley2_sense_current - numeric,\n",
       " [None],\n",
       " [None])"
      ]
     },
     "execution_count": 101,
     "metadata": {},
     "output_type": "execute_result"
    }
   ],
   "source": [
    "do1d(keith.source.voltage, 0.45, 0.40, 50, 0.3, rxx1.X, rxy.X, rxx2.X, rxy.P, keith.sense.current, do_plot = False)"
   ]
  },
  {
   "cell_type": "code",
   "execution_count": 102,
   "metadata": {
    "ExecuteTime": {
     "end_time": "2021-10-16T10:17:33.772575Z",
     "start_time": "2021-10-16T09:07:36.000361Z"
    }
   },
   "outputs": [
    {
     "name": "stdout",
     "output_type": "stream",
     "text": [
      "Starting experimental run with id: 49. \n"
     ]
    }
   ],
   "source": [
    "exp = load_or_create_experiment('Bfield 0 tp 1.4T  T=13mK 20mT/min Vg=0.450 V Tc=1s', '75um HB')\n",
    "meas = Measurement()\n",
    "meas.register_parameter(mag120.current)\n",
    "meas.register_parameter(rxx1.X, setpoints=[mag120.current])\n",
    "meas.register_parameter(rxx2.X, setpoints=[mag120.current])\n",
    "meas.register_parameter(rxy.X, setpoints=[mag120.current])\n",
    "meas.register_parameter(rxy2.X, setpoints=[mag120.current])\n",
    "\n",
    "mag120.sweeprate_field(0.02)\n",
    "\n",
    "mag120.current_setpoint(0)\n",
    "mag120.to_setpoint()\n",
    "current=18.797\n",
    "final_current=0\n",
    "\n",
    "\n",
    "with meas.run() as ds:  \n",
    "    while current > final_current:\n",
    "        ds.add_result((mag120.current, mag120.current()),\n",
    "                         (rxx1.X, rxx1.X()),\n",
    "                         (rxx2.X,rxx2.X()),\n",
    "                         (rxy.X, rxy.X()),\n",
    "                         (rxy2.X,rxy2.X()))\n",
    "        current=mag120.current()\n",
    "    dataset1=ds.dataset"
   ]
  },
  {
   "cell_type": "code",
   "execution_count": 103,
   "metadata": {
    "ExecuteTime": {
     "end_time": "2021-10-16T10:18:15.202665Z",
     "start_time": "2021-10-16T10:17:33.782575Z"
    }
   },
   "outputs": [
    {
     "name": "stdout",
     "output_type": "stream",
     "text": [
      "Starting experimental run with id: 50. Using 'qcodes.utils.dataset.doNd.do1d'\n"
     ]
    },
    {
     "data": {
      "text/plain": [
       "(results #50@C:\\Users\\Sara\\DataBases\\M12-09-20.1SM1\\M12-09-20.1SM1.db\n",
       " --------------------------------------------------------------------\n",
       " keithley2_source_voltage - numeric\n",
       " Beast_X - numeric\n",
       " Dilbert_X - numeric\n",
       " Zoe_X - numeric\n",
       " Dilbert_P - numeric\n",
       " keithley2_sense_current - numeric,\n",
       " [None],\n",
       " [None])"
      ]
     },
     "execution_count": 103,
     "metadata": {},
     "output_type": "execute_result"
    }
   ],
   "source": [
    "do1d(keith.source.voltage, 0.40, 0.35, 50, 0.3, rxx1.X, rxy.X, rxx2.X, rxy.P, keith.sense.current, do_plot = False)"
   ]
  },
  {
   "cell_type": "code",
   "execution_count": 104,
   "metadata": {
    "ExecuteTime": {
     "end_time": "2021-10-16T11:28:13.049936Z",
     "start_time": "2021-10-16T10:18:15.214665Z"
    }
   },
   "outputs": [
    {
     "name": "stdout",
     "output_type": "stream",
     "text": [
      "Starting experimental run with id: 51. \n"
     ]
    }
   ],
   "source": [
    "rxx1.time_constant(1)\n",
    "rxx2.time_constant(1)\n",
    "rxx1.sensitivity(5e-3)\n",
    "rxx2.sensitivity(5e-3)\n",
    "\n",
    "\n",
    "exp = load_or_create_experiment('Bfield 0 tp 1.4T  T=13mK 20mT/min Vg=0.55 V Tc=1s', '75um HB')\n",
    "meas = Measurement()\n",
    "meas.register_parameter(mag120.current)\n",
    "meas.register_parameter(rxx1.X, setpoints=[mag120.current])\n",
    "meas.register_parameter(rxx2.X, setpoints=[mag120.current])\n",
    "meas.register_parameter(rxy.X, setpoints=[mag120.current])\n",
    "meas.register_parameter(rxy2.X, setpoints=[mag120.current])\n",
    "\n",
    "mag120.sweeprate_field(0.02)\n",
    "\n",
    "mag120.current_setpoint(18.7967)\n",
    "mag120.to_setpoint()\n",
    "current=0\n",
    "final_current=18.7967\n",
    "\n",
    "\n",
    "with meas.run() as ds:  \n",
    "    while current < final_current:\n",
    "        ds.add_result((mag120.current, mag120.current()),\n",
    "                         (rxx1.X, rxx1.X()),\n",
    "                         (rxx2.X,rxx2.X()),\n",
    "                         (rxy.X, rxy.X()),\n",
    "                         (rxy2.X,rxy2.X()))\n",
    "        current=mag120.current()\n",
    "    dataset1=ds.dataset"
   ]
  },
  {
   "cell_type": "code",
   "execution_count": 105,
   "metadata": {
    "ExecuteTime": {
     "end_time": "2021-10-16T11:28:54.751028Z",
     "start_time": "2021-10-16T11:28:13.059936Z"
    }
   },
   "outputs": [
    {
     "name": "stdout",
     "output_type": "stream",
     "text": [
      "Starting experimental run with id: 52. Using 'qcodes.utils.dataset.doNd.do1d'\n"
     ]
    },
    {
     "data": {
      "text/plain": [
       "(results #52@C:\\Users\\Sara\\DataBases\\M12-09-20.1SM1\\M12-09-20.1SM1.db\n",
       " --------------------------------------------------------------------\n",
       " keithley2_source_voltage - numeric\n",
       " Beast_X - numeric\n",
       " Dilbert_X - numeric\n",
       " Zoe_X - numeric\n",
       " Dilbert_P - numeric\n",
       " keithley2_sense_current - numeric,\n",
       " [None],\n",
       " [None])"
      ]
     },
     "execution_count": 105,
     "metadata": {},
     "output_type": "execute_result"
    }
   ],
   "source": [
    "do1d(keith.source.voltage, 0.35, 0.3, 50, 0.3, rxx1.X, rxy.X, rxx2.X, rxy.P, keith.sense.current, do_plot = False)"
   ]
  },
  {
   "cell_type": "code",
   "execution_count": 106,
   "metadata": {
    "ExecuteTime": {
     "end_time": "2021-10-16T12:38:52.562230Z",
     "start_time": "2021-10-16T11:28:54.764028Z"
    }
   },
   "outputs": [
    {
     "name": "stdout",
     "output_type": "stream",
     "text": [
      "Starting experimental run with id: 53. \n"
     ]
    }
   ],
   "source": [
    "exp = load_or_create_experiment('Bfield 0 tp 1.4T  T=13mK 20mT/min Vg=0.450 V Tc=1s', '75um HB')\n",
    "meas = Measurement()\n",
    "meas.register_parameter(mag120.current)\n",
    "meas.register_parameter(rxx1.X, setpoints=[mag120.current])\n",
    "meas.register_parameter(rxx2.X, setpoints=[mag120.current])\n",
    "meas.register_parameter(rxy.X, setpoints=[mag120.current])\n",
    "meas.register_parameter(rxy2.X, setpoints=[mag120.current])\n",
    "\n",
    "mag120.sweeprate_field(0.02)\n",
    "\n",
    "mag120.current_setpoint(0)\n",
    "mag120.to_setpoint()\n",
    "current=18.797\n",
    "final_current=0\n",
    "\n",
    "\n",
    "with meas.run() as ds:  \n",
    "    while current > final_current:\n",
    "        ds.add_result((mag120.current, mag120.current()),\n",
    "                         (rxx1.X, rxx1.X()),\n",
    "                         (rxx2.X,rxx2.X()),\n",
    "                         (rxy.X, rxy.X()),\n",
    "                         (rxy2.X,rxy2.X()))\n",
    "        current=mag120.current()\n",
    "    dataset1=ds.dataset"
   ]
  },
  {
   "cell_type": "code",
   "execution_count": 108,
   "metadata": {
    "ExecuteTime": {
     "end_time": "2021-10-16T15:02:40.387130Z",
     "start_time": "2021-10-16T15:01:58.898633Z"
    }
   },
   "outputs": [
    {
     "name": "stdout",
     "output_type": "stream",
     "text": [
      "Starting experimental run with id: 54. Using 'qcodes.utils.dataset.doNd.do1d'\n"
     ]
    },
    {
     "data": {
      "text/plain": [
       "(results #54@C:\\Users\\Sara\\DataBases\\M12-09-20.1SM1\\M12-09-20.1SM1.db\n",
       " --------------------------------------------------------------------\n",
       " keithley2_source_voltage - numeric\n",
       " Beast_X - numeric\n",
       " Dilbert_X - numeric\n",
       " Zoe_X - numeric\n",
       " Dilbert_P - numeric\n",
       " keithley2_sense_current - numeric,\n",
       " [None],\n",
       " [None])"
      ]
     },
     "execution_count": 108,
     "metadata": {},
     "output_type": "execute_result"
    }
   ],
   "source": [
    "do1d(keith.source.voltage, 0.3, 0.25, 50, 0.3, rxx1.X, rxy.X, rxx2.X, rxy.P, keith.sense.current, do_plot = False)"
   ]
  },
  {
   "cell_type": "markdown",
   "metadata": {},
   "source": [
    "# Tried different sweep method\n"
   ]
  },
  {
   "cell_type": "markdown",
   "metadata": {},
   "source": [
    "## Scan 55 to 60 are tests not good scans"
   ]
  },
  {
   "cell_type": "code",
   "execution_count": 15,
   "metadata": {
    "ExecuteTime": {
     "end_time": "2021-10-16T19:43:57.800626Z",
     "start_time": "2021-10-16T19:43:57.790626Z"
    }
   },
   "outputs": [],
   "source": [
    "import time"
   ]
  },
  {
   "cell_type": "code",
   "execution_count": 115,
   "metadata": {
    "ExecuteTime": {
     "end_time": "2021-10-16T15:18:53.879181Z",
     "start_time": "2021-10-16T15:18:52.878163Z"
    }
   },
   "outputs": [],
   "source": [
    "time.sleep(1)"
   ]
  },
  {
   "cell_type": "markdown",
   "metadata": {},
   "source": [
    "  ## 0.25V"
   ]
  },
  {
   "cell_type": "code",
   "execution_count": 136,
   "metadata": {
    "ExecuteTime": {
     "end_time": "2021-10-16T16:56:05.847835Z",
     "start_time": "2021-10-16T15:46:08.025352Z"
    }
   },
   "outputs": [
    {
     "name": "stdout",
     "output_type": "stream",
     "text": [
      "Starting experimental run with id: 61. \n"
     ]
    }
   ],
   "source": [
    "rxx1.time_constant(1)\n",
    "rxx2.time_constant(1)\n",
    "rxx1.sensitivity(5e-3)\n",
    "rxx2.sensitivity(5e-3)\n",
    "\n",
    "\n",
    "exp = load_or_create_experiment('Bfield 0 tp 1.4T  T=13mK 20mT/min Vg=0.25 V Tc=1s', '75um HB')\n",
    "meas = Measurement()\n",
    "meas.register_parameter(mag120.current)\n",
    "meas.register_parameter(rxx1.X, setpoints=[mag120.current])\n",
    "meas.register_parameter(rxx2.X, setpoints=[mag120.current])\n",
    "meas.register_parameter(rxy.X, setpoints=[mag120.current])\n",
    "meas.register_parameter(rxy2.X, setpoints=[mag120.current])\n",
    "\n",
    "mag120.sweeprate_field(0.02)\n",
    "\n",
    "mag120.current_setpoint(18.7967)\n",
    "mag120.to_setpoint()\n",
    "current=0\n",
    "final_current=18.7967\n",
    "\n",
    "\n",
    "with meas.run() as ds:  \n",
    "    while current < final_current:\n",
    "        ds.add_result((mag120.current, mag120.current()),\n",
    "                         (rxx1.X, rxx1.X()),\n",
    "                         (rxx2.X,rxx2.X()),\n",
    "                         (rxy.X, rxy.X()),\n",
    "                         (rxy2.X,rxy2.X()))\n",
    "        current=mag120.current()\n",
    "    dataset1=ds.dataset"
   ]
  },
  {
   "cell_type": "code",
   "execution_count": 137,
   "metadata": {
    "ExecuteTime": {
     "end_time": "2021-10-16T16:56:47.387926Z",
     "start_time": "2021-10-16T16:56:05.857835Z"
    }
   },
   "outputs": [
    {
     "name": "stdout",
     "output_type": "stream",
     "text": [
      "Starting experimental run with id: 62. Using 'qcodes.utils.dataset.doNd.do1d'\n"
     ]
    },
    {
     "data": {
      "text/plain": [
       "(results #62@C:\\Users\\Sara\\DataBases\\M12-09-20.1SM1\\M12-09-20.1SM1.db\n",
       " --------------------------------------------------------------------\n",
       " keithley2_source_voltage - numeric\n",
       " Beast_X - numeric\n",
       " Dilbert_X - numeric\n",
       " Zoe_X - numeric\n",
       " Dilbert_P - numeric\n",
       " keithley2_sense_current - numeric,\n",
       " [None],\n",
       " [None])"
      ]
     },
     "execution_count": 137,
     "metadata": {},
     "output_type": "execute_result"
    }
   ],
   "source": [
    "do1d(keith.source.voltage, 0.25, 0.2, 50, 0.3, rxx1.X, rxy.X, rxx2.X, rxy.P, keith.sense.current, do_plot = False)"
   ]
  },
  {
   "cell_type": "code",
   "execution_count": 138,
   "metadata": {
    "ExecuteTime": {
     "end_time": "2021-10-16T18:06:45.698324Z",
     "start_time": "2021-10-16T16:56:47.387926Z"
    }
   },
   "outputs": [
    {
     "name": "stdout",
     "output_type": "stream",
     "text": [
      "Starting experimental run with id: 63. \n"
     ]
    }
   ],
   "source": [
    "exp = load_or_create_experiment('Bfield 0 tp 1.4T  T=13mK 20mT/min Vg=0.200 V Tc=1s', '75um HB')\n",
    "meas = Measurement()\n",
    "meas.register_parameter(mag120.current)\n",
    "meas.register_parameter(rxx1.X, setpoints=[mag120.current])\n",
    "meas.register_parameter(rxx2.X, setpoints=[mag120.current])\n",
    "meas.register_parameter(rxy.X, setpoints=[mag120.current])\n",
    "meas.register_parameter(rxy2.X, setpoints=[mag120.current])\n",
    "\n",
    "mag120.sweeprate_field(0.02)\n",
    "\n",
    "mag120.current_setpoint(0)\n",
    "mag120.to_setpoint()\n",
    "current=18.797\n",
    "final_current=0\n",
    "\n",
    "\n",
    "with meas.run() as ds:  \n",
    "    while current > final_current:\n",
    "        ds.add_result((mag120.current, mag120.current()),\n",
    "                         (rxx1.X, rxx1.X()),\n",
    "                         (rxx2.X,rxx2.X()),\n",
    "                         (rxy.X, rxy.X()),\n",
    "                         (rxy2.X,rxy2.X()))\n",
    "        current=mag120.current()\n",
    "    dataset1=ds.dataset"
   ]
  },
  {
   "cell_type": "markdown",
   "metadata": {},
   "source": [
    "# Tests to reduce noise at low B"
   ]
  },
  {
   "cell_type": "code",
   "execution_count": 140,
   "metadata": {
    "ExecuteTime": {
     "end_time": "2021-10-16T18:14:29.668134Z",
     "start_time": "2021-10-16T18:09:21.163463Z"
    }
   },
   "outputs": [
    {
     "name": "stdout",
     "output_type": "stream",
     "text": [
      "Starting experimental run with id: 65. \n"
     ]
    },
    {
     "name": "stderr",
     "output_type": "stream",
     "text": [
      "2021-10-16 14:14:29,585 ¦ qcodes.dataset.measurements ¦ WARNING ¦ measurements ¦ __exit__ ¦ 635 ¦ An exception occured in measurement with guid: aaaaaaaa-0000-0000-0000-017c8a4b45d3;\n",
      "Traceback:\n",
      "Traceback (most recent call last):\n",
      "  File \"<ipython-input-140-baf6ff345757>\", line 28, in <module>\n",
      "    time.sleep(1.2)\n",
      "KeyboardInterrupt\n",
      "\n"
     ]
    },
    {
     "ename": "KeyboardInterrupt",
     "evalue": "",
     "output_type": "error",
     "traceback": [
      "\u001b[1;31m---------------------------------------------------------------------------\u001b[0m",
      "\u001b[1;31mKeyboardInterrupt\u001b[0m                         Traceback (most recent call last)",
      "\u001b[1;32m<ipython-input-140-baf6ff345757>\u001b[0m in \u001b[0;36m<module>\u001b[1;34m\u001b[0m\n\u001b[0;32m     26\u001b[0m         \u001b[0mmag120\u001b[0m\u001b[1;33m.\u001b[0m\u001b[0mcurrent_setpoint\u001b[0m\u001b[1;33m(\u001b[0m\u001b[0mcurrent\u001b[0m\u001b[1;33m)\u001b[0m\u001b[1;33m\u001b[0m\u001b[1;33m\u001b[0m\u001b[0m\n\u001b[0;32m     27\u001b[0m         \u001b[0mmag120\u001b[0m\u001b[1;33m.\u001b[0m\u001b[0mto_setpoint\u001b[0m\u001b[1;33m(\u001b[0m\u001b[1;33m)\u001b[0m\u001b[1;33m\u001b[0m\u001b[1;33m\u001b[0m\u001b[0m\n\u001b[1;32m---> 28\u001b[1;33m         \u001b[0mtime\u001b[0m\u001b[1;33m.\u001b[0m\u001b[0msleep\u001b[0m\u001b[1;33m(\u001b[0m\u001b[1;36m1.2\u001b[0m\u001b[1;33m)\u001b[0m\u001b[1;33m\u001b[0m\u001b[1;33m\u001b[0m\u001b[0m\n\u001b[0m\u001b[0;32m     29\u001b[0m \u001b[1;33m\u001b[0m\u001b[0m\n\u001b[0;32m     30\u001b[0m     \u001b[0mdataset1\u001b[0m\u001b[1;33m=\u001b[0m\u001b[0mds\u001b[0m\u001b[1;33m.\u001b[0m\u001b[0mdataset\u001b[0m\u001b[1;33m\u001b[0m\u001b[1;33m\u001b[0m\u001b[0m\n",
      "\u001b[1;31mKeyboardInterrupt\u001b[0m: "
     ]
    }
   ],
   "source": [
    "rxx1.time_constant(0.3)\n",
    "rxx2.time_constant(0.3)\n",
    "rxx1.sensitivity(5e-3)\n",
    "rxx2.sensitivity(5e-3)\n",
    "\n",
    "exp = load_or_create_experiment('Test stepping Bfield 25mT/min 0.5mT steps  Vg=0.20V Tc=0.3s', '75um HB')\n",
    "meas = Measurement()\n",
    "meas.register_parameter(mag120.current)\n",
    "meas.register_parameter(rxx1.X, setpoints=[mag120.current])\n",
    "meas.register_parameter(rxx2.X, setpoints=[mag120.current])\n",
    "meas.register_parameter(rxy.X, setpoints=[mag120.current])\n",
    "\n",
    "mag120.sweeprate_field(0.025)\n",
    "\n",
    "current=0\n",
    "final_current=18.797\n",
    "current_now = mag120.current()\n",
    "\n",
    "with meas.run() as ds:  \n",
    "    while current < final_current:\n",
    "        ds.add_result((mag120.current, mag120.current()),\n",
    "                         (rxx1.X, rxx1.X()),\n",
    "                         (rxx2.X,rxx2.X()),\n",
    "                         (rxy.X, rxy.X()))\n",
    "        current=current+0.006713\n",
    "        mag120.current_setpoint(current)\n",
    "        mag120.to_setpoint()\n",
    "        time.sleep(1.2)\n",
    "        \n",
    "    dataset1=ds.dataset"
   ]
  },
  {
   "cell_type": "code",
   "execution_count": 142,
   "metadata": {
    "ExecuteTime": {
     "end_time": "2021-10-16T18:15:03.104153Z",
     "start_time": "2021-10-16T18:15:02.950147Z"
    }
   },
   "outputs": [],
   "source": [
    "mag120.sweeprate_field(0.075)\n",
    "mag120.current_setpoint(0)\n",
    "mag120.to_setpoint()"
   ]
  },
  {
   "cell_type": "code",
   "execution_count": 143,
   "metadata": {
    "ExecuteTime": {
     "end_time": "2021-10-16T18:21:16.674637Z",
     "start_time": "2021-10-16T18:16:44.347432Z"
    }
   },
   "outputs": [
    {
     "name": "stdout",
     "output_type": "stream",
     "text": [
      "Starting experimental run with id: 66. \n"
     ]
    }
   ],
   "source": [
    "rxx1.time_constant(1)\n",
    "rxx2.time_constant(1)\n",
    "rxx1.sensitivity(5e-3)\n",
    "rxx2.sensitivity(5e-3)\n",
    "\n",
    "exp = load_or_create_experiment('Test stepping Bfield 25mT/min 0.5mT steps  Vg=0.20V Tc=1s', '75um HB')\n",
    "meas = Measurement()\n",
    "meas.register_parameter(mag120.current)\n",
    "meas.register_parameter(rxx1.X, setpoints=[mag120.current])\n",
    "meas.register_parameter(rxx2.X, setpoints=[mag120.current])\n",
    "meas.register_parameter(rxy.X, setpoints=[mag120.current])\n",
    "\n",
    "mag120.sweeprate_field(0.025)\n",
    "\n",
    "current=0\n",
    "final_current=1.342625\n",
    "current_now = mag120.current()\n",
    "\n",
    "with meas.run() as ds:  \n",
    "    while current < final_current:\n",
    "        ds.add_result((mag120.current, mag120.current()),\n",
    "                         (rxx1.X, rxx1.X()),\n",
    "                         (rxx2.X,rxx2.X()),\n",
    "                         (rxy.X, rxy.X()))\n",
    "        current=current+0.006713\n",
    "        mag120.current_setpoint(current)\n",
    "        mag120.to_setpoint()\n",
    "        time.sleep(1.2)\n",
    "        \n",
    "    dataset1=ds.dataset"
   ]
  },
  {
   "cell_type": "code",
   "execution_count": 144,
   "metadata": {
    "ExecuteTime": {
     "end_time": "2021-10-16T18:26:01.938303Z",
     "start_time": "2021-10-16T18:21:29.439913Z"
    }
   },
   "outputs": [
    {
     "name": "stdout",
     "output_type": "stream",
     "text": [
      "Starting experimental run with id: 67. \n"
     ]
    }
   ],
   "source": [
    "rxx1.time_constant(1)\n",
    "rxx2.time_constant(1)\n",
    "rxx1.sensitivity(5e-3)\n",
    "rxx2.sensitivity(5e-3)\n",
    "\n",
    "exp = load_or_create_experiment('Test stepping Bfield 20mT/min 0.5mT steps  Vg=0.20V Tc=1s', '75um HB')\n",
    "meas = Measurement()\n",
    "meas.register_parameter(mag120.current)\n",
    "meas.register_parameter(rxx1.X, setpoints=[mag120.current])\n",
    "meas.register_parameter(rxx2.X, setpoints=[mag120.current])\n",
    "meas.register_parameter(rxy.X, setpoints=[mag120.current])\n",
    "\n",
    "mag120.sweeprate_field(0.02)\n",
    "\n",
    "current=1.342625\n",
    "final_current=0\n",
    "current_now = mag120.current()\n",
    "\n",
    "with meas.run() as ds:  \n",
    "    while current > final_current:\n",
    "        ds.add_result((mag120.current, mag120.current()),\n",
    "                         (rxx1.X, rxx1.X()),\n",
    "                         (rxx2.X,rxx2.X()),\n",
    "                         (rxy.X, rxy.X()))\n",
    "        current=current-0.006713\n",
    "        mag120.current_setpoint(current)\n",
    "        mag120.to_setpoint()\n",
    "        time.sleep(1.2)\n",
    "        \n",
    "    dataset1=ds.dataset"
   ]
  },
  {
   "cell_type": "code",
   "execution_count": 145,
   "metadata": {
    "ExecuteTime": {
     "end_time": "2021-10-16T18:58:48.465496Z",
     "start_time": "2021-10-16T18:36:37.664941Z"
    }
   },
   "outputs": [
    {
     "name": "stdout",
     "output_type": "stream",
     "text": [
      "Starting experimental run with id: 68. \n"
     ]
    },
    {
     "name": "stderr",
     "output_type": "stream",
     "text": [
      "2021-10-16 14:58:48,414 ¦ qcodes.dataset.measurements ¦ WARNING ¦ measurements ¦ __exit__ ¦ 635 ¦ An exception occured in measurement with guid: aaaaaaaa-0000-0000-0000-017c8a643e2d;\n",
      "Traceback:\n",
      "Traceback (most recent call last):\n",
      "  File \"<ipython-input-145-34e54c9e13a6>\", line 28, in <module>\n",
      "    time.sleep(1.2)\n",
      "KeyboardInterrupt\n",
      "\n"
     ]
    },
    {
     "ename": "KeyboardInterrupt",
     "evalue": "",
     "output_type": "error",
     "traceback": [
      "\u001b[1;31m---------------------------------------------------------------------------\u001b[0m",
      "\u001b[1;31mKeyboardInterrupt\u001b[0m                         Traceback (most recent call last)",
      "\u001b[1;32m<ipython-input-145-34e54c9e13a6>\u001b[0m in \u001b[0;36m<module>\u001b[1;34m\u001b[0m\n\u001b[0;32m     26\u001b[0m         \u001b[0mmag120\u001b[0m\u001b[1;33m.\u001b[0m\u001b[0mcurrent_setpoint\u001b[0m\u001b[1;33m(\u001b[0m\u001b[0mcurrent\u001b[0m\u001b[1;33m)\u001b[0m\u001b[1;33m\u001b[0m\u001b[1;33m\u001b[0m\u001b[0m\n\u001b[0;32m     27\u001b[0m         \u001b[0mmag120\u001b[0m\u001b[1;33m.\u001b[0m\u001b[0mto_setpoint\u001b[0m\u001b[1;33m(\u001b[0m\u001b[1;33m)\u001b[0m\u001b[1;33m\u001b[0m\u001b[1;33m\u001b[0m\u001b[0m\n\u001b[1;32m---> 28\u001b[1;33m         \u001b[0mtime\u001b[0m\u001b[1;33m.\u001b[0m\u001b[0msleep\u001b[0m\u001b[1;33m(\u001b[0m\u001b[1;36m1.2\u001b[0m\u001b[1;33m)\u001b[0m\u001b[1;33m\u001b[0m\u001b[1;33m\u001b[0m\u001b[0m\n\u001b[0m\u001b[0;32m     29\u001b[0m \u001b[1;33m\u001b[0m\u001b[0m\n\u001b[0;32m     30\u001b[0m     \u001b[0mdataset1\u001b[0m\u001b[1;33m=\u001b[0m\u001b[0mds\u001b[0m\u001b[1;33m.\u001b[0m\u001b[0mdataset\u001b[0m\u001b[1;33m\u001b[0m\u001b[1;33m\u001b[0m\u001b[0m\n",
      "\u001b[1;31mKeyboardInterrupt\u001b[0m: "
     ]
    }
   ],
   "source": [
    "rxx1.time_constant(1)\n",
    "rxx2.time_constant(1)\n",
    "rxx1.sensitivity(5e-3)\n",
    "rxx2.sensitivity(5e-3)\n",
    "\n",
    "exp = load_or_create_experiment('Test stepping Bfield 20mT/min 0.5mT steps  Vg=0.20V Tc=1s', '75um HB')\n",
    "meas = Measurement()\n",
    "meas.register_parameter(mag120.current)\n",
    "meas.register_parameter(rxx1.X, setpoints=[mag120.current])\n",
    "meas.register_parameter(rxx2.X, setpoints=[mag120.current])\n",
    "meas.register_parameter(rxy.X, setpoints=[mag120.current])\n",
    "\n",
    "mag120.sweeprate_field(0.02)\n",
    "\n",
    "current=0\n",
    "final_current=15\n",
    "current_now = mag120.current()\n",
    "\n",
    "with meas.run() as ds:  \n",
    "    while current < final_current:\n",
    "        ds.add_result((mag120.current, mag120.current()),\n",
    "                         (rxx1.X, rxx1.X()),\n",
    "                         (rxx2.X,rxx2.X()),\n",
    "                         (rxy.X, rxy.X()))\n",
    "        current=current+0.006713\n",
    "        mag120.current_setpoint(current)\n",
    "        mag120.to_setpoint()\n",
    "        time.sleep(1.2)\n",
    "        \n",
    "    dataset1=ds.dataset"
   ]
  },
  {
   "cell_type": "code",
   "execution_count": 146,
   "metadata": {
    "ExecuteTime": {
     "end_time": "2021-10-16T18:58:57.020813Z",
     "start_time": "2021-10-16T18:58:56.871805Z"
    }
   },
   "outputs": [],
   "source": [
    "mag120.sweeprate_field(0.075)\n",
    "mag120.current_setpoint(0)\n",
    "mag120.to_setpoint()"
   ]
  },
  {
   "cell_type": "code",
   "execution_count": 147,
   "metadata": {
    "ExecuteTime": {
     "end_time": "2021-10-16T19:06:44.827862Z",
     "start_time": "2021-10-16T19:03:17.626611Z"
    }
   },
   "outputs": [
    {
     "name": "stdout",
     "output_type": "stream",
     "text": [
      "Starting experimental run with id: 69. Using 'qcodes.utils.dataset.doNd.do1d'\n"
     ]
    },
    {
     "data": {
      "text/plain": [
       "(results #69@C:\\Users\\Sara\\DataBases\\M12-09-20.1SM1\\M12-09-20.1SM1.db\n",
       " --------------------------------------------------------------------\n",
       " keithley2_source_voltage - numeric\n",
       " Beast_X - numeric\n",
       " Dilbert_X - numeric\n",
       " Zoe_X - numeric\n",
       " Dilbert_P - numeric\n",
       " keithley2_sense_current - numeric,\n",
       " [None],\n",
       " [None])"
      ]
     },
     "execution_count": 147,
     "metadata": {},
     "output_type": "execute_result"
    }
   ],
   "source": [
    "do1d(keith.source.voltage, 0.25, 0, 250, 0.3, rxx1.X, rxy.X, rxx2.X, rxy.P, keith.sense.current, do_plot = False)"
   ]
  },
  {
   "cell_type": "code",
   "execution_count": 164,
   "metadata": {
    "ExecuteTime": {
     "end_time": "2021-10-16T19:32:03.980917Z",
     "start_time": "2021-10-16T19:32:03.826910Z"
    }
   },
   "outputs": [],
   "source": [
    "mag120.sweeprate_field(0.075)\n",
    "mag120.current_setpoint(1.342625)\n",
    "mag120.to_setpoint()"
   ]
  },
  {
   "cell_type": "code",
   "execution_count": 17,
   "metadata": {
    "ExecuteTime": {
     "end_time": "2021-10-16T20:01:38.303613Z",
     "start_time": "2021-10-16T19:48:09.978549Z"
    }
   },
   "outputs": [
    {
     "name": "stdout",
     "output_type": "stream",
     "text": [
      "Starting experimental run with id: 78. Using 'qcodes.utils.dataset.doNd.do1d'\n",
      "Starting experimental run with id: 79. Using 'qcodes.utils.dataset.doNd.do1d'\n"
     ]
    },
    {
     "name": "stderr",
     "output_type": "stream",
     "text": [
      "2021-10-16 16:01:38,190 ¦ qcodes.dataset.sqlite.connection ¦ ERROR ¦ connection ¦ atomic ¦ 106 ¦ Rolling back due to unhandled exception\n",
      "Traceback (most recent call last):\n",
      "  File \"C:\\Users\\Admin\\.conda\\envs\\Sara\\lib\\site-packages\\qcodes\\dataset\\sqlite\\connection.py\", line 103, in atomic\n",
      "    yield conn\n",
      "  File \"C:\\Users\\Admin\\.conda\\envs\\Sara\\lib\\site-packages\\qcodes\\dataset\\sqlite\\queries.py\", line 1445, in set_run_timestamp\n",
      "    c.execute(cmd, (timestamp, run_id))\n",
      "sqlite3.OperationalError: database is locked\n"
     ]
    },
    {
     "ename": "RuntimeError",
     "evalue": "Rolling back due to unhandled exception",
     "output_type": "error",
     "traceback": [
      "\u001b[1;31m---------------------------------------------------------------------------\u001b[0m",
      "\u001b[1;31mOperationalError\u001b[0m                          Traceback (most recent call last)",
      "\u001b[1;32m~\\.conda\\envs\\Sara\\lib\\site-packages\\qcodes\\dataset\\sqlite\\connection.py\u001b[0m in \u001b[0;36matomic\u001b[1;34m(conn)\u001b[0m\n\u001b[0;32m    102\u001b[0m                 \u001b[0mconn\u001b[0m\u001b[1;33m.\u001b[0m\u001b[0mcursor\u001b[0m\u001b[1;33m(\u001b[0m\u001b[1;33m)\u001b[0m\u001b[1;33m.\u001b[0m\u001b[0mexecute\u001b[0m\u001b[1;33m(\u001b[0m\u001b[1;34m'BEGIN'\u001b[0m\u001b[1;33m)\u001b[0m\u001b[1;33m\u001b[0m\u001b[1;33m\u001b[0m\u001b[0m\n\u001b[1;32m--> 103\u001b[1;33m             \u001b[1;32myield\u001b[0m \u001b[0mconn\u001b[0m\u001b[1;33m\u001b[0m\u001b[1;33m\u001b[0m\u001b[0m\n\u001b[0m\u001b[0;32m    104\u001b[0m         \u001b[1;32mexcept\u001b[0m \u001b[0mException\u001b[0m \u001b[1;32mas\u001b[0m \u001b[0me\u001b[0m\u001b[1;33m:\u001b[0m\u001b[1;33m\u001b[0m\u001b[1;33m\u001b[0m\u001b[0m\n",
      "\u001b[1;32m~\\.conda\\envs\\Sara\\lib\\site-packages\\qcodes\\dataset\\sqlite\\queries.py\u001b[0m in \u001b[0;36mset_run_timestamp\u001b[1;34m(conn, run_id, timestamp)\u001b[0m\n\u001b[0;32m   1444\u001b[0m                 \u001b[0mtimestamp\u001b[0m \u001b[1;33m=\u001b[0m \u001b[0mtime\u001b[0m\u001b[1;33m.\u001b[0m\u001b[0mtime\u001b[0m\u001b[1;33m(\u001b[0m\u001b[1;33m)\u001b[0m\u001b[1;33m\u001b[0m\u001b[1;33m\u001b[0m\u001b[0m\n\u001b[1;32m-> 1445\u001b[1;33m             \u001b[0mc\u001b[0m\u001b[1;33m.\u001b[0m\u001b[0mexecute\u001b[0m\u001b[1;33m(\u001b[0m\u001b[0mcmd\u001b[0m\u001b[1;33m,\u001b[0m \u001b[1;33m(\u001b[0m\u001b[0mtimestamp\u001b[0m\u001b[1;33m,\u001b[0m \u001b[0mrun_id\u001b[0m\u001b[1;33m)\u001b[0m\u001b[1;33m)\u001b[0m\u001b[1;33m\u001b[0m\u001b[1;33m\u001b[0m\u001b[0m\n\u001b[0m\u001b[0;32m   1446\u001b[0m             \u001b[0mlog\u001b[0m\u001b[1;33m.\u001b[0m\u001b[0minfo\u001b[0m\u001b[1;33m(\u001b[0m\u001b[1;34mf\"Set the run_timestamp of run_id {run_id} to \"\u001b[0m \u001b[1;34mf\"{timestamp}\"\u001b[0m\u001b[1;33m)\u001b[0m\u001b[1;33m\u001b[0m\u001b[1;33m\u001b[0m\u001b[0m\n",
      "\u001b[1;31mOperationalError\u001b[0m: database is locked",
      "\nThe above exception was the direct cause of the following exception:\n",
      "\u001b[1;31mRuntimeError\u001b[0m                              Traceback (most recent call last)",
      "\u001b[1;32m<ipython-input-17-3536c38f8600>\u001b[0m in \u001b[0;36m<module>\u001b[1;34m\u001b[0m\n\u001b[0;32m      2\u001b[0m \u001b[0mdo1d\u001b[0m\u001b[1;33m(\u001b[0m\u001b[0mkeith\u001b[0m\u001b[1;33m.\u001b[0m\u001b[0msource\u001b[0m\u001b[1;33m.\u001b[0m\u001b[0mvoltage\u001b[0m\u001b[1;33m,\u001b[0m \u001b[1;36m0\u001b[0m\u001b[1;33m,\u001b[0m \u001b[1;36m0.55\u001b[0m\u001b[1;33m,\u001b[0m \u001b[1;36m550\u001b[0m\u001b[1;33m,\u001b[0m \u001b[1;36m0.3\u001b[0m\u001b[1;33m,\u001b[0m \u001b[0mrxx1\u001b[0m\u001b[1;33m.\u001b[0m\u001b[0mX\u001b[0m\u001b[1;33m,\u001b[0m \u001b[0mrxy\u001b[0m\u001b[1;33m.\u001b[0m\u001b[0mX\u001b[0m\u001b[1;33m,\u001b[0m \u001b[0mrxx2\u001b[0m\u001b[1;33m.\u001b[0m\u001b[0mX\u001b[0m\u001b[1;33m,\u001b[0m \u001b[0mrxy\u001b[0m\u001b[1;33m.\u001b[0m\u001b[0mP\u001b[0m\u001b[1;33m,\u001b[0m \u001b[0mkeith\u001b[0m\u001b[1;33m.\u001b[0m\u001b[0msense\u001b[0m\u001b[1;33m.\u001b[0m\u001b[0mcurrent\u001b[0m\u001b[1;33m,\u001b[0m \u001b[0mdo_plot\u001b[0m \u001b[1;33m=\u001b[0m \u001b[1;32mFalse\u001b[0m\u001b[1;33m)\u001b[0m\u001b[1;33m\u001b[0m\u001b[1;33m\u001b[0m\u001b[0m\n\u001b[0;32m      3\u001b[0m \u001b[0mdo1d\u001b[0m\u001b[1;33m(\u001b[0m\u001b[0mkeith\u001b[0m\u001b[1;33m.\u001b[0m\u001b[0msource\u001b[0m\u001b[1;33m.\u001b[0m\u001b[0mvoltage\u001b[0m\u001b[1;33m,\u001b[0m \u001b[1;36m0.55\u001b[0m\u001b[1;33m,\u001b[0m \u001b[1;36m0\u001b[0m\u001b[1;33m,\u001b[0m \u001b[1;36m550\u001b[0m\u001b[1;33m,\u001b[0m \u001b[1;36m0.3\u001b[0m\u001b[1;33m,\u001b[0m \u001b[0mrxx1\u001b[0m\u001b[1;33m.\u001b[0m\u001b[0mX\u001b[0m\u001b[1;33m,\u001b[0m \u001b[0mrxy\u001b[0m\u001b[1;33m.\u001b[0m\u001b[0mX\u001b[0m\u001b[1;33m,\u001b[0m \u001b[0mrxx2\u001b[0m\u001b[1;33m.\u001b[0m\u001b[0mX\u001b[0m\u001b[1;33m,\u001b[0m \u001b[0mrxy\u001b[0m\u001b[1;33m.\u001b[0m\u001b[0mP\u001b[0m\u001b[1;33m,\u001b[0m \u001b[0mkeith\u001b[0m\u001b[1;33m.\u001b[0m\u001b[0msense\u001b[0m\u001b[1;33m.\u001b[0m\u001b[0mcurrent\u001b[0m\u001b[1;33m,\u001b[0m \u001b[0mdo_plot\u001b[0m \u001b[1;33m=\u001b[0m \u001b[1;32mFalse\u001b[0m\u001b[1;33m)\u001b[0m\u001b[1;33m\u001b[0m\u001b[1;33m\u001b[0m\u001b[0m\n\u001b[1;32m----> 4\u001b[1;33m \u001b[0mdo1d\u001b[0m\u001b[1;33m(\u001b[0m\u001b[0mkeith\u001b[0m\u001b[1;33m.\u001b[0m\u001b[0msource\u001b[0m\u001b[1;33m.\u001b[0m\u001b[0mvoltage\u001b[0m\u001b[1;33m,\u001b[0m \u001b[1;36m0\u001b[0m\u001b[1;33m,\u001b[0m \u001b[1;36m0.55\u001b[0m\u001b[1;33m,\u001b[0m \u001b[1;36m550\u001b[0m\u001b[1;33m,\u001b[0m \u001b[1;36m0.3\u001b[0m\u001b[1;33m,\u001b[0m \u001b[0mrxx1\u001b[0m\u001b[1;33m.\u001b[0m\u001b[0mX\u001b[0m\u001b[1;33m,\u001b[0m \u001b[0mrxy\u001b[0m\u001b[1;33m.\u001b[0m\u001b[0mX\u001b[0m\u001b[1;33m,\u001b[0m \u001b[0mrxx2\u001b[0m\u001b[1;33m.\u001b[0m\u001b[0mX\u001b[0m\u001b[1;33m,\u001b[0m \u001b[0mrxy\u001b[0m\u001b[1;33m.\u001b[0m\u001b[0mP\u001b[0m\u001b[1;33m,\u001b[0m \u001b[0mkeith\u001b[0m\u001b[1;33m.\u001b[0m\u001b[0msense\u001b[0m\u001b[1;33m.\u001b[0m\u001b[0mcurrent\u001b[0m\u001b[1;33m,\u001b[0m \u001b[0mdo_plot\u001b[0m \u001b[1;33m=\u001b[0m \u001b[1;32mFalse\u001b[0m\u001b[1;33m)\u001b[0m\u001b[1;33m\u001b[0m\u001b[1;33m\u001b[0m\u001b[0m\n\u001b[0m\u001b[0;32m      5\u001b[0m \u001b[0mdo1d\u001b[0m\u001b[1;33m(\u001b[0m\u001b[0mkeith\u001b[0m\u001b[1;33m.\u001b[0m\u001b[0msource\u001b[0m\u001b[1;33m.\u001b[0m\u001b[0mvoltage\u001b[0m\u001b[1;33m,\u001b[0m \u001b[1;36m0.55\u001b[0m\u001b[1;33m,\u001b[0m \u001b[1;36m0\u001b[0m\u001b[1;33m,\u001b[0m \u001b[1;36m550\u001b[0m\u001b[1;33m,\u001b[0m \u001b[1;36m0.3\u001b[0m\u001b[1;33m,\u001b[0m \u001b[0mrxx1\u001b[0m\u001b[1;33m.\u001b[0m\u001b[0mX\u001b[0m\u001b[1;33m,\u001b[0m \u001b[0mrxy\u001b[0m\u001b[1;33m.\u001b[0m\u001b[0mX\u001b[0m\u001b[1;33m,\u001b[0m \u001b[0mrxx2\u001b[0m\u001b[1;33m.\u001b[0m\u001b[0mX\u001b[0m\u001b[1;33m,\u001b[0m \u001b[0mrxy\u001b[0m\u001b[1;33m.\u001b[0m\u001b[0mP\u001b[0m\u001b[1;33m,\u001b[0m \u001b[0mkeith\u001b[0m\u001b[1;33m.\u001b[0m\u001b[0msense\u001b[0m\u001b[1;33m.\u001b[0m\u001b[0mcurrent\u001b[0m\u001b[1;33m,\u001b[0m \u001b[0mdo_plot\u001b[0m \u001b[1;33m=\u001b[0m \u001b[1;32mFalse\u001b[0m\u001b[1;33m)\u001b[0m\u001b[1;33m\u001b[0m\u001b[1;33m\u001b[0m\u001b[0m\n",
      "\u001b[1;32m~\\.conda\\envs\\Sara\\lib\\site-packages\\qcodes\\utils\\dataset\\doNd.py\u001b[0m in \u001b[0;36mdo1d\u001b[1;34m(param_set, start, stop, num_points, delay, enter_actions, exit_actions, write_period, measurement_name, exp, do_plot, use_threads, additional_setpoints, show_progress, log_info, *param_meas)\u001b[0m\n\u001b[0;32m    258\u001b[0m     \u001b[1;31m# and set parameters. For anything more complicated this should be\u001b[0m\u001b[1;33m\u001b[0m\u001b[1;33m\u001b[0m\u001b[1;33m\u001b[0m\u001b[0m\n\u001b[0;32m    259\u001b[0m     \u001b[1;31m# reimplemented from scratch\u001b[0m\u001b[1;33m\u001b[0m\u001b[1;33m\u001b[0m\u001b[1;33m\u001b[0m\u001b[0m\n\u001b[1;32m--> 260\u001b[1;33m     \u001b[1;32mwith\u001b[0m \u001b[0m_catch_keyboard_interrupts\u001b[0m\u001b[1;33m(\u001b[0m\u001b[1;33m)\u001b[0m \u001b[1;32mas\u001b[0m \u001b[0minterrupted\u001b[0m\u001b[1;33m,\u001b[0m \u001b[0mmeas\u001b[0m\u001b[1;33m.\u001b[0m\u001b[0mrun\u001b[0m\u001b[1;33m(\u001b[0m\u001b[1;33m)\u001b[0m \u001b[1;32mas\u001b[0m \u001b[0mdatasaver\u001b[0m\u001b[1;33m:\u001b[0m\u001b[1;33m\u001b[0m\u001b[1;33m\u001b[0m\u001b[0m\n\u001b[0m\u001b[0;32m    261\u001b[0m         \u001b[0mdataset\u001b[0m \u001b[1;33m=\u001b[0m \u001b[0mdatasaver\u001b[0m\u001b[1;33m.\u001b[0m\u001b[0mdataset\u001b[0m\u001b[1;33m\u001b[0m\u001b[1;33m\u001b[0m\u001b[0m\n\u001b[0;32m    262\u001b[0m         \u001b[0madditional_setpoints_data\u001b[0m \u001b[1;33m=\u001b[0m \u001b[0mprocess_params_meas\u001b[0m\u001b[1;33m(\u001b[0m\u001b[0madditional_setpoints\u001b[0m\u001b[1;33m)\u001b[0m\u001b[1;33m\u001b[0m\u001b[1;33m\u001b[0m\u001b[0m\n",
      "\u001b[1;32m~\\.conda\\envs\\Sara\\lib\\site-packages\\qcodes\\dataset\\measurements.py\u001b[0m in \u001b[0;36m__enter__\u001b[1;34m(self)\u001b[0m\n\u001b[0;32m    575\u001b[0m             \u001b[0msnapshot\u001b[0m \u001b[1;33m=\u001b[0m \u001b[1;33m{\u001b[0m\u001b[1;33m}\u001b[0m\u001b[1;33m\u001b[0m\u001b[1;33m\u001b[0m\u001b[0m\n\u001b[0;32m    576\u001b[0m \u001b[1;33m\u001b[0m\u001b[0m\n\u001b[1;32m--> 577\u001b[1;33m         self.ds.prepare(\n\u001b[0m\u001b[0;32m    578\u001b[0m             \u001b[0msnapshot\u001b[0m\u001b[1;33m=\u001b[0m\u001b[0msnapshot\u001b[0m\u001b[1;33m,\u001b[0m\u001b[1;33m\u001b[0m\u001b[1;33m\u001b[0m\u001b[0m\n\u001b[0;32m    579\u001b[0m             \u001b[0minterdeps\u001b[0m\u001b[1;33m=\u001b[0m\u001b[0mself\u001b[0m\u001b[1;33m.\u001b[0m\u001b[0m_interdependencies\u001b[0m\u001b[1;33m,\u001b[0m\u001b[1;33m\u001b[0m\u001b[1;33m\u001b[0m\u001b[0m\n",
      "\u001b[1;32m~\\.conda\\envs\\Sara\\lib\\site-packages\\qcodes\\dataset\\data_set.py\u001b[0m in \u001b[0;36mprepare\u001b[1;34m(self, snapshot, interdeps, shapes, parent_datasets, write_in_background)\u001b[0m\n\u001b[0;32m    347\u001b[0m         \u001b[0mlinks\u001b[0m \u001b[1;33m=\u001b[0m \u001b[1;33m[\u001b[0m\u001b[0mLink\u001b[0m\u001b[1;33m(\u001b[0m\u001b[0mhead\u001b[0m\u001b[1;33m=\u001b[0m\u001b[0mself\u001b[0m\u001b[1;33m.\u001b[0m\u001b[0mguid\u001b[0m\u001b[1;33m,\u001b[0m \u001b[1;33m**\u001b[0m\u001b[0mpdict\u001b[0m\u001b[1;33m)\u001b[0m \u001b[1;32mfor\u001b[0m \u001b[0mpdict\u001b[0m \u001b[1;32min\u001b[0m \u001b[0mparent_datasets\u001b[0m\u001b[1;33m]\u001b[0m\u001b[1;33m\u001b[0m\u001b[1;33m\u001b[0m\u001b[0m\n\u001b[0;32m    348\u001b[0m         \u001b[0mself\u001b[0m\u001b[1;33m.\u001b[0m\u001b[0mparent_dataset_links\u001b[0m \u001b[1;33m=\u001b[0m \u001b[0mlinks\u001b[0m\u001b[1;33m\u001b[0m\u001b[1;33m\u001b[0m\u001b[0m\n\u001b[1;32m--> 349\u001b[1;33m         \u001b[0mself\u001b[0m\u001b[1;33m.\u001b[0m\u001b[0mmark_started\u001b[0m\u001b[1;33m(\u001b[0m\u001b[0mstart_bg_writer\u001b[0m\u001b[1;33m=\u001b[0m\u001b[0mwrite_in_background\u001b[0m\u001b[1;33m)\u001b[0m\u001b[1;33m\u001b[0m\u001b[1;33m\u001b[0m\u001b[0m\n\u001b[0m\u001b[0;32m    350\u001b[0m \u001b[1;33m\u001b[0m\u001b[0m\n\u001b[0;32m    351\u001b[0m     \u001b[1;33m@\u001b[0m\u001b[0mproperty\u001b[0m\u001b[1;33m\u001b[0m\u001b[1;33m\u001b[0m\u001b[0m\n",
      "\u001b[1;32m~\\.conda\\envs\\Sara\\lib\\site-packages\\qcodes\\dataset\\data_set.py\u001b[0m in \u001b[0;36mmark_started\u001b[1;34m(self, start_bg_writer)\u001b[0m\n\u001b[0;32m    702\u001b[0m         \"\"\"\n\u001b[0;32m    703\u001b[0m         \u001b[1;32mif\u001b[0m \u001b[1;32mnot\u001b[0m \u001b[0mself\u001b[0m\u001b[1;33m.\u001b[0m\u001b[0m_started\u001b[0m\u001b[1;33m:\u001b[0m\u001b[1;33m\u001b[0m\u001b[1;33m\u001b[0m\u001b[0m\n\u001b[1;32m--> 704\u001b[1;33m             \u001b[0mself\u001b[0m\u001b[1;33m.\u001b[0m\u001b[0m_perform_start_actions\u001b[0m\u001b[1;33m(\u001b[0m\u001b[0mstart_bg_writer\u001b[0m\u001b[1;33m=\u001b[0m\u001b[0mstart_bg_writer\u001b[0m\u001b[1;33m)\u001b[0m\u001b[1;33m\u001b[0m\u001b[1;33m\u001b[0m\u001b[0m\n\u001b[0m\u001b[0;32m    705\u001b[0m             \u001b[0mself\u001b[0m\u001b[1;33m.\u001b[0m\u001b[0m_started\u001b[0m \u001b[1;33m=\u001b[0m \u001b[1;32mTrue\u001b[0m\u001b[1;33m\u001b[0m\u001b[1;33m\u001b[0m\u001b[0m\n\u001b[0;32m    706\u001b[0m \u001b[1;33m\u001b[0m\u001b[0m\n",
      "\u001b[1;32m~\\.conda\\envs\\Sara\\lib\\site-packages\\qcodes\\dataset\\data_set.py\u001b[0m in \u001b[0;36m_perform_start_actions\u001b[1;34m(self, start_bg_writer)\u001b[0m\n\u001b[0;32m    718\u001b[0m         \u001b[0mupdate_run_description\u001b[0m\u001b[1;33m(\u001b[0m\u001b[0mself\u001b[0m\u001b[1;33m.\u001b[0m\u001b[0mconn\u001b[0m\u001b[1;33m,\u001b[0m \u001b[0mself\u001b[0m\u001b[1;33m.\u001b[0m\u001b[0mrun_id\u001b[0m\u001b[1;33m,\u001b[0m \u001b[0mdesc_str\u001b[0m\u001b[1;33m)\u001b[0m\u001b[1;33m\u001b[0m\u001b[1;33m\u001b[0m\u001b[0m\n\u001b[0;32m    719\u001b[0m \u001b[1;33m\u001b[0m\u001b[0m\n\u001b[1;32m--> 720\u001b[1;33m         \u001b[0mset_run_timestamp\u001b[0m\u001b[1;33m(\u001b[0m\u001b[0mself\u001b[0m\u001b[1;33m.\u001b[0m\u001b[0mconn\u001b[0m\u001b[1;33m,\u001b[0m \u001b[0mself\u001b[0m\u001b[1;33m.\u001b[0m\u001b[0mrun_id\u001b[0m\u001b[1;33m)\u001b[0m\u001b[1;33m\u001b[0m\u001b[1;33m\u001b[0m\u001b[0m\n\u001b[0m\u001b[0;32m    721\u001b[0m \u001b[1;33m\u001b[0m\u001b[0m\n\u001b[0;32m    722\u001b[0m         \u001b[0mpdl_str\u001b[0m \u001b[1;33m=\u001b[0m \u001b[0mlinks_to_str\u001b[0m\u001b[1;33m(\u001b[0m\u001b[0mself\u001b[0m\u001b[1;33m.\u001b[0m\u001b[0m_parent_dataset_links\u001b[0m\u001b[1;33m)\u001b[0m\u001b[1;33m\u001b[0m\u001b[1;33m\u001b[0m\u001b[0m\n",
      "\u001b[1;32m~\\.conda\\envs\\Sara\\lib\\site-packages\\qcodes\\dataset\\sqlite\\queries.py\u001b[0m in \u001b[0;36mset_run_timestamp\u001b[1;34m(conn, run_id, timestamp)\u001b[0m\n\u001b[0;32m   1444\u001b[0m                 \u001b[0mtimestamp\u001b[0m \u001b[1;33m=\u001b[0m \u001b[0mtime\u001b[0m\u001b[1;33m.\u001b[0m\u001b[0mtime\u001b[0m\u001b[1;33m(\u001b[0m\u001b[1;33m)\u001b[0m\u001b[1;33m\u001b[0m\u001b[1;33m\u001b[0m\u001b[0m\n\u001b[0;32m   1445\u001b[0m             \u001b[0mc\u001b[0m\u001b[1;33m.\u001b[0m\u001b[0mexecute\u001b[0m\u001b[1;33m(\u001b[0m\u001b[0mcmd\u001b[0m\u001b[1;33m,\u001b[0m \u001b[1;33m(\u001b[0m\u001b[0mtimestamp\u001b[0m\u001b[1;33m,\u001b[0m \u001b[0mrun_id\u001b[0m\u001b[1;33m)\u001b[0m\u001b[1;33m)\u001b[0m\u001b[1;33m\u001b[0m\u001b[1;33m\u001b[0m\u001b[0m\n\u001b[1;32m-> 1446\u001b[1;33m             \u001b[0mlog\u001b[0m\u001b[1;33m.\u001b[0m\u001b[0minfo\u001b[0m\u001b[1;33m(\u001b[0m\u001b[1;34mf\"Set the run_timestamp of run_id {run_id} to \"\u001b[0m \u001b[1;34mf\"{timestamp}\"\u001b[0m\u001b[1;33m)\u001b[0m\u001b[1;33m\u001b[0m\u001b[1;33m\u001b[0m\u001b[0m\n\u001b[0m\u001b[0;32m   1447\u001b[0m \u001b[1;33m\u001b[0m\u001b[0m\n\u001b[0;32m   1448\u001b[0m \u001b[1;33m\u001b[0m\u001b[0m\n",
      "\u001b[1;32m~\\.conda\\envs\\Sara\\lib\\contextlib.py\u001b[0m in \u001b[0;36m__exit__\u001b[1;34m(self, type, value, traceback)\u001b[0m\n\u001b[0;32m    129\u001b[0m                 \u001b[0mvalue\u001b[0m \u001b[1;33m=\u001b[0m \u001b[0mtype\u001b[0m\u001b[1;33m(\u001b[0m\u001b[1;33m)\u001b[0m\u001b[1;33m\u001b[0m\u001b[1;33m\u001b[0m\u001b[0m\n\u001b[0;32m    130\u001b[0m             \u001b[1;32mtry\u001b[0m\u001b[1;33m:\u001b[0m\u001b[1;33m\u001b[0m\u001b[1;33m\u001b[0m\u001b[0m\n\u001b[1;32m--> 131\u001b[1;33m                 \u001b[0mself\u001b[0m\u001b[1;33m.\u001b[0m\u001b[0mgen\u001b[0m\u001b[1;33m.\u001b[0m\u001b[0mthrow\u001b[0m\u001b[1;33m(\u001b[0m\u001b[0mtype\u001b[0m\u001b[1;33m,\u001b[0m \u001b[0mvalue\u001b[0m\u001b[1;33m,\u001b[0m \u001b[0mtraceback\u001b[0m\u001b[1;33m)\u001b[0m\u001b[1;33m\u001b[0m\u001b[1;33m\u001b[0m\u001b[0m\n\u001b[0m\u001b[0;32m    132\u001b[0m             \u001b[1;32mexcept\u001b[0m \u001b[0mStopIteration\u001b[0m \u001b[1;32mas\u001b[0m \u001b[0mexc\u001b[0m\u001b[1;33m:\u001b[0m\u001b[1;33m\u001b[0m\u001b[1;33m\u001b[0m\u001b[0m\n\u001b[0;32m    133\u001b[0m                 \u001b[1;31m# Suppress StopIteration *unless* it's the same exception that\u001b[0m\u001b[1;33m\u001b[0m\u001b[1;33m\u001b[0m\u001b[1;33m\u001b[0m\u001b[0m\n",
      "\u001b[1;32m~\\.conda\\envs\\Sara\\lib\\site-packages\\qcodes\\dataset\\sqlite\\connection.py\u001b[0m in \u001b[0;36matomic\u001b[1;34m(conn)\u001b[0m\n\u001b[0;32m    105\u001b[0m             \u001b[0mconn\u001b[0m\u001b[1;33m.\u001b[0m\u001b[0mrollback\u001b[0m\u001b[1;33m(\u001b[0m\u001b[1;33m)\u001b[0m\u001b[1;33m\u001b[0m\u001b[1;33m\u001b[0m\u001b[0m\n\u001b[0;32m    106\u001b[0m             \u001b[0mlog\u001b[0m\u001b[1;33m.\u001b[0m\u001b[0mexception\u001b[0m\u001b[1;33m(\u001b[0m\u001b[1;34m\"Rolling back due to unhandled exception\"\u001b[0m\u001b[1;33m)\u001b[0m\u001b[1;33m\u001b[0m\u001b[1;33m\u001b[0m\u001b[0m\n\u001b[1;32m--> 107\u001b[1;33m             \u001b[1;32mraise\u001b[0m \u001b[0mRuntimeError\u001b[0m\u001b[1;33m(\u001b[0m\u001b[1;34m\"Rolling back due to unhandled exception\"\u001b[0m\u001b[1;33m)\u001b[0m \u001b[1;32mfrom\u001b[0m \u001b[0me\u001b[0m\u001b[1;33m\u001b[0m\u001b[1;33m\u001b[0m\u001b[0m\n\u001b[0m\u001b[0;32m    108\u001b[0m         \u001b[1;32melse\u001b[0m\u001b[1;33m:\u001b[0m\u001b[1;33m\u001b[0m\u001b[1;33m\u001b[0m\u001b[0m\n\u001b[0;32m    109\u001b[0m             \u001b[1;32mif\u001b[0m \u001b[0mis_outmost\u001b[0m\u001b[1;33m:\u001b[0m\u001b[1;33m\u001b[0m\u001b[1;33m\u001b[0m\u001b[0m\n",
      "\u001b[1;31mRuntimeError\u001b[0m: Rolling back due to unhandled exception"
     ]
    }
   ],
   "source": [
    "exp = new_experiment(name='Check Denisty', sample_name=\"75um HB\")\n",
    "do1d(keith.source.voltage, 0, 0.55, 550, 0.3, rxx1.X, rxy.X, rxx2.X, rxy.P, keith.sense.current, do_plot = False)\n",
    "do1d(keith.source.voltage, 0.55, 0, 550, 0.3, rxx1.X, rxy.X, rxx2.X, rxy.P, keith.sense.current, do_plot = False)"
   ]
  },
  {
   "cell_type": "code",
   "execution_count": 18,
   "metadata": {
    "ExecuteTime": {
     "end_time": "2021-10-16T20:21:39.650236Z",
     "start_time": "2021-10-16T20:08:21.833197Z"
    }
   },
   "outputs": [
    {
     "name": "stdout",
     "output_type": "stream",
     "text": [
      "Starting experimental run with id: 81. Using 'qcodes.utils.dataset.doNd.do1d'\n",
      "Starting experimental run with id: 82. Using 'qcodes.utils.dataset.doNd.do1d'\n"
     ]
    },
    {
     "data": {
      "text/plain": [
       "(results #82@C:\\Users\\Sara\\DataBases\\M12-09-20.1SM1\\M12-09-20.1SM1.db\n",
       " --------------------------------------------------------------------\n",
       " keithley2_source_voltage - numeric\n",
       " Beast_X - numeric\n",
       " Dilbert_X - numeric\n",
       " Zoe_X - numeric\n",
       " Dilbert_P - numeric\n",
       " keithley2_sense_current - numeric,\n",
       " [None],\n",
       " [None])"
      ]
     },
     "execution_count": 18,
     "metadata": {},
     "output_type": "execute_result"
    }
   ],
   "source": [
    "do1d(keith.source.voltage, 0, 0.55, 550, 0.3, rxx1.X, rxy.X, rxx2.X, rxy.P, keith.sense.current, do_plot = False)\n",
    "do1d(keith.source.voltage, 0.55, 0, 550, 0.3, rxx1.X, rxy.X, rxx2.X, rxy.P, keith.sense.current, do_plot = False)"
   ]
  },
  {
   "cell_type": "code",
   "execution_count": 19,
   "metadata": {
    "ExecuteTime": {
     "end_time": "2021-10-16T20:21:39.839247Z",
     "start_time": "2021-10-16T20:21:39.687238Z"
    }
   },
   "outputs": [],
   "source": [
    "mag120.sweeprate_field(0.075)\n",
    "mag120.current_setpoint(0)\n",
    "mag120.to_setpoint()"
   ]
  },
  {
   "cell_type": "markdown",
   "metadata": {},
   "source": [
    "# Grounding Sample and let sample sit for hours"
   ]
  },
  {
   "cell_type": "code",
   "execution_count": 21,
   "metadata": {
    "ExecuteTime": {
     "end_time": "2021-10-16T23:37:17.784113Z",
     "start_time": "2021-10-16T23:37:17.637106Z"
    }
   },
   "outputs": [],
   "source": [
    "mag120.sweeprate_field(0.075)\n",
    "mag120.current_setpoint(1.342625)\n",
    "mag120.to_setpoint()"
   ]
  },
  {
   "cell_type": "code",
   "execution_count": 22,
   "metadata": {
    "ExecuteTime": {
     "end_time": "2021-10-16T23:52:34.970933Z",
     "start_time": "2021-10-16T23:39:15.219469Z"
    }
   },
   "outputs": [
    {
     "name": "stdout",
     "output_type": "stream",
     "text": [
      "Starting experimental run with id: 83. Using 'qcodes.utils.dataset.doNd.do1d'\n",
      "Starting experimental run with id: 84. Using 'qcodes.utils.dataset.doNd.do1d'\n"
     ]
    },
    {
     "data": {
      "text/plain": [
       "(results #84@C:\\Users\\Sara\\DataBases\\M12-09-20.1SM1\\M12-09-20.1SM1.db\n",
       " --------------------------------------------------------------------\n",
       " keithley2_source_voltage - numeric\n",
       " Beast_X - numeric\n",
       " Dilbert_X - numeric\n",
       " Zoe_X - numeric\n",
       " Dilbert_P - numeric\n",
       " keithley2_sense_current - numeric,\n",
       " [None],\n",
       " [None])"
      ]
     },
     "execution_count": 22,
     "metadata": {},
     "output_type": "execute_result"
    }
   ],
   "source": [
    "do1d(keith.source.voltage, 0, 0.55, 550, 0.3, rxx1.X, rxy.X, rxx2.X, rxy.P, keith.sense.current, do_plot = False)\n",
    "do1d(keith.source.voltage, 0.55, 0, 550, 0.3, rxx1.X, rxy.X, rxx2.X, rxy.P, keith.sense.current, do_plot = False)"
   ]
  },
  {
   "cell_type": "code",
   "execution_count": 23,
   "metadata": {
    "ExecuteTime": {
     "end_time": "2021-10-17T00:02:57.321151Z",
     "start_time": "2021-10-16T23:53:42.696520Z"
    }
   },
   "outputs": [
    {
     "name": "stdout",
     "output_type": "stream",
     "text": [
      "Starting experimental run with id: 85. Using 'qcodes.utils.dataset.doNd.do1d'\n",
      "Received SIGINT, Will interrupt at first suitable time. Send second SIGINT to interrupt immediately.\n"
     ]
    },
    {
     "ename": "UnboundLocalError",
     "evalue": "local variable 'dataset' referenced before assignment",
     "output_type": "error",
     "traceback": [
      "\u001b[1;31m---------------------------------------------------------------------------\u001b[0m",
      "\u001b[1;31mUnboundLocalError\u001b[0m                         Traceback (most recent call last)",
      "\u001b[1;32m<ipython-input-23-90dedb54fa50>\u001b[0m in \u001b[0;36m<module>\u001b[1;34m\u001b[0m\n\u001b[0;32m      1\u001b[0m \u001b[0mdo1d\u001b[0m\u001b[1;33m(\u001b[0m\u001b[0mkeith\u001b[0m\u001b[1;33m.\u001b[0m\u001b[0msource\u001b[0m\u001b[1;33m.\u001b[0m\u001b[0mvoltage\u001b[0m\u001b[1;33m,\u001b[0m \u001b[1;36m0\u001b[0m\u001b[1;33m,\u001b[0m \u001b[1;36m0.6\u001b[0m\u001b[1;33m,\u001b[0m \u001b[1;36m550\u001b[0m\u001b[1;33m,\u001b[0m \u001b[1;36m0.3\u001b[0m\u001b[1;33m,\u001b[0m \u001b[0mrxx1\u001b[0m\u001b[1;33m.\u001b[0m\u001b[0mX\u001b[0m\u001b[1;33m,\u001b[0m \u001b[0mrxy\u001b[0m\u001b[1;33m.\u001b[0m\u001b[0mX\u001b[0m\u001b[1;33m,\u001b[0m \u001b[0mrxx2\u001b[0m\u001b[1;33m.\u001b[0m\u001b[0mX\u001b[0m\u001b[1;33m,\u001b[0m \u001b[0mrxy\u001b[0m\u001b[1;33m.\u001b[0m\u001b[0mP\u001b[0m\u001b[1;33m,\u001b[0m \u001b[0mkeith\u001b[0m\u001b[1;33m.\u001b[0m\u001b[0msense\u001b[0m\u001b[1;33m.\u001b[0m\u001b[0mcurrent\u001b[0m\u001b[1;33m,\u001b[0m \u001b[0mdo_plot\u001b[0m \u001b[1;33m=\u001b[0m \u001b[1;32mFalse\u001b[0m\u001b[1;33m)\u001b[0m\u001b[1;33m\u001b[0m\u001b[1;33m\u001b[0m\u001b[0m\n\u001b[1;32m----> 2\u001b[1;33m \u001b[0mdo1d\u001b[0m\u001b[1;33m(\u001b[0m\u001b[0mkeith\u001b[0m\u001b[1;33m.\u001b[0m\u001b[0msource\u001b[0m\u001b[1;33m.\u001b[0m\u001b[0mvoltage\u001b[0m\u001b[1;33m,\u001b[0m \u001b[1;36m0.6\u001b[0m\u001b[1;33m,\u001b[0m \u001b[1;36m0\u001b[0m\u001b[1;33m,\u001b[0m \u001b[1;36m550\u001b[0m\u001b[1;33m,\u001b[0m \u001b[1;36m0.3\u001b[0m\u001b[1;33m,\u001b[0m \u001b[0mrxx1\u001b[0m\u001b[1;33m.\u001b[0m\u001b[0mX\u001b[0m\u001b[1;33m,\u001b[0m \u001b[0mrxy\u001b[0m\u001b[1;33m.\u001b[0m\u001b[0mX\u001b[0m\u001b[1;33m,\u001b[0m \u001b[0mrxx2\u001b[0m\u001b[1;33m.\u001b[0m\u001b[0mX\u001b[0m\u001b[1;33m,\u001b[0m \u001b[0mrxy\u001b[0m\u001b[1;33m.\u001b[0m\u001b[0mP\u001b[0m\u001b[1;33m,\u001b[0m \u001b[0mkeith\u001b[0m\u001b[1;33m.\u001b[0m\u001b[0msense\u001b[0m\u001b[1;33m.\u001b[0m\u001b[0mcurrent\u001b[0m\u001b[1;33m,\u001b[0m \u001b[0mdo_plot\u001b[0m \u001b[1;33m=\u001b[0m \u001b[1;32mFalse\u001b[0m\u001b[1;33m)\u001b[0m\u001b[1;33m\u001b[0m\u001b[1;33m\u001b[0m\u001b[0m\n\u001b[0m",
      "\u001b[1;32m~\\.conda\\envs\\Sara\\lib\\site-packages\\qcodes\\utils\\dataset\\doNd.py\u001b[0m in \u001b[0;36mdo1d\u001b[1;34m(param_set, start, stop, num_points, delay, enter_actions, exit_actions, write_period, measurement_name, exp, do_plot, use_threads, additional_setpoints, show_progress, log_info, *param_meas)\u001b[0m\n\u001b[0;32m    278\u001b[0m     \u001b[0mparam_set\u001b[0m\u001b[1;33m.\u001b[0m\u001b[0mpost_delay\u001b[0m \u001b[1;33m=\u001b[0m \u001b[0moriginal_delay\u001b[0m\u001b[1;33m\u001b[0m\u001b[1;33m\u001b[0m\u001b[0m\n\u001b[0;32m    279\u001b[0m \u001b[1;33m\u001b[0m\u001b[0m\n\u001b[1;32m--> 280\u001b[1;33m     \u001b[1;32mreturn\u001b[0m \u001b[0m_handle_plotting\u001b[0m\u001b[1;33m(\u001b[0m\u001b[0mdataset\u001b[0m\u001b[1;33m,\u001b[0m \u001b[0mdo_plot\u001b[0m\u001b[1;33m,\u001b[0m \u001b[0minterrupted\u001b[0m\u001b[1;33m(\u001b[0m\u001b[1;33m)\u001b[0m\u001b[1;33m)\u001b[0m\u001b[1;33m\u001b[0m\u001b[1;33m\u001b[0m\u001b[0m\n\u001b[0m\u001b[0;32m    281\u001b[0m \u001b[1;33m\u001b[0m\u001b[0m\n\u001b[0;32m    282\u001b[0m \u001b[1;33m\u001b[0m\u001b[0m\n",
      "\u001b[1;31mUnboundLocalError\u001b[0m: local variable 'dataset' referenced before assignment"
     ]
    }
   ],
   "source": [
    "do1d(keith.source.voltage, 0, 0.6, 550, 0.3, rxx1.X, rxy.X, rxx2.X, rxy.P, keith.sense.current, do_plot = False)\n"
   ]
  },
  {
   "cell_type": "code",
   "execution_count": 24,
   "metadata": {
    "ExecuteTime": {
     "end_time": "2021-10-17T00:04:00.285531Z",
     "start_time": "2021-10-17T00:03:18.350941Z"
    }
   },
   "outputs": [
    {
     "name": "stdout",
     "output_type": "stream",
     "text": [
      "Starting experimental run with id: 87. Using 'qcodes.utils.dataset.doNd.do1d'\n"
     ]
    },
    {
     "data": {
      "text/plain": [
       "(results #87@C:\\Users\\Sara\\DataBases\\M12-09-20.1SM1\\M12-09-20.1SM1.db\n",
       " --------------------------------------------------------------------\n",
       " keithley2_source_voltage - numeric\n",
       " Beast_X - numeric\n",
       " Dilbert_X - numeric\n",
       " Zoe_X - numeric\n",
       " Dilbert_P - numeric\n",
       " keithley2_sense_current - numeric,\n",
       " [None],\n",
       " [None])"
      ]
     },
     "execution_count": 24,
     "metadata": {},
     "output_type": "execute_result"
    }
   ],
   "source": [
    "do1d(keith.source.voltage, 0.6, 0.65, 50, 0.3, rxx1.X, rxy.X, rxx2.X, rxy.P, keith.sense.current, do_plot = False)"
   ]
  },
  {
   "cell_type": "code",
   "execution_count": 25,
   "metadata": {
    "ExecuteTime": {
     "end_time": "2021-10-17T00:12:22.125455Z",
     "start_time": "2021-10-17T00:04:33.180382Z"
    }
   },
   "outputs": [
    {
     "name": "stdout",
     "output_type": "stream",
     "text": [
      "Starting experimental run with id: 88. Using 'qcodes.utils.dataset.doNd.do1d'\n"
     ]
    },
    {
     "data": {
      "text/plain": [
       "(results #88@C:\\Users\\Sara\\DataBases\\M12-09-20.1SM1\\M12-09-20.1SM1.db\n",
       " --------------------------------------------------------------------\n",
       " keithley2_source_voltage - numeric\n",
       " Beast_X - numeric\n",
       " Dilbert_X - numeric\n",
       " Zoe_X - numeric\n",
       " Dilbert_P - numeric\n",
       " keithley2_sense_current - numeric,\n",
       " [None],\n",
       " [None])"
      ]
     },
     "execution_count": 25,
     "metadata": {},
     "output_type": "execute_result"
    }
   ],
   "source": [
    "do1d(keith.source.voltage, 0.65, 0, 650, 0.3, rxx1.X, rxy.X, rxx2.X, rxy.P, keith.sense.current, do_plot = False)"
   ]
  },
  {
   "cell_type": "markdown",
   "metadata": {},
   "source": [
    "# Start Beating high Res"
   ]
  },
  {
   "cell_type": "code",
   "execution_count": null,
   "metadata": {},
   "outputs": [],
   "source": [
    "mag120.sweeprate_field(0.075)\n",
    "mag120.current_setpoint(0)\n",
    "mag120.to_setpoint()"
   ]
  },
  {
   "cell_type": "code",
   "execution_count": 26,
   "metadata": {
    "ExecuteTime": {
     "end_time": "2021-10-17T03:20:35.765166Z",
     "start_time": "2021-10-17T00:20:35.754290Z"
    }
   },
   "outputs": [],
   "source": [
    "time.sleep(10800)"
   ]
  },
  {
   "cell_type": "markdown",
   "metadata": {},
   "source": [
    "## 600mV"
   ]
  },
  {
   "cell_type": "code",
   "execution_count": 27,
   "metadata": {
    "ExecuteTime": {
     "end_time": "2021-10-17T03:27:49.380007Z",
     "start_time": "2021-10-17T03:20:35.833169Z"
    },
    "scrolled": true
   },
   "outputs": [
    {
     "name": "stdout",
     "output_type": "stream",
     "text": [
      "Starting experimental run with id: 89. Using 'qcodes.utils.dataset.doNd.do1d'\n"
     ]
    },
    {
     "data": {
      "text/plain": [
       "(results #89@C:\\Users\\Sara\\DataBases\\M12-09-20.1SM1\\M12-09-20.1SM1.db\n",
       " --------------------------------------------------------------------\n",
       " keithley2_source_voltage - numeric\n",
       " Beast_X - numeric\n",
       " Dilbert_X - numeric\n",
       " Zoe_X - numeric\n",
       " Dilbert_P - numeric\n",
       " keithley2_sense_current - numeric,\n",
       " [None],\n",
       " [None])"
      ]
     },
     "execution_count": 27,
     "metadata": {},
     "output_type": "execute_result"
    }
   ],
   "source": [
    "do1d(keith.source.voltage, 0, 0.6, 600, 0.3, rxx1.X, rxy.X, rxx2.X, rxy.P, keith.sense.current, do_plot = False)"
   ]
  },
  {
   "cell_type": "code",
   "execution_count": 28,
   "metadata": {
    "ExecuteTime": {
     "end_time": "2021-10-17T04:30:57.034305Z",
     "start_time": "2021-10-17T03:27:49.531014Z"
    }
   },
   "outputs": [
    {
     "name": "stdout",
     "output_type": "stream",
     "text": [
      "Starting experimental run with id: 90. \n"
     ]
    }
   ],
   "source": [
    "rxx1.time_constant(1)\n",
    "rxx2.time_constant(1)\n",
    "rxx1.sensitivity(5e-3)\n",
    "rxx2.sensitivity(5e-3)\n",
    "\n",
    "exp = load_or_create_experiment('Stepping Bfield 20mT/min 0.5mT steps  Vg=0.6V Tc=1s', '75um HB')\n",
    "meas = Measurement()\n",
    "meas.register_parameter(mag120.current)\n",
    "meas.register_parameter(rxx1.X, setpoints=[mag120.current])\n",
    "meas.register_parameter(rxx2.X, setpoints=[mag120.current])\n",
    "meas.register_parameter(rxy.X, setpoints=[mag120.current])\n",
    "\n",
    "mag120.sweeprate_field(0.02)\n",
    "\n",
    "current=0\n",
    "final_current=18.797\n",
    "current_now = mag120.current()\n",
    "\n",
    "with meas.run() as ds:  \n",
    "    while current < final_current:\n",
    "        ds.add_result((mag120.current, mag120.current()),\n",
    "                         (rxx1.X, rxx1.X()),\n",
    "                         (rxx2.X,rxx2.X()),\n",
    "                         (rxy.X, rxy.X()))\n",
    "        current=current+0.006713\n",
    "        mag120.current_setpoint(current)\n",
    "        mag120.to_setpoint()\n",
    "        time.sleep(1.2)\n",
    "        \n",
    "    dataset1=ds.dataset"
   ]
  },
  {
   "cell_type": "markdown",
   "metadata": {},
   "source": [
    "## 570 mV"
   ]
  },
  {
   "cell_type": "code",
   "execution_count": 29,
   "metadata": {
    "ExecuteTime": {
     "end_time": "2021-10-17T04:31:24.310375Z",
     "start_time": "2021-10-17T04:30:57.065305Z"
    }
   },
   "outputs": [
    {
     "name": "stdout",
     "output_type": "stream",
     "text": [
      "Starting experimental run with id: 91. Using 'qcodes.utils.dataset.doNd.do1d'\n"
     ]
    },
    {
     "data": {
      "text/plain": [
       "(results #91@C:\\Users\\Sara\\DataBases\\M12-09-20.1SM1\\M12-09-20.1SM1.db\n",
       " --------------------------------------------------------------------\n",
       " keithley2_source_voltage - numeric\n",
       " Beast_X - numeric\n",
       " Dilbert_X - numeric\n",
       " Zoe_X - numeric\n",
       " Dilbert_P - numeric\n",
       " keithley2_sense_current - numeric,\n",
       " [None],\n",
       " [None])"
      ]
     },
     "execution_count": 29,
     "metadata": {},
     "output_type": "execute_result"
    }
   ],
   "source": [
    "do1d(keith.source.voltage, 0.600, 0.570, 30, 0.3, rxx1.X, rxy.X, rxx2.X, rxy.P, keith.sense.current, do_plot = False)"
   ]
  },
  {
   "cell_type": "code",
   "execution_count": null,
   "metadata": {
    "ExecuteTime": {
     "end_time": "2021-10-17T05:34:39.956053Z",
     "start_time": "2021-10-17T04:31:24.338376Z"
    }
   },
   "outputs": [],
   "source": [
    "exp = load_or_create_experiment('Test stepping Bfield 20mT/min 0.5mT steps  Vg=0.57V Tc=1s', '75um HB')\n",
    "meas = Measurement()\n",
    "meas.register_parameter(mag120.current)\n",
    "meas.register_parameter(rxx1.X, setpoints=[mag120.current])\n",
    "meas.register_parameter(rxx2.X, setpoints=[mag120.current])\n",
    "meas.register_parameter(rxy.X, setpoints=[mag120.current])\n",
    "\n",
    "mag120.sweeprate_field(0.02)\n",
    "\n",
    "current=18.797\n",
    "final_current=0\n",
    "current_now = mag120.current()\n",
    "\n",
    "with meas.run() as ds:  \n",
    "    while current > final_current:\n",
    "        ds.add_result((mag120.current, mag120.current()),\n",
    "                         (rxx1.X, rxx1.X()),\n",
    "                         (rxx2.X,rxx2.X()),\n",
    "                         (rxy.X, rxy.X()))\n",
    "        current=current-0.006713\n",
    "        mag120.current_setpoint(current)\n",
    "        mag120.to_setpoint()\n",
    "        time.sleep(1.2)\n",
    "        \n",
    "    dataset1=ds.dataset"
   ]
  },
  {
   "cell_type": "markdown",
   "metadata": {},
   "source": [
    "# for this scan Vg did not go to 0.55"
   ]
  },
  {
   "cell_type": "code",
   "execution_count": 31,
   "metadata": {
    "ExecuteTime": {
     "end_time": "2021-10-17T06:37:41.741628Z",
     "start_time": "2021-10-17T05:34:40.001054Z"
    }
   },
   "outputs": [
    {
     "name": "stdout",
     "output_type": "stream",
     "text": [
      "Starting experimental run with id: 93. \n"
     ]
    }
   ],
   "source": [
    "exp = load_or_create_experiment('Stepping Bfield 20mT/min 0.5mT steps  Vg=0.55V Tc=1s', '75um HB')\n",
    "meas = Measurement()\n",
    "meas.register_parameter(mag120.current)\n",
    "meas.register_parameter(rxx1.X, setpoints=[mag120.current])\n",
    "meas.register_parameter(rxx2.X, setpoints=[mag120.current])\n",
    "meas.register_parameter(rxy.X, setpoints=[mag120.current])\n",
    "\n",
    "mag120.sweeprate_field(0.02)\n",
    "\n",
    "current=0\n",
    "final_current=18.797\n",
    "current_now = mag120.current()\n",
    "\n",
    "with meas.run() as ds:  \n",
    "    while current < final_current:\n",
    "        ds.add_result((mag120.current, mag120.current()),\n",
    "                         (rxx1.X, rxx1.X()),\n",
    "                         (rxx2.X,rxx2.X()),\n",
    "                         (rxy.X, rxy.X()))\n",
    "        current=current+0.006713\n",
    "        mag120.current_setpoint(current)\n",
    "        mag120.to_setpoint()\n",
    "        time.sleep(1.2)\n",
    "        \n",
    "    dataset1=ds.dataset"
   ]
  },
  {
   "cell_type": "markdown",
   "metadata": {},
   "source": [
    "## 530mV"
   ]
  },
  {
   "cell_type": "code",
   "execution_count": 32,
   "metadata": {
    "ExecuteTime": {
     "end_time": "2021-10-17T06:38:18.134712Z",
     "start_time": "2021-10-17T06:37:41.819630Z"
    }
   },
   "outputs": [
    {
     "name": "stdout",
     "output_type": "stream",
     "text": [
      "Starting experimental run with id: 94. Using 'qcodes.utils.dataset.doNd.do1d'\n"
     ]
    },
    {
     "data": {
      "text/plain": [
       "(results #94@C:\\Users\\Sara\\DataBases\\M12-09-20.1SM1\\M12-09-20.1SM1.db\n",
       " --------------------------------------------------------------------\n",
       " keithley2_source_voltage - numeric\n",
       " Beast_X - numeric\n",
       " Dilbert_X - numeric\n",
       " Zoe_X - numeric\n",
       " Dilbert_P - numeric\n",
       " keithley2_sense_current - numeric,\n",
       " [None],\n",
       " [None])"
      ]
     },
     "execution_count": 32,
     "metadata": {},
     "output_type": "execute_result"
    }
   ],
   "source": [
    "do1d(keith.source.voltage, 0.55, 0.53, 50, 0.3, rxx1.X, rxy.X, rxx2.X, rxy.P, keith.sense.current, do_plot = False)"
   ]
  },
  {
   "cell_type": "code",
   "execution_count": 33,
   "metadata": {
    "ExecuteTime": {
     "end_time": "2021-10-17T07:41:48.067804Z",
     "start_time": "2021-10-17T06:38:18.162713Z"
    }
   },
   "outputs": [
    {
     "name": "stdout",
     "output_type": "stream",
     "text": [
      "Starting experimental run with id: 95. \n"
     ]
    }
   ],
   "source": [
    "exp = load_or_create_experiment('Test stepping Bfield 20mT/min 0.5mT steps  Vg=0.53V Tc=1s', '75um HB')\n",
    "meas = Measurement()\n",
    "meas.register_parameter(mag120.current)\n",
    "meas.register_parameter(rxx1.X, setpoints=[mag120.current])\n",
    "meas.register_parameter(rxx2.X, setpoints=[mag120.current])\n",
    "meas.register_parameter(rxy.X, setpoints=[mag120.current])\n",
    "\n",
    "mag120.sweeprate_field(0.02)\n",
    "\n",
    "current=18.797\n",
    "final_current=0\n",
    "current_now = mag120.current()\n",
    "\n",
    "with meas.run() as ds:  \n",
    "    while current > final_current:\n",
    "        ds.add_result((mag120.current, mag120.current()),\n",
    "                         (rxx1.X, rxx1.X()),\n",
    "                         (rxx2.X,rxx2.X()),\n",
    "                         (rxy.X, rxy.X()))\n",
    "        current=current-0.006713\n",
    "        mag120.current_setpoint(current)\n",
    "        mag120.to_setpoint()\n",
    "        time.sleep(1.2)\n",
    "        \n",
    "    dataset1=ds.dataset"
   ]
  },
  {
   "cell_type": "markdown",
   "metadata": {},
   "source": [
    "## 510mV"
   ]
  },
  {
   "cell_type": "code",
   "execution_count": 34,
   "metadata": {
    "ExecuteTime": {
     "end_time": "2021-10-17T07:42:16.347879Z",
     "start_time": "2021-10-17T07:41:48.098804Z"
    }
   },
   "outputs": [
    {
     "name": "stdout",
     "output_type": "stream",
     "text": [
      "Starting experimental run with id: 96. Using 'qcodes.utils.dataset.doNd.do1d'\n"
     ]
    },
    {
     "data": {
      "text/plain": [
       "(results #96@C:\\Users\\Sara\\DataBases\\M12-09-20.1SM1\\M12-09-20.1SM1.db\n",
       " --------------------------------------------------------------------\n",
       " keithley2_source_voltage - numeric\n",
       " Beast_X - numeric\n",
       " Dilbert_X - numeric\n",
       " Zoe_X - numeric\n",
       " Dilbert_P - numeric\n",
       " keithley2_sense_current - numeric,\n",
       " [None],\n",
       " [None])"
      ]
     },
     "execution_count": 34,
     "metadata": {},
     "output_type": "execute_result"
    }
   ],
   "source": [
    "do1d(keith.source.voltage, 0.53, 0.51, 50, 0.3, rxx1.X, rxy.X, rxx2.X, rxy.P, keith.sense.current, do_plot = False)"
   ]
  },
  {
   "cell_type": "code",
   "execution_count": 35,
   "metadata": {
    "ExecuteTime": {
     "end_time": "2021-10-17T08:45:24.369906Z",
     "start_time": "2021-10-17T07:42:16.387879Z"
    }
   },
   "outputs": [
    {
     "name": "stdout",
     "output_type": "stream",
     "text": [
      "Starting experimental run with id: 97. \n"
     ]
    }
   ],
   "source": [
    "exp = load_or_create_experiment('Stepping Bfield 20mT/min 0.5mT steps  Vg=0.51V Tc=1s', '75um HB')\n",
    "meas = Measurement()\n",
    "meas.register_parameter(mag120.current)\n",
    "meas.register_parameter(rxx1.X, setpoints=[mag120.current])\n",
    "meas.register_parameter(rxx2.X, setpoints=[mag120.current])\n",
    "meas.register_parameter(rxy.X, setpoints=[mag120.current])\n",
    "\n",
    "mag120.sweeprate_field(0.02)\n",
    "\n",
    "current=0\n",
    "final_current=18.797\n",
    "current_now = mag120.current()\n",
    "\n",
    "with meas.run() as ds:  \n",
    "    while current < final_current:\n",
    "        ds.add_result((mag120.current, mag120.current()),\n",
    "                         (rxx1.X, rxx1.X()),\n",
    "                         (rxx2.X,rxx2.X()),\n",
    "                         (rxy.X, rxy.X()))\n",
    "        current=current+0.006713\n",
    "        mag120.current_setpoint(current)\n",
    "        mag120.to_setpoint()\n",
    "        time.sleep(1.2)\n",
    "        \n",
    "    dataset1=ds.dataset"
   ]
  },
  {
   "cell_type": "markdown",
   "metadata": {},
   "source": [
    "## 490"
   ]
  },
  {
   "cell_type": "code",
   "execution_count": 36,
   "metadata": {
    "ExecuteTime": {
     "end_time": "2021-10-17T08:45:51.849005Z",
     "start_time": "2021-10-17T08:45:24.400906Z"
    }
   },
   "outputs": [
    {
     "name": "stdout",
     "output_type": "stream",
     "text": [
      "Starting experimental run with id: 98. Using 'qcodes.utils.dataset.doNd.do1d'\n"
     ]
    },
    {
     "data": {
      "text/plain": [
       "(results #98@C:\\Users\\Sara\\DataBases\\M12-09-20.1SM1\\M12-09-20.1SM1.db\n",
       " --------------------------------------------------------------------\n",
       " keithley2_source_voltage - numeric\n",
       " Beast_X - numeric\n",
       " Dilbert_X - numeric\n",
       " Zoe_X - numeric\n",
       " Dilbert_P - numeric\n",
       " keithley2_sense_current - numeric,\n",
       " [None],\n",
       " [None])"
      ]
     },
     "execution_count": 36,
     "metadata": {},
     "output_type": "execute_result"
    }
   ],
   "source": [
    "do1d(keith.source.voltage, 0.51, 0.49, 50, 0.3, rxx1.X, rxy.X, rxx2.X, rxy.P, keith.sense.current, do_plot = False)"
   ]
  },
  {
   "cell_type": "code",
   "execution_count": 37,
   "metadata": {
    "ExecuteTime": {
     "end_time": "2021-10-17T09:48:51.232111Z",
     "start_time": "2021-10-17T08:45:51.877006Z"
    }
   },
   "outputs": [
    {
     "name": "stdout",
     "output_type": "stream",
     "text": [
      "Starting experimental run with id: 99. \n"
     ]
    }
   ],
   "source": [
    "exp = load_or_create_experiment('Test stepping Bfield 20mT/min 0.5mT steps  Vg=0.49V Tc=1s', '75um HB')\n",
    "meas = Measurement()\n",
    "meas.register_parameter(mag120.current)\n",
    "meas.register_parameter(rxx1.X, setpoints=[mag120.current])\n",
    "meas.register_parameter(rxx2.X, setpoints=[mag120.current])\n",
    "meas.register_parameter(rxy.X, setpoints=[mag120.current])\n",
    "\n",
    "mag120.sweeprate_field(0.02)\n",
    "\n",
    "current=18.797\n",
    "final_current=0\n",
    "current_now = mag120.current()\n",
    "\n",
    "with meas.run() as ds:  \n",
    "    while current > final_current:\n",
    "        ds.add_result((mag120.current, mag120.current()),\n",
    "                         (rxx1.X, rxx1.X()),\n",
    "                         (rxx2.X,rxx2.X()),\n",
    "                         (rxy.X, rxy.X()))\n",
    "        current=current-0.006713\n",
    "        mag120.current_setpoint(current)\n",
    "        mag120.to_setpoint()\n",
    "        time.sleep(1.2)\n",
    "        \n",
    "    dataset1=ds.dataset"
   ]
  },
  {
   "cell_type": "markdown",
   "metadata": {},
   "source": [
    "## 470"
   ]
  },
  {
   "cell_type": "code",
   "execution_count": 38,
   "metadata": {
    "ExecuteTime": {
     "end_time": "2021-10-17T09:49:18.780185Z",
     "start_time": "2021-10-17T09:48:51.260111Z"
    }
   },
   "outputs": [
    {
     "name": "stdout",
     "output_type": "stream",
     "text": [
      "Starting experimental run with id: 100. Using 'qcodes.utils.dataset.doNd.do1d'\n"
     ]
    },
    {
     "data": {
      "text/plain": [
       "(results #100@C:\\Users\\Sara\\DataBases\\M12-09-20.1SM1\\M12-09-20.1SM1.db\n",
       " ---------------------------------------------------------------------\n",
       " keithley2_source_voltage - numeric\n",
       " Beast_X - numeric\n",
       " Dilbert_X - numeric\n",
       " Zoe_X - numeric\n",
       " Dilbert_P - numeric\n",
       " keithley2_sense_current - numeric,\n",
       " [None],\n",
       " [None])"
      ]
     },
     "execution_count": 38,
     "metadata": {},
     "output_type": "execute_result"
    }
   ],
   "source": [
    "do1d(keith.source.voltage, 0.49, 0.47, 50, 0.3, rxx1.X, rxy.X, rxx2.X, rxy.P, keith.sense.current, do_plot = False)"
   ]
  },
  {
   "cell_type": "code",
   "execution_count": 39,
   "metadata": {
    "ExecuteTime": {
     "end_time": "2021-10-17T10:52:17.739104Z",
     "start_time": "2021-10-17T09:49:18.808186Z"
    }
   },
   "outputs": [
    {
     "name": "stdout",
     "output_type": "stream",
     "text": [
      "Starting experimental run with id: 101. \n"
     ]
    }
   ],
   "source": [
    "exp = load_or_create_experiment('Stepping Bfield 20mT/min 0.5mT steps  Vg=0.47V Tc=1s', '75um HB')\n",
    "meas = Measurement()\n",
    "meas.register_parameter(mag120.current)\n",
    "meas.register_parameter(rxx1.X, setpoints=[mag120.current])\n",
    "meas.register_parameter(rxx2.X, setpoints=[mag120.current])\n",
    "meas.register_parameter(rxy.X, setpoints=[mag120.current])\n",
    "\n",
    "mag120.sweeprate_field(0.02)\n",
    "\n",
    "current=0\n",
    "final_current=18.797\n",
    "current_now = mag120.current()\n",
    "\n",
    "with meas.run() as ds:  \n",
    "    while current < final_current:\n",
    "        ds.add_result((mag120.current, mag120.current()),\n",
    "                         (rxx1.X, rxx1.X()),\n",
    "                         (rxx2.X,rxx2.X()),\n",
    "                         (rxy.X, rxy.X()))\n",
    "        current=current+0.006713\n",
    "        mag120.current_setpoint(current)\n",
    "        mag120.to_setpoint()\n",
    "        time.sleep(1.2)\n",
    "        \n",
    "    dataset1=ds.dataset"
   ]
  },
  {
   "cell_type": "markdown",
   "metadata": {},
   "source": [
    "## 450"
   ]
  },
  {
   "cell_type": "code",
   "execution_count": 40,
   "metadata": {
    "ExecuteTime": {
     "end_time": "2021-10-17T10:52:45.090181Z",
     "start_time": "2021-10-17T10:52:17.789106Z"
    }
   },
   "outputs": [
    {
     "name": "stdout",
     "output_type": "stream",
     "text": [
      "Starting experimental run with id: 102. Using 'qcodes.utils.dataset.doNd.do1d'\n"
     ]
    },
    {
     "data": {
      "text/plain": [
       "(results #102@C:\\Users\\Sara\\DataBases\\M12-09-20.1SM1\\M12-09-20.1SM1.db\n",
       " ---------------------------------------------------------------------\n",
       " keithley2_source_voltage - numeric\n",
       " Beast_X - numeric\n",
       " Dilbert_X - numeric\n",
       " Zoe_X - numeric\n",
       " Dilbert_P - numeric\n",
       " keithley2_sense_current - numeric,\n",
       " [None],\n",
       " [None])"
      ]
     },
     "execution_count": 40,
     "metadata": {},
     "output_type": "execute_result"
    }
   ],
   "source": [
    "do1d(keith.source.voltage, 0.47, 0.45, 50, 0.3, rxx1.X, rxy.X, rxx2.X, rxy.P, keith.sense.current, do_plot = False)"
   ]
  },
  {
   "cell_type": "code",
   "execution_count": 41,
   "metadata": {
    "ExecuteTime": {
     "end_time": "2021-10-17T11:55:39.076165Z",
     "start_time": "2021-10-17T10:52:45.128182Z"
    }
   },
   "outputs": [
    {
     "name": "stdout",
     "output_type": "stream",
     "text": [
      "Starting experimental run with id: 103. \n"
     ]
    }
   ],
   "source": [
    "exp = load_or_create_experiment('Test stepping Bfield 20mT/min 0.5mT steps  Vg=0.45V Tc=1s', '75um HB')\n",
    "meas = Measurement()\n",
    "meas.register_parameter(mag120.current)\n",
    "meas.register_parameter(rxx1.X, setpoints=[mag120.current])\n",
    "meas.register_parameter(rxx2.X, setpoints=[mag120.current])\n",
    "meas.register_parameter(rxy.X, setpoints=[mag120.current])\n",
    "\n",
    "mag120.sweeprate_field(0.02)\n",
    "\n",
    "current=18.797\n",
    "final_current=0\n",
    "current_now = mag120.current()\n",
    "\n",
    "with meas.run() as ds:  \n",
    "    while current > final_current:\n",
    "        ds.add_result((mag120.current, mag120.current()),\n",
    "                         (rxx1.X, rxx1.X()),\n",
    "                         (rxx2.X,rxx2.X()),\n",
    "                         (rxy.X, rxy.X()))\n",
    "        current=current-0.006713\n",
    "        mag120.current_setpoint(current)\n",
    "        mag120.to_setpoint()\n",
    "        time.sleep(1.2)\n",
    "        \n",
    "    dataset1=ds.dataset"
   ]
  },
  {
   "cell_type": "markdown",
   "metadata": {},
   "source": [
    "## 430mV"
   ]
  },
  {
   "cell_type": "code",
   "execution_count": 42,
   "metadata": {
    "ExecuteTime": {
     "end_time": "2021-10-17T11:56:06.331236Z",
     "start_time": "2021-10-17T11:55:39.108165Z"
    }
   },
   "outputs": [
    {
     "name": "stdout",
     "output_type": "stream",
     "text": [
      "Starting experimental run with id: 104. Using 'qcodes.utils.dataset.doNd.do1d'\n"
     ]
    },
    {
     "data": {
      "text/plain": [
       "(results #104@C:\\Users\\Sara\\DataBases\\M12-09-20.1SM1\\M12-09-20.1SM1.db\n",
       " ---------------------------------------------------------------------\n",
       " keithley2_source_voltage - numeric\n",
       " Beast_X - numeric\n",
       " Dilbert_X - numeric\n",
       " Zoe_X - numeric\n",
       " Dilbert_P - numeric\n",
       " keithley2_sense_current - numeric,\n",
       " [None],\n",
       " [None])"
      ]
     },
     "execution_count": 42,
     "metadata": {},
     "output_type": "execute_result"
    }
   ],
   "source": [
    "do1d(keith.source.voltage, 0.45, 0.43, 50, 0.3, rxx1.X, rxy.X, rxx2.X, rxy.P, keith.sense.current, do_plot = False)"
   ]
  },
  {
   "cell_type": "code",
   "execution_count": 43,
   "metadata": {
    "ExecuteTime": {
     "end_time": "2021-10-17T12:59:01.661200Z",
     "start_time": "2021-10-17T11:56:06.367237Z"
    }
   },
   "outputs": [
    {
     "name": "stdout",
     "output_type": "stream",
     "text": [
      "Starting experimental run with id: 105. \n"
     ]
    }
   ],
   "source": [
    "exp = load_or_create_experiment('Stepping Bfield 20mT/min 0.5mT steps  Vg=0.43V Tc=1s', '75um HB')\n",
    "meas = Measurement()\n",
    "meas.register_parameter(mag120.current)\n",
    "meas.register_parameter(rxx1.X, setpoints=[mag120.current])\n",
    "meas.register_parameter(rxx2.X, setpoints=[mag120.current])\n",
    "meas.register_parameter(rxy.X, setpoints=[mag120.current])\n",
    "\n",
    "mag120.sweeprate_field(0.02)\n",
    "\n",
    "current=0\n",
    "final_current=18.797\n",
    "current_now = mag120.current()\n",
    "\n",
    "with meas.run() as ds:  \n",
    "    while current < final_current:\n",
    "        ds.add_result((mag120.current, mag120.current()),\n",
    "                         (rxx1.X, rxx1.X()),\n",
    "                         (rxx2.X,rxx2.X()),\n",
    "                         (rxy.X, rxy.X()))\n",
    "        current=current+0.006713\n",
    "        mag120.current_setpoint(current)\n",
    "        mag120.to_setpoint()\n",
    "        time.sleep(1.2)\n",
    "        \n",
    "    dataset1=ds.dataset"
   ]
  },
  {
   "cell_type": "markdown",
   "metadata": {},
   "source": [
    "## 410mV"
   ]
  },
  {
   "cell_type": "code",
   "execution_count": 44,
   "metadata": {
    "ExecuteTime": {
     "end_time": "2021-10-17T12:59:28.791281Z",
     "start_time": "2021-10-17T12:59:01.692200Z"
    }
   },
   "outputs": [
    {
     "name": "stdout",
     "output_type": "stream",
     "text": [
      "Starting experimental run with id: 106. Using 'qcodes.utils.dataset.doNd.do1d'\n"
     ]
    },
    {
     "data": {
      "text/plain": [
       "(results #106@C:\\Users\\Sara\\DataBases\\M12-09-20.1SM1\\M12-09-20.1SM1.db\n",
       " ---------------------------------------------------------------------\n",
       " keithley2_source_voltage - numeric\n",
       " Beast_X - numeric\n",
       " Dilbert_X - numeric\n",
       " Zoe_X - numeric\n",
       " Dilbert_P - numeric\n",
       " keithley2_sense_current - numeric,\n",
       " [None],\n",
       " [None])"
      ]
     },
     "execution_count": 44,
     "metadata": {},
     "output_type": "execute_result"
    }
   ],
   "source": [
    "do1d(keith.source.voltage, 0.43, 0.41, 50, 0.3, rxx1.X, rxy.X, rxx2.X, rxy.P, keith.sense.current, do_plot = False)"
   ]
  },
  {
   "cell_type": "code",
   "execution_count": 45,
   "metadata": {
    "ExecuteTime": {
     "end_time": "2021-10-17T14:02:23.356234Z",
     "start_time": "2021-10-17T12:59:28.819282Z"
    }
   },
   "outputs": [
    {
     "name": "stdout",
     "output_type": "stream",
     "text": [
      "Starting experimental run with id: 107. \n"
     ]
    }
   ],
   "source": [
    "exp = load_or_create_experiment('Test stepping Bfield 20mT/min 0.5mT steps  Vg=0.41V Tc=1s', '75um HB')\n",
    "meas = Measurement()\n",
    "meas.register_parameter(mag120.current)\n",
    "meas.register_parameter(rxx1.X, setpoints=[mag120.current])\n",
    "meas.register_parameter(rxx2.X, setpoints=[mag120.current])\n",
    "meas.register_parameter(rxy.X, setpoints=[mag120.current])\n",
    "\n",
    "mag120.sweeprate_field(0.02)\n",
    "\n",
    "current=18.797\n",
    "final_current=0\n",
    "current_now = mag120.current()\n",
    "\n",
    "with meas.run() as ds:  \n",
    "    while current > final_current:\n",
    "        ds.add_result((mag120.current, mag120.current()),\n",
    "                         (rxx1.X, rxx1.X()),\n",
    "                         (rxx2.X,rxx2.X()),\n",
    "                         (rxy.X, rxy.X()))\n",
    "        current=current-0.006713\n",
    "        mag120.current_setpoint(current)\n",
    "        mag120.to_setpoint()\n",
    "        time.sleep(1.2)\n",
    "        \n",
    "    dataset1=ds.dataset"
   ]
  },
  {
   "cell_type": "markdown",
   "metadata": {},
   "source": [
    "## 390"
   ]
  },
  {
   "cell_type": "code",
   "execution_count": 46,
   "metadata": {
    "ExecuteTime": {
     "end_time": "2021-10-17T14:02:50.526308Z",
     "start_time": "2021-10-17T14:02:23.407235Z"
    }
   },
   "outputs": [
    {
     "name": "stdout",
     "output_type": "stream",
     "text": [
      "Starting experimental run with id: 108. Using 'qcodes.utils.dataset.doNd.do1d'\n"
     ]
    },
    {
     "data": {
      "text/plain": [
       "(results #108@C:\\Users\\Sara\\DataBases\\M12-09-20.1SM1\\M12-09-20.1SM1.db\n",
       " ---------------------------------------------------------------------\n",
       " keithley2_source_voltage - numeric\n",
       " Beast_X - numeric\n",
       " Dilbert_X - numeric\n",
       " Zoe_X - numeric\n",
       " Dilbert_P - numeric\n",
       " keithley2_sense_current - numeric,\n",
       " [None],\n",
       " [None])"
      ]
     },
     "execution_count": 46,
     "metadata": {},
     "output_type": "execute_result"
    }
   ],
   "source": [
    "do1d(keith.source.voltage, 0.41, 0.39, 50, 0.3, rxx1.X, rxy.X, rxx2.X, rxy.P, keith.sense.current, do_plot = False)"
   ]
  },
  {
   "cell_type": "code",
   "execution_count": 47,
   "metadata": {
    "ExecuteTime": {
     "end_time": "2021-10-17T15:05:46.300991Z",
     "start_time": "2021-10-17T14:02:50.554309Z"
    }
   },
   "outputs": [
    {
     "name": "stdout",
     "output_type": "stream",
     "text": [
      "Starting experimental run with id: 109. \n"
     ]
    }
   ],
   "source": [
    "exp = load_or_create_experiment('Stepping Bfield 20mT/min 0.5mT steps  Vg=0.39V Tc=1s', '75um HB')\n",
    "meas = Measurement()\n",
    "meas.register_parameter(mag120.current)\n",
    "meas.register_parameter(rxx1.X, setpoints=[mag120.current])\n",
    "meas.register_parameter(rxx2.X, setpoints=[mag120.current])\n",
    "meas.register_parameter(rxy.X, setpoints=[mag120.current])\n",
    "\n",
    "mag120.sweeprate_field(0.02)\n",
    "\n",
    "current=0\n",
    "final_current=18.797\n",
    "current_now = mag120.current()\n",
    "\n",
    "with meas.run() as ds:  \n",
    "    while current < final_current:\n",
    "        ds.add_result((mag120.current, mag120.current()),\n",
    "                         (rxx1.X, rxx1.X()),\n",
    "                         (rxx2.X,rxx2.X()),\n",
    "                         (rxy.X, rxy.X()))\n",
    "        current=current+0.006713\n",
    "        mag120.current_setpoint(current)\n",
    "        mag120.to_setpoint()\n",
    "        time.sleep(1.2)\n",
    "        \n",
    "    dataset1=ds.dataset"
   ]
  },
  {
   "cell_type": "markdown",
   "metadata": {},
   "source": [
    "## 370mV"
   ]
  },
  {
   "cell_type": "code",
   "execution_count": 48,
   "metadata": {
    "ExecuteTime": {
     "end_time": "2021-10-17T15:06:13.957064Z",
     "start_time": "2021-10-17T15:05:46.377992Z"
    }
   },
   "outputs": [
    {
     "name": "stdout",
     "output_type": "stream",
     "text": [
      "Starting experimental run with id: 110. Using 'qcodes.utils.dataset.doNd.do1d'\n"
     ]
    },
    {
     "data": {
      "text/plain": [
       "(results #110@C:\\Users\\Sara\\DataBases\\M12-09-20.1SM1\\M12-09-20.1SM1.db\n",
       " ---------------------------------------------------------------------\n",
       " keithley2_source_voltage - numeric\n",
       " Beast_X - numeric\n",
       " Dilbert_X - numeric\n",
       " Zoe_X - numeric\n",
       " Dilbert_P - numeric\n",
       " keithley2_sense_current - numeric,\n",
       " [None],\n",
       " [None])"
      ]
     },
     "execution_count": 48,
     "metadata": {},
     "output_type": "execute_result"
    }
   ],
   "source": [
    "do1d(keith.source.voltage, 0.39, 0.37, 50, 0.3, rxx1.X, rxy.X, rxx2.X, rxy.P, keith.sense.current, do_plot = False)"
   ]
  },
  {
   "cell_type": "code",
   "execution_count": 49,
   "metadata": {
    "ExecuteTime": {
     "end_time": "2021-10-17T16:09:14.257220Z",
     "start_time": "2021-10-17T15:06:13.986065Z"
    }
   },
   "outputs": [
    {
     "name": "stdout",
     "output_type": "stream",
     "text": [
      "Starting experimental run with id: 111. \n"
     ]
    }
   ],
   "source": [
    "exp = load_or_create_experiment('Test stepping Bfield 20mT/min 0.5mT steps  Vg=0.37V Tc=1s', '75um HB')\n",
    "meas = Measurement()\n",
    "meas.register_parameter(mag120.current)\n",
    "meas.register_parameter(rxx1.X, setpoints=[mag120.current])\n",
    "meas.register_parameter(rxx2.X, setpoints=[mag120.current])\n",
    "meas.register_parameter(rxy.X, setpoints=[mag120.current])\n",
    "\n",
    "mag120.sweeprate_field(0.02)\n",
    "\n",
    "current=18.797\n",
    "final_current=0\n",
    "current_now = mag120.current()\n",
    "\n",
    "with meas.run() as ds:  \n",
    "    while current > final_current:\n",
    "        ds.add_result((mag120.current, mag120.current()),\n",
    "                         (rxx1.X, rxx1.X()),\n",
    "                         (rxx2.X,rxx2.X()),\n",
    "                         (rxy.X, rxy.X()))\n",
    "        current=current-0.006713\n",
    "        mag120.current_setpoint(current)\n",
    "        mag120.to_setpoint()\n",
    "        time.sleep(1.2)\n",
    "        \n",
    "    dataset1=ds.dataset"
   ]
  },
  {
   "cell_type": "markdown",
   "metadata": {},
   "source": [
    "## 350mV"
   ]
  },
  {
   "cell_type": "code",
   "execution_count": 50,
   "metadata": {
    "ExecuteTime": {
     "end_time": "2021-10-17T16:09:41.656299Z",
     "start_time": "2021-10-17T16:09:14.286221Z"
    }
   },
   "outputs": [
    {
     "name": "stdout",
     "output_type": "stream",
     "text": [
      "Starting experimental run with id: 112. Using 'qcodes.utils.dataset.doNd.do1d'\n"
     ]
    },
    {
     "data": {
      "text/plain": [
       "(results #112@C:\\Users\\Sara\\DataBases\\M12-09-20.1SM1\\M12-09-20.1SM1.db\n",
       " ---------------------------------------------------------------------\n",
       " keithley2_source_voltage - numeric\n",
       " Beast_X - numeric\n",
       " Dilbert_X - numeric\n",
       " Zoe_X - numeric\n",
       " Dilbert_P - numeric\n",
       " keithley2_sense_current - numeric,\n",
       " [None],\n",
       " [None])"
      ]
     },
     "execution_count": 50,
     "metadata": {},
     "output_type": "execute_result"
    }
   ],
   "source": [
    "do1d(keith.source.voltage, 0.37, 0.35, 50, 0.3, rxx1.X, rxy.X, rxx2.X, rxy.P, keith.sense.current, do_plot = False)"
   ]
  },
  {
   "cell_type": "code",
   "execution_count": 51,
   "metadata": {
    "ExecuteTime": {
     "end_time": "2021-10-17T17:12:40.211233Z",
     "start_time": "2021-10-17T16:09:41.686300Z"
    }
   },
   "outputs": [
    {
     "name": "stdout",
     "output_type": "stream",
     "text": [
      "Starting experimental run with id: 113. \n"
     ]
    }
   ],
   "source": [
    "exp = load_or_create_experiment('Stepping Bfield 20mT/min 0.5mT steps  Vg=0.35V Tc=1s', '75um HB')\n",
    "meas = Measurement()\n",
    "meas.register_parameter(mag120.current)\n",
    "meas.register_parameter(rxx1.X, setpoints=[mag120.current])\n",
    "meas.register_parameter(rxx2.X, setpoints=[mag120.current])\n",
    "meas.register_parameter(rxy.X, setpoints=[mag120.current])\n",
    "\n",
    "mag120.sweeprate_field(0.02)\n",
    "\n",
    "current=0\n",
    "final_current=18.797\n",
    "current_now = mag120.current()\n",
    "\n",
    "with meas.run() as ds:  \n",
    "    while current < final_current:\n",
    "        ds.add_result((mag120.current, mag120.current()),\n",
    "                         (rxx1.X, rxx1.X()),\n",
    "                         (rxx2.X,rxx2.X()),\n",
    "                         (rxy.X, rxy.X()))\n",
    "        current=current+0.006713\n",
    "        mag120.current_setpoint(current)\n",
    "        mag120.to_setpoint()\n",
    "        time.sleep(1.2)\n",
    "        \n",
    "    dataset1=ds.dataset"
   ]
  },
  {
   "cell_type": "markdown",
   "metadata": {},
   "source": [
    "## 330mV"
   ]
  },
  {
   "cell_type": "code",
   "execution_count": 52,
   "metadata": {
    "ExecuteTime": {
     "end_time": "2021-10-17T17:13:07.621321Z",
     "start_time": "2021-10-17T17:12:40.242233Z"
    }
   },
   "outputs": [
    {
     "name": "stdout",
     "output_type": "stream",
     "text": [
      "Starting experimental run with id: 114. Using 'qcodes.utils.dataset.doNd.do1d'\n"
     ]
    },
    {
     "data": {
      "text/plain": [
       "(results #114@C:\\Users\\Sara\\DataBases\\M12-09-20.1SM1\\M12-09-20.1SM1.db\n",
       " ---------------------------------------------------------------------\n",
       " keithley2_source_voltage - numeric\n",
       " Beast_X - numeric\n",
       " Dilbert_X - numeric\n",
       " Zoe_X - numeric\n",
       " Dilbert_P - numeric\n",
       " keithley2_sense_current - numeric,\n",
       " [None],\n",
       " [None])"
      ]
     },
     "execution_count": 52,
     "metadata": {},
     "output_type": "execute_result"
    }
   ],
   "source": [
    "do1d(keith.source.voltage, 0.35, 0.33, 50, 0.3, rxx1.X, rxy.X, rxx2.X, rxy.P, keith.sense.current, do_plot = False)"
   ]
  },
  {
   "cell_type": "code",
   "execution_count": 53,
   "metadata": {
    "ExecuteTime": {
     "end_time": "2021-10-17T18:16:06.277426Z",
     "start_time": "2021-10-17T17:13:07.649322Z"
    }
   },
   "outputs": [
    {
     "name": "stdout",
     "output_type": "stream",
     "text": [
      "Starting experimental run with id: 115. \n"
     ]
    }
   ],
   "source": [
    "exp = load_or_create_experiment('Test stepping Bfield 20mT/min 0.5mT steps  Vg=0.33V Tc=1s', '75um HB')\n",
    "meas = Measurement()\n",
    "meas.register_parameter(mag120.current)\n",
    "meas.register_parameter(rxx1.X, setpoints=[mag120.current])\n",
    "meas.register_parameter(rxx2.X, setpoints=[mag120.current])\n",
    "meas.register_parameter(rxy.X, setpoints=[mag120.current])\n",
    "\n",
    "mag120.sweeprate_field(0.02)\n",
    "\n",
    "current=18.797\n",
    "final_current=0\n",
    "current_now = mag120.current()\n",
    "\n",
    "with meas.run() as ds:  \n",
    "    while current > final_current:\n",
    "        ds.add_result((mag120.current, mag120.current()),\n",
    "                         (rxx1.X, rxx1.X()),\n",
    "                         (rxx2.X,rxx2.X()),\n",
    "                         (rxy.X, rxy.X()))\n",
    "        current=current-0.006713\n",
    "        mag120.current_setpoint(current)\n",
    "        mag120.to_setpoint()\n",
    "        time.sleep(1.2)\n",
    "        \n",
    "    dataset1=ds.dataset"
   ]
  },
  {
   "cell_type": "markdown",
   "metadata": {},
   "source": [
    "## 310mV"
   ]
  },
  {
   "cell_type": "code",
   "execution_count": 54,
   "metadata": {
    "ExecuteTime": {
     "end_time": "2021-10-17T18:16:33.581499Z",
     "start_time": "2021-10-17T18:16:06.308426Z"
    }
   },
   "outputs": [
    {
     "name": "stdout",
     "output_type": "stream",
     "text": [
      "Starting experimental run with id: 116. Using 'qcodes.utils.dataset.doNd.do1d'\n"
     ]
    },
    {
     "data": {
      "text/plain": [
       "(results #116@C:\\Users\\Sara\\DataBases\\M12-09-20.1SM1\\M12-09-20.1SM1.db\n",
       " ---------------------------------------------------------------------\n",
       " keithley2_source_voltage - numeric\n",
       " Beast_X - numeric\n",
       " Dilbert_X - numeric\n",
       " Zoe_X - numeric\n",
       " Dilbert_P - numeric\n",
       " keithley2_sense_current - numeric,\n",
       " [None],\n",
       " [None])"
      ]
     },
     "execution_count": 54,
     "metadata": {},
     "output_type": "execute_result"
    }
   ],
   "source": [
    "do1d(keith.source.voltage, 0.33, 0.31, 50, 0.3, rxx1.X, rxy.X, rxx2.X, rxy.P, keith.sense.current, do_plot = False)"
   ]
  },
  {
   "cell_type": "code",
   "execution_count": 55,
   "metadata": {
    "ExecuteTime": {
     "end_time": "2021-10-17T19:19:33.099377Z",
     "start_time": "2021-10-17T18:16:33.610500Z"
    }
   },
   "outputs": [
    {
     "name": "stdout",
     "output_type": "stream",
     "text": [
      "Starting experimental run with id: 117. \n"
     ]
    }
   ],
   "source": [
    "exp = load_or_create_experiment('Stepping Bfield 20mT/min 0.5mT steps  Vg=0.31V Tc=1s', '75um HB')\n",
    "meas = Measurement()\n",
    "meas.register_parameter(mag120.current)\n",
    "meas.register_parameter(rxx1.X, setpoints=[mag120.current])\n",
    "meas.register_parameter(rxx2.X, setpoints=[mag120.current])\n",
    "meas.register_parameter(rxy.X, setpoints=[mag120.current])\n",
    "\n",
    "mag120.sweeprate_field(0.02)\n",
    "\n",
    "current=0\n",
    "final_current=18.797\n",
    "current_now = mag120.current()\n",
    "\n",
    "with meas.run() as ds:  \n",
    "    while current < final_current:\n",
    "        ds.add_result((mag120.current, mag120.current()),\n",
    "                         (rxx1.X, rxx1.X()),\n",
    "                         (rxx2.X,rxx2.X()),\n",
    "                         (rxy.X, rxy.X()))\n",
    "        current=current+0.006713\n",
    "        mag120.current_setpoint(current)\n",
    "        mag120.to_setpoint()\n",
    "        time.sleep(1.2)\n",
    "        \n",
    "    dataset1=ds.dataset"
   ]
  },
  {
   "cell_type": "markdown",
   "metadata": {},
   "source": [
    "## 290"
   ]
  },
  {
   "cell_type": "code",
   "execution_count": 56,
   "metadata": {
    "ExecuteTime": {
     "end_time": "2021-10-17T19:20:00.381448Z",
     "start_time": "2021-10-17T19:19:33.130377Z"
    }
   },
   "outputs": [
    {
     "name": "stdout",
     "output_type": "stream",
     "text": [
      "Starting experimental run with id: 118. Using 'qcodes.utils.dataset.doNd.do1d'\n"
     ]
    },
    {
     "data": {
      "text/plain": [
       "(results #118@C:\\Users\\Sara\\DataBases\\M12-09-20.1SM1\\M12-09-20.1SM1.db\n",
       " ---------------------------------------------------------------------\n",
       " keithley2_source_voltage - numeric\n",
       " Beast_X - numeric\n",
       " Dilbert_X - numeric\n",
       " Zoe_X - numeric\n",
       " Dilbert_P - numeric\n",
       " keithley2_sense_current - numeric,\n",
       " [None],\n",
       " [None])"
      ]
     },
     "execution_count": 56,
     "metadata": {},
     "output_type": "execute_result"
    }
   ],
   "source": [
    "do1d(keith.source.voltage, 0.31, 0.29, 50, 0.3, rxx1.X, rxy.X, rxx2.X, rxy.P, keith.sense.current, do_plot = False)"
   ]
  },
  {
   "cell_type": "code",
   "execution_count": 57,
   "metadata": {
    "ExecuteTime": {
     "end_time": "2021-10-17T20:23:00.686301Z",
     "start_time": "2021-10-17T19:20:00.409449Z"
    }
   },
   "outputs": [
    {
     "name": "stdout",
     "output_type": "stream",
     "text": [
      "Starting experimental run with id: 119. \n"
     ]
    }
   ],
   "source": [
    "exp = load_or_create_experiment('Test stepping Bfield 20mT/min 0.5mT steps  Vg=0.29V Tc=1s', '75um HB')\n",
    "meas = Measurement()\n",
    "meas.register_parameter(mag120.current)\n",
    "meas.register_parameter(rxx1.X, setpoints=[mag120.current])\n",
    "meas.register_parameter(rxx2.X, setpoints=[mag120.current])\n",
    "meas.register_parameter(rxy.X, setpoints=[mag120.current])\n",
    "\n",
    "mag120.sweeprate_field(0.02)\n",
    "\n",
    "current=18.797\n",
    "final_current=0\n",
    "current_now = mag120.current()\n",
    "\n",
    "with meas.run() as ds:  \n",
    "    while current > final_current:\n",
    "        ds.add_result((mag120.current, mag120.current()),\n",
    "                         (rxx1.X, rxx1.X()),\n",
    "                         (rxx2.X,rxx2.X()),\n",
    "                         (rxy.X, rxy.X()))\n",
    "        current=current-0.006713\n",
    "        mag120.current_setpoint(current)\n",
    "        mag120.to_setpoint()\n",
    "        time.sleep(1.2)\n",
    "        \n",
    "    dataset1=ds.dataset"
   ]
  },
  {
   "cell_type": "markdown",
   "metadata": {},
   "source": [
    "## 270mV"
   ]
  },
  {
   "cell_type": "code",
   "execution_count": 58,
   "metadata": {
    "ExecuteTime": {
     "end_time": "2021-10-17T20:23:28.016378Z",
     "start_time": "2021-10-17T20:23:00.717301Z"
    }
   },
   "outputs": [
    {
     "name": "stdout",
     "output_type": "stream",
     "text": [
      "Starting experimental run with id: 120. Using 'qcodes.utils.dataset.doNd.do1d'\n"
     ]
    },
    {
     "data": {
      "text/plain": [
       "(results #120@C:\\Users\\Sara\\DataBases\\M12-09-20.1SM1\\M12-09-20.1SM1.db\n",
       " ---------------------------------------------------------------------\n",
       " keithley2_source_voltage - numeric\n",
       " Beast_X - numeric\n",
       " Dilbert_X - numeric\n",
       " Zoe_X - numeric\n",
       " Dilbert_P - numeric\n",
       " keithley2_sense_current - numeric,\n",
       " [None],\n",
       " [None])"
      ]
     },
     "execution_count": 58,
     "metadata": {},
     "output_type": "execute_result"
    }
   ],
   "source": [
    "do1d(keith.source.voltage, 0.29, 0.27, 50, 0.3, rxx1.X, rxy.X, rxx2.X, rxy.P, keith.sense.current, do_plot = False)"
   ]
  },
  {
   "cell_type": "code",
   "execution_count": 59,
   "metadata": {
    "ExecuteTime": {
     "end_time": "2021-10-17T21:26:37.039319Z",
     "start_time": "2021-10-17T20:23:28.044379Z"
    }
   },
   "outputs": [
    {
     "name": "stdout",
     "output_type": "stream",
     "text": [
      "Starting experimental run with id: 121. \n"
     ]
    }
   ],
   "source": [
    "exp = load_or_create_experiment('Stepping Bfield 20mT/min 0.5mT steps  Vg=0.27V Tc=1s', '75um HB')\n",
    "meas = Measurement()\n",
    "meas.register_parameter(mag120.current)\n",
    "meas.register_parameter(rxx1.X, setpoints=[mag120.current])\n",
    "meas.register_parameter(rxx2.X, setpoints=[mag120.current])\n",
    "meas.register_parameter(rxy.X, setpoints=[mag120.current])\n",
    "\n",
    "mag120.sweeprate_field(0.02)\n",
    "\n",
    "current=0\n",
    "final_current=18.797\n",
    "current_now = mag120.current()\n",
    "\n",
    "with meas.run() as ds:  \n",
    "    while current < final_current:\n",
    "        ds.add_result((mag120.current, mag120.current()),\n",
    "                         (rxx1.X, rxx1.X()),\n",
    "                         (rxx2.X,rxx2.X()),\n",
    "                         (rxy.X, rxy.X()))\n",
    "        current=current+0.006713\n",
    "        mag120.current_setpoint(current)\n",
    "        mag120.to_setpoint()\n",
    "        time.sleep(1.2)\n",
    "        \n",
    "    dataset1=ds.dataset"
   ]
  },
  {
   "cell_type": "markdown",
   "metadata": {},
   "source": [
    "## 250mV"
   ]
  },
  {
   "cell_type": "code",
   "execution_count": 60,
   "metadata": {
    "ExecuteTime": {
     "end_time": "2021-10-17T21:27:04.336393Z",
     "start_time": "2021-10-17T21:26:37.070319Z"
    }
   },
   "outputs": [
    {
     "name": "stdout",
     "output_type": "stream",
     "text": [
      "Starting experimental run with id: 122. Using 'qcodes.utils.dataset.doNd.do1d'\n"
     ]
    },
    {
     "data": {
      "text/plain": [
       "(results #122@C:\\Users\\Sara\\DataBases\\M12-09-20.1SM1\\M12-09-20.1SM1.db\n",
       " ---------------------------------------------------------------------\n",
       " keithley2_source_voltage - numeric\n",
       " Beast_X - numeric\n",
       " Dilbert_X - numeric\n",
       " Zoe_X - numeric\n",
       " Dilbert_P - numeric\n",
       " keithley2_sense_current - numeric,\n",
       " [None],\n",
       " [None])"
      ]
     },
     "execution_count": 60,
     "metadata": {},
     "output_type": "execute_result"
    }
   ],
   "source": [
    "do1d(keith.source.voltage, 0.27, 0.25, 50, 0.3, rxx1.X, rxy.X, rxx2.X, rxy.P, keith.sense.current, do_plot = False)"
   ]
  },
  {
   "cell_type": "code",
   "execution_count": 61,
   "metadata": {
    "ExecuteTime": {
     "end_time": "2021-10-17T22:30:04.225689Z",
     "start_time": "2021-10-17T21:27:04.365394Z"
    }
   },
   "outputs": [
    {
     "name": "stdout",
     "output_type": "stream",
     "text": [
      "Starting experimental run with id: 123. \n"
     ]
    }
   ],
   "source": [
    "exp = load_or_create_experiment('Test stepping Bfield 20mT/min 0.5mT steps  Vg=0.25V Tc=1s', '75um HB')\n",
    "meas = Measurement()\n",
    "meas.register_parameter(mag120.current)\n",
    "meas.register_parameter(rxx1.X, setpoints=[mag120.current])\n",
    "meas.register_parameter(rxx2.X, setpoints=[mag120.current])\n",
    "meas.register_parameter(rxy.X, setpoints=[mag120.current])\n",
    "\n",
    "mag120.sweeprate_field(0.02)\n",
    "\n",
    "current=18.797\n",
    "final_current=0\n",
    "current_now = mag120.current()\n",
    "\n",
    "with meas.run() as ds:  \n",
    "    while current > final_current:\n",
    "        ds.add_result((mag120.current, mag120.current()),\n",
    "                         (rxx1.X, rxx1.X()),\n",
    "                         (rxx2.X,rxx2.X()),\n",
    "                         (rxy.X, rxy.X()))\n",
    "        current=current-0.006713\n",
    "        mag120.current_setpoint(current)\n",
    "        mag120.to_setpoint()\n",
    "        time.sleep(1.2)\n",
    "        \n",
    "    dataset1=ds.dataset"
   ]
  },
  {
   "cell_type": "markdown",
   "metadata": {},
   "source": [
    "## 230mV"
   ]
  },
  {
   "cell_type": "code",
   "execution_count": 62,
   "metadata": {
    "ExecuteTime": {
     "end_time": "2021-10-17T22:30:31.397769Z",
     "start_time": "2021-10-17T22:30:04.253690Z"
    }
   },
   "outputs": [
    {
     "name": "stdout",
     "output_type": "stream",
     "text": [
      "Starting experimental run with id: 124. Using 'qcodes.utils.dataset.doNd.do1d'\n"
     ]
    },
    {
     "data": {
      "text/plain": [
       "(results #124@C:\\Users\\Sara\\DataBases\\M12-09-20.1SM1\\M12-09-20.1SM1.db\n",
       " ---------------------------------------------------------------------\n",
       " keithley2_source_voltage - numeric\n",
       " Beast_X - numeric\n",
       " Dilbert_X - numeric\n",
       " Zoe_X - numeric\n",
       " Dilbert_P - numeric\n",
       " keithley2_sense_current - numeric,\n",
       " [None],\n",
       " [None])"
      ]
     },
     "execution_count": 62,
     "metadata": {},
     "output_type": "execute_result"
    }
   ],
   "source": [
    "do1d(keith.source.voltage, 0.25, 0.23, 50, 0.3, rxx1.X, rxy.X, rxx2.X, rxy.P, keith.sense.current, do_plot = False)"
   ]
  },
  {
   "cell_type": "code",
   "execution_count": 63,
   "metadata": {
    "ExecuteTime": {
     "end_time": "2021-10-17T23:33:28.397798Z",
     "start_time": "2021-10-17T22:30:31.449769Z"
    }
   },
   "outputs": [
    {
     "name": "stdout",
     "output_type": "stream",
     "text": [
      "Starting experimental run with id: 125. \n"
     ]
    }
   ],
   "source": [
    "exp = load_or_create_experiment('Stepping Bfield 20mT/min 0.5mT steps  Vg=0.23V Tc=1s', '75um HB')\n",
    "meas = Measurement()\n",
    "meas.register_parameter(mag120.current)\n",
    "meas.register_parameter(rxx1.X, setpoints=[mag120.current])\n",
    "meas.register_parameter(rxx2.X, setpoints=[mag120.current])\n",
    "meas.register_parameter(rxy.X, setpoints=[mag120.current])\n",
    "\n",
    "mag120.sweeprate_field(0.02)\n",
    "\n",
    "current=0\n",
    "final_current=18.797\n",
    "current_now = mag120.current()\n",
    "\n",
    "with meas.run() as ds:  \n",
    "    while current < final_current:\n",
    "        ds.add_result((mag120.current, mag120.current()),\n",
    "                         (rxx1.X, rxx1.X()),\n",
    "                         (rxx2.X,rxx2.X()),\n",
    "                         (rxy.X, rxy.X()))\n",
    "        current=current+0.006713\n",
    "        mag120.current_setpoint(current)\n",
    "        mag120.to_setpoint()\n",
    "        time.sleep(1.2)\n",
    "        \n",
    "    dataset1=ds.dataset"
   ]
  },
  {
   "cell_type": "markdown",
   "metadata": {},
   "source": [
    "## 210mV"
   ]
  },
  {
   "cell_type": "code",
   "execution_count": 64,
   "metadata": {
    "ExecuteTime": {
     "end_time": "2021-10-17T23:33:55.580885Z",
     "start_time": "2021-10-17T23:33:28.427798Z"
    }
   },
   "outputs": [
    {
     "name": "stdout",
     "output_type": "stream",
     "text": [
      "Starting experimental run with id: 126. Using 'qcodes.utils.dataset.doNd.do1d'\n"
     ]
    },
    {
     "data": {
      "text/plain": [
       "(results #126@C:\\Users\\Sara\\DataBases\\M12-09-20.1SM1\\M12-09-20.1SM1.db\n",
       " ---------------------------------------------------------------------\n",
       " keithley2_source_voltage - numeric\n",
       " Beast_X - numeric\n",
       " Dilbert_X - numeric\n",
       " Zoe_X - numeric\n",
       " Dilbert_P - numeric\n",
       " keithley2_sense_current - numeric,\n",
       " [None],\n",
       " [None])"
      ]
     },
     "execution_count": 64,
     "metadata": {},
     "output_type": "execute_result"
    }
   ],
   "source": [
    "do1d(keith.source.voltage, 0.23, 0.21, 50, 0.3, rxx1.X, rxy.X, rxx2.X, rxy.P, keith.sense.current, do_plot = False)"
   ]
  },
  {
   "cell_type": "code",
   "execution_count": 65,
   "metadata": {
    "ExecuteTime": {
     "end_time": "2021-10-18T00:36:54.406129Z",
     "start_time": "2021-10-17T23:33:55.609886Z"
    }
   },
   "outputs": [
    {
     "name": "stdout",
     "output_type": "stream",
     "text": [
      "Starting experimental run with id: 127. \n"
     ]
    }
   ],
   "source": [
    "exp = load_or_create_experiment('Test stepping Bfield 20mT/min 0.5mT steps  Vg=0.21V Tc=1s', '75um HB')\n",
    "meas = Measurement()\n",
    "meas.register_parameter(mag120.current)\n",
    "meas.register_parameter(rxx1.X, setpoints=[mag120.current])\n",
    "meas.register_parameter(rxx2.X, setpoints=[mag120.current])\n",
    "meas.register_parameter(rxy.X, setpoints=[mag120.current])\n",
    "\n",
    "mag120.sweeprate_field(0.02)\n",
    "\n",
    "current=18.797\n",
    "final_current=0\n",
    "current_now = mag120.current()\n",
    "\n",
    "with meas.run() as ds:  \n",
    "    while current > final_current:\n",
    "        ds.add_result((mag120.current, mag120.current()),\n",
    "                         (rxx1.X, rxx1.X()),\n",
    "                         (rxx2.X,rxx2.X()),\n",
    "                         (rxy.X, rxy.X()))\n",
    "        current=current-0.006713\n",
    "        mag120.current_setpoint(current)\n",
    "        mag120.to_setpoint()\n",
    "        time.sleep(1.2)\n",
    "        \n",
    "    dataset1=ds.dataset"
   ]
  },
  {
   "cell_type": "markdown",
   "metadata": {},
   "source": [
    "# Error occur with new keithley 2450"
   ]
  },
  {
   "cell_type": "code",
   "execution_count": 73,
   "metadata": {
    "ExecuteTime": {
     "end_time": "2021-10-18T01:08:37.574764Z",
     "start_time": "2021-10-18T01:08:27.527538Z"
    },
    "collapsed": true
   },
   "outputs": [
    {
     "ename": "VisaIOError",
     "evalue": "('VI_ERROR_TMO (-1073807339): Timeout expired before operation completed.', \"asking 'SOUR:voltage?' to <Keithley2450: keithley2>\", 'getting keithley2_source_voltage')",
     "output_type": "error",
     "traceback": [
      "\u001b[1;31m---------------------------------------------------------------------------\u001b[0m",
      "\u001b[1;31mVisaIOError\u001b[0m                               Traceback (most recent call last)",
      "\u001b[1;32m<ipython-input-73-d2c9c5cf26bf>\u001b[0m in \u001b[0;36m<module>\u001b[1;34m\u001b[0m\n\u001b[1;32m----> 1\u001b[1;33m \u001b[0mkeith\u001b[0m\u001b[1;33m.\u001b[0m\u001b[0msource\u001b[0m\u001b[1;33m.\u001b[0m\u001b[0mvoltage\u001b[0m\u001b[1;33m(\u001b[0m\u001b[1;33m)\u001b[0m\u001b[1;33m\u001b[0m\u001b[1;33m\u001b[0m\u001b[0m\n\u001b[0m",
      "\u001b[1;32m~\\.conda\\envs\\Sara\\lib\\site-packages\\qcodes\\instrument\\parameter.py\u001b[0m in \u001b[0;36m__call__\u001b[1;34m(self, *args, **kwargs)\u001b[0m\n\u001b[0;32m    429\u001b[0m         \u001b[1;32mif\u001b[0m \u001b[0mlen\u001b[0m\u001b[1;33m(\u001b[0m\u001b[0margs\u001b[0m\u001b[1;33m)\u001b[0m \u001b[1;33m==\u001b[0m \u001b[1;36m0\u001b[0m \u001b[1;32mand\u001b[0m \u001b[0mlen\u001b[0m\u001b[1;33m(\u001b[0m\u001b[0mkwargs\u001b[0m\u001b[1;33m)\u001b[0m \u001b[1;33m==\u001b[0m \u001b[1;36m0\u001b[0m\u001b[1;33m:\u001b[0m\u001b[1;33m\u001b[0m\u001b[1;33m\u001b[0m\u001b[0m\n\u001b[0;32m    430\u001b[0m             \u001b[1;32mif\u001b[0m \u001b[0mself\u001b[0m\u001b[1;33m.\u001b[0m\u001b[0mgettable\u001b[0m\u001b[1;33m:\u001b[0m\u001b[1;33m\u001b[0m\u001b[1;33m\u001b[0m\u001b[0m\n\u001b[1;32m--> 431\u001b[1;33m                 \u001b[1;32mreturn\u001b[0m \u001b[0mself\u001b[0m\u001b[1;33m.\u001b[0m\u001b[0mget\u001b[0m\u001b[1;33m(\u001b[0m\u001b[1;33m)\u001b[0m\u001b[1;33m\u001b[0m\u001b[1;33m\u001b[0m\u001b[0m\n\u001b[0m\u001b[0;32m    432\u001b[0m             \u001b[1;32melse\u001b[0m\u001b[1;33m:\u001b[0m\u001b[1;33m\u001b[0m\u001b[1;33m\u001b[0m\u001b[0m\n\u001b[0;32m    433\u001b[0m                 raise NotImplementedError('no get cmd found in' +\n",
      "\u001b[1;32m~\\.conda\\envs\\Sara\\lib\\site-packages\\qcodes\\instrument\\parameter.py\u001b[0m in \u001b[0;36mget_wrapper\u001b[1;34m(*args, **kwargs)\u001b[0m\n\u001b[0;32m    632\u001b[0m             \u001b[1;32mexcept\u001b[0m \u001b[0mException\u001b[0m \u001b[1;32mas\u001b[0m \u001b[0me\u001b[0m\u001b[1;33m:\u001b[0m\u001b[1;33m\u001b[0m\u001b[1;33m\u001b[0m\u001b[0m\n\u001b[0;32m    633\u001b[0m                 \u001b[0me\u001b[0m\u001b[1;33m.\u001b[0m\u001b[0margs\u001b[0m \u001b[1;33m=\u001b[0m \u001b[0me\u001b[0m\u001b[1;33m.\u001b[0m\u001b[0margs\u001b[0m \u001b[1;33m+\u001b[0m \u001b[1;33m(\u001b[0m\u001b[1;34mf'getting {self}'\u001b[0m\u001b[1;33m,\u001b[0m\u001b[1;33m)\u001b[0m\u001b[1;33m\u001b[0m\u001b[1;33m\u001b[0m\u001b[0m\n\u001b[1;32m--> 634\u001b[1;33m                 \u001b[1;32mraise\u001b[0m \u001b[0me\u001b[0m\u001b[1;33m\u001b[0m\u001b[1;33m\u001b[0m\u001b[0m\n\u001b[0m\u001b[0;32m    635\u001b[0m \u001b[1;33m\u001b[0m\u001b[0m\n\u001b[0;32m    636\u001b[0m         \u001b[1;32mreturn\u001b[0m \u001b[0mget_wrapper\u001b[0m\u001b[1;33m\u001b[0m\u001b[1;33m\u001b[0m\u001b[0m\n",
      "\u001b[1;32m~\\.conda\\envs\\Sara\\lib\\site-packages\\qcodes\\instrument\\parameter.py\u001b[0m in \u001b[0;36mget_wrapper\u001b[1;34m(*args, **kwargs)\u001b[0m\n\u001b[0;32m    619\u001b[0m             \u001b[1;32mtry\u001b[0m\u001b[1;33m:\u001b[0m\u001b[1;33m\u001b[0m\u001b[1;33m\u001b[0m\u001b[0m\n\u001b[0;32m    620\u001b[0m                 \u001b[1;31m# There might be cases where a .get also has args/kwargs\u001b[0m\u001b[1;33m\u001b[0m\u001b[1;33m\u001b[0m\u001b[1;33m\u001b[0m\u001b[0m\n\u001b[1;32m--> 621\u001b[1;33m                 \u001b[0mraw_value\u001b[0m \u001b[1;33m=\u001b[0m \u001b[0mget_function\u001b[0m\u001b[1;33m(\u001b[0m\u001b[1;33m*\u001b[0m\u001b[0margs\u001b[0m\u001b[1;33m,\u001b[0m \u001b[1;33m**\u001b[0m\u001b[0mkwargs\u001b[0m\u001b[1;33m)\u001b[0m\u001b[1;33m\u001b[0m\u001b[1;33m\u001b[0m\u001b[0m\n\u001b[0m\u001b[0;32m    622\u001b[0m \u001b[1;33m\u001b[0m\u001b[0m\n\u001b[0;32m    623\u001b[0m                 \u001b[0mvalue\u001b[0m \u001b[1;33m=\u001b[0m \u001b[0mself\u001b[0m\u001b[1;33m.\u001b[0m\u001b[0m_from_raw_value_to_value\u001b[0m\u001b[1;33m(\u001b[0m\u001b[0mraw_value\u001b[0m\u001b[1;33m)\u001b[0m\u001b[1;33m\u001b[0m\u001b[1;33m\u001b[0m\u001b[0m\n",
      "\u001b[1;32m~\\.conda\\envs\\Sara\\lib\\site-packages\\qcodes\\utils\\command.py\u001b[0m in \u001b[0;36m__call__\u001b[1;34m(self, *args)\u001b[0m\n\u001b[0;32m    178\u001b[0m             raise TypeError(\n\u001b[0;32m    179\u001b[0m                 f'command takes exactly {self.arg_count} args')\n\u001b[1;32m--> 180\u001b[1;33m         \u001b[1;32mreturn\u001b[0m \u001b[0mself\u001b[0m\u001b[1;33m.\u001b[0m\u001b[0mexec_function\u001b[0m\u001b[1;33m(\u001b[0m\u001b[1;33m*\u001b[0m\u001b[0margs\u001b[0m\u001b[1;33m)\u001b[0m\u001b[1;33m\u001b[0m\u001b[1;33m\u001b[0m\u001b[0m\n\u001b[0m",
      "\u001b[1;32m~\\.conda\\envs\\Sara\\lib\\site-packages\\qcodes\\utils\\command.py\u001b[0m in \u001b[0;36mcall_by_str\u001b[1;34m(self, *args)\u001b[0m\n\u001b[0;32m    127\u001b[0m     \u001b[1;32mdef\u001b[0m \u001b[0mcall_by_str\u001b[0m\u001b[1;33m(\u001b[0m\u001b[0mself\u001b[0m\u001b[1;33m,\u001b[0m \u001b[1;33m*\u001b[0m\u001b[0margs\u001b[0m\u001b[1;33m)\u001b[0m\u001b[1;33m:\u001b[0m\u001b[1;33m\u001b[0m\u001b[1;33m\u001b[0m\u001b[0m\n\u001b[0;32m    128\u001b[0m         \u001b[1;34m\"\"\"Execute a formatted string.\"\"\"\u001b[0m\u001b[1;33m\u001b[0m\u001b[1;33m\u001b[0m\u001b[0m\n\u001b[1;32m--> 129\u001b[1;33m         \u001b[1;32mreturn\u001b[0m \u001b[0mself\u001b[0m\u001b[1;33m.\u001b[0m\u001b[0mexec_str\u001b[0m\u001b[1;33m(\u001b[0m\u001b[0mself\u001b[0m\u001b[1;33m.\u001b[0m\u001b[0mcmd_str\u001b[0m\u001b[1;33m.\u001b[0m\u001b[0mformat\u001b[0m\u001b[1;33m(\u001b[0m\u001b[1;33m*\u001b[0m\u001b[0margs\u001b[0m\u001b[1;33m)\u001b[0m\u001b[1;33m)\u001b[0m\u001b[1;33m\u001b[0m\u001b[1;33m\u001b[0m\u001b[0m\n\u001b[0m\u001b[0;32m    130\u001b[0m \u001b[1;33m\u001b[0m\u001b[0m\n\u001b[0;32m    131\u001b[0m     \u001b[1;32mdef\u001b[0m \u001b[0mcall_by_str_parsed_out\u001b[0m\u001b[1;33m(\u001b[0m\u001b[0mself\u001b[0m\u001b[1;33m,\u001b[0m \u001b[1;33m*\u001b[0m\u001b[0margs\u001b[0m\u001b[1;33m)\u001b[0m\u001b[1;33m:\u001b[0m\u001b[1;33m\u001b[0m\u001b[1;33m\u001b[0m\u001b[0m\n",
      "\u001b[1;32m~\\.conda\\envs\\Sara\\lib\\site-packages\\qcodes\\instrument\\channel.py\u001b[0m in \u001b[0;36mask\u001b[1;34m(self, cmd)\u001b[0m\n\u001b[0;32m     59\u001b[0m \u001b[1;33m\u001b[0m\u001b[0m\n\u001b[0;32m     60\u001b[0m     \u001b[1;32mdef\u001b[0m \u001b[0mask\u001b[0m\u001b[1;33m(\u001b[0m\u001b[0mself\u001b[0m\u001b[1;33m,\u001b[0m \u001b[0mcmd\u001b[0m\u001b[1;33m:\u001b[0m \u001b[0mstr\u001b[0m\u001b[1;33m)\u001b[0m \u001b[1;33m->\u001b[0m \u001b[0mstr\u001b[0m\u001b[1;33m:\u001b[0m\u001b[1;33m\u001b[0m\u001b[1;33m\u001b[0m\u001b[0m\n\u001b[1;32m---> 61\u001b[1;33m         \u001b[1;32mreturn\u001b[0m \u001b[0mself\u001b[0m\u001b[1;33m.\u001b[0m\u001b[0m_parent\u001b[0m\u001b[1;33m.\u001b[0m\u001b[0mask\u001b[0m\u001b[1;33m(\u001b[0m\u001b[0mcmd\u001b[0m\u001b[1;33m)\u001b[0m\u001b[1;33m\u001b[0m\u001b[1;33m\u001b[0m\u001b[0m\n\u001b[0m\u001b[0;32m     62\u001b[0m \u001b[1;33m\u001b[0m\u001b[0m\n\u001b[0;32m     63\u001b[0m     \u001b[1;32mdef\u001b[0m \u001b[0mask_raw\u001b[0m\u001b[1;33m(\u001b[0m\u001b[0mself\u001b[0m\u001b[1;33m,\u001b[0m \u001b[0mcmd\u001b[0m\u001b[1;33m:\u001b[0m \u001b[0mstr\u001b[0m\u001b[1;33m)\u001b[0m \u001b[1;33m->\u001b[0m \u001b[0mstr\u001b[0m\u001b[1;33m:\u001b[0m\u001b[1;33m\u001b[0m\u001b[1;33m\u001b[0m\u001b[0m\n",
      "\u001b[1;32m~\\.conda\\envs\\Sara\\lib\\site-packages\\qcodes\\instrument\\base.py\u001b[0m in \u001b[0;36mask\u001b[1;34m(self, cmd)\u001b[0m\n\u001b[0;32m    789\u001b[0m             \u001b[0minst\u001b[0m \u001b[1;33m=\u001b[0m \u001b[0mrepr\u001b[0m\u001b[1;33m(\u001b[0m\u001b[0mself\u001b[0m\u001b[1;33m)\u001b[0m\u001b[1;33m\u001b[0m\u001b[1;33m\u001b[0m\u001b[0m\n\u001b[0;32m    790\u001b[0m             \u001b[0me\u001b[0m\u001b[1;33m.\u001b[0m\u001b[0margs\u001b[0m \u001b[1;33m=\u001b[0m \u001b[0me\u001b[0m\u001b[1;33m.\u001b[0m\u001b[0margs\u001b[0m \u001b[1;33m+\u001b[0m \u001b[1;33m(\u001b[0m\u001b[1;34m'asking '\u001b[0m \u001b[1;33m+\u001b[0m \u001b[0mrepr\u001b[0m\u001b[1;33m(\u001b[0m\u001b[0mcmd\u001b[0m\u001b[1;33m)\u001b[0m \u001b[1;33m+\u001b[0m \u001b[1;34m' to '\u001b[0m \u001b[1;33m+\u001b[0m \u001b[0minst\u001b[0m\u001b[1;33m,\u001b[0m\u001b[1;33m)\u001b[0m\u001b[1;33m\u001b[0m\u001b[1;33m\u001b[0m\u001b[0m\n\u001b[1;32m--> 791\u001b[1;33m             \u001b[1;32mraise\u001b[0m \u001b[0me\u001b[0m\u001b[1;33m\u001b[0m\u001b[1;33m\u001b[0m\u001b[0m\n\u001b[0m\u001b[0;32m    792\u001b[0m \u001b[1;33m\u001b[0m\u001b[0m\n\u001b[0;32m    793\u001b[0m     \u001b[1;32mdef\u001b[0m \u001b[0mask_raw\u001b[0m\u001b[1;33m(\u001b[0m\u001b[0mself\u001b[0m\u001b[1;33m,\u001b[0m \u001b[0mcmd\u001b[0m\u001b[1;33m:\u001b[0m \u001b[0mstr\u001b[0m\u001b[1;33m)\u001b[0m \u001b[1;33m->\u001b[0m \u001b[0mstr\u001b[0m\u001b[1;33m:\u001b[0m\u001b[1;33m\u001b[0m\u001b[1;33m\u001b[0m\u001b[0m\n",
      "\u001b[1;32m~\\.conda\\envs\\Sara\\lib\\site-packages\\qcodes\\instrument\\base.py\u001b[0m in \u001b[0;36mask\u001b[1;34m(self, cmd)\u001b[0m\n\u001b[0;32m    782\u001b[0m         \"\"\"\n\u001b[0;32m    783\u001b[0m         \u001b[1;32mtry\u001b[0m\u001b[1;33m:\u001b[0m\u001b[1;33m\u001b[0m\u001b[1;33m\u001b[0m\u001b[0m\n\u001b[1;32m--> 784\u001b[1;33m             \u001b[0manswer\u001b[0m \u001b[1;33m=\u001b[0m \u001b[0mself\u001b[0m\u001b[1;33m.\u001b[0m\u001b[0mask_raw\u001b[0m\u001b[1;33m(\u001b[0m\u001b[0mcmd\u001b[0m\u001b[1;33m)\u001b[0m\u001b[1;33m\u001b[0m\u001b[1;33m\u001b[0m\u001b[0m\n\u001b[0m\u001b[0;32m    785\u001b[0m \u001b[1;33m\u001b[0m\u001b[0m\n\u001b[0;32m    786\u001b[0m             \u001b[1;32mreturn\u001b[0m \u001b[0manswer\u001b[0m\u001b[1;33m\u001b[0m\u001b[1;33m\u001b[0m\u001b[0m\n",
      "\u001b[1;32m~\\.conda\\envs\\Sara\\lib\\site-packages\\qcodes\\instrument\\visa.py\u001b[0m in \u001b[0;36mask_raw\u001b[1;34m(self, cmd)\u001b[0m\n\u001b[0;32m    233\u001b[0m         \u001b[1;32mwith\u001b[0m \u001b[0mDelayedKeyboardInterrupt\u001b[0m\u001b[1;33m(\u001b[0m\u001b[1;33m)\u001b[0m\u001b[1;33m:\u001b[0m\u001b[1;33m\u001b[0m\u001b[1;33m\u001b[0m\u001b[0m\n\u001b[0;32m    234\u001b[0m             \u001b[0mself\u001b[0m\u001b[1;33m.\u001b[0m\u001b[0mvisa_log\u001b[0m\u001b[1;33m.\u001b[0m\u001b[0mdebug\u001b[0m\u001b[1;33m(\u001b[0m\u001b[1;34mf\"Querying: {cmd}\"\u001b[0m\u001b[1;33m)\u001b[0m\u001b[1;33m\u001b[0m\u001b[1;33m\u001b[0m\u001b[0m\n\u001b[1;32m--> 235\u001b[1;33m             \u001b[0mresponse\u001b[0m \u001b[1;33m=\u001b[0m \u001b[0mself\u001b[0m\u001b[1;33m.\u001b[0m\u001b[0mvisa_handle\u001b[0m\u001b[1;33m.\u001b[0m\u001b[0mquery\u001b[0m\u001b[1;33m(\u001b[0m\u001b[0mcmd\u001b[0m\u001b[1;33m)\u001b[0m\u001b[1;33m\u001b[0m\u001b[1;33m\u001b[0m\u001b[0m\n\u001b[0m\u001b[0;32m    236\u001b[0m             \u001b[0mself\u001b[0m\u001b[1;33m.\u001b[0m\u001b[0mvisa_log\u001b[0m\u001b[1;33m.\u001b[0m\u001b[0mdebug\u001b[0m\u001b[1;33m(\u001b[0m\u001b[1;34mf\"Response: {response}\"\u001b[0m\u001b[1;33m)\u001b[0m\u001b[1;33m\u001b[0m\u001b[1;33m\u001b[0m\u001b[0m\n\u001b[0;32m    237\u001b[0m         \u001b[1;32mreturn\u001b[0m \u001b[0mresponse\u001b[0m\u001b[1;33m\u001b[0m\u001b[1;33m\u001b[0m\u001b[0m\n",
      "\u001b[1;32m~\\.conda\\envs\\Sara\\lib\\site-packages\\pyvisa\\resources\\messagebased.py\u001b[0m in \u001b[0;36mquery\u001b[1;34m(self, message, delay)\u001b[0m\n\u001b[0;32m    636\u001b[0m \u001b[1;33m\u001b[0m\u001b[0m\n\u001b[0;32m    637\u001b[0m         \"\"\"\n\u001b[1;32m--> 638\u001b[1;33m         \u001b[0mself\u001b[0m\u001b[1;33m.\u001b[0m\u001b[0mwrite\u001b[0m\u001b[1;33m(\u001b[0m\u001b[0mmessage\u001b[0m\u001b[1;33m)\u001b[0m\u001b[1;33m\u001b[0m\u001b[1;33m\u001b[0m\u001b[0m\n\u001b[0m\u001b[0;32m    639\u001b[0m \u001b[1;33m\u001b[0m\u001b[0m\n\u001b[0;32m    640\u001b[0m         \u001b[0mdelay\u001b[0m \u001b[1;33m=\u001b[0m \u001b[0mself\u001b[0m\u001b[1;33m.\u001b[0m\u001b[0mquery_delay\u001b[0m \u001b[1;32mif\u001b[0m \u001b[0mdelay\u001b[0m \u001b[1;32mis\u001b[0m \u001b[1;32mNone\u001b[0m \u001b[1;32melse\u001b[0m \u001b[0mdelay\u001b[0m\u001b[1;33m\u001b[0m\u001b[1;33m\u001b[0m\u001b[0m\n",
      "\u001b[1;32m~\\.conda\\envs\\Sara\\lib\\site-packages\\pyvisa\\resources\\messagebased.py\u001b[0m in \u001b[0;36mwrite\u001b[1;34m(self, message, termination, encoding)\u001b[0m\n\u001b[0;32m    195\u001b[0m             \u001b[0mmessage\u001b[0m \u001b[1;33m+=\u001b[0m \u001b[0mterm\u001b[0m\u001b[1;33m\u001b[0m\u001b[1;33m\u001b[0m\u001b[0m\n\u001b[0;32m    196\u001b[0m \u001b[1;33m\u001b[0m\u001b[0m\n\u001b[1;32m--> 197\u001b[1;33m         \u001b[0mcount\u001b[0m \u001b[1;33m=\u001b[0m \u001b[0mself\u001b[0m\u001b[1;33m.\u001b[0m\u001b[0mwrite_raw\u001b[0m\u001b[1;33m(\u001b[0m\u001b[0mmessage\u001b[0m\u001b[1;33m.\u001b[0m\u001b[0mencode\u001b[0m\u001b[1;33m(\u001b[0m\u001b[0menco\u001b[0m\u001b[1;33m)\u001b[0m\u001b[1;33m)\u001b[0m\u001b[1;33m\u001b[0m\u001b[1;33m\u001b[0m\u001b[0m\n\u001b[0m\u001b[0;32m    198\u001b[0m \u001b[1;33m\u001b[0m\u001b[0m\n\u001b[0;32m    199\u001b[0m         \u001b[1;32mreturn\u001b[0m \u001b[0mcount\u001b[0m\u001b[1;33m\u001b[0m\u001b[1;33m\u001b[0m\u001b[0m\n",
      "\u001b[1;32m~\\.conda\\envs\\Sara\\lib\\site-packages\\pyvisa\\resources\\messagebased.py\u001b[0m in \u001b[0;36mwrite_raw\u001b[1;34m(self, message)\u001b[0m\n\u001b[0;32m    155\u001b[0m \u001b[1;33m\u001b[0m\u001b[0m\n\u001b[0;32m    156\u001b[0m         \"\"\"\n\u001b[1;32m--> 157\u001b[1;33m         \u001b[1;32mreturn\u001b[0m \u001b[0mself\u001b[0m\u001b[1;33m.\u001b[0m\u001b[0mvisalib\u001b[0m\u001b[1;33m.\u001b[0m\u001b[0mwrite\u001b[0m\u001b[1;33m(\u001b[0m\u001b[0mself\u001b[0m\u001b[1;33m.\u001b[0m\u001b[0msession\u001b[0m\u001b[1;33m,\u001b[0m \u001b[0mmessage\u001b[0m\u001b[1;33m)\u001b[0m\u001b[1;33m[\u001b[0m\u001b[1;36m0\u001b[0m\u001b[1;33m]\u001b[0m\u001b[1;33m\u001b[0m\u001b[1;33m\u001b[0m\u001b[0m\n\u001b[0m\u001b[0;32m    158\u001b[0m \u001b[1;33m\u001b[0m\u001b[0m\n\u001b[0;32m    159\u001b[0m     def write(\n",
      "\u001b[1;32m~\\.conda\\envs\\Sara\\lib\\site-packages\\pyvisa\\ctwrapper\\functions.py\u001b[0m in \u001b[0;36mwrite\u001b[1;34m(library, session, data)\u001b[0m\n\u001b[0;32m   2794\u001b[0m     \u001b[0mreturn_count\u001b[0m \u001b[1;33m=\u001b[0m \u001b[0mViUInt32\u001b[0m\u001b[1;33m(\u001b[0m\u001b[1;33m)\u001b[0m\u001b[1;33m\u001b[0m\u001b[1;33m\u001b[0m\u001b[0m\n\u001b[0;32m   2795\u001b[0m     \u001b[1;31m# [ViSession, ViBuf, ViUInt32, ViPUInt32]\u001b[0m\u001b[1;33m\u001b[0m\u001b[1;33m\u001b[0m\u001b[1;33m\u001b[0m\u001b[0m\n\u001b[1;32m-> 2796\u001b[1;33m     \u001b[0mret\u001b[0m \u001b[1;33m=\u001b[0m \u001b[0mlibrary\u001b[0m\u001b[1;33m.\u001b[0m\u001b[0mviWrite\u001b[0m\u001b[1;33m(\u001b[0m\u001b[0msession\u001b[0m\u001b[1;33m,\u001b[0m \u001b[0mdata\u001b[0m\u001b[1;33m,\u001b[0m \u001b[0mlen\u001b[0m\u001b[1;33m(\u001b[0m\u001b[0mdata\u001b[0m\u001b[1;33m)\u001b[0m\u001b[1;33m,\u001b[0m \u001b[0mbyref\u001b[0m\u001b[1;33m(\u001b[0m\u001b[0mreturn_count\u001b[0m\u001b[1;33m)\u001b[0m\u001b[1;33m)\u001b[0m\u001b[1;33m\u001b[0m\u001b[1;33m\u001b[0m\u001b[0m\n\u001b[0m\u001b[0;32m   2797\u001b[0m     \u001b[1;32mreturn\u001b[0m \u001b[0mreturn_count\u001b[0m\u001b[1;33m.\u001b[0m\u001b[0mvalue\u001b[0m\u001b[1;33m,\u001b[0m \u001b[0mret\u001b[0m\u001b[1;33m\u001b[0m\u001b[1;33m\u001b[0m\u001b[0m\n\u001b[0;32m   2798\u001b[0m \u001b[1;33m\u001b[0m\u001b[0m\n",
      "\u001b[1;32m~\\.conda\\envs\\Sara\\lib\\site-packages\\pyvisa\\ctwrapper\\highlevel.py\u001b[0m in \u001b[0;36m_return_handler\u001b[1;34m(self, ret_value, func, arguments)\u001b[0m\n\u001b[0;32m    220\u001b[0m                 \u001b[0msession\u001b[0m \u001b[1;33m=\u001b[0m \u001b[1;32mNone\u001b[0m\u001b[1;33m\u001b[0m\u001b[1;33m\u001b[0m\u001b[0m\n\u001b[0;32m    221\u001b[0m \u001b[1;33m\u001b[0m\u001b[0m\n\u001b[1;32m--> 222\u001b[1;33m         \u001b[1;32mreturn\u001b[0m \u001b[0mself\u001b[0m\u001b[1;33m.\u001b[0m\u001b[0mhandle_return_value\u001b[0m\u001b[1;33m(\u001b[0m\u001b[0msession\u001b[0m\u001b[1;33m,\u001b[0m \u001b[0mret_value\u001b[0m\u001b[1;33m)\u001b[0m  \u001b[1;31m# type: ignore\u001b[0m\u001b[1;33m\u001b[0m\u001b[1;33m\u001b[0m\u001b[0m\n\u001b[0m\u001b[0;32m    223\u001b[0m \u001b[1;33m\u001b[0m\u001b[0m\n\u001b[0;32m    224\u001b[0m     def list_resources(\n",
      "\u001b[1;32m~\\.conda\\envs\\Sara\\lib\\site-packages\\pyvisa\\highlevel.py\u001b[0m in \u001b[0;36mhandle_return_value\u001b[1;34m(self, session, status_code)\u001b[0m\n\u001b[0;32m    249\u001b[0m \u001b[1;33m\u001b[0m\u001b[0m\n\u001b[0;32m    250\u001b[0m         \u001b[1;32mif\u001b[0m \u001b[0mrv\u001b[0m \u001b[1;33m<\u001b[0m \u001b[1;36m0\u001b[0m\u001b[1;33m:\u001b[0m\u001b[1;33m\u001b[0m\u001b[1;33m\u001b[0m\u001b[0m\n\u001b[1;32m--> 251\u001b[1;33m             \u001b[1;32mraise\u001b[0m \u001b[0merrors\u001b[0m\u001b[1;33m.\u001b[0m\u001b[0mVisaIOError\u001b[0m\u001b[1;33m(\u001b[0m\u001b[0mrv\u001b[0m\u001b[1;33m)\u001b[0m\u001b[1;33m\u001b[0m\u001b[1;33m\u001b[0m\u001b[0m\n\u001b[0m\u001b[0;32m    252\u001b[0m \u001b[1;33m\u001b[0m\u001b[0m\n\u001b[0;32m    253\u001b[0m         \u001b[1;32mif\u001b[0m \u001b[0mrv\u001b[0m \u001b[1;32min\u001b[0m \u001b[0mself\u001b[0m\u001b[1;33m.\u001b[0m\u001b[0missue_warning_on\u001b[0m\u001b[1;33m:\u001b[0m\u001b[1;33m\u001b[0m\u001b[1;33m\u001b[0m\u001b[0m\n",
      "\u001b[1;31mVisaIOError\u001b[0m: ('VI_ERROR_TMO (-1073807339): Timeout expired before operation completed.', \"asking 'SOUR:voltage?' to <Keithley2450: keithley2>\", 'getting keithley2_source_voltage')"
     ]
    }
   ],
   "source": [
    "keith.source.voltage()"
   ]
  },
  {
   "cell_type": "code",
   "execution_count": 71,
   "metadata": {
    "ExecuteTime": {
     "end_time": "2021-10-18T01:05:59.740061Z",
     "start_time": "2021-10-18T01:05:49.159991Z"
    },
    "collapsed": true
   },
   "outputs": [
    {
     "name": "stdout",
     "output_type": "stream",
     "text": [
      "Starting experimental run with id: 132. Using 'qcodes.utils.dataset.doNd.do1d'\n"
     ]
    },
    {
     "name": "stderr",
     "output_type": "stream",
     "text": [
      "2021-10-17 21:05:59,641 ¦ qcodes.dataset.measurements ¦ WARNING ¦ measurements ¦ __exit__ ¦ 635 ¦ An exception occured in measurement with guid: aaaaaaaa-0000-0000-0000-017c90eeea84;\n",
      "Traceback:\n",
      "Traceback (most recent call last):\n",
      "  File \"C:\\Users\\Admin\\.conda\\envs\\Sara\\lib\\site-packages\\qcodes\\utils\\dataset\\doNd.py\", line 271, in do1d\n",
      "    param_set.set(set_point)\n",
      "  File \"C:\\Users\\Admin\\.conda\\envs\\Sara\\lib\\site-packages\\qcodes\\instrument\\parameter.py\", line 690, in set_wrapper\n",
      "    raise e\n",
      "  File \"C:\\Users\\Admin\\.conda\\envs\\Sara\\lib\\site-packages\\qcodes\\instrument\\parameter.py\", line 674, in set_wrapper\n",
      "    set_function(raw_val_step, **kwargs)\n",
      "  File \"C:\\Users\\Admin\\.conda\\envs\\Sara\\lib\\site-packages\\qcodes\\utils\\command.py\", line 180, in __call__\n",
      "    return self.exec_function(*args)\n",
      "  File \"C:\\Users\\Admin\\.conda\\envs\\Sara\\lib\\site-packages\\qcodes\\utils\\command.py\", line 129, in call_by_str\n",
      "    return self.exec_str(self.cmd_str.format(*args))\n",
      "  File \"C:\\Users\\Admin\\.conda\\envs\\Sara\\lib\\site-packages\\qcodes\\instrument\\channel.py\", line 55, in write\n",
      "    return self._parent.write(cmd)\n",
      "  File \"C:\\Users\\Admin\\.conda\\envs\\Sara\\lib\\site-packages\\qcodes\\instrument\\base.py\", line 748, in write\n",
      "    raise e\n",
      "  File \"C:\\Users\\Admin\\.conda\\envs\\Sara\\lib\\site-packages\\qcodes\\instrument\\base.py\", line 744, in write\n",
      "    self.write_raw(cmd)\n",
      "  File \"C:\\Users\\Admin\\.conda\\envs\\Sara\\lib\\site-packages\\qcodes\\instrument\\visa.py\", line 221, in write_raw\n",
      "    self.visa_handle.write(cmd)\n",
      "  File \"C:\\Users\\Admin\\.conda\\envs\\Sara\\lib\\site-packages\\pyvisa\\resources\\messagebased.py\", line 197, in write\n",
      "    count = self.write_raw(message.encode(enco))\n",
      "  File \"C:\\Users\\Admin\\.conda\\envs\\Sara\\lib\\site-packages\\pyvisa\\resources\\messagebased.py\", line 157, in write_raw\n",
      "    return self.visalib.write(self.session, message)[0]\n",
      "  File \"C:\\Users\\Admin\\.conda\\envs\\Sara\\lib\\site-packages\\pyvisa\\ctwrapper\\functions.py\", line 2796, in write\n",
      "    ret = library.viWrite(session, data, len(data), byref(return_count))\n",
      "  File \"C:\\Users\\Admin\\.conda\\envs\\Sara\\lib\\site-packages\\pyvisa\\ctwrapper\\highlevel.py\", line 222, in _return_handler\n",
      "    return self.handle_return_value(session, ret_value)  # type: ignore\n",
      "  File \"C:\\Users\\Admin\\.conda\\envs\\Sara\\lib\\site-packages\\pyvisa\\highlevel.py\", line 251, in handle_return_value\n",
      "    raise errors.VisaIOError(rv)\n",
      "pyvisa.errors.VisaIOError: ('VI_ERROR_TMO (-1073807339): Timeout expired before operation completed.', \"writing 'SOUR:voltage 0.568' to <Keithley2450: keithley2>\", 'setting keithley2_source_voltage to 0.568')\n",
      "\n"
     ]
    },
    {
     "ename": "VisaIOError",
     "evalue": "('VI_ERROR_TMO (-1073807339): Timeout expired before operation completed.', \"writing 'SOUR:voltage 0.568' to <Keithley2450: keithley2>\", 'setting keithley2_source_voltage to 0.568')",
     "output_type": "error",
     "traceback": [
      "\u001b[1;31m---------------------------------------------------------------------------\u001b[0m",
      "\u001b[1;31mVisaIOError\u001b[0m                               Traceback (most recent call last)",
      "\u001b[1;32m<ipython-input-71-76d7bf44b732>\u001b[0m in \u001b[0;36m<module>\u001b[1;34m\u001b[0m\n\u001b[1;32m----> 1\u001b[1;33m \u001b[0mdo1d\u001b[0m\u001b[1;33m(\u001b[0m\u001b[0mkeith\u001b[0m\u001b[1;33m.\u001b[0m\u001b[0msource\u001b[0m\u001b[1;33m.\u001b[0m\u001b[0mvoltage\u001b[0m\u001b[1;33m,\u001b[0m \u001b[1;36m0.568\u001b[0m\u001b[1;33m,\u001b[0m \u001b[1;36m0\u001b[0m\u001b[1;33m,\u001b[0m \u001b[1;36m570\u001b[0m\u001b[1;33m,\u001b[0m \u001b[1;36m0.3\u001b[0m\u001b[1;33m,\u001b[0m \u001b[0mrxx1\u001b[0m\u001b[1;33m.\u001b[0m\u001b[0mX\u001b[0m\u001b[1;33m,\u001b[0m \u001b[0mrxy\u001b[0m\u001b[1;33m.\u001b[0m\u001b[0mX\u001b[0m\u001b[1;33m,\u001b[0m \u001b[0mrxx2\u001b[0m\u001b[1;33m.\u001b[0m\u001b[0mX\u001b[0m\u001b[1;33m,\u001b[0m \u001b[0mrxy\u001b[0m\u001b[1;33m.\u001b[0m\u001b[0mP\u001b[0m\u001b[1;33m,\u001b[0m \u001b[0mkeith\u001b[0m\u001b[1;33m.\u001b[0m\u001b[0msense\u001b[0m\u001b[1;33m.\u001b[0m\u001b[0mcurrent\u001b[0m\u001b[1;33m,\u001b[0m \u001b[0mdo_plot\u001b[0m \u001b[1;33m=\u001b[0m \u001b[1;32mFalse\u001b[0m\u001b[1;33m)\u001b[0m\u001b[1;33m\u001b[0m\u001b[1;33m\u001b[0m\u001b[0m\n\u001b[0m",
      "\u001b[1;32m~\\.conda\\envs\\Sara\\lib\\site-packages\\qcodes\\utils\\dataset\\doNd.py\u001b[0m in \u001b[0;36mdo1d\u001b[1;34m(param_set, start, stop, num_points, delay, enter_actions, exit_actions, write_period, measurement_name, exp, do_plot, use_threads, additional_setpoints, show_progress, log_info, *param_meas)\u001b[0m\n\u001b[0;32m    269\u001b[0m \u001b[1;33m\u001b[0m\u001b[0m\n\u001b[0;32m    270\u001b[0m         \u001b[1;32mfor\u001b[0m \u001b[0mset_point\u001b[0m \u001b[1;32min\u001b[0m \u001b[0mtqdm\u001b[0m\u001b[1;33m(\u001b[0m\u001b[0msetpoints\u001b[0m\u001b[1;33m,\u001b[0m \u001b[0mdisable\u001b[0m\u001b[1;33m=\u001b[0m\u001b[1;32mnot\u001b[0m \u001b[0mshow_progress\u001b[0m\u001b[1;33m)\u001b[0m\u001b[1;33m:\u001b[0m\u001b[1;33m\u001b[0m\u001b[1;33m\u001b[0m\u001b[0m\n\u001b[1;32m--> 271\u001b[1;33m             \u001b[0mparam_set\u001b[0m\u001b[1;33m.\u001b[0m\u001b[0mset\u001b[0m\u001b[1;33m(\u001b[0m\u001b[0mset_point\u001b[0m\u001b[1;33m)\u001b[0m\u001b[1;33m\u001b[0m\u001b[1;33m\u001b[0m\u001b[0m\n\u001b[0m\u001b[0;32m    272\u001b[0m             datasaver.add_result(\n\u001b[0;32m    273\u001b[0m                 \u001b[1;33m(\u001b[0m\u001b[0mparam_set\u001b[0m\u001b[1;33m,\u001b[0m \u001b[0mset_point\u001b[0m\u001b[1;33m)\u001b[0m\u001b[1;33m,\u001b[0m\u001b[1;33m\u001b[0m\u001b[1;33m\u001b[0m\u001b[0m\n",
      "\u001b[1;32m~\\.conda\\envs\\Sara\\lib\\site-packages\\qcodes\\instrument\\parameter.py\u001b[0m in \u001b[0;36mset_wrapper\u001b[1;34m(value, **kwargs)\u001b[0m\n\u001b[0;32m    688\u001b[0m             \u001b[1;32mexcept\u001b[0m \u001b[0mException\u001b[0m \u001b[1;32mas\u001b[0m \u001b[0me\u001b[0m\u001b[1;33m:\u001b[0m\u001b[1;33m\u001b[0m\u001b[1;33m\u001b[0m\u001b[0m\n\u001b[0;32m    689\u001b[0m                 \u001b[0me\u001b[0m\u001b[1;33m.\u001b[0m\u001b[0margs\u001b[0m \u001b[1;33m=\u001b[0m \u001b[0me\u001b[0m\u001b[1;33m.\u001b[0m\u001b[0margs\u001b[0m \u001b[1;33m+\u001b[0m \u001b[1;33m(\u001b[0m\u001b[1;34mf'setting {self} to {value}'\u001b[0m\u001b[1;33m,\u001b[0m\u001b[1;33m)\u001b[0m\u001b[1;33m\u001b[0m\u001b[1;33m\u001b[0m\u001b[0m\n\u001b[1;32m--> 690\u001b[1;33m                 \u001b[1;32mraise\u001b[0m \u001b[0me\u001b[0m\u001b[1;33m\u001b[0m\u001b[1;33m\u001b[0m\u001b[0m\n\u001b[0m\u001b[0;32m    691\u001b[0m \u001b[1;33m\u001b[0m\u001b[0m\n\u001b[0;32m    692\u001b[0m         \u001b[1;32mreturn\u001b[0m \u001b[0mset_wrapper\u001b[0m\u001b[1;33m\u001b[0m\u001b[1;33m\u001b[0m\u001b[0m\n",
      "\u001b[1;32m~\\.conda\\envs\\Sara\\lib\\site-packages\\qcodes\\instrument\\parameter.py\u001b[0m in \u001b[0;36mset_wrapper\u001b[1;34m(value, **kwargs)\u001b[0m\n\u001b[0;32m    672\u001b[0m                     \u001b[0mt0\u001b[0m \u001b[1;33m=\u001b[0m \u001b[0mtime\u001b[0m\u001b[1;33m.\u001b[0m\u001b[0mperf_counter\u001b[0m\u001b[1;33m(\u001b[0m\u001b[1;33m)\u001b[0m\u001b[1;33m\u001b[0m\u001b[1;33m\u001b[0m\u001b[0m\n\u001b[0;32m    673\u001b[0m \u001b[1;33m\u001b[0m\u001b[0m\n\u001b[1;32m--> 674\u001b[1;33m                     \u001b[0mset_function\u001b[0m\u001b[1;33m(\u001b[0m\u001b[0mraw_val_step\u001b[0m\u001b[1;33m,\u001b[0m \u001b[1;33m**\u001b[0m\u001b[0mkwargs\u001b[0m\u001b[1;33m)\u001b[0m\u001b[1;33m\u001b[0m\u001b[1;33m\u001b[0m\u001b[0m\n\u001b[0m\u001b[0;32m    675\u001b[0m \u001b[1;33m\u001b[0m\u001b[0m\n\u001b[0;32m    676\u001b[0m                     \u001b[1;31m# Update last set time (used for calculating delays)\u001b[0m\u001b[1;33m\u001b[0m\u001b[1;33m\u001b[0m\u001b[1;33m\u001b[0m\u001b[0m\n",
      "\u001b[1;32m~\\.conda\\envs\\Sara\\lib\\site-packages\\qcodes\\utils\\command.py\u001b[0m in \u001b[0;36m__call__\u001b[1;34m(self, *args)\u001b[0m\n\u001b[0;32m    178\u001b[0m             raise TypeError(\n\u001b[0;32m    179\u001b[0m                 f'command takes exactly {self.arg_count} args')\n\u001b[1;32m--> 180\u001b[1;33m         \u001b[1;32mreturn\u001b[0m \u001b[0mself\u001b[0m\u001b[1;33m.\u001b[0m\u001b[0mexec_function\u001b[0m\u001b[1;33m(\u001b[0m\u001b[1;33m*\u001b[0m\u001b[0margs\u001b[0m\u001b[1;33m)\u001b[0m\u001b[1;33m\u001b[0m\u001b[1;33m\u001b[0m\u001b[0m\n\u001b[0m",
      "\u001b[1;32m~\\.conda\\envs\\Sara\\lib\\site-packages\\qcodes\\utils\\command.py\u001b[0m in \u001b[0;36mcall_by_str\u001b[1;34m(self, *args)\u001b[0m\n\u001b[0;32m    127\u001b[0m     \u001b[1;32mdef\u001b[0m \u001b[0mcall_by_str\u001b[0m\u001b[1;33m(\u001b[0m\u001b[0mself\u001b[0m\u001b[1;33m,\u001b[0m \u001b[1;33m*\u001b[0m\u001b[0margs\u001b[0m\u001b[1;33m)\u001b[0m\u001b[1;33m:\u001b[0m\u001b[1;33m\u001b[0m\u001b[1;33m\u001b[0m\u001b[0m\n\u001b[0;32m    128\u001b[0m         \u001b[1;34m\"\"\"Execute a formatted string.\"\"\"\u001b[0m\u001b[1;33m\u001b[0m\u001b[1;33m\u001b[0m\u001b[0m\n\u001b[1;32m--> 129\u001b[1;33m         \u001b[1;32mreturn\u001b[0m \u001b[0mself\u001b[0m\u001b[1;33m.\u001b[0m\u001b[0mexec_str\u001b[0m\u001b[1;33m(\u001b[0m\u001b[0mself\u001b[0m\u001b[1;33m.\u001b[0m\u001b[0mcmd_str\u001b[0m\u001b[1;33m.\u001b[0m\u001b[0mformat\u001b[0m\u001b[1;33m(\u001b[0m\u001b[1;33m*\u001b[0m\u001b[0margs\u001b[0m\u001b[1;33m)\u001b[0m\u001b[1;33m)\u001b[0m\u001b[1;33m\u001b[0m\u001b[1;33m\u001b[0m\u001b[0m\n\u001b[0m\u001b[0;32m    130\u001b[0m \u001b[1;33m\u001b[0m\u001b[0m\n\u001b[0;32m    131\u001b[0m     \u001b[1;32mdef\u001b[0m \u001b[0mcall_by_str_parsed_out\u001b[0m\u001b[1;33m(\u001b[0m\u001b[0mself\u001b[0m\u001b[1;33m,\u001b[0m \u001b[1;33m*\u001b[0m\u001b[0margs\u001b[0m\u001b[1;33m)\u001b[0m\u001b[1;33m:\u001b[0m\u001b[1;33m\u001b[0m\u001b[1;33m\u001b[0m\u001b[0m\n",
      "\u001b[1;32m~\\.conda\\envs\\Sara\\lib\\site-packages\\qcodes\\instrument\\channel.py\u001b[0m in \u001b[0;36mwrite\u001b[1;34m(self, cmd)\u001b[0m\n\u001b[0;32m     53\u001b[0m     \u001b[1;31m# Pass any commands to read or write from the instrument up to the parent\u001b[0m\u001b[1;33m\u001b[0m\u001b[1;33m\u001b[0m\u001b[1;33m\u001b[0m\u001b[0m\n\u001b[0;32m     54\u001b[0m     \u001b[1;32mdef\u001b[0m \u001b[0mwrite\u001b[0m\u001b[1;33m(\u001b[0m\u001b[0mself\u001b[0m\u001b[1;33m,\u001b[0m \u001b[0mcmd\u001b[0m\u001b[1;33m:\u001b[0m \u001b[0mstr\u001b[0m\u001b[1;33m)\u001b[0m \u001b[1;33m->\u001b[0m \u001b[1;32mNone\u001b[0m\u001b[1;33m:\u001b[0m\u001b[1;33m\u001b[0m\u001b[1;33m\u001b[0m\u001b[0m\n\u001b[1;32m---> 55\u001b[1;33m         \u001b[1;32mreturn\u001b[0m \u001b[0mself\u001b[0m\u001b[1;33m.\u001b[0m\u001b[0m_parent\u001b[0m\u001b[1;33m.\u001b[0m\u001b[0mwrite\u001b[0m\u001b[1;33m(\u001b[0m\u001b[0mcmd\u001b[0m\u001b[1;33m)\u001b[0m\u001b[1;33m\u001b[0m\u001b[1;33m\u001b[0m\u001b[0m\n\u001b[0m\u001b[0;32m     56\u001b[0m \u001b[1;33m\u001b[0m\u001b[0m\n\u001b[0;32m     57\u001b[0m     \u001b[1;32mdef\u001b[0m \u001b[0mwrite_raw\u001b[0m\u001b[1;33m(\u001b[0m\u001b[0mself\u001b[0m\u001b[1;33m,\u001b[0m \u001b[0mcmd\u001b[0m\u001b[1;33m:\u001b[0m \u001b[0mstr\u001b[0m\u001b[1;33m)\u001b[0m \u001b[1;33m->\u001b[0m \u001b[1;32mNone\u001b[0m\u001b[1;33m:\u001b[0m\u001b[1;33m\u001b[0m\u001b[1;33m\u001b[0m\u001b[0m\n",
      "\u001b[1;32m~\\.conda\\envs\\Sara\\lib\\site-packages\\qcodes\\instrument\\base.py\u001b[0m in \u001b[0;36mwrite\u001b[1;34m(self, cmd)\u001b[0m\n\u001b[0;32m    746\u001b[0m             \u001b[0minst\u001b[0m \u001b[1;33m=\u001b[0m \u001b[0mrepr\u001b[0m\u001b[1;33m(\u001b[0m\u001b[0mself\u001b[0m\u001b[1;33m)\u001b[0m\u001b[1;33m\u001b[0m\u001b[1;33m\u001b[0m\u001b[0m\n\u001b[0;32m    747\u001b[0m             \u001b[0me\u001b[0m\u001b[1;33m.\u001b[0m\u001b[0margs\u001b[0m \u001b[1;33m=\u001b[0m \u001b[0me\u001b[0m\u001b[1;33m.\u001b[0m\u001b[0margs\u001b[0m \u001b[1;33m+\u001b[0m \u001b[1;33m(\u001b[0m\u001b[1;34m'writing '\u001b[0m \u001b[1;33m+\u001b[0m \u001b[0mrepr\u001b[0m\u001b[1;33m(\u001b[0m\u001b[0mcmd\u001b[0m\u001b[1;33m)\u001b[0m \u001b[1;33m+\u001b[0m \u001b[1;34m' to '\u001b[0m \u001b[1;33m+\u001b[0m \u001b[0minst\u001b[0m\u001b[1;33m,\u001b[0m\u001b[1;33m)\u001b[0m\u001b[1;33m\u001b[0m\u001b[1;33m\u001b[0m\u001b[0m\n\u001b[1;32m--> 748\u001b[1;33m             \u001b[1;32mraise\u001b[0m \u001b[0me\u001b[0m\u001b[1;33m\u001b[0m\u001b[1;33m\u001b[0m\u001b[0m\n\u001b[0m\u001b[0;32m    749\u001b[0m \u001b[1;33m\u001b[0m\u001b[0m\n\u001b[0;32m    750\u001b[0m     \u001b[1;32mdef\u001b[0m \u001b[0mwrite_raw\u001b[0m\u001b[1;33m(\u001b[0m\u001b[0mself\u001b[0m\u001b[1;33m,\u001b[0m \u001b[0mcmd\u001b[0m\u001b[1;33m:\u001b[0m \u001b[0mstr\u001b[0m\u001b[1;33m)\u001b[0m \u001b[1;33m->\u001b[0m \u001b[1;32mNone\u001b[0m\u001b[1;33m:\u001b[0m\u001b[1;33m\u001b[0m\u001b[1;33m\u001b[0m\u001b[0m\n",
      "\u001b[1;32m~\\.conda\\envs\\Sara\\lib\\site-packages\\qcodes\\instrument\\base.py\u001b[0m in \u001b[0;36mwrite\u001b[1;34m(self, cmd)\u001b[0m\n\u001b[0;32m    742\u001b[0m         \"\"\"\n\u001b[0;32m    743\u001b[0m         \u001b[1;32mtry\u001b[0m\u001b[1;33m:\u001b[0m\u001b[1;33m\u001b[0m\u001b[1;33m\u001b[0m\u001b[0m\n\u001b[1;32m--> 744\u001b[1;33m             \u001b[0mself\u001b[0m\u001b[1;33m.\u001b[0m\u001b[0mwrite_raw\u001b[0m\u001b[1;33m(\u001b[0m\u001b[0mcmd\u001b[0m\u001b[1;33m)\u001b[0m\u001b[1;33m\u001b[0m\u001b[1;33m\u001b[0m\u001b[0m\n\u001b[0m\u001b[0;32m    745\u001b[0m         \u001b[1;32mexcept\u001b[0m \u001b[0mException\u001b[0m \u001b[1;32mas\u001b[0m \u001b[0me\u001b[0m\u001b[1;33m:\u001b[0m\u001b[1;33m\u001b[0m\u001b[1;33m\u001b[0m\u001b[0m\n\u001b[0;32m    746\u001b[0m             \u001b[0minst\u001b[0m \u001b[1;33m=\u001b[0m \u001b[0mrepr\u001b[0m\u001b[1;33m(\u001b[0m\u001b[0mself\u001b[0m\u001b[1;33m)\u001b[0m\u001b[1;33m\u001b[0m\u001b[1;33m\u001b[0m\u001b[0m\n",
      "\u001b[1;32m~\\.conda\\envs\\Sara\\lib\\site-packages\\qcodes\\instrument\\visa.py\u001b[0m in \u001b[0;36mwrite_raw\u001b[1;34m(self, cmd)\u001b[0m\n\u001b[0;32m    219\u001b[0m         \u001b[1;32mwith\u001b[0m \u001b[0mDelayedKeyboardInterrupt\u001b[0m\u001b[1;33m(\u001b[0m\u001b[1;33m)\u001b[0m\u001b[1;33m:\u001b[0m\u001b[1;33m\u001b[0m\u001b[1;33m\u001b[0m\u001b[0m\n\u001b[0;32m    220\u001b[0m             \u001b[0mself\u001b[0m\u001b[1;33m.\u001b[0m\u001b[0mvisa_log\u001b[0m\u001b[1;33m.\u001b[0m\u001b[0mdebug\u001b[0m\u001b[1;33m(\u001b[0m\u001b[1;34mf\"Writing: {cmd}\"\u001b[0m\u001b[1;33m)\u001b[0m\u001b[1;33m\u001b[0m\u001b[1;33m\u001b[0m\u001b[0m\n\u001b[1;32m--> 221\u001b[1;33m             \u001b[0mself\u001b[0m\u001b[1;33m.\u001b[0m\u001b[0mvisa_handle\u001b[0m\u001b[1;33m.\u001b[0m\u001b[0mwrite\u001b[0m\u001b[1;33m(\u001b[0m\u001b[0mcmd\u001b[0m\u001b[1;33m)\u001b[0m\u001b[1;33m\u001b[0m\u001b[1;33m\u001b[0m\u001b[0m\n\u001b[0m\u001b[0;32m    222\u001b[0m \u001b[1;33m\u001b[0m\u001b[0m\n\u001b[0;32m    223\u001b[0m     \u001b[1;32mdef\u001b[0m \u001b[0mask_raw\u001b[0m\u001b[1;33m(\u001b[0m\u001b[0mself\u001b[0m\u001b[1;33m,\u001b[0m \u001b[0mcmd\u001b[0m\u001b[1;33m:\u001b[0m \u001b[0mstr\u001b[0m\u001b[1;33m)\u001b[0m \u001b[1;33m->\u001b[0m \u001b[0mstr\u001b[0m\u001b[1;33m:\u001b[0m\u001b[1;33m\u001b[0m\u001b[1;33m\u001b[0m\u001b[0m\n",
      "\u001b[1;32m~\\.conda\\envs\\Sara\\lib\\site-packages\\pyvisa\\resources\\messagebased.py\u001b[0m in \u001b[0;36mwrite\u001b[1;34m(self, message, termination, encoding)\u001b[0m\n\u001b[0;32m    195\u001b[0m             \u001b[0mmessage\u001b[0m \u001b[1;33m+=\u001b[0m \u001b[0mterm\u001b[0m\u001b[1;33m\u001b[0m\u001b[1;33m\u001b[0m\u001b[0m\n\u001b[0;32m    196\u001b[0m \u001b[1;33m\u001b[0m\u001b[0m\n\u001b[1;32m--> 197\u001b[1;33m         \u001b[0mcount\u001b[0m \u001b[1;33m=\u001b[0m \u001b[0mself\u001b[0m\u001b[1;33m.\u001b[0m\u001b[0mwrite_raw\u001b[0m\u001b[1;33m(\u001b[0m\u001b[0mmessage\u001b[0m\u001b[1;33m.\u001b[0m\u001b[0mencode\u001b[0m\u001b[1;33m(\u001b[0m\u001b[0menco\u001b[0m\u001b[1;33m)\u001b[0m\u001b[1;33m)\u001b[0m\u001b[1;33m\u001b[0m\u001b[1;33m\u001b[0m\u001b[0m\n\u001b[0m\u001b[0;32m    198\u001b[0m \u001b[1;33m\u001b[0m\u001b[0m\n\u001b[0;32m    199\u001b[0m         \u001b[1;32mreturn\u001b[0m \u001b[0mcount\u001b[0m\u001b[1;33m\u001b[0m\u001b[1;33m\u001b[0m\u001b[0m\n",
      "\u001b[1;32m~\\.conda\\envs\\Sara\\lib\\site-packages\\pyvisa\\resources\\messagebased.py\u001b[0m in \u001b[0;36mwrite_raw\u001b[1;34m(self, message)\u001b[0m\n\u001b[0;32m    155\u001b[0m \u001b[1;33m\u001b[0m\u001b[0m\n\u001b[0;32m    156\u001b[0m         \"\"\"\n\u001b[1;32m--> 157\u001b[1;33m         \u001b[1;32mreturn\u001b[0m \u001b[0mself\u001b[0m\u001b[1;33m.\u001b[0m\u001b[0mvisalib\u001b[0m\u001b[1;33m.\u001b[0m\u001b[0mwrite\u001b[0m\u001b[1;33m(\u001b[0m\u001b[0mself\u001b[0m\u001b[1;33m.\u001b[0m\u001b[0msession\u001b[0m\u001b[1;33m,\u001b[0m \u001b[0mmessage\u001b[0m\u001b[1;33m)\u001b[0m\u001b[1;33m[\u001b[0m\u001b[1;36m0\u001b[0m\u001b[1;33m]\u001b[0m\u001b[1;33m\u001b[0m\u001b[1;33m\u001b[0m\u001b[0m\n\u001b[0m\u001b[0;32m    158\u001b[0m \u001b[1;33m\u001b[0m\u001b[0m\n\u001b[0;32m    159\u001b[0m     def write(\n",
      "\u001b[1;32m~\\.conda\\envs\\Sara\\lib\\site-packages\\pyvisa\\ctwrapper\\functions.py\u001b[0m in \u001b[0;36mwrite\u001b[1;34m(library, session, data)\u001b[0m\n\u001b[0;32m   2794\u001b[0m     \u001b[0mreturn_count\u001b[0m \u001b[1;33m=\u001b[0m \u001b[0mViUInt32\u001b[0m\u001b[1;33m(\u001b[0m\u001b[1;33m)\u001b[0m\u001b[1;33m\u001b[0m\u001b[1;33m\u001b[0m\u001b[0m\n\u001b[0;32m   2795\u001b[0m     \u001b[1;31m# [ViSession, ViBuf, ViUInt32, ViPUInt32]\u001b[0m\u001b[1;33m\u001b[0m\u001b[1;33m\u001b[0m\u001b[1;33m\u001b[0m\u001b[0m\n\u001b[1;32m-> 2796\u001b[1;33m     \u001b[0mret\u001b[0m \u001b[1;33m=\u001b[0m \u001b[0mlibrary\u001b[0m\u001b[1;33m.\u001b[0m\u001b[0mviWrite\u001b[0m\u001b[1;33m(\u001b[0m\u001b[0msession\u001b[0m\u001b[1;33m,\u001b[0m \u001b[0mdata\u001b[0m\u001b[1;33m,\u001b[0m \u001b[0mlen\u001b[0m\u001b[1;33m(\u001b[0m\u001b[0mdata\u001b[0m\u001b[1;33m)\u001b[0m\u001b[1;33m,\u001b[0m \u001b[0mbyref\u001b[0m\u001b[1;33m(\u001b[0m\u001b[0mreturn_count\u001b[0m\u001b[1;33m)\u001b[0m\u001b[1;33m)\u001b[0m\u001b[1;33m\u001b[0m\u001b[1;33m\u001b[0m\u001b[0m\n\u001b[0m\u001b[0;32m   2797\u001b[0m     \u001b[1;32mreturn\u001b[0m \u001b[0mreturn_count\u001b[0m\u001b[1;33m.\u001b[0m\u001b[0mvalue\u001b[0m\u001b[1;33m,\u001b[0m \u001b[0mret\u001b[0m\u001b[1;33m\u001b[0m\u001b[1;33m\u001b[0m\u001b[0m\n\u001b[0;32m   2798\u001b[0m \u001b[1;33m\u001b[0m\u001b[0m\n",
      "\u001b[1;32m~\\.conda\\envs\\Sara\\lib\\site-packages\\pyvisa\\ctwrapper\\highlevel.py\u001b[0m in \u001b[0;36m_return_handler\u001b[1;34m(self, ret_value, func, arguments)\u001b[0m\n\u001b[0;32m    220\u001b[0m                 \u001b[0msession\u001b[0m \u001b[1;33m=\u001b[0m \u001b[1;32mNone\u001b[0m\u001b[1;33m\u001b[0m\u001b[1;33m\u001b[0m\u001b[0m\n\u001b[0;32m    221\u001b[0m \u001b[1;33m\u001b[0m\u001b[0m\n\u001b[1;32m--> 222\u001b[1;33m         \u001b[1;32mreturn\u001b[0m \u001b[0mself\u001b[0m\u001b[1;33m.\u001b[0m\u001b[0mhandle_return_value\u001b[0m\u001b[1;33m(\u001b[0m\u001b[0msession\u001b[0m\u001b[1;33m,\u001b[0m \u001b[0mret_value\u001b[0m\u001b[1;33m)\u001b[0m  \u001b[1;31m# type: ignore\u001b[0m\u001b[1;33m\u001b[0m\u001b[1;33m\u001b[0m\u001b[0m\n\u001b[0m\u001b[0;32m    223\u001b[0m \u001b[1;33m\u001b[0m\u001b[0m\n\u001b[0;32m    224\u001b[0m     def list_resources(\n",
      "\u001b[1;32m~\\.conda\\envs\\Sara\\lib\\site-packages\\pyvisa\\highlevel.py\u001b[0m in \u001b[0;36mhandle_return_value\u001b[1;34m(self, session, status_code)\u001b[0m\n\u001b[0;32m    249\u001b[0m \u001b[1;33m\u001b[0m\u001b[0m\n\u001b[0;32m    250\u001b[0m         \u001b[1;32mif\u001b[0m \u001b[0mrv\u001b[0m \u001b[1;33m<\u001b[0m \u001b[1;36m0\u001b[0m\u001b[1;33m:\u001b[0m\u001b[1;33m\u001b[0m\u001b[1;33m\u001b[0m\u001b[0m\n\u001b[1;32m--> 251\u001b[1;33m             \u001b[1;32mraise\u001b[0m \u001b[0merrors\u001b[0m\u001b[1;33m.\u001b[0m\u001b[0mVisaIOError\u001b[0m\u001b[1;33m(\u001b[0m\u001b[0mrv\u001b[0m\u001b[1;33m)\u001b[0m\u001b[1;33m\u001b[0m\u001b[1;33m\u001b[0m\u001b[0m\n\u001b[0m\u001b[0;32m    252\u001b[0m \u001b[1;33m\u001b[0m\u001b[0m\n\u001b[0;32m    253\u001b[0m         \u001b[1;32mif\u001b[0m \u001b[0mrv\u001b[0m \u001b[1;32min\u001b[0m \u001b[0mself\u001b[0m\u001b[1;33m.\u001b[0m\u001b[0missue_warning_on\u001b[0m\u001b[1;33m:\u001b[0m\u001b[1;33m\u001b[0m\u001b[1;33m\u001b[0m\u001b[0m\n",
      "\u001b[1;31mVisaIOError\u001b[0m: ('VI_ERROR_TMO (-1073807339): Timeout expired before operation completed.', \"writing 'SOUR:voltage 0.568' to <Keithley2450: keithley2>\", 'setting keithley2_source_voltage to 0.568')"
     ]
    }
   ],
   "source": [
    "do1d(keith.source.voltage, 0.568, 0, 570, 0.3, rxx1.X, rxy.X, rxx2.X, rxy.P, keith.sense.current, do_plot = False)"
   ]
  },
  {
   "cell_type": "markdown",
   "metadata": {},
   "source": [
    "# Change from Keithley 2450 to 2600"
   ]
  },
  {
   "cell_type": "code",
   "execution_count": 8,
   "metadata": {
    "ExecuteTime": {
     "end_time": "2021-10-19T16:22:40.233545Z",
     "start_time": "2021-10-19T16:22:40.184543Z"
    }
   },
   "outputs": [
    {
     "name": "stdout",
     "output_type": "stream",
     "text": [
      "Connected to: Keithley Instruments Inc. 2612B (serial:4357525, firmware:3.2.2) in 0.05s\n"
     ]
    }
   ],
   "source": [
    "smu=Keithley_2600('smu', 'GPIB1::26::INSTR')"
   ]
  },
  {
   "cell_type": "code",
   "execution_count": 9,
   "metadata": {
    "ExecuteTime": {
     "end_time": "2021-10-18T19:45:35.128432Z",
     "start_time": "2021-10-18T19:45:35.118432Z"
    }
   },
   "outputs": [],
   "source": [
    "smu.smua.limiti(10e-9)\n",
    "smu.smua.volt.step = 0.001\n",
    "smu.smua.limitv(2)"
   ]
  },
  {
   "cell_type": "code",
   "execution_count": 11,
   "metadata": {
    "ExecuteTime": {
     "end_time": "2021-10-18T19:45:42.379628Z",
     "start_time": "2021-10-18T19:45:42.232621Z"
    }
   },
   "outputs": [],
   "source": [
    "mag120.sweeprate_field(0.05)\n",
    "mag120.current_setpoint(0)\n",
    "mag120.to_setpoint()"
   ]
  },
  {
   "cell_type": "markdown",
   "metadata": {},
   "source": [
    "# Test time measurement with B =0.1T"
   ]
  },
  {
   "cell_type": "code",
   "execution_count": 11,
   "metadata": {
    "ExecuteTime": {
     "end_time": "2021-10-18T14:10:27.436379Z",
     "start_time": "2021-10-18T14:10:27.397378Z"
    }
   },
   "outputs": [],
   "source": [
    "from qcodes.instrument.specialized_parameters import ElapsedTimeParameter"
   ]
  },
  {
   "cell_type": "code",
   "execution_count": 17,
   "metadata": {
    "ExecuteTime": {
     "end_time": "2021-10-18T14:11:22.650744Z",
     "start_time": "2021-10-18T14:11:17.578661Z"
    }
   },
   "outputs": [
    {
     "name": "stdout",
     "output_type": "stream",
     "text": [
      "Starting experimental run with id: 134. \n"
     ]
    }
   ],
   "source": [
    "time1 = ElapsedTimeParameter('time1')\n",
    "meas = Measurement()\n",
    "meas.register_parameter(time1)\n",
    "meas.register_parameter(rxx1.X, setpoints=[time1])\n",
    "meas.register_parameter(rxy.X, setpoints=[time1])\n",
    "meas.register_parameter(rxx2.X, setpoints=[time1])\n",
    "\n",
    "with meas.run() as datasaver:\n",
    "    time1.reset_clock()\n",
    "    for _ in range(200): # 200 is 4 s\n",
    "        now = time1()\n",
    "        datasaver.add_result((time1, now), (rxx1.X, rxx1.X()),(rxy.X, rxy.X()),(rxx2.X,rxx2.X()))\n",
    "\n",
    "dataset = datasaver.dataset"
   ]
  },
  {
   "cell_type": "code",
   "execution_count": 18,
   "metadata": {
    "ExecuteTime": {
     "end_time": "2021-10-18T14:12:56.279185Z",
     "start_time": "2021-10-18T14:12:08.156386Z"
    }
   },
   "outputs": [
    {
     "name": "stdout",
     "output_type": "stream",
     "text": [
      "Starting experimental run with id: 135. \n"
     ]
    }
   ],
   "source": [
    "with meas.run() as datasaver:\n",
    "    time1.reset_clock()\n",
    "    for _ in range(2000): # 2000 is 47 s\n",
    "        now = time1()\n",
    "        datasaver.add_result((time1, now), (rxx1.X, rxx1.X()),(rxy.X, rxy.X()),(rxx2.X,rxx2.X()))\n",
    "\n",
    "dataset = datasaver.dataset"
   ]
  },
  {
   "cell_type": "markdown",
   "metadata": {},
   "source": [
    "# Test Keithley Vg grounded"
   ]
  },
  {
   "cell_type": "code",
   "execution_count": 20,
   "metadata": {
    "ExecuteTime": {
     "end_time": "2021-10-18T14:19:29.478727Z",
     "start_time": "2021-10-18T14:18:19.624995Z"
    },
    "collapsed": true
   },
   "outputs": [
    {
     "name": "stdout",
     "output_type": "stream",
     "text": [
      "Starting experimental run with id: 136. Using 'qcodes.utils.dataset.doNd.do1d'\n"
     ]
    },
    {
     "data": {
      "text/plain": [
       "(results #136@C:\\Users\\Sara\\DataBases\\M12-09-20.1SM1\\M12-09-20.1SM1.db\n",
       " ---------------------------------------------------------------------\n",
       " smu_smua_volt - numeric\n",
       " Beast_X - numeric\n",
       " Dilbert_X - numeric\n",
       " Beast_P - numeric\n",
       " Dilbert_P - numeric\n",
       " smu_smua_curr - numeric,\n",
       " [<AxesSubplot:title={'center':'Run #136, Experiment Test stepping Bfield 20mT/min 0.5mT steps  Vg=0.21V Tc=1s (75um HB)'}, xlabel='Voltage (mV)', ylabel='In-phase Magnitude (mV)'>,\n",
       "  <AxesSubplot:title={'center':'Run #136, Experiment Test stepping Bfield 20mT/min 0.5mT steps  Vg=0.21V Tc=1s (75um HB)'}, xlabel='Voltage (mV)', ylabel='X (μV)'>,\n",
       "  <AxesSubplot:title={'center':'Run #136, Experiment Test stepping Bfield 20mT/min 0.5mT steps  Vg=0.21V Tc=1s (75um HB)'}, xlabel='Voltage (mV)', ylabel='Phase (deg)'>,\n",
       "  <AxesSubplot:title={'center':'Run #136, Experiment Test stepping Bfield 20mT/min 0.5mT steps  Vg=0.21V Tc=1s (75um HB)'}, xlabel='Voltage (mV)', ylabel='P ($10^{-3}$ deg)'>,\n",
       "  <AxesSubplot:title={'center':'Run #136, Experiment Test stepping Bfield 20mT/min 0.5mT steps  Vg=0.21V Tc=1s (75um HB)'}, xlabel='Voltage (mV)', ylabel='Current (nA)'>],\n",
       " [None, None, None, None, None])"
      ]
     },
     "execution_count": 20,
     "metadata": {},
     "output_type": "execute_result"
    },
    {
     "data": {
      "image/png": "[encoded data removed]",
      "text/plain": [
       "<Figure size 432x288 with 1 Axes>"
      ]
     },
     "metadata": {
      "needs_background": "light"
     },
     "output_type": "display_data"
    },
    {
     "data": {
      "image/png": "[encoded data removed]",
      "text/plain": [
       "<Figure size 432x288 with 1 Axes>"
      ]
     },
     "metadata": {
      "needs_background": "light"
     },
     "output_type": "display_data"
    },
    {
     "data": {
      "image/png": "[encoded data removed]",
      "text/plain": [
       "<Figure size 432x288 with 1 Axes>"
      ]
     },
     "metadata": {
      "needs_background": "light"
     },
     "output_type": "display_data"
    },
    {
     "data": {
      "image/png": "[encoded data removed]",
      "text/plain": [
       "<Figure size 432x288 with 1 Axes>"
      ]
     },
     "metadata": {
      "needs_background": "light"
     },
     "output_type": "display_data"
    },
    {
     "data": {
      "image/png": "[encoded data removed]",
      "text/plain": [
       "<Figure size 432x288 with 1 Axes>"
      ]
     },
     "metadata": {
      "needs_background": "light"
     },
     "output_type": "display_data"
    }
   ],
   "source": [
    "do1d(smu.smua.volt, 0, 0.1, 100, 0.3, rxx1.X, rxy.X, rxx1.P, rxy.P, smu.smua.curr, do_plot = True)"
   ]
  },
  {
   "cell_type": "code",
   "execution_count": 21,
   "metadata": {
    "ExecuteTime": {
     "end_time": "2021-10-18T14:20:38.222134Z",
     "start_time": "2021-10-18T14:19:29.506729Z"
    },
    "scrolled": true
   },
   "outputs": [
    {
     "name": "stdout",
     "output_type": "stream",
     "text": [
      "Starting experimental run with id: 137. Using 'qcodes.utils.dataset.doNd.do1d'\n"
     ]
    },
    {
     "data": {
      "text/plain": [
       "(results #137@C:\\Users\\Sara\\DataBases\\M12-09-20.1SM1\\M12-09-20.1SM1.db\n",
       " ---------------------------------------------------------------------\n",
       " smu_smua_volt - numeric\n",
       " Beast_X - numeric\n",
       " Dilbert_X - numeric\n",
       " Beast_P - numeric\n",
       " Dilbert_P - numeric\n",
       " smu_smua_curr - numeric,\n",
       " [<AxesSubplot:title={'center':'Run #137, Experiment Test stepping Bfield 20mT/min 0.5mT steps  Vg=0.21V Tc=1s (75um HB)'}, xlabel='Voltage (mV)', ylabel='In-phase Magnitude (mV)'>,\n",
       "  <AxesSubplot:title={'center':'Run #137, Experiment Test stepping Bfield 20mT/min 0.5mT steps  Vg=0.21V Tc=1s (75um HB)'}, xlabel='Voltage (mV)', ylabel='X (μV)'>,\n",
       "  <AxesSubplot:title={'center':'Run #137, Experiment Test stepping Bfield 20mT/min 0.5mT steps  Vg=0.21V Tc=1s (75um HB)'}, xlabel='Voltage (mV)', ylabel='Phase (deg)'>,\n",
       "  <AxesSubplot:title={'center':'Run #137, Experiment Test stepping Bfield 20mT/min 0.5mT steps  Vg=0.21V Tc=1s (75um HB)'}, xlabel='Voltage (mV)', ylabel='P (deg)'>,\n",
       "  <AxesSubplot:title={'center':'Run #137, Experiment Test stepping Bfield 20mT/min 0.5mT steps  Vg=0.21V Tc=1s (75um HB)'}, xlabel='Voltage (mV)', ylabel='Current (nA)'>],\n",
       " [None, None, None, None, None])"
      ]
     },
     "execution_count": 21,
     "metadata": {},
     "output_type": "execute_result"
    },
    {
     "data": {
      "image/png": "[encoded data removed]",
      "text/plain": [
       "<Figure size 432x288 with 1 Axes>"
      ]
     },
     "metadata": {
      "needs_background": "light"
     },
     "output_type": "display_data"
    },
    {
     "data": {
      "image/png": "[encoded data removed]",
      "text/plain": [
       "<Figure size 432x288 with 1 Axes>"
      ]
     },
     "metadata": {
      "needs_background": "light"
     },
     "output_type": "display_data"
    },
    {
     "data": {
      "image/png": "[encoded data removed]",
      "text/plain": [
       "<Figure size 432x288 with 1 Axes>"
      ]
     },
     "metadata": {
      "needs_background": "light"
     },
     "output_type": "display_data"
    },
    {
     "data": {
      "image/png": "[encoded data removed]",
      "text/plain": [
       "<Figure size 432x288 with 1 Axes>"
      ]
     },
     "metadata": {
      "needs_background": "light"
     },
     "output_type": "display_data"
    },
    {
     "data": {
      "image/png": "[encoded data removed]",
      "text/plain": [
       "<Figure size 432x288 with 1 Axes>"
      ]
     },
     "metadata": {
      "needs_background": "light"
     },
     "output_type": "display_data"
    }
   ],
   "source": [
    "do1d(smu.smua.volt, 0.1, 0, 100, 0.3, rxx1.X, rxy.X, rxx1.P, rxy.P, smu.smua.curr, do_plot = False)"
   ]
  },
  {
   "cell_type": "code",
   "execution_count": 22,
   "metadata": {
    "ExecuteTime": {
     "end_time": "2021-10-18T14:21:52.752008Z",
     "start_time": "2021-10-18T14:21:27.955675Z"
    },
    "collapsed": true
   },
   "outputs": [
    {
     "name": "stdout",
     "output_type": "stream",
     "text": [
      "Starting experimental run with id: 138. Using 'qcodes.utils.dataset.doNd.do1d'\n"
     ]
    },
    {
     "name": "stderr",
     "output_type": "stream",
     "text": [
      "2021-10-18 10:21:52,681 ¦ qcodes.dataset.measurements ¦ WARNING ¦ measurements ¦ __exit__ ¦ 635 ¦ An exception occured in measurement with guid: aaaaaaaa-0000-0000-0000-017c93c75a62;\n",
      "Traceback:\n",
      "Traceback (most recent call last):\n",
      "  File \"C:\\Users\\Admin\\.conda\\envs\\Sara\\lib\\site-packages\\qcodes\\utils\\dataset\\doNd.py\", line 271, in do1d\n",
      "    param_set.set(set_point)\n",
      "  File \"C:\\Users\\Admin\\.conda\\envs\\Sara\\lib\\site-packages\\qcodes\\instrument\\parameter.py\", line 683, in set_wrapper\n",
      "    time.sleep(self.post_delay - t_elapsed)\n",
      "KeyboardInterrupt\n",
      "\n"
     ]
    },
    {
     "ename": "KeyboardInterrupt",
     "evalue": "",
     "output_type": "error",
     "traceback": [
      "\u001b[1;31m---------------------------------------------------------------------------\u001b[0m",
      "\u001b[1;31mKeyboardInterrupt\u001b[0m                         Traceback (most recent call last)",
      "\u001b[1;32m<ipython-input-22-184ebbb260d6>\u001b[0m in \u001b[0;36m<module>\u001b[1;34m\u001b[0m\n\u001b[0;32m      1\u001b[0m \u001b[0mexp\u001b[0m \u001b[1;33m=\u001b[0m \u001b[0mload_or_create_experiment\u001b[0m\u001b[1;33m(\u001b[0m\u001b[1;34m'Remeasure Denisty vs Vg '\u001b[0m\u001b[1;33m,\u001b[0m \u001b[1;34m'75um HB'\u001b[0m\u001b[1;33m)\u001b[0m\u001b[1;33m\u001b[0m\u001b[1;33m\u001b[0m\u001b[0m\n\u001b[1;32m----> 2\u001b[1;33m \u001b[0mdo1d\u001b[0m\u001b[1;33m(\u001b[0m\u001b[0msmu\u001b[0m\u001b[1;33m.\u001b[0m\u001b[0msmua\u001b[0m\u001b[1;33m.\u001b[0m\u001b[0mvolt\u001b[0m\u001b[1;33m,\u001b[0m \u001b[1;36m0\u001b[0m\u001b[1;33m,\u001b[0m \u001b[1;36m0.55\u001b[0m\u001b[1;33m,\u001b[0m \u001b[1;36m550\u001b[0m\u001b[1;33m,\u001b[0m \u001b[1;36m0.3\u001b[0m\u001b[1;33m,\u001b[0m \u001b[0mrxx1\u001b[0m\u001b[1;33m.\u001b[0m\u001b[0mX\u001b[0m\u001b[1;33m,\u001b[0m \u001b[0mrxy\u001b[0m\u001b[1;33m.\u001b[0m\u001b[0mX\u001b[0m\u001b[1;33m,\u001b[0m \u001b[0mrxx1\u001b[0m\u001b[1;33m.\u001b[0m\u001b[0mP\u001b[0m\u001b[1;33m,\u001b[0m \u001b[0mrxy\u001b[0m\u001b[1;33m.\u001b[0m\u001b[0mP\u001b[0m\u001b[1;33m,\u001b[0m \u001b[0msmu\u001b[0m\u001b[1;33m.\u001b[0m\u001b[0msmua\u001b[0m\u001b[1;33m.\u001b[0m\u001b[0mcurr\u001b[0m\u001b[1;33m,\u001b[0m \u001b[0mdo_plot\u001b[0m \u001b[1;33m=\u001b[0m \u001b[1;32mFalse\u001b[0m\u001b[1;33m)\u001b[0m\u001b[1;33m\u001b[0m\u001b[1;33m\u001b[0m\u001b[0m\n\u001b[0m\u001b[0;32m      3\u001b[0m \u001b[0mdo1d\u001b[0m\u001b[1;33m(\u001b[0m\u001b[0msmu\u001b[0m\u001b[1;33m.\u001b[0m\u001b[0msmua\u001b[0m\u001b[1;33m.\u001b[0m\u001b[0mvolt\u001b[0m\u001b[1;33m,\u001b[0m \u001b[1;36m0.55\u001b[0m\u001b[1;33m,\u001b[0m \u001b[1;36m0\u001b[0m\u001b[1;33m,\u001b[0m \u001b[1;36m550\u001b[0m\u001b[1;33m,\u001b[0m \u001b[1;36m0.3\u001b[0m\u001b[1;33m,\u001b[0m \u001b[0mrxx1\u001b[0m\u001b[1;33m.\u001b[0m\u001b[0mX\u001b[0m\u001b[1;33m,\u001b[0m \u001b[0mrxy\u001b[0m\u001b[1;33m.\u001b[0m\u001b[0mX\u001b[0m\u001b[1;33m,\u001b[0m \u001b[0mrxx1\u001b[0m\u001b[1;33m.\u001b[0m\u001b[0mP\u001b[0m\u001b[1;33m,\u001b[0m \u001b[0mrxy\u001b[0m\u001b[1;33m.\u001b[0m\u001b[0mP\u001b[0m\u001b[1;33m,\u001b[0m \u001b[0msmu\u001b[0m\u001b[1;33m.\u001b[0m\u001b[0msmua\u001b[0m\u001b[1;33m.\u001b[0m\u001b[0mcurr\u001b[0m\u001b[1;33m,\u001b[0m \u001b[0mdo_plot\u001b[0m \u001b[1;33m=\u001b[0m \u001b[1;32mFalse\u001b[0m\u001b[1;33m)\u001b[0m\u001b[1;33m\u001b[0m\u001b[1;33m\u001b[0m\u001b[0m\n",
      "\u001b[1;32m~\\.conda\\envs\\Sara\\lib\\site-packages\\qcodes\\utils\\dataset\\doNd.py\u001b[0m in \u001b[0;36mdo1d\u001b[1;34m(param_set, start, stop, num_points, delay, enter_actions, exit_actions, write_period, measurement_name, exp, do_plot, use_threads, additional_setpoints, show_progress, log_info, *param_meas)\u001b[0m\n\u001b[0;32m    278\u001b[0m     \u001b[0mparam_set\u001b[0m\u001b[1;33m.\u001b[0m\u001b[0mpost_delay\u001b[0m \u001b[1;33m=\u001b[0m \u001b[0moriginal_delay\u001b[0m\u001b[1;33m\u001b[0m\u001b[1;33m\u001b[0m\u001b[0m\n\u001b[0;32m    279\u001b[0m \u001b[1;33m\u001b[0m\u001b[0m\n\u001b[1;32m--> 280\u001b[1;33m     \u001b[1;32mreturn\u001b[0m \u001b[0m_handle_plotting\u001b[0m\u001b[1;33m(\u001b[0m\u001b[0mdataset\u001b[0m\u001b[1;33m,\u001b[0m \u001b[0mdo_plot\u001b[0m\u001b[1;33m,\u001b[0m \u001b[0minterrupted\u001b[0m\u001b[1;33m(\u001b[0m\u001b[1;33m)\u001b[0m\u001b[1;33m)\u001b[0m\u001b[1;33m\u001b[0m\u001b[1;33m\u001b[0m\u001b[0m\n\u001b[0m\u001b[0;32m    281\u001b[0m \u001b[1;33m\u001b[0m\u001b[0m\n\u001b[0;32m    282\u001b[0m \u001b[1;33m\u001b[0m\u001b[0m\n",
      "\u001b[1;32m~\\.conda\\envs\\Sara\\lib\\site-packages\\qcodes\\utils\\dataset\\doNd.py\u001b[0m in \u001b[0;36m_handle_plotting\u001b[1;34m(data, do_plot, interrupted)\u001b[0m\n\u001b[0;32m    742\u001b[0m \u001b[1;33m\u001b[0m\u001b[0m\n\u001b[0;32m    743\u001b[0m     \u001b[1;32mif\u001b[0m \u001b[0minterrupted\u001b[0m\u001b[1;33m:\u001b[0m\u001b[1;33m\u001b[0m\u001b[1;33m\u001b[0m\u001b[0m\n\u001b[1;32m--> 744\u001b[1;33m         \u001b[1;32mraise\u001b[0m \u001b[0mKeyboardInterrupt\u001b[0m\u001b[1;33m\u001b[0m\u001b[1;33m\u001b[0m\u001b[0m\n\u001b[0m\u001b[0;32m    745\u001b[0m \u001b[1;33m\u001b[0m\u001b[0m\n\u001b[0;32m    746\u001b[0m     \u001b[1;32mreturn\u001b[0m \u001b[0mres\u001b[0m\u001b[1;33m\u001b[0m\u001b[1;33m\u001b[0m\u001b[0m\n",
      "\u001b[1;31mKeyboardInterrupt\u001b[0m: "
     ]
    }
   ],
   "source": [
    "exp = load_or_create_experiment('Remeasure Denisty vs Vg ', '75um HB')\n",
    "do1d(smu.smua.volt, 0, 0.55, 550, 0.3, rxx1.X, rxy.X, rxx1.P, rxy.P, smu.smua.curr, do_plot = False)\n",
    "do1d(smu.smua.volt, 0.55, 0, 550, 0.3, rxx1.X, rxy.X, rxx1.P, rxy.P, smu.smua.curr, do_plot = False)"
   ]
  },
  {
   "cell_type": "code",
   "execution_count": 23,
   "metadata": {
    "ExecuteTime": {
     "end_time": "2021-10-18T14:23:40.071376Z",
     "start_time": "2021-10-18T14:23:15.569778Z"
    }
   },
   "outputs": [
    {
     "name": "stdout",
     "output_type": "stream",
     "text": [
      "Starting experimental run with id: 139. Using 'qcodes.utils.dataset.doNd.do1d'\n"
     ]
    },
    {
     "data": {
      "text/plain": [
       "(results #139@C:\\Users\\Sara\\DataBases\\M12-09-20.1SM1\\M12-09-20.1SM1.db\n",
       " ---------------------------------------------------------------------\n",
       " smu_smua_volt - numeric\n",
       " Beast_X - numeric\n",
       " Dilbert_X - numeric\n",
       " Beast_P - numeric\n",
       " Dilbert_P - numeric\n",
       " smu_smua_curr - numeric,\n",
       " [None],\n",
       " [None])"
      ]
     },
     "execution_count": 23,
     "metadata": {},
     "output_type": "execute_result"
    }
   ],
   "source": [
    "do1d(smu.smua.volt, 0.037, 0, 37, 0.3, rxx1.X, rxy.X, rxx1.P, rxy.P, smu.smua.curr, do_plot = False)"
   ]
  },
  {
   "cell_type": "code",
   "execution_count": 24,
   "metadata": {
    "ExecuteTime": {
     "end_time": "2021-10-18T14:36:06.867761Z",
     "start_time": "2021-10-18T14:24:03.110730Z"
    }
   },
   "outputs": [
    {
     "name": "stdout",
     "output_type": "stream",
     "text": [
      "Starting experimental run with id: 140. Using 'qcodes.utils.dataset.doNd.do1d'\n",
      "Starting experimental run with id: 141. Using 'qcodes.utils.dataset.doNd.do1d'\n"
     ]
    },
    {
     "data": {
      "text/plain": [
       "(results #141@C:\\Users\\Sara\\DataBases\\M12-09-20.1SM1\\M12-09-20.1SM1.db\n",
       " ---------------------------------------------------------------------\n",
       " smu_smua_volt - numeric\n",
       " Beast_X - numeric\n",
       " Dilbert_X - numeric\n",
       " Zoe_X - numeric\n",
       " Dilbert_P - numeric\n",
       " smu_smua_curr - numeric,\n",
       " [None],\n",
       " [None])"
      ]
     },
     "execution_count": 24,
     "metadata": {},
     "output_type": "execute_result"
    }
   ],
   "source": [
    "exp = load_or_create_experiment('Remeasure Denisty vs Vg ', '75um HB')\n",
    "do1d(smu.smua.volt, 0, 0.55, 550, 0.3, rxx1.X, rxy.X, rxx2.X, rxy.P, smu.smua.curr, do_plot = False)\n",
    "do1d(smu.smua.volt, 0.55, 0, 550, 0.3, rxx1.X, rxy.X, rxx2.X, rxy.P, smu.smua.curr, do_plot = False)"
   ]
  },
  {
   "cell_type": "code",
   "execution_count": 25,
   "metadata": {
    "ExecuteTime": {
     "end_time": "2021-10-18T14:48:13.412728Z",
     "start_time": "2021-10-18T14:36:06.924764Z"
    }
   },
   "outputs": [
    {
     "name": "stdout",
     "output_type": "stream",
     "text": [
      "Starting experimental run with id: 142. Using 'qcodes.utils.dataset.doNd.do1d'\n",
      "Starting experimental run with id: 143. Using 'qcodes.utils.dataset.doNd.do1d'\n"
     ]
    },
    {
     "data": {
      "text/plain": [
       "(results #143@C:\\Users\\Sara\\DataBases\\M12-09-20.1SM1\\M12-09-20.1SM1.db\n",
       " ---------------------------------------------------------------------\n",
       " smu_smua_volt - numeric\n",
       " Beast_X - numeric\n",
       " Dilbert_X - numeric\n",
       " Zoe_X - numeric\n",
       " Dilbert_P - numeric\n",
       " smu_smua_curr - numeric,\n",
       " [None],\n",
       " [None])"
      ]
     },
     "execution_count": 25,
     "metadata": {},
     "output_type": "execute_result"
    }
   ],
   "source": [
    "do1d(smu.smua.volt, 0, 0.55, 550, 0.3, rxx1.X, rxy.X, rxx2.X, rxy.P, smu.smua.curr, do_plot = False)\n",
    "do1d(smu.smua.volt, 0.55, 0, 550, 0.3, rxx1.X, rxy.X, rxx2.X, rxy.P, smu.smua.curr, do_plot = False)"
   ]
  },
  {
   "cell_type": "markdown",
   "metadata": {},
   "source": [
    "# Check if density gets to the highest value over time"
   ]
  },
  {
   "cell_type": "code",
   "execution_count": 26,
   "metadata": {
    "ExecuteTime": {
     "end_time": "2021-10-18T15:01:27.047586Z",
     "start_time": "2021-10-18T14:48:13.514729Z"
    }
   },
   "outputs": [
    {
     "name": "stdout",
     "output_type": "stream",
     "text": [
      "Starting experimental run with id: 144. Using 'qcodes.utils.dataset.doNd.do1d'\n",
      "Starting experimental run with id: 145. Using 'qcodes.utils.dataset.doNd.do1d'\n"
     ]
    },
    {
     "data": {
      "text/plain": [
       "(results #145@C:\\Users\\Sara\\DataBases\\M12-09-20.1SM1\\M12-09-20.1SM1.db\n",
       " ---------------------------------------------------------------------\n",
       " smu_smua_volt - numeric\n",
       " Beast_X - numeric\n",
       " Dilbert_X - numeric\n",
       " Zoe_X - numeric\n",
       " Dilbert_P - numeric\n",
       " smu_smua_curr - numeric,\n",
       " [None],\n",
       " [None])"
      ]
     },
     "execution_count": 26,
     "metadata": {},
     "output_type": "execute_result"
    }
   ],
   "source": [
    "do1d(smu.smua.volt, 0, 0.6, 600, 0.3, rxx1.X, rxy.X, rxx2.X, rxy.P, smu.smua.curr, do_plot = False)\n",
    "do1d(smu.smua.volt, 0.6, 0, 600, 0.3, rxx1.X, rxy.X, rxx2.X, rxy.P, smu.smua.curr, do_plot = False)"
   ]
  },
  {
   "cell_type": "code",
   "execution_count": 27,
   "metadata": {
    "ExecuteTime": {
     "end_time": "2021-10-18T15:14:39.107514Z",
     "start_time": "2021-10-18T15:01:27.126590Z"
    }
   },
   "outputs": [
    {
     "name": "stdout",
     "output_type": "stream",
     "text": [
      "Starting experimental run with id: 146. Using 'qcodes.utils.dataset.doNd.do1d'\n",
      "Starting experimental run with id: 147. Using 'qcodes.utils.dataset.doNd.do1d'\n"
     ]
    },
    {
     "data": {
      "text/plain": [
       "(results #147@C:\\Users\\Sara\\DataBases\\M12-09-20.1SM1\\M12-09-20.1SM1.db\n",
       " ---------------------------------------------------------------------\n",
       " smu_smua_volt - numeric\n",
       " Beast_X - numeric\n",
       " Dilbert_X - numeric\n",
       " Zoe_X - numeric\n",
       " Dilbert_P - numeric\n",
       " smu_smua_curr - numeric,\n",
       " [None],\n",
       " [None])"
      ]
     },
     "execution_count": 27,
     "metadata": {},
     "output_type": "execute_result"
    }
   ],
   "source": [
    "do1d(smu.smua.volt, 0, 0.6, 600, 0.3, rxx1.X, rxy.X, rxx2.X, rxy.P, smu.smua.curr, do_plot = False)\n",
    "do1d(smu.smua.volt, 0.6, 0, 600, 0.3, rxx1.X, rxy.X, rxx2.X, rxy.P, smu.smua.curr, do_plot = False)"
   ]
  },
  {
   "cell_type": "code",
   "execution_count": 28,
   "metadata": {
    "ExecuteTime": {
     "end_time": "2021-10-18T16:03:27.630191Z",
     "start_time": "2021-10-18T15:14:39.210519Z"
    }
   },
   "outputs": [
    {
     "name": "stdout",
     "output_type": "stream",
     "text": [
      "Starting experimental run with id: 148. Using 'qcodes.utils.dataset.doNd.do1d'\n",
      "Starting experimental run with id: 149. Using 'qcodes.utils.dataset.doNd.do1d'\n",
      "Starting experimental run with id: 150. \n"
     ]
    }
   ],
   "source": [
    "do1d(smu.smua.volt, 0, 0.6, 600, 0.3, rxx1.X, rxy.X, rxx2.X, rxy.P, smu.smua.curr, do_plot = False)\n",
    "do1d(smu.smua.volt, 0.6, 0.3, 300, 0.3, rxx1.X, rxy.X, rxx2.X, rxy.P, smu.smua.curr, do_plot = False)\n",
    "\n",
    "with meas.run() as datasaver:\n",
    "    time1.reset_clock()\n",
    "    for _ in range(90000): # 90000 ~30min\n",
    "        now = time1()\n",
    "        datasaver.add_result((time1, now), (rxx1.X, rxx1.X()),(rxy.X, rxy.X()),(rxx2.X,rxx2.X()))\n",
    "\n",
    "dataset = datasaver.dataset"
   ]
  },
  {
   "cell_type": "code",
   "execution_count": 30,
   "metadata": {
    "ExecuteTime": {
     "end_time": "2021-10-18T16:07:20.013182Z",
     "start_time": "2021-10-18T16:04:01.397029Z"
    },
    "scrolled": true
   },
   "outputs": [
    {
     "name": "stdout",
     "output_type": "stream",
     "text": [
      "Starting experimental run with id: 151. Using 'qcodes.utils.dataset.doNd.do1d'\n"
     ]
    },
    {
     "data": {
      "text/plain": [
       "(results #151@C:\\Users\\Sara\\DataBases\\M12-09-20.1SM1\\M12-09-20.1SM1.db\n",
       " ---------------------------------------------------------------------\n",
       " smu_smua_volt - numeric\n",
       " Beast_X - numeric\n",
       " Dilbert_X - numeric\n",
       " Zoe_X - numeric\n",
       " Dilbert_P - numeric\n",
       " smu_smua_curr - numeric,\n",
       " [None],\n",
       " [None])"
      ]
     },
     "execution_count": 30,
     "metadata": {},
     "output_type": "execute_result"
    }
   ],
   "source": [
    "do1d(smu.smua.volt, 0.3, 0, 300, 0.3, rxx1.X, rxy.X, rxx2.X, rxy.P, smu.smua.curr, do_plot = False)"
   ]
  },
  {
   "cell_type": "code",
   "execution_count": 31,
   "metadata": {
    "ExecuteTime": {
     "end_time": "2021-10-18T16:07:20.218193Z",
     "start_time": "2021-10-18T16:07:20.130188Z"
    }
   },
   "outputs": [],
   "source": [
    "mag120.current_setpoint(0)\n",
    "mag120.to_setpoint()"
   ]
  },
  {
   "cell_type": "markdown",
   "metadata": {},
   "source": [
    "# Retake B field Scans"
   ]
  },
  {
   "cell_type": "markdown",
   "metadata": {},
   "source": [
    "## First Test B field scan"
   ]
  },
  {
   "cell_type": "code",
   "execution_count": 35,
   "metadata": {
    "ExecuteTime": {
     "end_time": "2021-10-18T16:43:09.692203Z",
     "start_time": "2021-10-18T16:43:09.171187Z"
    }
   },
   "outputs": [],
   "source": [
    "monitor = qc.Monitor(rxx1.X, rxy.X, rxx2.X, smu.smua.volt,smu.smua.curr, mag120.field, mag120.current, mag120.current_setpoint, mag120.field_setpoint)"
   ]
  },
  {
   "cell_type": "code",
   "execution_count": 33,
   "metadata": {
    "ExecuteTime": {
     "end_time": "2021-10-18T16:15:24.234560Z",
     "start_time": "2021-10-18T16:09:27.572033Z"
    }
   },
   "outputs": [
    {
     "name": "stdout",
     "output_type": "stream",
     "text": [
      "Starting experimental run with id: 152. \n"
     ]
    }
   ],
   "source": [
    "rxx1.time_constant(1)\n",
    "rxx2.time_constant(1)\n",
    "rxx1.sensitivity(5e-3)\n",
    "rxx2.sensitivity(5e-3)\n",
    "\n",
    "exp = load_or_create_experiment('Test Bfield 20mT/min 0.5mT steps 0Vg Tc=1s', '75um HB')\n",
    "meas = Measurement()\n",
    "meas.register_parameter(mag120.current)\n",
    "meas.register_parameter(rxx1.X, setpoints=[mag120.current])\n",
    "meas.register_parameter(rxx2.X, setpoints=[mag120.current])\n",
    "meas.register_parameter(rxy.X, setpoints=[mag120.current])\n",
    "\n",
    "mag120.sweeprate_field(0.02)\n",
    "\n",
    "current=0\n",
    "final_current=1.342625\n",
    "current_now = mag120.current()\n",
    "\n",
    "with meas.run() as ds:  \n",
    "    while current < final_current:\n",
    "        mag120.field()\n",
    "        ds.add_result((mag120.current, mag120.current()),\n",
    "                         (rxx1.X, rxx1.X()),\n",
    "                         (rxx2.X,rxx2.X()),\n",
    "                         (rxy.X, rxy.X()))\n",
    "        current=current+0.006713\n",
    "        mag120.current_setpoint(current)\n",
    "        mag120.to_setpoint()\n",
    "        time.sleep(1.6)\n",
    "        \n",
    "    dataset1=ds.dataset"
   ]
  },
  {
   "cell_type": "code",
   "execution_count": 34,
   "metadata": {
    "ExecuteTime": {
     "end_time": "2021-10-18T16:40:59.950434Z",
     "start_time": "2021-10-18T16:35:03.511711Z"
    }
   },
   "outputs": [
    {
     "name": "stdout",
     "output_type": "stream",
     "text": [
      "Starting experimental run with id: 153. \n"
     ]
    }
   ],
   "source": [
    "rxx1.time_constant(1)\n",
    "rxx2.time_constant(1)\n",
    "rxx1.sensitivity(5e-3)\n",
    "rxx2.sensitivity(5e-3)\n",
    "\n",
    "exp = load_or_create_experiment('Test Bfield 20mT/min 0.5mT steps 0Vg Tc=1s', '75um HB')\n",
    "meas = Measurement()\n",
    "meas.register_parameter(mag120.current)\n",
    "meas.register_parameter(rxx1.X, setpoints=[mag120.current])\n",
    "meas.register_parameter(rxx2.X, setpoints=[mag120.current])\n",
    "meas.register_parameter(rxy.X, setpoints=[mag120.current])\n",
    "\n",
    "mag120.sweeprate_field(0.02)\n",
    "\n",
    "current=1.342625\n",
    "final_current=0\n",
    "current_now = mag120.current()\n",
    "\n",
    "with meas.run() as ds:  \n",
    "    while current > final_current:\n",
    "        mag120.field()\n",
    "        ds.add_result((mag120.current, mag120.current()),\n",
    "                         (rxx1.X, rxx1.X()),\n",
    "                         (rxx2.X,rxx2.X()),\n",
    "                         (rxy.X, rxy.X()))\n",
    "        current=current-0.006713\n",
    "        mag120.current_setpoint(current)\n",
    "        mag120.to_setpoint()\n",
    "        time.sleep(1.6)\n",
    "        \n",
    "    dataset1=ds.dataset"
   ]
  },
  {
   "cell_type": "markdown",
   "metadata": {},
   "source": [
    "## 600mV"
   ]
  },
  {
   "cell_type": "code",
   "execution_count": 37,
   "metadata": {
    "ExecuteTime": {
     "end_time": "2021-10-18T16:50:53.104151Z",
     "start_time": "2021-10-18T16:44:14.869425Z"
    },
    "scrolled": true
   },
   "outputs": [
    {
     "name": "stdout",
     "output_type": "stream",
     "text": [
      "Starting experimental run with id: 154. Using 'qcodes.utils.dataset.doNd.do1d'\n"
     ]
    },
    {
     "data": {
      "text/plain": [
       "(results #154@C:\\Users\\Sara\\DataBases\\M12-09-20.1SM1\\M12-09-20.1SM1.db\n",
       " ---------------------------------------------------------------------\n",
       " smu_smua_volt - numeric\n",
       " Beast_X - numeric\n",
       " Dilbert_X - numeric\n",
       " Zoe_X - numeric\n",
       " Dilbert_P - numeric\n",
       " smu_smua_curr - numeric,\n",
       " [None],\n",
       " [None])"
      ]
     },
     "execution_count": 37,
     "metadata": {},
     "output_type": "execute_result"
    }
   ],
   "source": [
    "do1d(smu.smua.volt, 0, 0.6, 600, 0.3, rxx1.X, rxy.X, rxx2.X, rxy.P, smu.smua.curr, do_plot = False)"
   ]
  },
  {
   "cell_type": "code",
   "execution_count": 38,
   "metadata": {
    "ExecuteTime": {
     "end_time": "2021-10-18T18:12:48.321711Z",
     "start_time": "2021-10-18T16:50:53.160154Z"
    }
   },
   "outputs": [
    {
     "name": "stdout",
     "output_type": "stream",
     "text": [
      "Starting experimental run with id: 155. \n"
     ]
    }
   ],
   "source": [
    "rxx1.time_constant(1)\n",
    "rxx2.time_constant(1)\n",
    "rxx1.sensitivity(5e-3)\n",
    "rxx2.sensitivity(5e-3)\n",
    "\n",
    "exp = load_or_create_experiment('Stepping Bfield 20mT/min 0.5mT steps  Vg=0.6V Tc=1s', '75um HB')\n",
    "meas = Measurement()\n",
    "meas.register_parameter(mag120.current)\n",
    "meas.register_parameter(rxx1.X, setpoints=[mag120.current])\n",
    "meas.register_parameter(rxx2.X, setpoints=[mag120.current])\n",
    "meas.register_parameter(rxy.X, setpoints=[mag120.current])\n",
    "\n",
    "mag120.sweeprate_field(0.02)\n",
    "\n",
    "current=0\n",
    "final_current=18.797\n",
    "current_now = mag120.current()\n",
    "\n",
    "with meas.run() as ds:  \n",
    "    while current < final_current:\n",
    "        ds.add_result((mag120.current, mag120.current()),\n",
    "                         (rxx1.X, rxx1.X()),\n",
    "                         (rxx2.X,rxx2.X()),\n",
    "                         (rxy.X, rxy.X()))\n",
    "        current=current+0.006713\n",
    "        mag120.current_setpoint(current)\n",
    "        mag120.to_setpoint()\n",
    "        time.sleep(1.6)\n",
    "        \n",
    "    dataset1=ds.dataset"
   ]
  },
  {
   "cell_type": "markdown",
   "metadata": {},
   "source": [
    "## 570 mV"
   ]
  },
  {
   "cell_type": "code",
   "execution_count": 40,
   "metadata": {
    "ExecuteTime": {
     "end_time": "2021-10-18T18:15:14.734478Z",
     "start_time": "2021-10-18T18:14:54.917246Z"
    }
   },
   "outputs": [
    {
     "name": "stdout",
     "output_type": "stream",
     "text": [
      "Starting experimental run with id: 156. Using 'qcodes.utils.dataset.doNd.do1d'\n"
     ]
    },
    {
     "data": {
      "text/plain": [
       "(results #156@C:\\Users\\Sara\\DataBases\\M12-09-20.1SM1\\M12-09-20.1SM1.db\n",
       " ---------------------------------------------------------------------\n",
       " smu_smua_volt - numeric\n",
       " Beast_X - numeric\n",
       " Dilbert_X - numeric\n",
       " Zoe_X - numeric\n",
       " Dilbert_P - numeric\n",
       " smu_smua_curr - numeric,\n",
       " [None],\n",
       " [None])"
      ]
     },
     "execution_count": 40,
     "metadata": {},
     "output_type": "execute_result"
    }
   ],
   "source": [
    "do1d(smu.smua.volt, 0.600, 0.570, 30, 0.3, rxx1.X, rxy.X, rxx2.X, rxy.P, smu.smua.curr, do_plot = False)"
   ]
  },
  {
   "cell_type": "code",
   "execution_count": 41,
   "metadata": {
    "ExecuteTime": {
     "end_time": "2021-10-18T19:37:13.409483Z",
     "start_time": "2021-10-18T18:15:14.788481Z"
    }
   },
   "outputs": [
    {
     "name": "stdout",
     "output_type": "stream",
     "text": [
      "Starting experimental run with id: 157. \n"
     ]
    }
   ],
   "source": [
    "exp = load_or_create_experiment('Stepping Bfield 20mT/min 0.5mT steps  Vg=0.57V Tc=1s', '75um HB')\n",
    "meas = Measurement()\n",
    "meas.register_parameter(mag120.current)\n",
    "meas.register_parameter(rxx1.X, setpoints=[mag120.current])\n",
    "meas.register_parameter(rxx2.X, setpoints=[mag120.current])\n",
    "meas.register_parameter(rxy.X, setpoints=[mag120.current])\n",
    "\n",
    "mag120.sweeprate_field(0.02)\n",
    "\n",
    "current=18.797\n",
    "final_current=0\n",
    "current_now = mag120.current()\n",
    "\n",
    "with meas.run() as ds:  \n",
    "    while current > final_current:\n",
    "        ds.add_result((mag120.current, mag120.current()),\n",
    "                         (rxx1.X, rxx1.X()),\n",
    "                         (rxx2.X,rxx2.X()),\n",
    "                         (rxy.X, rxy.X()))\n",
    "        current=current-0.006713\n",
    "        mag120.current_setpoint(current)\n",
    "        mag120.to_setpoint()\n",
    "        time.sleep(1.6)\n",
    "        \n",
    "    dataset1=ds.dataset"
   ]
  },
  {
   "cell_type": "markdown",
   "metadata": {},
   "source": [
    "## 550mV"
   ]
  },
  {
   "cell_type": "code",
   "execution_count": 13,
   "metadata": {
    "ExecuteTime": {
     "end_time": "2021-10-18T19:46:27.593778Z",
     "start_time": "2021-10-18T19:46:16.412413Z"
    }
   },
   "outputs": [
    {
     "name": "stdout",
     "output_type": "stream",
     "text": [
      "Starting experimental run with id: 158. Using 'qcodes.utils.dataset.doNd.do1d'\n"
     ]
    },
    {
     "data": {
      "text/plain": [
       "(results #158@C:\\Users\\Sara\\DataBases\\M12-09-20.1SM1\\M12-09-20.1SM1.db\n",
       " ---------------------------------------------------------------------\n",
       " smu_smua_volt - numeric\n",
       " Beast_X - numeric\n",
       " Dilbert_X - numeric\n",
       " Zoe_X - numeric\n",
       " Dilbert_P - numeric\n",
       " smu_smua_curr - numeric,\n",
       " [None],\n",
       " [None])"
      ]
     },
     "execution_count": 13,
     "metadata": {},
     "output_type": "execute_result"
    }
   ],
   "source": [
    "do1d(smu.smua.volt, 0.57, 0.550, 30, 0.3, rxx1.X, rxy.X, rxx2.X, rxy.P, smu.smua.curr, do_plot = False)"
   ]
  },
  {
   "cell_type": "code",
   "execution_count": 14,
   "metadata": {
    "ExecuteTime": {
     "end_time": "2021-10-18T21:08:25.116202Z",
     "start_time": "2021-10-18T19:46:27.625780Z"
    }
   },
   "outputs": [
    {
     "name": "stdout",
     "output_type": "stream",
     "text": [
      "Starting experimental run with id: 159. \n"
     ]
    }
   ],
   "source": [
    "exp = load_or_create_experiment('Stepping Bfield 20mT/min 0.5mT steps  Vg=0.55V Tc=1s', '75um HB')\n",
    "meas = Measurement()\n",
    "meas.register_parameter(mag120.current)\n",
    "meas.register_parameter(rxx1.X, setpoints=[mag120.current])\n",
    "meas.register_parameter(rxx2.X, setpoints=[mag120.current])\n",
    "meas.register_parameter(rxy.X, setpoints=[mag120.current])\n",
    "\n",
    "mag120.sweeprate_field(0.02)\n",
    "\n",
    "current=0\n",
    "final_current=18.797\n",
    "current_now = mag120.current()\n",
    "\n",
    "with meas.run() as ds:  \n",
    "    while current < final_current:\n",
    "        ds.add_result((mag120.current, mag120.current()),\n",
    "                         (rxx1.X, rxx1.X()),\n",
    "                         (rxx2.X,rxx2.X()),\n",
    "                         (rxy.X, rxy.X()))\n",
    "        current=current+0.006713\n",
    "        mag120.current_setpoint(current)\n",
    "        mag120.to_setpoint()\n",
    "        time.sleep(1.6)\n",
    "        \n",
    "    dataset1=ds.dataset"
   ]
  },
  {
   "cell_type": "markdown",
   "metadata": {},
   "source": [
    "## 530mV"
   ]
  },
  {
   "cell_type": "code",
   "execution_count": 15,
   "metadata": {
    "ExecuteTime": {
     "end_time": "2021-10-18T21:08:43.525354Z",
     "start_time": "2021-10-18T21:08:25.183204Z"
    }
   },
   "outputs": [
    {
     "name": "stdout",
     "output_type": "stream",
     "text": [
      "Starting experimental run with id: 160. Using 'qcodes.utils.dataset.doNd.do1d'\n"
     ]
    },
    {
     "data": {
      "text/plain": [
       "(results #160@C:\\Users\\Sara\\DataBases\\M12-09-20.1SM1\\M12-09-20.1SM1.db\n",
       " ---------------------------------------------------------------------\n",
       " smu_smua_volt - numeric\n",
       " Beast_X - numeric\n",
       " Dilbert_X - numeric\n",
       " Zoe_X - numeric\n",
       " Dilbert_P - numeric\n",
       " smu_smua_curr - numeric,\n",
       " [None],\n",
       " [None])"
      ]
     },
     "execution_count": 15,
     "metadata": {},
     "output_type": "execute_result"
    }
   ],
   "source": [
    "do1d(smu.smua.volt, 0.55, 0.53, 50, 0.3, rxx1.X, rxy.X, rxx2.X, rxy.P, smu.smua.curr, do_plot = False)"
   ]
  },
  {
   "cell_type": "code",
   "execution_count": 16,
   "metadata": {
    "ExecuteTime": {
     "end_time": "2021-10-18T22:30:45.922999Z",
     "start_time": "2021-10-18T21:08:43.585356Z"
    }
   },
   "outputs": [
    {
     "name": "stdout",
     "output_type": "stream",
     "text": [
      "Starting experimental run with id: 161. \n"
     ]
    }
   ],
   "source": [
    "exp = load_or_create_experiment('Stepping Bfield 20mT/min 0.5mT steps  Vg=0.53V Tc=1s', '75um HB')\n",
    "meas = Measurement()\n",
    "meas.register_parameter(mag120.current)\n",
    "meas.register_parameter(rxx1.X, setpoints=[mag120.current])\n",
    "meas.register_parameter(rxx2.X, setpoints=[mag120.current])\n",
    "meas.register_parameter(rxy.X, setpoints=[mag120.current])\n",
    "\n",
    "mag120.sweeprate_field(0.02)\n",
    "\n",
    "current=18.797\n",
    "final_current=0\n",
    "current_now = mag120.current()\n",
    "\n",
    "with meas.run() as ds:  \n",
    "    while current > final_current:\n",
    "        ds.add_result((mag120.current, mag120.current()),\n",
    "                         (rxx1.X, rxx1.X()),\n",
    "                         (rxx2.X,rxx2.X()),\n",
    "                         (rxy.X, rxy.X()))\n",
    "        current=current-0.006713\n",
    "        mag120.current_setpoint(current)\n",
    "        mag120.to_setpoint()\n",
    "        time.sleep(1.6)\n",
    "        \n",
    "    dataset1=ds.dataset"
   ]
  },
  {
   "cell_type": "markdown",
   "metadata": {},
   "source": [
    "## 510mV"
   ]
  },
  {
   "cell_type": "code",
   "execution_count": 17,
   "metadata": {
    "ExecuteTime": {
     "end_time": "2021-10-18T22:31:04.216159Z",
     "start_time": "2021-10-18T22:30:45.969002Z"
    }
   },
   "outputs": [
    {
     "name": "stdout",
     "output_type": "stream",
     "text": [
      "Starting experimental run with id: 162. Using 'qcodes.utils.dataset.doNd.do1d'\n"
     ]
    },
    {
     "data": {
      "text/plain": [
       "(results #162@C:\\Users\\Sara\\DataBases\\M12-09-20.1SM1\\M12-09-20.1SM1.db\n",
       " ---------------------------------------------------------------------\n",
       " smu_smua_volt - numeric\n",
       " Beast_X - numeric\n",
       " Dilbert_X - numeric\n",
       " Zoe_X - numeric\n",
       " Dilbert_P - numeric\n",
       " smu_smua_curr - numeric,\n",
       " [None],\n",
       " [None])"
      ]
     },
     "execution_count": 17,
     "metadata": {},
     "output_type": "execute_result"
    }
   ],
   "source": [
    "do1d(smu.smua.volt, 0.53, 0.51, 50, 0.3, rxx1.X, rxy.X, rxx2.X, rxy.P, smu.smua.curr, do_plot = False)"
   ]
  },
  {
   "cell_type": "code",
   "execution_count": 18,
   "metadata": {
    "ExecuteTime": {
     "end_time": "2021-10-18T23:52:58.021078Z",
     "start_time": "2021-10-18T22:31:04.267161Z"
    }
   },
   "outputs": [
    {
     "name": "stdout",
     "output_type": "stream",
     "text": [
      "Starting experimental run with id: 163. \n"
     ]
    }
   ],
   "source": [
    "exp = load_or_create_experiment('Stepping Bfield 20mT/min 0.5mT steps  Vg=0.51V Tc=1s', '75um HB')\n",
    "meas = Measurement()\n",
    "meas.register_parameter(mag120.current)\n",
    "meas.register_parameter(rxx1.X, setpoints=[mag120.current])\n",
    "meas.register_parameter(rxx2.X, setpoints=[mag120.current])\n",
    "meas.register_parameter(rxy.X, setpoints=[mag120.current])\n",
    "\n",
    "mag120.sweeprate_field(0.02)\n",
    "\n",
    "current=0\n",
    "final_current=18.797\n",
    "current_now = mag120.current()\n",
    "\n",
    "with meas.run() as ds:  \n",
    "    while current < final_current:\n",
    "        ds.add_result((mag120.current, mag120.current()),\n",
    "                         (rxx1.X, rxx1.X()),\n",
    "                         (rxx2.X,rxx2.X()),\n",
    "                         (rxy.X, rxy.X()))\n",
    "        current=current+0.006713\n",
    "        mag120.current_setpoint(current)\n",
    "        mag120.to_setpoint()\n",
    "        time.sleep(1.6)\n",
    "        \n",
    "    dataset1=ds.dataset"
   ]
  },
  {
   "cell_type": "markdown",
   "metadata": {},
   "source": [
    "## 490"
   ]
  },
  {
   "cell_type": "code",
   "execution_count": 19,
   "metadata": {
    "ExecuteTime": {
     "end_time": "2021-10-18T23:53:16.365176Z",
     "start_time": "2021-10-18T23:52:58.094080Z"
    }
   },
   "outputs": [
    {
     "name": "stdout",
     "output_type": "stream",
     "text": [
      "Starting experimental run with id: 164. Using 'qcodes.utils.dataset.doNd.do1d'\n"
     ]
    },
    {
     "data": {
      "text/plain": [
       "(results #164@C:\\Users\\Sara\\DataBases\\M12-09-20.1SM1\\M12-09-20.1SM1.db\n",
       " ---------------------------------------------------------------------\n",
       " smu_smua_volt - numeric\n",
       " Beast_X - numeric\n",
       " Dilbert_X - numeric\n",
       " Zoe_X - numeric\n",
       " Dilbert_P - numeric\n",
       " smu_smua_curr - numeric,\n",
       " [None],\n",
       " [None])"
      ]
     },
     "execution_count": 19,
     "metadata": {},
     "output_type": "execute_result"
    }
   ],
   "source": [
    "do1d(smu.smua.volt, 0.51, 0.49, 50, 0.3, rxx1.X, rxy.X, rxx2.X, rxy.P, smu.smua.curr, do_plot = False)"
   ]
  },
  {
   "cell_type": "code",
   "execution_count": 20,
   "metadata": {
    "ExecuteTime": {
     "end_time": "2021-10-19T01:15:15.491739Z",
     "start_time": "2021-10-18T23:53:16.424178Z"
    }
   },
   "outputs": [
    {
     "name": "stdout",
     "output_type": "stream",
     "text": [
      "Starting experimental run with id: 165. \n"
     ]
    }
   ],
   "source": [
    "exp = load_or_create_experiment('Stepping Bfield 20mT/min 0.5mT steps  Vg=0.49V Tc=1s', '75um HB')\n",
    "meas = Measurement()\n",
    "meas.register_parameter(mag120.current)\n",
    "meas.register_parameter(rxx1.X, setpoints=[mag120.current])\n",
    "meas.register_parameter(rxx2.X, setpoints=[mag120.current])\n",
    "meas.register_parameter(rxy.X, setpoints=[mag120.current])\n",
    "\n",
    "mag120.sweeprate_field(0.02)\n",
    "\n",
    "current=18.797\n",
    "final_current=0\n",
    "current_now = mag120.current()\n",
    "\n",
    "with meas.run() as ds:  \n",
    "    while current > final_current:\n",
    "        ds.add_result((mag120.current, mag120.current()),\n",
    "                         (rxx1.X, rxx1.X()),\n",
    "                         (rxx2.X,rxx2.X()),\n",
    "                         (rxy.X, rxy.X()))\n",
    "        current=current-0.006713\n",
    "        mag120.current_setpoint(current)\n",
    "        mag120.to_setpoint()\n",
    "        time.sleep(1.6)\n",
    "        \n",
    "    dataset1=ds.dataset"
   ]
  },
  {
   "cell_type": "markdown",
   "metadata": {},
   "source": [
    "## 470"
   ]
  },
  {
   "cell_type": "code",
   "execution_count": 21,
   "metadata": {
    "ExecuteTime": {
     "end_time": "2021-10-19T01:15:33.854775Z",
     "start_time": "2021-10-19T01:15:15.537741Z"
    }
   },
   "outputs": [
    {
     "name": "stdout",
     "output_type": "stream",
     "text": [
      "Starting experimental run with id: 166. Using 'qcodes.utils.dataset.doNd.do1d'\n"
     ]
    },
    {
     "data": {
      "text/plain": [
       "(results #166@C:\\Users\\Sara\\DataBases\\M12-09-20.1SM1\\M12-09-20.1SM1.db\n",
       " ---------------------------------------------------------------------\n",
       " smu_smua_volt - numeric\n",
       " Beast_X - numeric\n",
       " Dilbert_X - numeric\n",
       " Zoe_X - numeric\n",
       " Dilbert_P - numeric\n",
       " smu_smua_curr - numeric,\n",
       " [None],\n",
       " [None])"
      ]
     },
     "execution_count": 21,
     "metadata": {},
     "output_type": "execute_result"
    }
   ],
   "source": [
    "do1d(smu.smua.volt, 0.49, 0.47, 50, 0.3, rxx1.X, rxy.X, rxx2.X, rxy.P, smu.smua.curr, do_plot = False)"
   ]
  },
  {
   "cell_type": "code",
   "execution_count": 22,
   "metadata": {
    "ExecuteTime": {
     "end_time": "2021-10-19T02:37:31.492079Z",
     "start_time": "2021-10-19T01:15:33.924777Z"
    }
   },
   "outputs": [
    {
     "name": "stdout",
     "output_type": "stream",
     "text": [
      "Starting experimental run with id: 167. \n"
     ]
    }
   ],
   "source": [
    "exp = load_or_create_experiment('Stepping Bfield 20mT/min 0.5mT steps  Vg=0.47V Tc=1s', '75um HB')\n",
    "meas = Measurement()\n",
    "meas.register_parameter(mag120.current)\n",
    "meas.register_parameter(rxx1.X, setpoints=[mag120.current])\n",
    "meas.register_parameter(rxx2.X, setpoints=[mag120.current])\n",
    "meas.register_parameter(rxy.X, setpoints=[mag120.current])\n",
    "\n",
    "mag120.sweeprate_field(0.02)\n",
    "\n",
    "current=0\n",
    "final_current=18.797\n",
    "current_now = mag120.current()\n",
    "\n",
    "with meas.run() as ds:  \n",
    "    while current < final_current:\n",
    "        ds.add_result((mag120.current, mag120.current()),\n",
    "                         (rxx1.X, rxx1.X()),\n",
    "                         (rxx2.X,rxx2.X()),\n",
    "                         (rxy.X, rxy.X()))\n",
    "        current=current+0.006713\n",
    "        mag120.current_setpoint(current)\n",
    "        mag120.to_setpoint()\n",
    "        time.sleep(1.6)\n",
    "        \n",
    "    dataset1=ds.dataset"
   ]
  },
  {
   "cell_type": "markdown",
   "metadata": {},
   "source": [
    "## 450"
   ]
  },
  {
   "cell_type": "code",
   "execution_count": 23,
   "metadata": {
    "ExecuteTime": {
     "end_time": "2021-10-19T02:37:50.011110Z",
     "start_time": "2021-10-19T02:37:31.572081Z"
    }
   },
   "outputs": [
    {
     "name": "stdout",
     "output_type": "stream",
     "text": [
      "Starting experimental run with id: 168. Using 'qcodes.utils.dataset.doNd.do1d'\n"
     ]
    },
    {
     "data": {
      "text/plain": [
       "(results #168@C:\\Users\\Sara\\DataBases\\M12-09-20.1SM1\\M12-09-20.1SM1.db\n",
       " ---------------------------------------------------------------------\n",
       " smu_smua_volt - numeric\n",
       " Beast_X - numeric\n",
       " Dilbert_X - numeric\n",
       " Zoe_X - numeric\n",
       " Dilbert_P - numeric\n",
       " smu_smua_curr - numeric,\n",
       " [None],\n",
       " [None])"
      ]
     },
     "execution_count": 23,
     "metadata": {},
     "output_type": "execute_result"
    }
   ],
   "source": [
    "do1d(smu.smua.volt, 0.47, 0.45, 50, 0.3, rxx1.X, rxy.X, rxx2.X, rxy.P, smu.smua.curr, do_plot = False)"
   ]
  },
  {
   "cell_type": "code",
   "execution_count": 24,
   "metadata": {
    "ExecuteTime": {
     "end_time": "2021-10-19T03:59:31.489228Z",
     "start_time": "2021-10-19T02:37:50.079112Z"
    }
   },
   "outputs": [
    {
     "name": "stdout",
     "output_type": "stream",
     "text": [
      "Starting experimental run with id: 169. \n"
     ]
    }
   ],
   "source": [
    "exp = load_or_create_experiment('Stepping Bfield 20mT/min 0.5mT steps  Vg=0.45V Tc=1s', '75um HB')\n",
    "meas = Measurement()\n",
    "meas.register_parameter(mag120.current)\n",
    "meas.register_parameter(rxx1.X, setpoints=[mag120.current])\n",
    "meas.register_parameter(rxx2.X, setpoints=[mag120.current])\n",
    "meas.register_parameter(rxy.X, setpoints=[mag120.current])\n",
    "\n",
    "mag120.sweeprate_field(0.02)\n",
    "\n",
    "current=18.797\n",
    "final_current=0\n",
    "current_now = mag120.current()\n",
    "\n",
    "with meas.run() as ds:  \n",
    "    while current > final_current:\n",
    "        ds.add_result((mag120.current, mag120.current()),\n",
    "                         (rxx1.X, rxx1.X()),\n",
    "                         (rxx2.X,rxx2.X()),\n",
    "                         (rxy.X, rxy.X()))\n",
    "        current=current-0.006713\n",
    "        mag120.current_setpoint(current)\n",
    "        mag120.to_setpoint()\n",
    "        time.sleep(1.6)\n",
    "        \n",
    "    dataset1=ds.dataset"
   ]
  },
  {
   "cell_type": "markdown",
   "metadata": {},
   "source": [
    "## 430mV"
   ]
  },
  {
   "cell_type": "code",
   "execution_count": 25,
   "metadata": {
    "ExecuteTime": {
     "end_time": "2021-10-19T03:59:49.639257Z",
     "start_time": "2021-10-19T03:59:31.545229Z"
    }
   },
   "outputs": [
    {
     "name": "stdout",
     "output_type": "stream",
     "text": [
      "Starting experimental run with id: 170. Using 'qcodes.utils.dataset.doNd.do1d'\n"
     ]
    },
    {
     "data": {
      "text/plain": [
       "(results #170@C:\\Users\\Sara\\DataBases\\M12-09-20.1SM1\\M12-09-20.1SM1.db\n",
       " ---------------------------------------------------------------------\n",
       " smu_smua_volt - numeric\n",
       " Beast_X - numeric\n",
       " Dilbert_X - numeric\n",
       " Zoe_X - numeric\n",
       " Dilbert_P - numeric\n",
       " smu_smua_curr - numeric,\n",
       " [None],\n",
       " [None])"
      ]
     },
     "execution_count": 25,
     "metadata": {},
     "output_type": "execute_result"
    }
   ],
   "source": [
    "do1d(smu.smua.volt, 0.45, 0.43, 50, 0.3, rxx1.X, rxy.X, rxx2.X, rxy.P, smu.smua.curr, do_plot = False)"
   ]
  },
  {
   "cell_type": "code",
   "execution_count": 26,
   "metadata": {
    "ExecuteTime": {
     "end_time": "2021-10-19T05:21:34.601449Z",
     "start_time": "2021-10-19T03:59:49.639257Z"
    }
   },
   "outputs": [
    {
     "name": "stdout",
     "output_type": "stream",
     "text": [
      "Starting experimental run with id: 171. \n"
     ]
    }
   ],
   "source": [
    "exp = load_or_create_experiment('Stepping Bfield 20mT/min 0.5mT steps  Vg=0.43V Tc=1s', '75um HB')\n",
    "meas = Measurement()\n",
    "meas.register_parameter(mag120.current)\n",
    "meas.register_parameter(rxx1.X, setpoints=[mag120.current])\n",
    "meas.register_parameter(rxx2.X, setpoints=[mag120.current])\n",
    "meas.register_parameter(rxy.X, setpoints=[mag120.current])\n",
    "\n",
    "mag120.sweeprate_field(0.02)\n",
    "\n",
    "current=0\n",
    "final_current=18.797\n",
    "current_now = mag120.current()\n",
    "\n",
    "with meas.run() as ds:  \n",
    "    while current < final_current:\n",
    "        ds.add_result((mag120.current, mag120.current()),\n",
    "                         (rxx1.X, rxx1.X()),\n",
    "                         (rxx2.X,rxx2.X()),\n",
    "                         (rxy.X, rxy.X()))\n",
    "        current=current+0.006713\n",
    "        mag120.current_setpoint(current)\n",
    "        mag120.to_setpoint()\n",
    "        time.sleep(1.6)\n",
    "        \n",
    "    dataset1=ds.dataset"
   ]
  },
  {
   "cell_type": "markdown",
   "metadata": {},
   "source": [
    "## 410mV"
   ]
  },
  {
   "cell_type": "code",
   "execution_count": 27,
   "metadata": {
    "ExecuteTime": {
     "end_time": "2021-10-19T05:21:52.971481Z",
     "start_time": "2021-10-19T05:21:34.817452Z"
    }
   },
   "outputs": [
    {
     "name": "stdout",
     "output_type": "stream",
     "text": [
      "Starting experimental run with id: 172. Using 'qcodes.utils.dataset.doNd.do1d'\n"
     ]
    },
    {
     "data": {
      "text/plain": [
       "(results #172@C:\\Users\\Sara\\DataBases\\M12-09-20.1SM1\\M12-09-20.1SM1.db\n",
       " ---------------------------------------------------------------------\n",
       " smu_smua_volt - numeric\n",
       " Beast_X - numeric\n",
       " Dilbert_X - numeric\n",
       " Zoe_X - numeric\n",
       " Dilbert_P - numeric\n",
       " smu_smua_curr - numeric,\n",
       " [None],\n",
       " [None])"
      ]
     },
     "execution_count": 27,
     "metadata": {},
     "output_type": "execute_result"
    }
   ],
   "source": [
    "do1d(smu.smua.volt, 0.43, 0.41, 50, 0.3, rxx1.X, rxy.X, rxx2.X, rxy.P, smu.smua.curr, do_plot = False)"
   ]
  },
  {
   "cell_type": "code",
   "execution_count": 28,
   "metadata": {
    "ExecuteTime": {
     "end_time": "2021-10-19T06:43:39.054729Z",
     "start_time": "2021-10-19T05:21:53.039484Z"
    }
   },
   "outputs": [
    {
     "name": "stdout",
     "output_type": "stream",
     "text": [
      "Starting experimental run with id: 173. \n"
     ]
    }
   ],
   "source": [
    "exp = load_or_create_experiment('Stepping Bfield 20mT/min 0.5mT steps  Vg=0.41V Tc=1s', '75um HB')\n",
    "meas = Measurement()\n",
    "meas.register_parameter(mag120.current)\n",
    "meas.register_parameter(rxx1.X, setpoints=[mag120.current])\n",
    "meas.register_parameter(rxx2.X, setpoints=[mag120.current])\n",
    "meas.register_parameter(rxy.X, setpoints=[mag120.current])\n",
    "\n",
    "mag120.sweeprate_field(0.02)\n",
    "\n",
    "current=18.797\n",
    "final_current=0\n",
    "current_now = mag120.current()\n",
    "\n",
    "with meas.run() as ds:  \n",
    "    while current > final_current:\n",
    "        ds.add_result((mag120.current, mag120.current()),\n",
    "                         (rxx1.X, rxx1.X()),\n",
    "                         (rxx2.X,rxx2.X()),\n",
    "                         (rxy.X, rxy.X()))\n",
    "        current=current-0.006713\n",
    "        mag120.current_setpoint(current)\n",
    "        mag120.to_setpoint()\n",
    "        time.sleep(1.6)\n",
    "        \n",
    "    dataset1=ds.dataset"
   ]
  },
  {
   "cell_type": "markdown",
   "metadata": {},
   "source": [
    "## 390"
   ]
  },
  {
   "cell_type": "code",
   "execution_count": 29,
   "metadata": {
    "ExecuteTime": {
     "end_time": "2021-10-19T06:43:57.322759Z",
     "start_time": "2021-10-19T06:43:39.143730Z"
    }
   },
   "outputs": [
    {
     "name": "stdout",
     "output_type": "stream",
     "text": [
      "Starting experimental run with id: 174. Using 'qcodes.utils.dataset.doNd.do1d'\n"
     ]
    },
    {
     "data": {
      "text/plain": [
       "(results #174@C:\\Users\\Sara\\DataBases\\M12-09-20.1SM1\\M12-09-20.1SM1.db\n",
       " ---------------------------------------------------------------------\n",
       " smu_smua_volt - numeric\n",
       " Beast_X - numeric\n",
       " Dilbert_X - numeric\n",
       " Zoe_X - numeric\n",
       " Dilbert_P - numeric\n",
       " smu_smua_curr - numeric,\n",
       " [None],\n",
       " [None])"
      ]
     },
     "execution_count": 29,
     "metadata": {},
     "output_type": "execute_result"
    }
   ],
   "source": [
    "do1d(smu.smua.volt, 0.41, 0.39, 50, 0.3, rxx1.X, rxy.X, rxx2.X, rxy.P, smu.smua.curr, do_plot = False)"
   ]
  },
  {
   "cell_type": "code",
   "execution_count": 30,
   "metadata": {
    "ExecuteTime": {
     "end_time": "2021-10-19T08:05:44.400983Z",
     "start_time": "2021-10-19T06:43:57.322759Z"
    }
   },
   "outputs": [
    {
     "name": "stdout",
     "output_type": "stream",
     "text": [
      "Starting experimental run with id: 175. \n"
     ]
    }
   ],
   "source": [
    "exp = load_or_create_experiment('Stepping Bfield 20mT/min 0.5mT steps  Vg=0.39V Tc=1s', '75um HB')\n",
    "meas = Measurement()\n",
    "meas.register_parameter(mag120.current)\n",
    "meas.register_parameter(rxx1.X, setpoints=[mag120.current])\n",
    "meas.register_parameter(rxx2.X, setpoints=[mag120.current])\n",
    "meas.register_parameter(rxy.X, setpoints=[mag120.current])\n",
    "\n",
    "mag120.sweeprate_field(0.02)\n",
    "\n",
    "current=0\n",
    "final_current=18.797\n",
    "current_now = mag120.current()\n",
    "\n",
    "with meas.run() as ds:  \n",
    "    while current < final_current:\n",
    "        ds.add_result((mag120.current, mag120.current()),\n",
    "                         (rxx1.X, rxx1.X()),\n",
    "                         (rxx2.X,rxx2.X()),\n",
    "                         (rxy.X, rxy.X()))\n",
    "        current=current+0.006713\n",
    "        mag120.current_setpoint(current)\n",
    "        mag120.to_setpoint()\n",
    "        time.sleep(1.6)\n",
    "        \n",
    "    dataset1=ds.dataset"
   ]
  },
  {
   "cell_type": "markdown",
   "metadata": {},
   "source": [
    "## 370mV"
   ]
  },
  {
   "cell_type": "code",
   "execution_count": 31,
   "metadata": {
    "ExecuteTime": {
     "end_time": "2021-10-19T08:06:02.674013Z",
     "start_time": "2021-10-19T08:05:44.475985Z"
    }
   },
   "outputs": [
    {
     "name": "stdout",
     "output_type": "stream",
     "text": [
      "Starting experimental run with id: 176. Using 'qcodes.utils.dataset.doNd.do1d'\n"
     ]
    },
    {
     "data": {
      "text/plain": [
       "(results #176@C:\\Users\\Sara\\DataBases\\M12-09-20.1SM1\\M12-09-20.1SM1.db\n",
       " ---------------------------------------------------------------------\n",
       " smu_smua_volt - numeric\n",
       " Beast_X - numeric\n",
       " Dilbert_X - numeric\n",
       " Zoe_X - numeric\n",
       " Dilbert_P - numeric\n",
       " smu_smua_curr - numeric,\n",
       " [None],\n",
       " [None])"
      ]
     },
     "execution_count": 31,
     "metadata": {},
     "output_type": "execute_result"
    }
   ],
   "source": [
    "do1d(smu.smua.volt, 0.39, 0.37, 50, 0.3, rxx1.X, rxy.X, rxx2.X, rxy.P, smu.smua.curr, do_plot = False)"
   ]
  },
  {
   "cell_type": "code",
   "execution_count": 32,
   "metadata": {
    "ExecuteTime": {
     "end_time": "2021-10-19T09:27:53.149118Z",
     "start_time": "2021-10-19T08:06:02.674013Z"
    }
   },
   "outputs": [
    {
     "name": "stdout",
     "output_type": "stream",
     "text": [
      "Starting experimental run with id: 177. \n"
     ]
    }
   ],
   "source": [
    "exp = load_or_create_experiment('Stepping Bfield 20mT/min 0.5mT steps  Vg=0.37V Tc=1s', '75um HB')\n",
    "meas = Measurement()\n",
    "meas.register_parameter(mag120.current)\n",
    "meas.register_parameter(rxx1.X, setpoints=[mag120.current])\n",
    "meas.register_parameter(rxx2.X, setpoints=[mag120.current])\n",
    "meas.register_parameter(rxy.X, setpoints=[mag120.current])\n",
    "\n",
    "mag120.sweeprate_field(0.02)\n",
    "\n",
    "current=18.797\n",
    "final_current=0\n",
    "current_now = mag120.current()\n",
    "\n",
    "with meas.run() as ds:  \n",
    "    while current > final_current:\n",
    "        ds.add_result((mag120.current, mag120.current()),\n",
    "                         (rxx1.X, rxx1.X()),\n",
    "                         (rxx2.X,rxx2.X()),\n",
    "                         (rxy.X, rxy.X()))\n",
    "        current=current-0.006713\n",
    "        mag120.current_setpoint(current)\n",
    "        mag120.to_setpoint()\n",
    "        time.sleep(1.6)\n",
    "        \n",
    "    dataset1=ds.dataset"
   ]
  },
  {
   "cell_type": "markdown",
   "metadata": {},
   "source": [
    "## 350mV"
   ]
  },
  {
   "cell_type": "code",
   "execution_count": 33,
   "metadata": {
    "ExecuteTime": {
     "end_time": "2021-10-19T09:28:11.773152Z",
     "start_time": "2021-10-19T09:27:53.365120Z"
    }
   },
   "outputs": [
    {
     "name": "stdout",
     "output_type": "stream",
     "text": [
      "Starting experimental run with id: 178. Using 'qcodes.utils.dataset.doNd.do1d'\n"
     ]
    },
    {
     "data": {
      "text/plain": [
       "(results #178@C:\\Users\\Sara\\DataBases\\M12-09-20.1SM1\\M12-09-20.1SM1.db\n",
       " ---------------------------------------------------------------------\n",
       " smu_smua_volt - numeric\n",
       " Beast_X - numeric\n",
       " Dilbert_X - numeric\n",
       " Zoe_X - numeric\n",
       " Dilbert_P - numeric\n",
       " smu_smua_curr - numeric,\n",
       " [None],\n",
       " [None])"
      ]
     },
     "execution_count": 33,
     "metadata": {},
     "output_type": "execute_result"
    }
   ],
   "source": [
    "do1d(smu.smua.volt, 0.37, 0.35, 50, 0.3, rxx1.X, rxy.X, rxx2.X, rxy.P, smu.smua.curr, do_plot = False)"
   ]
  },
  {
   "cell_type": "code",
   "execution_count": 34,
   "metadata": {
    "ExecuteTime": {
     "end_time": "2021-10-19T10:49:56.744245Z",
     "start_time": "2021-10-19T09:28:11.793153Z"
    }
   },
   "outputs": [
    {
     "name": "stdout",
     "output_type": "stream",
     "text": [
      "Starting experimental run with id: 179. \n"
     ]
    }
   ],
   "source": [
    "exp = load_or_create_experiment('Stepping Bfield 20mT/min 0.5mT steps  Vg=0.35V Tc=1s', '75um HB')\n",
    "meas = Measurement()\n",
    "meas.register_parameter(mag120.current)\n",
    "meas.register_parameter(rxx1.X, setpoints=[mag120.current])\n",
    "meas.register_parameter(rxx2.X, setpoints=[mag120.current])\n",
    "meas.register_parameter(rxy.X, setpoints=[mag120.current])\n",
    "\n",
    "mag120.sweeprate_field(0.02)\n",
    "\n",
    "current=0\n",
    "final_current=18.797\n",
    "current_now = mag120.current()\n",
    "\n",
    "with meas.run() as ds:  \n",
    "    while current < final_current:\n",
    "        ds.add_result((mag120.current, mag120.current()),\n",
    "                         (rxx1.X, rxx1.X()),\n",
    "                         (rxx2.X,rxx2.X()),\n",
    "                         (rxy.X, rxy.X()))\n",
    "        current=current+0.006713\n",
    "        mag120.current_setpoint(current)\n",
    "        mag120.to_setpoint()\n",
    "        time.sleep(1.6)\n",
    "        \n",
    "    dataset1=ds.dataset"
   ]
  },
  {
   "cell_type": "markdown",
   "metadata": {},
   "source": [
    "## 330mV"
   ]
  },
  {
   "cell_type": "code",
   "execution_count": 35,
   "metadata": {
    "ExecuteTime": {
     "end_time": "2021-10-19T10:50:15.301279Z",
     "start_time": "2021-10-19T10:49:56.873247Z"
    }
   },
   "outputs": [
    {
     "name": "stdout",
     "output_type": "stream",
     "text": [
      "Starting experimental run with id: 180. Using 'qcodes.utils.dataset.doNd.do1d'\n"
     ]
    },
    {
     "data": {
      "text/plain": [
       "(results #180@C:\\Users\\Sara\\DataBases\\M12-09-20.1SM1\\M12-09-20.1SM1.db\n",
       " ---------------------------------------------------------------------\n",
       " smu_smua_volt - numeric\n",
       " Beast_X - numeric\n",
       " Dilbert_X - numeric\n",
       " Zoe_X - numeric\n",
       " Dilbert_P - numeric\n",
       " smu_smua_curr - numeric,\n",
       " [None],\n",
       " [None])"
      ]
     },
     "execution_count": 35,
     "metadata": {},
     "output_type": "execute_result"
    }
   ],
   "source": [
    "do1d(smu.smua.volt, 0.35, 0.33, 50, 0.3, rxx1.X, rxy.X, rxx2.X, rxy.P, smu.smua.curr, do_plot = False)"
   ]
  },
  {
   "cell_type": "code",
   "execution_count": 36,
   "metadata": {
    "ExecuteTime": {
     "end_time": "2021-10-19T12:12:03.580672Z",
     "start_time": "2021-10-19T10:50:15.301279Z"
    }
   },
   "outputs": [
    {
     "name": "stdout",
     "output_type": "stream",
     "text": [
      "Starting experimental run with id: 181. \n"
     ]
    }
   ],
   "source": [
    "exp = load_or_create_experiment('Stepping Bfield 20mT/min 0.5mT steps  Vg=0.33V Tc=1s', '75um HB')\n",
    "meas = Measurement()\n",
    "meas.register_parameter(mag120.current)\n",
    "meas.register_parameter(rxx1.X, setpoints=[mag120.current])\n",
    "meas.register_parameter(rxx2.X, setpoints=[mag120.current])\n",
    "meas.register_parameter(rxy.X, setpoints=[mag120.current])\n",
    "\n",
    "mag120.sweeprate_field(0.02)\n",
    "\n",
    "current=18.797\n",
    "final_current=0\n",
    "current_now = mag120.current()\n",
    "\n",
    "with meas.run() as ds:  \n",
    "    while current > final_current:\n",
    "        ds.add_result((mag120.current, mag120.current()),\n",
    "                         (rxx1.X, rxx1.X()),\n",
    "                         (rxx2.X,rxx2.X()),\n",
    "                         (rxy.X, rxy.X()))\n",
    "        current=current-0.006713\n",
    "        mag120.current_setpoint(current)\n",
    "        mag120.to_setpoint()\n",
    "        time.sleep(1.6)\n",
    "        \n",
    "    dataset1=ds.dataset"
   ]
  },
  {
   "cell_type": "markdown",
   "metadata": {},
   "source": [
    "## 310mV"
   ]
  },
  {
   "cell_type": "code",
   "execution_count": 37,
   "metadata": {
    "ExecuteTime": {
     "end_time": "2021-10-19T12:12:21.890731Z",
     "start_time": "2021-10-19T12:12:03.630673Z"
    }
   },
   "outputs": [
    {
     "name": "stdout",
     "output_type": "stream",
     "text": [
      "Starting experimental run with id: 182. Using 'qcodes.utils.dataset.doNd.do1d'\n"
     ]
    },
    {
     "data": {
      "text/plain": [
       "(results #182@C:\\Users\\Sara\\DataBases\\M12-09-20.1SM1\\M12-09-20.1SM1.db\n",
       " ---------------------------------------------------------------------\n",
       " smu_smua_volt - numeric\n",
       " Beast_X - numeric\n",
       " Dilbert_X - numeric\n",
       " Zoe_X - numeric\n",
       " Dilbert_P - numeric\n",
       " smu_smua_curr - numeric,\n",
       " [None],\n",
       " [None])"
      ]
     },
     "execution_count": 37,
     "metadata": {},
     "output_type": "execute_result"
    }
   ],
   "source": [
    "do1d(smu.smua.volt, 0.33, 0.31, 50, 0.3, rxx1.X, rxy.X, rxx2.X, rxy.P, smu.smua.curr, do_plot = False)"
   ]
  },
  {
   "cell_type": "code",
   "execution_count": 38,
   "metadata": {
    "ExecuteTime": {
     "end_time": "2021-10-19T13:34:16.988155Z",
     "start_time": "2021-10-19T12:12:22.036738Z"
    }
   },
   "outputs": [
    {
     "name": "stdout",
     "output_type": "stream",
     "text": [
      "Starting experimental run with id: 183. \n"
     ]
    }
   ],
   "source": [
    "exp = load_or_create_experiment('Stepping Bfield 20mT/min 0.5mT steps  Vg=0.31V Tc=1s', '75um HB')\n",
    "meas = Measurement()\n",
    "meas.register_parameter(mag120.current)\n",
    "meas.register_parameter(rxx1.X, setpoints=[mag120.current])\n",
    "meas.register_parameter(rxx2.X, setpoints=[mag120.current])\n",
    "meas.register_parameter(rxy.X, setpoints=[mag120.current])\n",
    "\n",
    "mag120.sweeprate_field(0.02)\n",
    "\n",
    "current=0\n",
    "final_current=18.797\n",
    "current_now = mag120.current()\n",
    "\n",
    "with meas.run() as ds:  \n",
    "    while current < final_current:\n",
    "        ds.add_result((mag120.current, mag120.current()),\n",
    "                         (rxx1.X, rxx1.X()),\n",
    "                         (rxx2.X,rxx2.X()),\n",
    "                         (rxy.X, rxy.X()))\n",
    "        current=current+0.006713\n",
    "        mag120.current_setpoint(current)\n",
    "        mag120.to_setpoint()\n",
    "        time.sleep(1.6)\n",
    "        \n",
    "    dataset1=ds.dataset"
   ]
  },
  {
   "cell_type": "markdown",
   "metadata": {},
   "source": [
    "## 290"
   ]
  },
  {
   "cell_type": "code",
   "execution_count": 39,
   "metadata": {
    "ExecuteTime": {
     "end_time": "2021-10-19T13:34:35.319211Z",
     "start_time": "2021-10-19T13:34:17.030155Z"
    }
   },
   "outputs": [
    {
     "name": "stdout",
     "output_type": "stream",
     "text": [
      "Starting experimental run with id: 184. Using 'qcodes.utils.dataset.doNd.do1d'\n"
     ]
    },
    {
     "data": {
      "text/plain": [
       "(results #184@C:\\Users\\Sara\\DataBases\\M12-09-20.1SM1\\M12-09-20.1SM1.db\n",
       " ---------------------------------------------------------------------\n",
       " smu_smua_volt - numeric\n",
       " Beast_X - numeric\n",
       " Dilbert_X - numeric\n",
       " Zoe_X - numeric\n",
       " Dilbert_P - numeric\n",
       " smu_smua_curr - numeric,\n",
       " [None],\n",
       " [None])"
      ]
     },
     "execution_count": 39,
     "metadata": {},
     "output_type": "execute_result"
    }
   ],
   "source": [
    "do1d(smu.smua.volt, 0.31, 0.29, 50, 0.3, rxx1.X, rxy.X, rxx2.X, rxy.P, smu.smua.curr, do_plot = False)"
   ]
  },
  {
   "cell_type": "code",
   "execution_count": 40,
   "metadata": {
    "ExecuteTime": {
     "end_time": "2021-10-19T14:56:25.078079Z",
     "start_time": "2021-10-19T13:34:35.350211Z"
    }
   },
   "outputs": [
    {
     "name": "stdout",
     "output_type": "stream",
     "text": [
      "Starting experimental run with id: 185. \n"
     ]
    }
   ],
   "source": [
    "exp = load_or_create_experiment('Stepping Bfield 20mT/min 0.5mT steps  Vg=0.29V Tc=1s', '75um HB')\n",
    "meas = Measurement()\n",
    "meas.register_parameter(mag120.current)\n",
    "meas.register_parameter(rxx1.X, setpoints=[mag120.current])\n",
    "meas.register_parameter(rxx2.X, setpoints=[mag120.current])\n",
    "meas.register_parameter(rxy.X, setpoints=[mag120.current])\n",
    "\n",
    "mag120.sweeprate_field(0.02)\n",
    "\n",
    "current=18.797\n",
    "final_current=0\n",
    "current_now = mag120.current()\n",
    "\n",
    "with meas.run() as ds:  \n",
    "    while current > final_current:\n",
    "        ds.add_result((mag120.current, mag120.current()),\n",
    "                         (rxx1.X, rxx1.X()),\n",
    "                         (rxx2.X,rxx2.X()),\n",
    "                         (rxy.X, rxy.X()))\n",
    "        current=current-0.006713\n",
    "        mag120.current_setpoint(current)\n",
    "        mag120.to_setpoint()\n",
    "        time.sleep(1.6)\n",
    "        \n",
    "    dataset1=ds.dataset"
   ]
  },
  {
   "cell_type": "markdown",
   "metadata": {},
   "source": [
    "## 270mV"
   ]
  },
  {
   "cell_type": "code",
   "execution_count": 41,
   "metadata": {
    "ExecuteTime": {
     "end_time": "2021-10-19T14:56:43.412137Z",
     "start_time": "2021-10-19T14:56:25.233086Z"
    }
   },
   "outputs": [
    {
     "name": "stdout",
     "output_type": "stream",
     "text": [
      "Starting experimental run with id: 186. Using 'qcodes.utils.dataset.doNd.do1d'\n"
     ]
    },
    {
     "data": {
      "text/plain": [
       "(results #186@C:\\Users\\Sara\\DataBases\\M12-09-20.1SM1\\M12-09-20.1SM1.db\n",
       " ---------------------------------------------------------------------\n",
       " smu_smua_volt - numeric\n",
       " Beast_X - numeric\n",
       " Dilbert_X - numeric\n",
       " Zoe_X - numeric\n",
       " Dilbert_P - numeric\n",
       " smu_smua_curr - numeric,\n",
       " [None],\n",
       " [None])"
      ]
     },
     "execution_count": 41,
     "metadata": {},
     "output_type": "execute_result"
    }
   ],
   "source": [
    "do1d(smu.smua.volt, 0.29, 0.27, 50, 0.3, rxx1.X, rxy.X, rxx2.X, rxy.P, smu.smua.curr, do_plot = False)"
   ]
  },
  {
   "cell_type": "markdown",
   "metadata": {},
   "source": [
    "## Scan got intterrupted, went back to zero and starting again (Scan187 got interrupted)"
   ]
  },
  {
   "cell_type": "code",
   "execution_count": 43,
   "metadata": {
    "ExecuteTime": {
     "end_time": "2021-10-19T16:12:05.000161Z",
     "start_time": "2021-10-19T16:12:04.864153Z"
    }
   },
   "outputs": [],
   "source": [
    "mag120.sweeprate_field(0.075)\n",
    "mag120.current_setpoint()\n",
    "mag120.to_setpoint()"
   ]
  },
  {
   "cell_type": "code",
   "execution_count": 11,
   "metadata": {
    "ExecuteTime": {
     "end_time": "2021-10-19T17:45:05.060166Z",
     "start_time": "2021-10-19T16:23:18.484932Z"
    }
   },
   "outputs": [
    {
     "name": "stdout",
     "output_type": "stream",
     "text": [
      "Starting experimental run with id: 189. \n"
     ]
    }
   ],
   "source": [
    "exp = load_or_create_experiment('Stepping Bfield 20mT/min 0.5mT steps  Vg=0.27V Tc=1s', '75um HB')\n",
    "meas = Measurement()\n",
    "meas.register_parameter(mag120.current)\n",
    "meas.register_parameter(rxx1.X, setpoints=[mag120.current])\n",
    "meas.register_parameter(rxx2.X, setpoints=[mag120.current])\n",
    "meas.register_parameter(rxy.X, setpoints=[mag120.current])\n",
    "\n",
    "mag120.sweeprate_field(0.02)\n",
    "\n",
    "current=0\n",
    "final_current=18.797\n",
    "current_now = mag120.current()\n",
    "\n",
    "with meas.run() as ds:  \n",
    "    while current < final_current:\n",
    "        ds.add_result((mag120.current, mag120.current()),\n",
    "                         (rxx1.X, rxx1.X()),\n",
    "                         (rxx2.X,rxx2.X()),\n",
    "                         (rxy.X, rxy.X()))\n",
    "        current=current+0.006713\n",
    "        mag120.current_setpoint(current)\n",
    "        mag120.to_setpoint()\n",
    "        time.sleep(1.6)\n",
    "        \n",
    "    dataset1=ds.dataset"
   ]
  },
  {
   "cell_type": "markdown",
   "metadata": {},
   "source": [
    "## 250mV"
   ]
  },
  {
   "cell_type": "code",
   "execution_count": 12,
   "metadata": {
    "ExecuteTime": {
     "end_time": "2021-10-19T17:45:23.230221Z",
     "start_time": "2021-10-19T17:45:05.149169Z"
    }
   },
   "outputs": [
    {
     "name": "stdout",
     "output_type": "stream",
     "text": [
      "Starting experimental run with id: 190. Using 'qcodes.utils.dataset.doNd.do1d'\n"
     ]
    },
    {
     "data": {
      "text/plain": [
       "(results #190@C:\\Users\\Sara\\DataBases\\M12-09-20.1SM1\\M12-09-20.1SM1.db\n",
       " ---------------------------------------------------------------------\n",
       " smu_smua_volt - numeric\n",
       " Beast_X - numeric\n",
       " Dilbert_X - numeric\n",
       " Zoe_X - numeric\n",
       " Dilbert_P - numeric\n",
       " smu_smua_curr - numeric,\n",
       " [None],\n",
       " [None])"
      ]
     },
     "execution_count": 12,
     "metadata": {},
     "output_type": "execute_result"
    }
   ],
   "source": [
    "do1d(smu.smua.volt, 0.27, 0.25, 50, 0.3, rxx1.X, rxy.X, rxx2.X, rxy.P, smu.smua.curr, do_plot = False)"
   ]
  },
  {
   "cell_type": "code",
   "execution_count": 13,
   "metadata": {
    "ExecuteTime": {
     "end_time": "2021-10-19T19:07:07.868816Z",
     "start_time": "2021-10-19T17:45:23.309225Z"
    }
   },
   "outputs": [
    {
     "name": "stdout",
     "output_type": "stream",
     "text": [
      "Starting experimental run with id: 191. \n"
     ]
    }
   ],
   "source": [
    "exp = load_or_create_experiment('Stepping Bfield 20mT/min 0.5mT steps  Vg=0.25V Tc=1s', '75um HB')\n",
    "meas = Measurement()\n",
    "meas.register_parameter(mag120.current)\n",
    "meas.register_parameter(rxx1.X, setpoints=[mag120.current])\n",
    "meas.register_parameter(rxx2.X, setpoints=[mag120.current])\n",
    "meas.register_parameter(rxy.X, setpoints=[mag120.current])\n",
    "\n",
    "mag120.sweeprate_field(0.02)\n",
    "\n",
    "current=18.797\n",
    "final_current=0\n",
    "current_now = mag120.current()\n",
    "\n",
    "with meas.run() as ds:  \n",
    "    while current > final_current:\n",
    "        ds.add_result((mag120.current, mag120.current()),\n",
    "                         (rxx1.X, rxx1.X()),\n",
    "                         (rxx2.X,rxx2.X()),\n",
    "                         (rxy.X, rxy.X()))\n",
    "        current=current-0.006713\n",
    "        mag120.current_setpoint(current)\n",
    "        mag120.to_setpoint()\n",
    "        time.sleep(1.6)\n",
    "        \n",
    "    dataset1=ds.dataset"
   ]
  },
  {
   "cell_type": "markdown",
   "metadata": {},
   "source": [
    "## 230mV"
   ]
  },
  {
   "cell_type": "code",
   "execution_count": 14,
   "metadata": {
    "ExecuteTime": {
     "end_time": "2021-10-19T19:07:26.125854Z",
     "start_time": "2021-10-19T19:07:07.957818Z"
    }
   },
   "outputs": [
    {
     "name": "stdout",
     "output_type": "stream",
     "text": [
      "Starting experimental run with id: 192. Using 'qcodes.utils.dataset.doNd.do1d'\n"
     ]
    },
    {
     "data": {
      "text/plain": [
       "(results #192@C:\\Users\\Sara\\DataBases\\M12-09-20.1SM1\\M12-09-20.1SM1.db\n",
       " ---------------------------------------------------------------------\n",
       " smu_smua_volt - numeric\n",
       " Beast_X - numeric\n",
       " Dilbert_X - numeric\n",
       " Zoe_X - numeric\n",
       " Dilbert_P - numeric\n",
       " smu_smua_curr - numeric,\n",
       " [None],\n",
       " [None])"
      ]
     },
     "execution_count": 14,
     "metadata": {},
     "output_type": "execute_result"
    }
   ],
   "source": [
    "do1d(smu.smua.volt, 0.25, 0.23, 50, 0.3, rxx1.X, rxy.X, rxx2.X, rxy.P, smu.smua.curr, do_plot = False)"
   ]
  },
  {
   "cell_type": "code",
   "execution_count": 15,
   "metadata": {
    "ExecuteTime": {
     "end_time": "2021-10-19T20:29:14.323974Z",
     "start_time": "2021-10-19T19:07:26.215855Z"
    }
   },
   "outputs": [
    {
     "name": "stdout",
     "output_type": "stream",
     "text": [
      "Starting experimental run with id: 193. \n"
     ]
    }
   ],
   "source": [
    "exp = load_or_create_experiment('Stepping Bfield 20mT/min 0.5mT steps  Vg=0.23V Tc=1s', '75um HB')\n",
    "meas = Measurement()\n",
    "meas.register_parameter(mag120.current)\n",
    "meas.register_parameter(rxx1.X, setpoints=[mag120.current])\n",
    "meas.register_parameter(rxx2.X, setpoints=[mag120.current])\n",
    "meas.register_parameter(rxy.X, setpoints=[mag120.current])\n",
    "\n",
    "mag120.sweeprate_field(0.02)\n",
    "\n",
    "current=0\n",
    "final_current=18.797\n",
    "current_now = mag120.current()\n",
    "\n",
    "with meas.run() as ds:  \n",
    "    while current < final_current:\n",
    "        ds.add_result((mag120.current, mag120.current()),\n",
    "                         (rxx1.X, rxx1.X()),\n",
    "                         (rxx2.X,rxx2.X()),\n",
    "                         (rxy.X, rxy.X()))\n",
    "        current=current+0.006713\n",
    "        mag120.current_setpoint(current)\n",
    "        mag120.to_setpoint()\n",
    "        time.sleep(1.6)\n",
    "        \n",
    "    dataset1=ds.dataset"
   ]
  },
  {
   "cell_type": "markdown",
   "metadata": {},
   "source": [
    "## 210mV"
   ]
  },
  {
   "cell_type": "code",
   "execution_count": 16,
   "metadata": {
    "ExecuteTime": {
     "end_time": "2021-10-19T20:29:32.652140Z",
     "start_time": "2021-10-19T20:29:14.400976Z"
    }
   },
   "outputs": [
    {
     "name": "stdout",
     "output_type": "stream",
     "text": [
      "Starting experimental run with id: 194. Using 'qcodes.utils.dataset.doNd.do1d'\n"
     ]
    },
    {
     "data": {
      "text/plain": [
       "(results #194@C:\\Users\\Sara\\DataBases\\M12-09-20.1SM1\\M12-09-20.1SM1.db\n",
       " ---------------------------------------------------------------------\n",
       " smu_smua_volt - numeric\n",
       " Beast_X - numeric\n",
       " Dilbert_X - numeric\n",
       " Zoe_X - numeric\n",
       " Dilbert_P - numeric\n",
       " smu_smua_curr - numeric,\n",
       " [None],\n",
       " [None])"
      ]
     },
     "execution_count": 16,
     "metadata": {},
     "output_type": "execute_result"
    }
   ],
   "source": [
    "do1d(smu.smua.volt, 0.23, 0.21, 50, 0.3, rxx1.X, rxy.X, rxx2.X, rxy.P, smu.smua.curr, do_plot = False)"
   ]
  },
  {
   "cell_type": "code",
   "execution_count": 17,
   "metadata": {
    "ExecuteTime": {
     "end_time": "2021-10-19T21:51:32.552496Z",
     "start_time": "2021-10-19T20:29:32.725143Z"
    }
   },
   "outputs": [
    {
     "name": "stdout",
     "output_type": "stream",
     "text": [
      "Starting experimental run with id: 195. \n"
     ]
    }
   ],
   "source": [
    "exp = load_or_create_experiment('Stepping Bfield 20mT/min 0.5mT steps  Vg=0.21V Tc=1s', '75um HB')\n",
    "meas = Measurement()\n",
    "meas.register_parameter(mag120.current)\n",
    "meas.register_parameter(rxx1.X, setpoints=[mag120.current])\n",
    "meas.register_parameter(rxx2.X, setpoints=[mag120.current])\n",
    "meas.register_parameter(rxy.X, setpoints=[mag120.current])\n",
    "\n",
    "mag120.sweeprate_field(0.02)\n",
    "\n",
    "current=18.797\n",
    "final_current=0\n",
    "current_now = mag120.current()\n",
    "\n",
    "with meas.run() as ds:  \n",
    "    while current > final_current:\n",
    "        ds.add_result((mag120.current, mag120.current()),\n",
    "                         (rxx1.X, rxx1.X()),\n",
    "                         (rxx2.X,rxx2.X()),\n",
    "                         (rxy.X, rxy.X()))\n",
    "        current=current-0.006713\n",
    "        mag120.current_setpoint(current)\n",
    "        mag120.to_setpoint()\n",
    "        time.sleep(1.6)\n",
    "        \n",
    "    dataset1=ds.dataset"
   ]
  },
  {
   "cell_type": "markdown",
   "metadata": {},
   "source": [
    "## 190mV"
   ]
  },
  {
   "cell_type": "code",
   "execution_count": 18,
   "metadata": {
    "ExecuteTime": {
     "end_time": "2021-10-19T21:51:50.924532Z",
     "start_time": "2021-10-19T21:51:32.650498Z"
    }
   },
   "outputs": [
    {
     "name": "stdout",
     "output_type": "stream",
     "text": [
      "Starting experimental run with id: 196. Using 'qcodes.utils.dataset.doNd.do1d'\n"
     ]
    },
    {
     "data": {
      "text/plain": [
       "(results #196@C:\\Users\\Sara\\DataBases\\M12-09-20.1SM1\\M12-09-20.1SM1.db\n",
       " ---------------------------------------------------------------------\n",
       " smu_smua_volt - numeric\n",
       " Beast_X - numeric\n",
       " Dilbert_X - numeric\n",
       " Zoe_X - numeric\n",
       " Dilbert_P - numeric\n",
       " smu_smua_curr - numeric,\n",
       " [None],\n",
       " [None])"
      ]
     },
     "execution_count": 18,
     "metadata": {},
     "output_type": "execute_result"
    }
   ],
   "source": [
    "do1d(smu.smua.volt, 0.21, 0.19, 50, 0.3, rxx1.X, rxy.X, rxx2.X, rxy.P, smu.smua.curr, do_plot = False)"
   ]
  },
  {
   "cell_type": "code",
   "execution_count": 19,
   "metadata": {
    "ExecuteTime": {
     "end_time": "2021-10-19T23:13:52.352114Z",
     "start_time": "2021-10-19T21:51:51.017533Z"
    }
   },
   "outputs": [
    {
     "name": "stdout",
     "output_type": "stream",
     "text": [
      "Starting experimental run with id: 197. \n"
     ]
    }
   ],
   "source": [
    "exp = load_or_create_experiment('Stepping Bfield 20mT/min 0.5mT steps  Vg=0.19V Tc=1s', '75um HB')\n",
    "meas = Measurement()\n",
    "meas.register_parameter(mag120.current)\n",
    "meas.register_parameter(rxx1.X, setpoints=[mag120.current])\n",
    "meas.register_parameter(rxx2.X, setpoints=[mag120.current])\n",
    "meas.register_parameter(rxy.X, setpoints=[mag120.current])\n",
    "\n",
    "mag120.sweeprate_field(0.02)\n",
    "\n",
    "current=0\n",
    "final_current=18.797\n",
    "current_now = mag120.current()\n",
    "\n",
    "with meas.run() as ds:  \n",
    "    while current < final_current:\n",
    "        ds.add_result((mag120.current, mag120.current()),\n",
    "                         (rxx1.X, rxx1.X()),\n",
    "                         (rxx2.X,rxx2.X()),\n",
    "                         (rxy.X, rxy.X()))\n",
    "        current=current+0.006713\n",
    "        mag120.current_setpoint(current)\n",
    "        mag120.to_setpoint()\n",
    "        time.sleep(1.6)\n",
    "        \n",
    "    dataset1=ds.dataset"
   ]
  },
  {
   "cell_type": "markdown",
   "metadata": {},
   "source": [
    "## 170mV"
   ]
  },
  {
   "cell_type": "code",
   "execution_count": 20,
   "metadata": {
    "ExecuteTime": {
     "end_time": "2021-10-19T23:14:10.638149Z",
     "start_time": "2021-10-19T23:13:52.448115Z"
    }
   },
   "outputs": [
    {
     "name": "stdout",
     "output_type": "stream",
     "text": [
      "Starting experimental run with id: 198. Using 'qcodes.utils.dataset.doNd.do1d'\n"
     ]
    },
    {
     "data": {
      "text/plain": [
       "(results #198@C:\\Users\\Sara\\DataBases\\M12-09-20.1SM1\\M12-09-20.1SM1.db\n",
       " ---------------------------------------------------------------------\n",
       " smu_smua_volt - numeric\n",
       " Beast_X - numeric\n",
       " Dilbert_X - numeric\n",
       " Zoe_X - numeric\n",
       " Dilbert_P - numeric\n",
       " smu_smua_curr - numeric,\n",
       " [None],\n",
       " [None])"
      ]
     },
     "execution_count": 20,
     "metadata": {},
     "output_type": "execute_result"
    }
   ],
   "source": [
    "do1d(smu.smua.volt, 0.19, 0.17, 50, 0.3, rxx1.X, rxy.X, rxx2.X, rxy.P, smu.smua.curr, do_plot = False)"
   ]
  },
  {
   "cell_type": "code",
   "execution_count": 21,
   "metadata": {
    "ExecuteTime": {
     "end_time": "2021-10-20T00:37:00.628153Z",
     "start_time": "2021-10-19T23:14:10.722152Z"
    }
   },
   "outputs": [
    {
     "name": "stdout",
     "output_type": "stream",
     "text": [
      "Starting experimental run with id: 199. \n"
     ]
    }
   ],
   "source": [
    "exp = load_or_create_experiment('Stepping Bfield 20mT/min 0.5mT steps  Vg=0.17V Tc=1s', '75um HB')\n",
    "meas = Measurement()\n",
    "meas.register_parameter(mag120.current)\n",
    "meas.register_parameter(rxx1.X, setpoints=[mag120.current])\n",
    "meas.register_parameter(rxx2.X, setpoints=[mag120.current])\n",
    "meas.register_parameter(rxy.X, setpoints=[mag120.current])\n",
    "\n",
    "mag120.sweeprate_field(0.02)\n",
    "\n",
    "current=18.797\n",
    "final_current=0\n",
    "current_now = mag120.current()\n",
    "\n",
    "with meas.run() as ds:  \n",
    "    while current > final_current:\n",
    "        ds.add_result((mag120.current, mag120.current()),\n",
    "                         (rxx1.X, rxx1.X()),\n",
    "                         (rxx2.X,rxx2.X()),\n",
    "                         (rxy.X, rxy.X()))\n",
    "        current=current-0.006713\n",
    "        mag120.current_setpoint(current)\n",
    "        mag120.to_setpoint()\n",
    "        time.sleep(1.6)\n",
    "        \n",
    "    dataset1=ds.dataset"
   ]
  },
  {
   "cell_type": "code",
   "execution_count": 22,
   "metadata": {
    "ExecuteTime": {
     "end_time": "2021-10-20T00:38:07.369461Z",
     "start_time": "2021-10-20T00:37:00.741156Z"
    }
   },
   "outputs": [
    {
     "name": "stdout",
     "output_type": "stream",
     "text": [
      "Starting experimental run with id: 200. Using 'qcodes.utils.dataset.doNd.do1d'\n"
     ]
    },
    {
     "data": {
      "text/plain": [
       "(results #200@C:\\Users\\Sara\\DataBases\\M12-09-20.1SM1\\M12-09-20.1SM1.db\n",
       " ---------------------------------------------------------------------\n",
       " smu_smua_volt - numeric\n",
       " Beast_X - numeric\n",
       " Dilbert_X - numeric\n",
       " Zoe_X - numeric\n",
       " Dilbert_P - numeric\n",
       " smu_smua_curr - numeric,\n",
       " [None],\n",
       " [None])"
      ]
     },
     "execution_count": 22,
     "metadata": {},
     "output_type": "execute_result"
    }
   ],
   "source": [
    "do1d(smu.smua.volt, 0.17, 0, 170, 0.3, rxx1.X, rxy.X, rxx2.X, rxy.P, smu.smua.curr, do_plot = False)"
   ]
  },
  {
   "cell_type": "code",
   "execution_count": 23,
   "metadata": {
    "ExecuteTime": {
     "end_time": "2021-10-20T02:28:23.461097Z",
     "start_time": "2021-10-20T02:22:25.848203Z"
    }
   },
   "outputs": [
    {
     "name": "stdout",
     "output_type": "stream",
     "text": [
      "Starting experimental run with id: 201. Using 'qcodes.utils.dataset.doNd.do1d'\n",
      "Starting experimental run with id: 202. Using 'qcodes.utils.dataset.doNd.do1d'\n"
     ]
    },
    {
     "data": {
      "text/plain": [
       "(results #202@C:\\Users\\Sara\\DataBases\\M12-09-20.1SM1\\M12-09-20.1SM1.db\n",
       " ---------------------------------------------------------------------\n",
       " smu_smua_volt - numeric\n",
       " Beast_X - numeric\n",
       " Dilbert_X - numeric\n",
       " Zoe_X - numeric\n",
       " Dilbert_P - numeric\n",
       " smu_smua_curr - numeric,\n",
       " [None],\n",
       " [None])"
      ]
     },
     "execution_count": 23,
     "metadata": {},
     "output_type": "execute_result"
    }
   ],
   "source": [
    "do1d(smu.smua.volt, 0, 0.600, 600, 0.3, rxx1.X, rxy.X, rxx2.X, rxy.P, smu.smua.curr, do_plot = False)\n",
    "do1d(smu.smua.volt, 0.600, 0.200, 400, 0.3, rxx1.X, rxy.X, rxx2.X, rxy.P, smu.smua.curr, do_plot = False)"
   ]
  },
  {
   "cell_type": "code",
   "execution_count": 24,
   "metadata": {
    "ExecuteTime": {
     "end_time": "2021-10-20T02:29:02.242800Z",
     "start_time": "2021-10-20T02:29:02.232800Z"
    }
   },
   "outputs": [
    {
     "data": {
      "text/plain": [
       "0.0033565"
      ]
     },
     "execution_count": 24,
     "metadata": {},
     "output_type": "execute_result"
    }
   ],
   "source": [
    "0.006713/2"
   ]
  },
  {
   "cell_type": "markdown",
   "metadata": {},
   "source": [
    "# Adding more scans at low n"
   ]
  },
  {
   "cell_type": "markdown",
   "metadata": {},
   "source": [
    "## 200mV"
   ]
  },
  {
   "cell_type": "code",
   "execution_count": 25,
   "metadata": {
    "ExecuteTime": {
     "end_time": "2021-10-20T03:39:41.473158Z",
     "start_time": "2021-10-20T02:29:45.186545Z"
    }
   },
   "outputs": [
    {
     "name": "stdout",
     "output_type": "stream",
     "text": [
      "Starting experimental run with id: 203. \n"
     ]
    }
   ],
   "source": [
    "exp = load_or_create_experiment('Stepping Bfield 20mT/min 0.25mT steps  Vg=0.2V Tc=1s', '75um HB')\n",
    "meas = Measurement()\n",
    "meas.register_parameter(mag120.current)\n",
    "meas.register_parameter(rxx1.X, setpoints=[mag120.current])\n",
    "meas.register_parameter(rxx2.X, setpoints=[mag120.current])\n",
    "meas.register_parameter(rxy.X, setpoints=[mag120.current])\n",
    "\n",
    "mag120.sweeprate_field(0.02)\n",
    "\n",
    "current=0\n",
    "final_current=13.42625\n",
    "current_now = mag120.current()\n",
    "\n",
    "with meas.run() as ds:  \n",
    "    while current < final_current:\n",
    "        ds.add_result((mag120.current, mag120.current()),\n",
    "                         (rxx1.X, rxx1.X()),\n",
    "                         (rxx2.X,rxx2.X()),\n",
    "                         (rxy.X, rxy.X()))\n",
    "        current=current+0.0033565\n",
    "        mag120.current_setpoint(current)\n",
    "        mag120.to_setpoint()\n",
    "        time.sleep(0.9)\n",
    "        \n",
    "    dataset1=ds.dataset"
   ]
  },
  {
   "cell_type": "markdown",
   "metadata": {},
   "source": [
    "## 170mV"
   ]
  },
  {
   "cell_type": "code",
   "execution_count": 26,
   "metadata": {
    "ExecuteTime": {
     "end_time": "2021-10-20T03:39:56.224363Z",
     "start_time": "2021-10-20T03:39:41.554161Z"
    }
   },
   "outputs": [
    {
     "name": "stdout",
     "output_type": "stream",
     "text": [
      "Starting experimental run with id: 204. Using 'qcodes.utils.dataset.doNd.do1d'\n"
     ]
    },
    {
     "data": {
      "text/plain": [
       "(results #204@C:\\Users\\Sara\\DataBases\\M12-09-20.1SM1\\M12-09-20.1SM1.db\n",
       " ---------------------------------------------------------------------\n",
       " smu_smua_volt - numeric\n",
       " Beast_X - numeric\n",
       " Dilbert_X - numeric\n",
       " Zoe_X - numeric\n",
       " Dilbert_P - numeric\n",
       " smu_smua_curr - numeric,\n",
       " [None],\n",
       " [None])"
      ]
     },
     "execution_count": 26,
     "metadata": {},
     "output_type": "execute_result"
    }
   ],
   "source": [
    "do1d(smu.smua.volt, 0.200, 0.170, 40, 0.3, rxx1.X, rxy.X, rxx2.X, rxy.P, smu.smua.curr, do_plot = False)"
   ]
  },
  {
   "cell_type": "code",
   "execution_count": 27,
   "metadata": {
    "ExecuteTime": {
     "end_time": "2021-10-20T04:49:48.812932Z",
     "start_time": "2021-10-20T03:39:56.300366Z"
    }
   },
   "outputs": [
    {
     "name": "stdout",
     "output_type": "stream",
     "text": [
      "Starting experimental run with id: 205. \n"
     ]
    }
   ],
   "source": [
    "exp = load_or_create_experiment('Stepping Bfield 20mT/min 0.5mT steps  Vg=0.17V Tc=1s', '75um HB')\n",
    "meas = Measurement()\n",
    "meas.register_parameter(mag120.current)\n",
    "meas.register_parameter(rxx1.X, setpoints=[mag120.current])\n",
    "meas.register_parameter(rxx2.X, setpoints=[mag120.current])\n",
    "meas.register_parameter(rxy.X, setpoints=[mag120.current])\n",
    "\n",
    "mag120.sweeprate_field(0.02)\n",
    "\n",
    "current=13.42625\n",
    "final_current=0\n",
    "current_now = mag120.current()\n",
    "\n",
    "with meas.run() as ds:  \n",
    "    while current > final_current:\n",
    "        ds.add_result((mag120.current, mag120.current()),\n",
    "                         (rxx1.X, rxx1.X()),\n",
    "                         (rxx2.X,rxx2.X()),\n",
    "                         (rxy.X, rxy.X()))\n",
    "        current=current-0.0033565\n",
    "        mag120.current_setpoint(current)\n",
    "        mag120.to_setpoint()\n",
    "        time.sleep(0.9)\n",
    "        \n",
    "    dataset1=ds.dataset"
   ]
  },
  {
   "cell_type": "markdown",
   "metadata": {},
   "source": [
    "## 150mV"
   ]
  },
  {
   "cell_type": "code",
   "execution_count": 28,
   "metadata": {
    "ExecuteTime": {
     "end_time": "2021-10-20T04:50:03.661990Z",
     "start_time": "2021-10-20T04:49:48.922936Z"
    }
   },
   "outputs": [
    {
     "name": "stdout",
     "output_type": "stream",
     "text": [
      "Starting experimental run with id: 206. Using 'qcodes.utils.dataset.doNd.do1d'\n"
     ]
    },
    {
     "data": {
      "text/plain": [
       "(results #206@C:\\Users\\Sara\\DataBases\\M12-09-20.1SM1\\M12-09-20.1SM1.db\n",
       " ---------------------------------------------------------------------\n",
       " smu_smua_volt - numeric\n",
       " Beast_X - numeric\n",
       " Dilbert_X - numeric\n",
       " Zoe_X - numeric\n",
       " Dilbert_P - numeric\n",
       " smu_smua_curr - numeric,\n",
       " [None],\n",
       " [None])"
      ]
     },
     "execution_count": 28,
     "metadata": {},
     "output_type": "execute_result"
    }
   ],
   "source": [
    "do1d(smu.smua.volt, 0.170, 0.150, 40, 0.3, rxx1.X, rxy.X, rxx2.X, rxy.P, smu.smua.curr, do_plot = False)"
   ]
  },
  {
   "cell_type": "code",
   "execution_count": 29,
   "metadata": {
    "ExecuteTime": {
     "end_time": "2021-10-20T05:59:56.311566Z",
     "start_time": "2021-10-20T04:50:03.779996Z"
    }
   },
   "outputs": [
    {
     "name": "stdout",
     "output_type": "stream",
     "text": [
      "Starting experimental run with id: 207. \n"
     ]
    }
   ],
   "source": [
    "exp = load_or_create_experiment('Stepping Bfield 20mT/min 0.25mT steps  Vg=0.15V Tc=1s', '75um HB')\n",
    "meas = Measurement()\n",
    "meas.register_parameter(mag120.current)\n",
    "meas.register_parameter(rxx1.X, setpoints=[mag120.current])\n",
    "meas.register_parameter(rxx2.X, setpoints=[mag120.current])\n",
    "meas.register_parameter(rxy.X, setpoints=[mag120.current])\n",
    "\n",
    "mag120.sweeprate_field(0.02)\n",
    "\n",
    "current=0\n",
    "final_current=13.42625\n",
    "current_now = mag120.current()\n",
    "\n",
    "with meas.run() as ds:  \n",
    "    while current < final_current:\n",
    "        ds.add_result((mag120.current, mag120.current()),\n",
    "                         (rxx1.X, rxx1.X()),\n",
    "                         (rxx2.X,rxx2.X()),\n",
    "                         (rxy.X, rxy.X()))\n",
    "        current=current+0.0033565\n",
    "        mag120.current_setpoint(current)\n",
    "        mag120.to_setpoint()\n",
    "        time.sleep(0.9)\n",
    "        \n",
    "    dataset1=ds.dataset"
   ]
  },
  {
   "cell_type": "markdown",
   "metadata": {},
   "source": [
    "## 130mV"
   ]
  },
  {
   "cell_type": "code",
   "execution_count": 30,
   "metadata": {
    "ExecuteTime": {
     "end_time": "2021-10-20T06:00:11.017620Z",
     "start_time": "2021-10-20T05:59:56.377568Z"
    }
   },
   "outputs": [
    {
     "name": "stdout",
     "output_type": "stream",
     "text": [
      "Starting experimental run with id: 208. Using 'qcodes.utils.dataset.doNd.do1d'\n"
     ]
    },
    {
     "data": {
      "text/plain": [
       "(results #208@C:\\Users\\Sara\\DataBases\\M12-09-20.1SM1\\M12-09-20.1SM1.db\n",
       " ---------------------------------------------------------------------\n",
       " smu_smua_volt - numeric\n",
       " Beast_X - numeric\n",
       " Dilbert_X - numeric\n",
       " Zoe_X - numeric\n",
       " Dilbert_P - numeric\n",
       " smu_smua_curr - numeric,\n",
       " [None],\n",
       " [None])"
      ]
     },
     "execution_count": 30,
     "metadata": {},
     "output_type": "execute_result"
    }
   ],
   "source": [
    "do1d(smu.smua.volt, 0.150, 0.130, 40, 0.3, rxx1.X, rxy.X, rxx2.X, rxy.P, smu.smua.curr, do_plot = False)"
   ]
  },
  {
   "cell_type": "code",
   "execution_count": 31,
   "metadata": {
    "ExecuteTime": {
     "end_time": "2021-10-20T07:10:02.793152Z",
     "start_time": "2021-10-20T06:00:11.084624Z"
    }
   },
   "outputs": [
    {
     "name": "stdout",
     "output_type": "stream",
     "text": [
      "Starting experimental run with id: 209. \n"
     ]
    }
   ],
   "source": [
    "exp = load_or_create_experiment('Stepping Bfield 20mT/min 0.5mT steps  Vg=0.13V Tc=1s', '75um HB')\n",
    "meas = Measurement()\n",
    "meas.register_parameter(mag120.current)\n",
    "meas.register_parameter(rxx1.X, setpoints=[mag120.current])\n",
    "meas.register_parameter(rxx2.X, setpoints=[mag120.current])\n",
    "meas.register_parameter(rxy.X, setpoints=[mag120.current])\n",
    "\n",
    "mag120.sweeprate_field(0.02)\n",
    "\n",
    "current=13.42625\n",
    "final_current=0\n",
    "current_now = mag120.current()\n",
    "\n",
    "with meas.run() as ds:  \n",
    "    while current > final_current:\n",
    "        ds.add_result((mag120.current, mag120.current()),\n",
    "                         (rxx1.X, rxx1.X()),\n",
    "                         (rxx2.X,rxx2.X()),\n",
    "                         (rxy.X, rxy.X()))\n",
    "        current=current-0.0033565\n",
    "        mag120.current_setpoint(current)\n",
    "        mag120.to_setpoint()\n",
    "        time.sleep(0.9)\n",
    "        \n",
    "    dataset1=ds.dataset"
   ]
  },
  {
   "cell_type": "markdown",
   "metadata": {},
   "source": [
    "## 110mV"
   ]
  },
  {
   "cell_type": "code",
   "execution_count": 32,
   "metadata": {
    "ExecuteTime": {
     "end_time": "2021-10-20T07:10:17.552209Z",
     "start_time": "2021-10-20T07:10:02.860154Z"
    }
   },
   "outputs": [
    {
     "name": "stdout",
     "output_type": "stream",
     "text": [
      "Starting experimental run with id: 210. Using 'qcodes.utils.dataset.doNd.do1d'\n"
     ]
    },
    {
     "data": {
      "text/plain": [
       "(results #210@C:\\Users\\Sara\\DataBases\\M12-09-20.1SM1\\M12-09-20.1SM1.db\n",
       " ---------------------------------------------------------------------\n",
       " smu_smua_volt - numeric\n",
       " Beast_X - numeric\n",
       " Dilbert_X - numeric\n",
       " Zoe_X - numeric\n",
       " Dilbert_P - numeric\n",
       " smu_smua_curr - numeric,\n",
       " [None],\n",
       " [None])"
      ]
     },
     "execution_count": 32,
     "metadata": {},
     "output_type": "execute_result"
    }
   ],
   "source": [
    "do1d(smu.smua.volt, 0.130, 0.110, 40, 0.3, rxx1.X, rxy.X, rxx2.X, rxy.P, smu.smua.curr, do_plot = False)"
   ]
  },
  {
   "cell_type": "code",
   "execution_count": 33,
   "metadata": {
    "ExecuteTime": {
     "end_time": "2021-10-20T08:20:08.346720Z",
     "start_time": "2021-10-20T07:10:17.639212Z"
    }
   },
   "outputs": [
    {
     "name": "stdout",
     "output_type": "stream",
     "text": [
      "Starting experimental run with id: 211. \n"
     ]
    }
   ],
   "source": [
    "exp = load_or_create_experiment('Stepping Bfield 20mT/min 0.25mT steps  Vg=0.11V Tc=1s', '75um HB')\n",
    "meas = Measurement()\n",
    "meas.register_parameter(mag120.current)\n",
    "meas.register_parameter(rxx1.X, setpoints=[mag120.current])\n",
    "meas.register_parameter(rxx2.X, setpoints=[mag120.current])\n",
    "meas.register_parameter(rxy.X, setpoints=[mag120.current])\n",
    "\n",
    "mag120.sweeprate_field(0.02)\n",
    "\n",
    "current=0\n",
    "final_current=13.42625\n",
    "current_now = mag120.current()\n",
    "\n",
    "with meas.run() as ds:  \n",
    "    while current < final_current:\n",
    "        ds.add_result((mag120.current, mag120.current()),\n",
    "                         (rxx1.X, rxx1.X()),\n",
    "                         (rxx2.X,rxx2.X()),\n",
    "                         (rxy.X, rxy.X()))\n",
    "        current=current+0.0033565\n",
    "        mag120.current_setpoint(current)\n",
    "        mag120.to_setpoint()\n",
    "        time.sleep(0.9)\n",
    "        \n",
    "    dataset1=ds.dataset"
   ]
  },
  {
   "cell_type": "markdown",
   "metadata": {},
   "source": [
    "## Scan 90mV"
   ]
  },
  {
   "cell_type": "code",
   "execution_count": 34,
   "metadata": {
    "ExecuteTime": {
     "end_time": "2021-10-20T08:20:22.903771Z",
     "start_time": "2021-10-20T08:20:08.414722Z"
    }
   },
   "outputs": [
    {
     "name": "stdout",
     "output_type": "stream",
     "text": [
      "Starting experimental run with id: 212. Using 'qcodes.utils.dataset.doNd.do1d'\n"
     ]
    },
    {
     "data": {
      "text/plain": [
       "(results #212@C:\\Users\\Sara\\DataBases\\M12-09-20.1SM1\\M12-09-20.1SM1.db\n",
       " ---------------------------------------------------------------------\n",
       " smu_smua_volt - numeric\n",
       " Beast_X - numeric\n",
       " Dilbert_X - numeric\n",
       " Zoe_X - numeric\n",
       " Dilbert_P - numeric\n",
       " smu_smua_curr - numeric,\n",
       " [None],\n",
       " [None])"
      ]
     },
     "execution_count": 34,
     "metadata": {},
     "output_type": "execute_result"
    }
   ],
   "source": [
    "do1d(smu.smua.volt, 0.110, 0.09, 40, 0.3, rxx1.X, rxy.X, rxx2.X, rxy.P, smu.smua.curr, do_plot = False)"
   ]
  },
  {
   "cell_type": "code",
   "execution_count": 35,
   "metadata": {
    "ExecuteTime": {
     "end_time": "2021-10-20T09:30:14.876373Z",
     "start_time": "2021-10-20T08:20:22.981775Z"
    }
   },
   "outputs": [
    {
     "name": "stdout",
     "output_type": "stream",
     "text": [
      "Starting experimental run with id: 213. \n"
     ]
    }
   ],
   "source": [
    "exp = load_or_create_experiment('Stepping Bfield 20mT/min 0.5mT steps  Vg=0.09V Tc=1s', '75um HB')\n",
    "meas = Measurement()\n",
    "meas.register_parameter(mag120.current)\n",
    "meas.register_parameter(rxx1.X, setpoints=[mag120.current])\n",
    "meas.register_parameter(rxx2.X, setpoints=[mag120.current])\n",
    "meas.register_parameter(rxy.X, setpoints=[mag120.current])\n",
    "\n",
    "mag120.sweeprate_field(0.02)\n",
    "\n",
    "current=13.42625\n",
    "final_current=0\n",
    "current_now = mag120.current()\n",
    "\n",
    "with meas.run() as ds:  \n",
    "    while current > final_current:\n",
    "        ds.add_result((mag120.current, mag120.current()),\n",
    "                         (rxx1.X, rxx1.X()),\n",
    "                         (rxx2.X,rxx2.X()),\n",
    "                         (rxy.X, rxy.X()))\n",
    "        current=current-0.0033565\n",
    "        mag120.current_setpoint(current)\n",
    "        mag120.to_setpoint()\n",
    "        time.sleep(0.9)\n",
    "        \n",
    "    dataset1=ds.dataset"
   ]
  },
  {
   "cell_type": "markdown",
   "metadata": {},
   "source": [
    "## 70mV"
   ]
  },
  {
   "cell_type": "code",
   "execution_count": 36,
   "metadata": {
    "ExecuteTime": {
     "end_time": "2021-10-20T09:30:29.559429Z",
     "start_time": "2021-10-20T09:30:14.943375Z"
    }
   },
   "outputs": [
    {
     "name": "stdout",
     "output_type": "stream",
     "text": [
      "Starting experimental run with id: 214. Using 'qcodes.utils.dataset.doNd.do1d'\n"
     ]
    },
    {
     "data": {
      "text/plain": [
       "(results #214@C:\\Users\\Sara\\DataBases\\M12-09-20.1SM1\\M12-09-20.1SM1.db\n",
       " ---------------------------------------------------------------------\n",
       " smu_smua_volt - numeric\n",
       " Beast_X - numeric\n",
       " Dilbert_X - numeric\n",
       " Zoe_X - numeric\n",
       " Dilbert_P - numeric\n",
       " smu_smua_curr - numeric,\n",
       " [None],\n",
       " [None])"
      ]
     },
     "execution_count": 36,
     "metadata": {},
     "output_type": "execute_result"
    }
   ],
   "source": [
    "do1d(smu.smua.volt, 0.09, 0.07, 40, 0.3, rxx1.X, rxy.X, rxx2.X, rxy.P, smu.smua.curr, do_plot = False)"
   ]
  },
  {
   "cell_type": "code",
   "execution_count": 37,
   "metadata": {
    "ExecuteTime": {
     "end_time": "2021-10-20T10:40:17.378015Z",
     "start_time": "2021-10-20T09:30:29.634432Z"
    }
   },
   "outputs": [
    {
     "name": "stdout",
     "output_type": "stream",
     "text": [
      "Starting experimental run with id: 215. \n"
     ]
    }
   ],
   "source": [
    "exp = load_or_create_experiment('Stepping Bfield 20mT/min 0.25mT steps  Vg=0.07V Tc=1s', '75um HB')\n",
    "meas = Measurement()\n",
    "meas.register_parameter(mag120.current)\n",
    "meas.register_parameter(rxx1.X, setpoints=[mag120.current])\n",
    "meas.register_parameter(rxx2.X, setpoints=[mag120.current])\n",
    "meas.register_parameter(rxy.X, setpoints=[mag120.current])\n",
    "\n",
    "mag120.sweeprate_field(0.02)\n",
    "\n",
    "current=0\n",
    "final_current=13.42625\n",
    "current_now = mag120.current()\n",
    "\n",
    "with meas.run() as ds:  \n",
    "    while current < final_current:\n",
    "        ds.add_result((mag120.current, mag120.current()),\n",
    "                         (rxx1.X, rxx1.X()),\n",
    "                         (rxx2.X,rxx2.X()),\n",
    "                         (rxy.X, rxy.X()))\n",
    "        current=current+0.0033565\n",
    "        mag120.current_setpoint(current)\n",
    "        mag120.to_setpoint()\n",
    "        time.sleep(0.9)\n",
    "        \n",
    "    dataset1=ds.dataset"
   ]
  },
  {
   "cell_type": "markdown",
   "metadata": {},
   "source": [
    "## 50mV"
   ]
  },
  {
   "cell_type": "code",
   "execution_count": 38,
   "metadata": {
    "ExecuteTime": {
     "end_time": "2021-10-20T10:40:31.977069Z",
     "start_time": "2021-10-20T10:40:17.466019Z"
    }
   },
   "outputs": [
    {
     "name": "stdout",
     "output_type": "stream",
     "text": [
      "Starting experimental run with id: 216. Using 'qcodes.utils.dataset.doNd.do1d'\n"
     ]
    },
    {
     "data": {
      "text/plain": [
       "(results #216@C:\\Users\\Sara\\DataBases\\M12-09-20.1SM1\\M12-09-20.1SM1.db\n",
       " ---------------------------------------------------------------------\n",
       " smu_smua_volt - numeric\n",
       " Beast_X - numeric\n",
       " Dilbert_X - numeric\n",
       " Zoe_X - numeric\n",
       " Dilbert_P - numeric\n",
       " smu_smua_curr - numeric,\n",
       " [None],\n",
       " [None])"
      ]
     },
     "execution_count": 38,
     "metadata": {},
     "output_type": "execute_result"
    }
   ],
   "source": [
    "do1d(smu.smua.volt, 0.07, 0.05, 40, 0.3, rxx1.X, rxy.X, rxx2.X, rxy.P, smu.smua.curr, do_plot = False)"
   ]
  },
  {
   "cell_type": "code",
   "execution_count": 39,
   "metadata": {
    "ExecuteTime": {
     "end_time": "2021-10-20T11:50:19.219892Z",
     "start_time": "2021-10-20T10:40:32.046073Z"
    }
   },
   "outputs": [
    {
     "name": "stdout",
     "output_type": "stream",
     "text": [
      "Starting experimental run with id: 217. \n"
     ]
    }
   ],
   "source": [
    "exp = load_or_create_experiment('Stepping Bfield 20mT/min 0.5mT steps  Vg=0.05V Tc=1s', '75um HB')\n",
    "meas = Measurement()\n",
    "meas.register_parameter(mag120.current)\n",
    "meas.register_parameter(rxx1.X, setpoints=[mag120.current])\n",
    "meas.register_parameter(rxx2.X, setpoints=[mag120.current])\n",
    "meas.register_parameter(rxy.X, setpoints=[mag120.current])\n",
    "\n",
    "mag120.sweeprate_field(0.02)\n",
    "\n",
    "current=13.42625\n",
    "final_current=0\n",
    "current_now = mag120.current()\n",
    "\n",
    "with meas.run() as ds:  \n",
    "    while current > final_current:\n",
    "        ds.add_result((mag120.current, mag120.current()),\n",
    "                         (rxx1.X, rxx1.X()),\n",
    "                         (rxx2.X,rxx2.X()),\n",
    "                         (rxy.X, rxy.X()))\n",
    "        current=current-0.0033565\n",
    "        mag120.current_setpoint(current)\n",
    "        mag120.to_setpoint()\n",
    "        time.sleep(0.9)\n",
    "        \n",
    "    dataset1=ds.dataset"
   ]
  },
  {
   "cell_type": "markdown",
   "metadata": {},
   "source": [
    "# WAL"
   ]
  },
  {
   "cell_type": "markdown",
   "metadata": {},
   "source": [
    "## Test Scans at Vg=0.05V"
   ]
  },
  {
   "cell_type": "code",
   "execution_count": 40,
   "metadata": {
    "ExecuteTime": {
     "end_time": "2021-10-20T11:57:24.698583Z",
     "start_time": "2021-10-20T11:57:24.562575Z"
    }
   },
   "outputs": [],
   "source": [
    "mag120.sweeprate_field(0.05)\n",
    "mag120.current_setpoint(0.805)\n",
    "mag120.to_setpoint()"
   ]
  },
  {
   "cell_type": "code",
   "execution_count": 41,
   "metadata": {
    "ExecuteTime": {
     "end_time": "2021-10-20T11:58:28.922652Z",
     "start_time": "2021-10-20T11:58:28.891651Z"
    }
   },
   "outputs": [
    {
     "data": {
      "text/plain": [
       "0.7161"
      ]
     },
     "execution_count": 41,
     "metadata": {},
     "output_type": "execute_result"
    }
   ],
   "source": [
    "mag120.current()"
   ]
  },
  {
   "cell_type": "code",
   "execution_count": 42,
   "metadata": {
    "ExecuteTime": {
     "end_time": "2021-10-20T12:10:21.457619Z",
     "start_time": "2021-10-20T12:02:00.165717Z"
    }
   },
   "outputs": [
    {
     "name": "stdout",
     "output_type": "stream",
     "text": [
      "Starting experimental run with id: 218. \n"
     ]
    }
   ],
   "source": [
    "exp = load_or_create_experiment('WAL 20mT/min 0.25mT steps  Vg=0.05V Tc=1s', '75um HB')\n",
    "meas = Measurement()\n",
    "meas.register_parameter(mag120.current)\n",
    "meas.register_parameter(rxx1.X, setpoints=[mag120.current])\n",
    "meas.register_parameter(rxx2.X, setpoints=[mag120.current])\n",
    "meas.register_parameter(rxy.X, setpoints=[mag120.current])\n",
    "\n",
    "mag120.sweeprate_field(0.02)\n",
    "\n",
    "current=0.80\n",
    "final_current=-0.80\n",
    "current_now = mag120.current()\n",
    "\n",
    "with meas.run() as ds:  \n",
    "    while current > final_current:\n",
    "        ds.add_result((mag120.current, mag120.current()),\n",
    "                         (rxx1.X, rxx1.X()),\n",
    "                         (rxx2.X,rxx2.X()),\n",
    "                         (rxy.X, rxy.X()))\n",
    "        current=current-0.0033565\n",
    "        mag120.current_setpoint(current)\n",
    "        mag120.to_setpoint()\n",
    "        time.sleep(0.9)\n",
    "        \n",
    "    dataset1=ds.dataset"
   ]
  },
  {
   "cell_type": "code",
   "execution_count": 43,
   "metadata": {
    "ExecuteTime": {
     "end_time": "2021-10-20T12:19:56.956816Z",
     "start_time": "2021-10-20T12:19:56.936816Z"
    }
   },
   "outputs": [],
   "source": [
    "rxx1.time_constant(3)\n",
    "rxx2.time_constant(3)"
   ]
  },
  {
   "cell_type": "code",
   "execution_count": 44,
   "metadata": {
    "ExecuteTime": {
     "end_time": "2021-10-20T12:20:10.606177Z",
     "start_time": "2021-10-20T12:20:10.566176Z"
    }
   },
   "outputs": [
    {
     "data": {
      "text/plain": [
       "0.005"
      ]
     },
     "execution_count": 44,
     "metadata": {},
     "output_type": "execute_result"
    }
   ],
   "source": [
    "rxx1.sensitivity()\n",
    "rxx2.sensitivity()"
   ]
  },
  {
   "cell_type": "code",
   "execution_count": 45,
   "metadata": {
    "ExecuteTime": {
     "end_time": "2021-10-20T12:30:13.459567Z",
     "start_time": "2021-10-20T12:21:01.811568Z"
    }
   },
   "outputs": [
    {
     "name": "stdout",
     "output_type": "stream",
     "text": [
      "Starting experimental run with id: 219. \n"
     ]
    },
    {
     "name": "stderr",
     "output_type": "stream",
     "text": [
      "2021-10-20 08:30:13,421 ¦ qcodes.dataset.measurements ¦ WARNING ¦ measurements ¦ __exit__ ¦ 635 ¦ An exception occured in measurement with guid: aaaaaaaa-0000-0000-0000-017c9da5cf6a;\n",
      "Traceback:\n",
      "Traceback (most recent call last):\n",
      "  File \"<ipython-input-45-5b1343982b4c>\", line 23, in <module>\n",
      "    time.sleep(1.6)\n",
      "KeyboardInterrupt\n",
      "\n"
     ]
    },
    {
     "ename": "KeyboardInterrupt",
     "evalue": "",
     "output_type": "error",
     "traceback": [
      "\u001b[1;31m---------------------------------------------------------------------------\u001b[0m",
      "\u001b[1;31mKeyboardInterrupt\u001b[0m                         Traceback (most recent call last)",
      "\u001b[1;32m<ipython-input-45-5b1343982b4c>\u001b[0m in \u001b[0;36m<module>\u001b[1;34m\u001b[0m\n\u001b[0;32m     21\u001b[0m         \u001b[0mmag120\u001b[0m\u001b[1;33m.\u001b[0m\u001b[0mcurrent_setpoint\u001b[0m\u001b[1;33m(\u001b[0m\u001b[0mcurrent\u001b[0m\u001b[1;33m)\u001b[0m\u001b[1;33m\u001b[0m\u001b[1;33m\u001b[0m\u001b[0m\n\u001b[0;32m     22\u001b[0m         \u001b[0mmag120\u001b[0m\u001b[1;33m.\u001b[0m\u001b[0mto_setpoint\u001b[0m\u001b[1;33m(\u001b[0m\u001b[1;33m)\u001b[0m\u001b[1;33m\u001b[0m\u001b[1;33m\u001b[0m\u001b[0m\n\u001b[1;32m---> 23\u001b[1;33m         \u001b[0mtime\u001b[0m\u001b[1;33m.\u001b[0m\u001b[0msleep\u001b[0m\u001b[1;33m(\u001b[0m\u001b[1;36m1.6\u001b[0m\u001b[1;33m)\u001b[0m\u001b[1;33m\u001b[0m\u001b[1;33m\u001b[0m\u001b[0m\n\u001b[0m\u001b[0;32m     24\u001b[0m \u001b[1;33m\u001b[0m\u001b[0m\n\u001b[0;32m     25\u001b[0m     \u001b[0mdataset1\u001b[0m\u001b[1;33m=\u001b[0m\u001b[0mds\u001b[0m\u001b[1;33m.\u001b[0m\u001b[0mdataset\u001b[0m\u001b[1;33m\u001b[0m\u001b[1;33m\u001b[0m\u001b[0m\n",
      "\u001b[1;31mKeyboardInterrupt\u001b[0m: "
     ]
    }
   ],
   "source": [
    "exp = load_or_create_experiment('WAL 20mT/min 0.25mT steps  Vg=0.05V Tc=1s', '75um HB')\n",
    "meas = Measurement()\n",
    "meas.register_parameter(mag120.current)\n",
    "meas.register_parameter(rxx1.X, setpoints=[mag120.current])\n",
    "meas.register_parameter(rxx2.X, setpoints=[mag120.current])\n",
    "meas.register_parameter(rxy.X, setpoints=[mag120.current])\n",
    "\n",
    "mag120.sweeprate_field(0.01)\n",
    "\n",
    "current=-0.80\n",
    "final_current=0.80\n",
    "current_now = mag120.current()\n",
    "\n",
    "with meas.run() as ds:  \n",
    "    while current < final_current:\n",
    "        ds.add_result((mag120.current, mag120.current()),\n",
    "                         (rxx1.X, rxx1.X()),\n",
    "                         (rxx2.X,rxx2.X()),\n",
    "                         (rxy.X, rxy.X()))\n",
    "        current=current+0.0033565\n",
    "        mag120.current_setpoint(current)\n",
    "        mag120.to_setpoint()\n",
    "        time.sleep(1.6)\n",
    "        \n",
    "    dataset1=ds.dataset"
   ]
  },
  {
   "cell_type": "code",
   "execution_count": 46,
   "metadata": {
    "ExecuteTime": {
     "end_time": "2021-10-20T12:30:33.225942Z",
     "start_time": "2021-10-20T12:30:33.084935Z"
    }
   },
   "outputs": [],
   "source": [
    "mag120.sweeprate_field(0.05)\n",
    "mag120.current_setpoint(0.130)\n",
    "mag120.to_setpoint()"
   ]
  },
  {
   "cell_type": "code",
   "execution_count": 47,
   "metadata": {
    "ExecuteTime": {
     "end_time": "2021-10-20T12:30:45.901272Z",
     "start_time": "2021-10-20T12:30:45.877272Z"
    }
   },
   "outputs": [
    {
     "data": {
      "text/plain": [
       "0.13"
      ]
     },
     "execution_count": 47,
     "metadata": {},
     "output_type": "execute_result"
    }
   ],
   "source": [
    "mag120.current()"
   ]
  },
  {
   "cell_type": "code",
   "execution_count": 48,
   "metadata": {
    "ExecuteTime": {
     "end_time": "2021-10-20T12:40:25.174014Z",
     "start_time": "2021-10-20T12:32:48.524934Z"
    }
   },
   "outputs": [
    {
     "name": "stdout",
     "output_type": "stream",
     "text": [
      "Starting experimental run with id: 220. \n"
     ]
    }
   ],
   "source": [
    "exp = load_or_create_experiment('WAL 10mT/min b steps 0.1mT', '75um HB')\n",
    "meas = Measurement()\n",
    "meas.register_parameter(mag120.current)\n",
    "meas.register_parameter(rxx1.X, setpoints=[mag120.current])\n",
    "meas.register_parameter(rxx2.X, setpoints=[mag120.current])\n",
    "meas.register_parameter(rxy.X, setpoints=[mag120.current])\n",
    "\n",
    "mag120.sweeprate_field(0.01)\n",
    "\n",
    "current=0.130\n",
    "final_current=-0.130\n",
    "current_now = mag120.current()\n",
    "\n",
    "with meas.run() as ds:  \n",
    "    while current > final_current:\n",
    "        ds.add_result((mag120.current, mag120.current()),\n",
    "                         (rxx1.X, rxx1.X()),\n",
    "                         (rxx2.X,rxx2.X()),\n",
    "                         (rxy.X, rxy.X()))\n",
    "        current=current-0.001\n",
    "        mag120.current_setpoint(current)\n",
    "        mag120.to_setpoint()\n",
    "        time.sleep(1.6)\n",
    "        \n",
    "    dataset1=ds.dataset"
   ]
  },
  {
   "cell_type": "code",
   "execution_count": 49,
   "metadata": {
    "ExecuteTime": {
     "end_time": "2021-10-20T12:57:57.462809Z",
     "start_time": "2021-10-20T12:42:43.880740Z"
    }
   },
   "outputs": [
    {
     "name": "stdout",
     "output_type": "stream",
     "text": [
      "Starting experimental run with id: 221. \n"
     ]
    }
   ],
   "source": [
    "exp = load_or_create_experiment('WAL 10mT/min b steps 0.1mT', '75um HB')\n",
    "meas = Measurement()\n",
    "meas.register_parameter(mag120.current)\n",
    "meas.register_parameter(rxx1.X, setpoints=[mag120.current])\n",
    "meas.register_parameter(rxx2.X, setpoints=[mag120.current])\n",
    "meas.register_parameter(rxy.X, setpoints=[mag120.current])\n",
    "\n",
    "mag120.sweeprate_field(0.01)\n",
    "\n",
    "current=-0.130\n",
    "final_current=0.130\n",
    "current_now = mag120.current()\n",
    "\n",
    "with meas.run() as ds:  \n",
    "    while current < final_current:\n",
    "        ds.add_result((mag120.current, mag120.current()),\n",
    "                         (rxx1.X, rxx1.X()),\n",
    "                         (rxx2.X,rxx2.X()),\n",
    "                         (rxy.X, rxy.X()))\n",
    "        current=current+0.0005\n",
    "        mag120.current_setpoint(current)\n",
    "        mag120.to_setpoint()\n",
    "        time.sleep(1.6)\n",
    "        \n",
    "    dataset1=ds.dataset"
   ]
  },
  {
   "cell_type": "markdown",
   "metadata": {},
   "source": [
    "## Best Conditions for now"
   ]
  },
  {
   "cell_type": "code",
   "execution_count": null,
   "metadata": {},
   "outputs": [],
   "source": [
    "#There is no significant difference between scan 222 and 223 (7.5 and 10mT/min res 0.0002), 7.5mT seems slighly \n",
    "#better than 10mT/min\n",
    "#however it seems there is between 221 (10mT/min res 0.0005) and 223/223."
   ]
  },
  {
   "cell_type": "code",
   "execution_count": 50,
   "metadata": {
    "ExecuteTime": {
     "end_time": "2021-10-20T13:39:27.768944Z",
     "start_time": "2021-10-20T13:01:22.982877Z"
    }
   },
   "outputs": [
    {
     "name": "stdout",
     "output_type": "stream",
     "text": [
      "Starting experimental run with id: 222. \n"
     ]
    }
   ],
   "source": [
    "exp = load_or_create_experiment('WAL 7.5mT/min B steps 0.0002A', '75um HB')\n",
    "meas = Measurement()\n",
    "meas.register_parameter(mag120.current)\n",
    "meas.register_parameter(rxx1.X, setpoints=[mag120.current])\n",
    "meas.register_parameter(rxx2.X, setpoints=[mag120.current])\n",
    "meas.register_parameter(rxy.X, setpoints=[mag120.current])\n",
    "\n",
    "mag120.sweeprate_field(0.0075)\n",
    "\n",
    "current=0.130\n",
    "final_current=-0.130\n",
    "current_now = mag120.current()\n",
    "\n",
    "with meas.run() as ds:  \n",
    "    while current > final_current:\n",
    "        ds.add_result((mag120.current, mag120.current()),\n",
    "                         (rxx1.X, rxx1.X()),\n",
    "                         (rxx2.X,rxx2.X()),\n",
    "                         (rxy.X, rxy.X()))\n",
    "        current=current-0.0002\n",
    "        mag120.current_setpoint(current)\n",
    "        mag120.to_setpoint()\n",
    "        time.sleep(1.6)\n",
    "        \n",
    "    dataset1=ds.dataset"
   ]
  },
  {
   "cell_type": "code",
   "execution_count": 51,
   "metadata": {
    "ExecuteTime": {
     "end_time": "2021-10-20T14:12:46.453000Z",
     "start_time": "2021-10-20T13:43:27.021815Z"
    }
   },
   "outputs": [
    {
     "name": "stdout",
     "output_type": "stream",
     "text": [
      "Starting experimental run with id: 223. \n"
     ]
    }
   ],
   "source": [
    "exp = load_or_create_experiment('WAL 10mT/min b steps 0.0002A', '75um HB')\n",
    "meas = Measurement()\n",
    "meas.register_parameter(mag120.current)\n",
    "meas.register_parameter(rxx1.X, setpoints=[mag120.current])\n",
    "meas.register_parameter(rxx2.X, setpoints=[mag120.current])\n",
    "meas.register_parameter(rxy.X, setpoints=[mag120.current])\n",
    "\n",
    "mag120.sweeprate_field(0.01)\n",
    "\n",
    "current=-0.130\n",
    "final_current=0.130\n",
    "current_now = mag120.current()\n",
    "\n",
    "with meas.run() as ds:  \n",
    "    while current < final_current:\n",
    "        ds.add_result((mag120.current, mag120.current()),\n",
    "                         (rxx1.X, rxx1.X()),\n",
    "                         (rxx2.X,rxx2.X()),\n",
    "                         (rxy.X, rxy.X()))\n",
    "        current=current+0.0002\n",
    "        mag120.current_setpoint(current)\n",
    "        mag120.to_setpoint()\n",
    "        time.sleep(1.2)\n",
    "        \n",
    "    dataset1=ds.dataset"
   ]
  },
  {
   "cell_type": "code",
   "execution_count": 52,
   "metadata": {
    "ExecuteTime": {
     "end_time": "2021-10-20T15:05:15.686119Z",
     "start_time": "2021-10-20T14:32:44.333781Z"
    }
   },
   "outputs": [
    {
     "name": "stdout",
     "output_type": "stream",
     "text": [
      "Starting experimental run with id: 224. \n"
     ]
    }
   ],
   "source": [
    "exp = load_or_create_experiment('WAL 10mT/min B steps 0.0002A', '75um HB')\n",
    "meas = Measurement()\n",
    "meas.register_parameter(mag120.current)\n",
    "meas.register_parameter(rxx1.X, setpoints=[mag120.current])\n",
    "meas.register_parameter(rxx2.X, setpoints=[mag120.current])\n",
    "meas.register_parameter(rxy.X, setpoints=[mag120.current])\n",
    "\n",
    "mag120.sweeprate_field(0.01)\n",
    "\n",
    "current=0.130\n",
    "final_current=-0.130\n",
    "current_now = mag120.current()\n",
    "\n",
    "with meas.run() as ds:  \n",
    "    while current > final_current:\n",
    "        ds.add_result((mag120.current, mag120.current()),\n",
    "                         (rxx1.X, rxx1.X()),\n",
    "                         (rxx2.X,rxx2.X()),\n",
    "                         (rxy.X, rxy.X()))\n",
    "        current=current-0.0001\n",
    "        mag120.current_setpoint(current)\n",
    "        mag120.to_setpoint()\n",
    "        time.sleep(0.6)\n",
    "        \n",
    "    dataset1=ds.dataset"
   ]
  },
  {
   "cell_type": "code",
   "execution_count": null,
   "metadata": {},
   "outputs": [],
   "source": [
    "# 222 is the best scan 7.5 mT/min 0.0002 resolution and 1.6s wait"
   ]
  },
  {
   "cell_type": "code",
   "execution_count": 53,
   "metadata": {
    "ExecuteTime": {
     "end_time": "2021-10-20T15:08:55.909148Z",
     "start_time": "2021-10-20T15:05:20.203221Z"
    }
   },
   "outputs": [
    {
     "name": "stdout",
     "output_type": "stream",
     "text": [
      "Starting experimental run with id: 225. Using 'qcodes.utils.dataset.doNd.do1d'\n"
     ]
    },
    {
     "data": {
      "text/plain": [
       "(results #225@C:\\Users\\Sara\\DataBases\\M12-09-20.1SM1\\M12-09-20.1SM1.db\n",
       " ---------------------------------------------------------------------\n",
       " smu_smua_volt - numeric\n",
       " Beast_X - numeric\n",
       " Dilbert_X - numeric\n",
       " Zoe_X - numeric\n",
       " Dilbert_P - numeric\n",
       " smu_smua_curr - numeric,\n",
       " [None],\n",
       " [None])"
      ]
     },
     "execution_count": 53,
     "metadata": {},
     "output_type": "execute_result"
    }
   ],
   "source": [
    "do1d(smu.smua.volt, 0.05, 0, 600, 0.3, rxx1.X, rxy.X, rxx2.X, rxy.P, smu.smua.curr, do_plot = False)\n"
   ]
  },
  {
   "cell_type": "code",
   "execution_count": 54,
   "metadata": {
    "ExecuteTime": {
     "end_time": "2021-10-20T15:12:32.396244Z",
     "start_time": "2021-10-20T15:08:55.987151Z"
    }
   },
   "outputs": [
    {
     "name": "stdout",
     "output_type": "stream",
     "text": [
      "Starting experimental run with id: 226. Using 'qcodes.utils.dataset.doNd.do1d'\n"
     ]
    },
    {
     "data": {
      "text/plain": [
       "(results #226@C:\\Users\\Sara\\DataBases\\M12-09-20.1SM1\\M12-09-20.1SM1.db\n",
       " ---------------------------------------------------------------------\n",
       " smu_smua_volt - numeric\n",
       " Beast_X - numeric\n",
       " Dilbert_X - numeric\n",
       " Zoe_X - numeric\n",
       " Dilbert_P - numeric\n",
       " smu_smua_curr - numeric,\n",
       " [None],\n",
       " [None])"
      ]
     },
     "execution_count": 54,
     "metadata": {},
     "output_type": "execute_result"
    }
   ],
   "source": [
    "do1d(smu.smua.volt, 0, 0.600, 600, 0.3, rxx1.X, rxy.X, rxx2.X, rxy.P, smu.smua.curr, do_plot = False)"
   ]
  },
  {
   "cell_type": "code",
   "execution_count": 55,
   "metadata": {
    "ExecuteTime": {
     "end_time": "2021-10-20T15:13:32.627992Z",
     "start_time": "2021-10-20T15:12:32.478248Z"
    }
   },
   "outputs": [],
   "source": [
    "mag120.sweeprate_field(0.02)\n",
    "mag120.current_setpoint(-0.150)\n",
    "mag120.to_setpoint()\n",
    "time.sleep(60)"
   ]
  },
  {
   "cell_type": "code",
   "execution_count": 56,
   "metadata": {
    "ExecuteTime": {
     "end_time": "2021-10-20T15:15:22.425037Z",
     "start_time": "2021-10-20T15:15:22.394037Z"
    }
   },
   "outputs": [
    {
     "data": {
      "text/plain": [
       "-0.15"
      ]
     },
     "execution_count": 56,
     "metadata": {},
     "output_type": "execute_result"
    }
   ],
   "source": [
    "mag120.current()"
   ]
  },
  {
   "cell_type": "markdown",
   "metadata": {},
   "source": [
    "## tau=3s"
   ]
  },
  {
   "cell_type": "markdown",
   "metadata": {},
   "source": [
    "## 600mV"
   ]
  },
  {
   "cell_type": "code",
   "execution_count": 58,
   "metadata": {
    "ExecuteTime": {
     "end_time": "2021-10-20T15:57:09.198878Z",
     "start_time": "2021-10-20T15:16:09.373241Z"
    }
   },
   "outputs": [
    {
     "name": "stdout",
     "output_type": "stream",
     "text": [
      "Starting experimental run with id: 227. \n"
     ]
    }
   ],
   "source": [
    "exp = load_or_create_experiment('WAL 7.5mT/min b steps 0.0002A Vg=0.6V', '75um HB')\n",
    "meas = Measurement()\n",
    "meas.register_parameter(mag120.current)\n",
    "meas.register_parameter(rxx1.X, setpoints=[mag120.current])\n",
    "meas.register_parameter(rxx2.X, setpoints=[mag120.current])\n",
    "meas.register_parameter(rxy.X, setpoints=[mag120.current])\n",
    "\n",
    "mag120.sweeprate_field(0.0075)\n",
    "\n",
    "current=-0.150\n",
    "final_current=0.130\n",
    "current_now = mag120.current()\n",
    "\n",
    "with meas.run() as ds:  \n",
    "    while current < final_current:\n",
    "        ds.add_result((mag120.current, mag120.current()),\n",
    "                         (rxx1.X, rxx1.X()),\n",
    "                         (rxx2.X,rxx2.X()),\n",
    "                         (rxy.X, rxy.X()))\n",
    "        current=current+0.0002\n",
    "        mag120.current_setpoint(current)\n",
    "        mag120.to_setpoint()\n",
    "        time.sleep(1.6)\n",
    "        \n",
    "    dataset1=ds.dataset"
   ]
  },
  {
   "cell_type": "code",
   "execution_count": 61,
   "metadata": {
    "ExecuteTime": {
     "end_time": "2021-10-20T17:11:51.709678Z",
     "start_time": "2021-10-20T16:30:24.854118Z"
    }
   },
   "outputs": [
    {
     "name": "stdout",
     "output_type": "stream",
     "text": [
      "Starting experimental run with id: 230. \n"
     ]
    }
   ],
   "source": [
    "exp = load_or_create_experiment('WAL 7.5mT/min b steps 0.0002A Vg=0.6V', '75um HB')\n",
    "meas = Measurement()\n",
    "meas.register_parameter(mag120.current)\n",
    "meas.register_parameter(rxx1.X, setpoints=[mag120.current])\n",
    "meas.register_parameter(rxx2.X, setpoints=[mag120.current])\n",
    "meas.register_parameter(rxy.X, setpoints=[mag120.current])\n",
    "\n",
    "mag120.sweeprate_field(0.0075)\n",
    "\n",
    "current=0.130\n",
    "final_current=-0.150\n",
    "current_now = mag120.current()\n",
    "\n",
    "with meas.run() as ds:  \n",
    "    while current > final_current:\n",
    "        ds.add_result((mag120.current, mag120.current()),\n",
    "                         (rxx1.X, rxx1.X()),\n",
    "                         (rxx2.X,rxx2.X()),\n",
    "                         (rxy.X, rxy.X()))\n",
    "        current=current-0.0002\n",
    "        mag120.current_setpoint(current)\n",
    "        mag120.to_setpoint()\n",
    "        time.sleep(1.6)\n",
    "        \n",
    "    dataset1=ds.dataset"
   ]
  },
  {
   "cell_type": "markdown",
   "metadata": {},
   "source": [
    "## 400mV"
   ]
  },
  {
   "cell_type": "code",
   "execution_count": 62,
   "metadata": {
    "ExecuteTime": {
     "end_time": "2021-10-20T17:13:03.267836Z",
     "start_time": "2021-10-20T17:11:51.804681Z"
    }
   },
   "outputs": [
    {
     "name": "stdout",
     "output_type": "stream",
     "text": [
      "Starting experimental run with id: 231. Using 'qcodes.utils.dataset.doNd.do1d'\n"
     ]
    },
    {
     "data": {
      "text/plain": [
       "(results #231@C:\\Users\\Sara\\DataBases\\M12-09-20.1SM1\\M12-09-20.1SM1.db\n",
       " ---------------------------------------------------------------------\n",
       " smu_smua_volt - numeric\n",
       " Beast_X - numeric\n",
       " Dilbert_X - numeric\n",
       " Zoe_X - numeric\n",
       " Dilbert_P - numeric\n",
       " smu_smua_curr - numeric,\n",
       " [None],\n",
       " [None])"
      ]
     },
     "execution_count": 62,
     "metadata": {},
     "output_type": "execute_result"
    }
   ],
   "source": [
    "do1d(smu.smua.volt, 0.600, 0.400, 200, 0.3, rxx1.X, rxy.X, rxx2.X, rxy.P, smu.smua.curr, do_plot = False)"
   ]
  },
  {
   "cell_type": "code",
   "execution_count": 63,
   "metadata": {
    "ExecuteTime": {
     "end_time": "2021-10-20T17:54:00.653216Z",
     "start_time": "2021-10-20T17:13:03.379841Z"
    }
   },
   "outputs": [
    {
     "name": "stdout",
     "output_type": "stream",
     "text": [
      "Starting experimental run with id: 232. \n"
     ]
    }
   ],
   "source": [
    "exp = load_or_create_experiment('WAL 7.5mT/min b steps 0.0002A Vg=0.4V', '75um HB')\n",
    "meas = Measurement()\n",
    "meas.register_parameter(mag120.current)\n",
    "meas.register_parameter(rxx1.X, setpoints=[mag120.current])\n",
    "meas.register_parameter(rxx2.X, setpoints=[mag120.current])\n",
    "meas.register_parameter(rxy.X, setpoints=[mag120.current])\n",
    "\n",
    "mag120.sweeprate_field(0.0075)\n",
    "\n",
    "current=-0.150\n",
    "final_current=0.130\n",
    "current_now = mag120.current()\n",
    "\n",
    "with meas.run() as ds:  \n",
    "    while current < final_current:\n",
    "        ds.add_result((mag120.current, mag120.current()),\n",
    "                         (rxx1.X, rxx1.X()),\n",
    "                         (rxx2.X,rxx2.X()),\n",
    "                         (rxy.X, rxy.X()))\n",
    "        current=current+0.0002\n",
    "        mag120.current_setpoint(current)\n",
    "        mag120.to_setpoint()\n",
    "        time.sleep(1.6)\n",
    "        \n",
    "    dataset1=ds.dataset"
   ]
  },
  {
   "cell_type": "code",
   "execution_count": 64,
   "metadata": {
    "ExecuteTime": {
     "end_time": "2021-10-20T18:35:00.638341Z",
     "start_time": "2021-10-20T17:54:00.721218Z"
    }
   },
   "outputs": [
    {
     "name": "stdout",
     "output_type": "stream",
     "text": [
      "Starting experimental run with id: 233. \n"
     ]
    }
   ],
   "source": [
    "exp = load_or_create_experiment('WAL 7.5mT/min b steps 0.0002A Vg=0.4V', '75um HB')\n",
    "meas = Measurement()\n",
    "meas.register_parameter(mag120.current)\n",
    "meas.register_parameter(rxx1.X, setpoints=[mag120.current])\n",
    "meas.register_parameter(rxx2.X, setpoints=[mag120.current])\n",
    "meas.register_parameter(rxy.X, setpoints=[mag120.current])\n",
    "\n",
    "mag120.sweeprate_field(0.0075)\n",
    "\n",
    "\n",
    "current=0.130\n",
    "final_current=-0.150\n",
    "current_now = mag120.current()\n",
    "\n",
    "with meas.run() as ds:  \n",
    "    while current > final_current:\n",
    "        ds.add_result((mag120.current, mag120.current()),\n",
    "                         (rxx1.X, rxx1.X()),\n",
    "                         (rxx2.X,rxx2.X()),\n",
    "                         (rxy.X, rxy.X()))\n",
    "        current=current-0.0002\n",
    "        mag120.current_setpoint(current)\n",
    "        mag120.to_setpoint()\n",
    "        time.sleep(1.6)\n",
    "        \n",
    "    dataset1=ds.dataset"
   ]
  },
  {
   "cell_type": "markdown",
   "metadata": {},
   "source": [
    "## 300mV"
   ]
  },
  {
   "cell_type": "code",
   "execution_count": 66,
   "metadata": {
    "ExecuteTime": {
     "end_time": "2021-10-20T18:55:46.265320Z",
     "start_time": "2021-10-20T18:54:09.976542Z"
    }
   },
   "outputs": [
    {
     "name": "stdout",
     "output_type": "stream",
     "text": [
      "Starting experimental run with id: 235. Using 'qcodes.utils.dataset.doNd.do1d'\n"
     ]
    }
   ],
   "source": [
    "do1d(smu.smua.volt, 0.400, 0.300, 100, 0.3, rxx1.X, rxy.X, rxx2.X, rxy.P, smu.smua.curr, do_plot = False)\n",
    "time.sleep(60)"
   ]
  },
  {
   "cell_type": "code",
   "execution_count": 67,
   "metadata": {
    "ExecuteTime": {
     "end_time": "2021-10-20T19:08:24.475706Z",
     "start_time": "2021-10-20T18:55:46.369324Z"
    }
   },
   "outputs": [
    {
     "name": "stdout",
     "output_type": "stream",
     "text": [
      "Starting experimental run with id: 236. \n"
     ]
    }
   ],
   "source": [
    "exp = load_or_create_experiment('WAL 7.5mT/min b steps 0.0002A Vg=0.3V', '75um HB')\n",
    "meas = Measurement()\n",
    "meas.register_parameter(mag120.current)\n",
    "meas.register_parameter(rxx1.X, setpoints=[mag120.current])\n",
    "meas.register_parameter(rxx2.X, setpoints=[mag120.current])\n",
    "meas.register_parameter(rxy.X, setpoints=[mag120.current])\n",
    "\n",
    "mag120.sweeprate_field(0.010)\n",
    "\n",
    "current=-0.150\n",
    "final_current=0.130\n",
    "current_now = mag120.current()\n",
    "\n",
    "with meas.run() as ds:  \n",
    "    while current < final_current:\n",
    "        ds.add_result((mag120.current, mag120.current()),\n",
    "                         (rxx1.X, rxx1.X()),\n",
    "                         (rxx2.X,rxx2.X()),\n",
    "                         (rxy.X, rxy.X()))\n",
    "        current=current+0.0005\n",
    "        mag120.current_setpoint(current)\n",
    "        mag120.to_setpoint()\n",
    "        time.sleep(1.2)\n",
    "        \n",
    "    dataset1=ds.dataset"
   ]
  },
  {
   "cell_type": "code",
   "execution_count": 68,
   "metadata": {
    "ExecuteTime": {
     "end_time": "2021-10-20T20:50:44.418132Z",
     "start_time": "2021-10-20T20:09:44.259942Z"
    }
   },
   "outputs": [
    {
     "name": "stdout",
     "output_type": "stream",
     "text": [
      "Starting experimental run with id: 237. \n"
     ]
    }
   ],
   "source": [
    "exp = load_or_create_experiment('WAL 7.5mT/min b steps 0.0002A Vg=0.3V', '75um HB')\n",
    "meas = Measurement()\n",
    "meas.register_parameter(mag120.current)\n",
    "meas.register_parameter(rxx1.X, setpoints=[mag120.current])\n",
    "meas.register_parameter(rxx2.X, setpoints=[mag120.current])\n",
    "meas.register_parameter(rxy.X, setpoints=[mag120.current])\n",
    "\n",
    "mag120.sweeprate_field(0.0075)\n",
    "\n",
    "current=0.130\n",
    "final_current=-0.150\n",
    "current_now = mag120.current()\n",
    "\n",
    "with meas.run() as ds:  \n",
    "    while current > final_current:\n",
    "        ds.add_result((mag120.current, mag120.current()),\n",
    "                         (rxx1.X, rxx1.X()),\n",
    "                         (rxx2.X,rxx2.X()),\n",
    "                         (rxy.X, rxy.X()))\n",
    "        current=current-0.0002\n",
    "        mag120.current_setpoint(current)\n",
    "        mag120.to_setpoint()\n",
    "        time.sleep(1.6)\n",
    "        \n",
    "    dataset1=ds.dataset"
   ]
  },
  {
   "cell_type": "markdown",
   "metadata": {},
   "source": [
    "## 200mV"
   ]
  },
  {
   "cell_type": "code",
   "execution_count": 69,
   "metadata": {
    "ExecuteTime": {
     "end_time": "2021-10-20T20:51:20.688131Z",
     "start_time": "2021-10-20T20:50:44.498136Z"
    }
   },
   "outputs": [
    {
     "name": "stdout",
     "output_type": "stream",
     "text": [
      "Starting experimental run with id: 238. Using 'qcodes.utils.dataset.doNd.do1d'\n"
     ]
    },
    {
     "data": {
      "text/plain": [
       "(results #238@C:\\Users\\Sara\\DataBases\\M12-09-20.1SM1\\M12-09-20.1SM1.db\n",
       " ---------------------------------------------------------------------\n",
       " smu_smua_volt - numeric\n",
       " Beast_X - numeric\n",
       " Dilbert_X - numeric\n",
       " Zoe_X - numeric\n",
       " Dilbert_P - numeric\n",
       " smu_smua_curr - numeric,\n",
       " [None],\n",
       " [None])"
      ]
     },
     "execution_count": 69,
     "metadata": {},
     "output_type": "execute_result"
    }
   ],
   "source": [
    "do1d(smu.smua.volt, 0.300, 0.200, 100, 0.3, rxx1.X, rxy.X, rxx2.X, rxy.P, smu.smua.curr, do_plot = False)"
   ]
  },
  {
   "cell_type": "code",
   "execution_count": 71,
   "metadata": {
    "ExecuteTime": {
     "end_time": "2021-10-20T20:53:06.846757Z",
     "start_time": "2021-10-20T20:51:54.289204Z"
    }
   },
   "outputs": [
    {
     "name": "stdout",
     "output_type": "stream",
     "text": [
      "Starting experimental run with id: 240. Using 'qcodes.utils.dataset.doNd.do1d'\n"
     ]
    },
    {
     "data": {
      "text/plain": [
       "(results #240@C:\\Users\\Sara\\DataBases\\M12-09-20.1SM1\\M12-09-20.1SM1.db\n",
       " ---------------------------------------------------------------------\n",
       " smu_smua_volt - numeric\n",
       " Beast_X - numeric\n",
       " Dilbert_X - numeric\n",
       " Zoe_X - numeric\n",
       " Dilbert_P - numeric\n",
       " smu_smua_curr - numeric,\n",
       " [None],\n",
       " [None])"
      ]
     },
     "execution_count": 71,
     "metadata": {},
     "output_type": "execute_result"
    }
   ],
   "source": [
    "do1d(smu.smua.volt, 0.200, 0, 200, 0.3, rxx1.X, rxy.X, rxx2.X, rxy.P, smu.smua.curr, do_plot = False)"
   ]
  },
  {
   "cell_type": "markdown",
   "metadata": {},
   "source": [
    "## connected SRS SIM928"
   ]
  },
  {
   "cell_type": "code",
   "execution_count": 75,
   "metadata": {
    "ExecuteTime": {
     "end_time": "2021-10-20T21:07:00.737931Z",
     "start_time": "2021-10-20T21:00:43.383347Z"
    }
   },
   "outputs": [
    {
     "name": "stdout",
     "output_type": "stream",
     "text": [
      "Starting experimental run with id: 241. Using 'qcodes.utils.dataset.doNd.do1d'\n"
     ]
    },
    {
     "data": {
      "text/plain": [
       "(results #241@C:\\Users\\Sara\\DataBases\\M12-09-20.1SM1\\M12-09-20.1SM1.db\n",
       " ---------------------------------------------------------------------\n",
       " sim_volt_2 - numeric\n",
       " Beast_X - numeric\n",
       " Dilbert_X - numeric\n",
       " Zoe_X - numeric,\n",
       " [None],\n",
       " [None])"
      ]
     },
     "execution_count": 75,
     "metadata": {},
     "output_type": "execute_result"
    }
   ],
   "source": [
    "do1d(sim.volt_2, 0, 0.6,600, 0.3, rxx1.X, rxy.X, rxx2.X,  do_plot = False)"
   ]
  },
  {
   "cell_type": "code",
   "execution_count": 76,
   "metadata": {
    "ExecuteTime": {
     "end_time": "2021-10-20T21:23:25.722269Z",
     "start_time": "2021-10-20T21:07:00.853937Z"
    }
   },
   "outputs": [
    {
     "name": "stdout",
     "output_type": "stream",
     "text": [
      "Starting experimental run with id: 242. \n"
     ]
    }
   ],
   "source": [
    "exp = load_or_create_experiment('WAL 7.5mT/min b steps 0.0002A Vg=0.6V', '75um HB')\n",
    "meas = Measurement()\n",
    "meas.register_parameter(mag120.current)\n",
    "meas.register_parameter(rxx1.X, setpoints=[mag120.current])\n",
    "meas.register_parameter(rxx2.X, setpoints=[mag120.current])\n",
    "meas.register_parameter(rxy.X, setpoints=[mag120.current])\n",
    "\n",
    "mag120.sweeprate_field(0.0075)\n",
    "\n",
    "current=-0.150\n",
    "final_current=0.130\n",
    "current_now = mag120.current()\n",
    "\n",
    "with meas.run() as ds:  \n",
    "    while current < final_current:\n",
    "        ds.add_result((mag120.current, mag120.current()),\n",
    "                         (rxx1.X, rxx1.X()),\n",
    "                         (rxx2.X,rxx2.X()),\n",
    "                         (rxy.X, rxy.X()))\n",
    "        current=current+0.0005\n",
    "        mag120.current_setpoint(current)\n",
    "        mag120.to_setpoint()\n",
    "        time.sleep(1.6)\n",
    "        \n",
    "    dataset1=ds.dataset"
   ]
  },
  {
   "cell_type": "code",
   "execution_count": 77,
   "metadata": {
    "ExecuteTime": {
     "end_time": "2021-10-20T21:33:25.859595Z",
     "start_time": "2021-10-20T21:23:25.857276Z"
    }
   },
   "outputs": [],
   "source": [
    "time.sleep(600)"
   ]
  },
  {
   "cell_type": "code",
   "execution_count": 78,
   "metadata": {
    "ExecuteTime": {
     "end_time": "2021-10-20T21:50:45.053033Z",
     "start_time": "2021-10-20T21:33:25.957600Z"
    }
   },
   "outputs": [
    {
     "name": "stdout",
     "output_type": "stream",
     "text": [
      "Starting experimental run with id: 243. \n"
     ]
    }
   ],
   "source": [
    "exp = load_or_create_experiment('WAL 7.5mT/min b steps 0.0002A Vg=0.6V', '75um HB')\n",
    "meas = Measurement()\n",
    "meas.register_parameter(mag120.current)\n",
    "meas.register_parameter(rxx1.X, setpoints=[mag120.current])\n",
    "meas.register_parameter(rxx2.X, setpoints=[mag120.current])\n",
    "meas.register_parameter(rxy.X, setpoints=[mag120.current])\n",
    "\n",
    "mag120.sweeprate_field(0.0075)\n",
    "\n",
    "current=0.130\n",
    "final_current=-0.150\n",
    "current_now = mag120.current()\n",
    "\n",
    "with meas.run() as ds:  \n",
    "    while current > final_current:\n",
    "        ds.add_result((mag120.current, mag120.current()),\n",
    "                         (rxx1.X, rxx1.X()),\n",
    "                         (rxx2.X,rxx2.X()),\n",
    "                         (rxy.X, rxy.X()))\n",
    "        current=current-0.0005\n",
    "        mag120.current_setpoint(current)\n",
    "        mag120.to_setpoint()\n",
    "        time.sleep(1.6)\n",
    "        \n",
    "    dataset1=ds.dataset"
   ]
  },
  {
   "cell_type": "markdown",
   "metadata": {},
   "source": [
    "## 400mV"
   ]
  },
  {
   "cell_type": "code",
   "execution_count": 80,
   "metadata": {
    "ExecuteTime": {
     "end_time": "2021-10-20T22:48:59.399898Z",
     "start_time": "2021-10-20T22:47:46.851749Z"
    }
   },
   "outputs": [
    {
     "name": "stdout",
     "output_type": "stream",
     "text": [
      "Starting experimental run with id: 244. Using 'qcodes.utils.dataset.doNd.do1d'\n"
     ]
    },
    {
     "data": {
      "text/plain": [
       "(results #244@C:\\Users\\Sara\\DataBases\\M12-09-20.1SM1\\M12-09-20.1SM1.db\n",
       " ---------------------------------------------------------------------\n",
       " smu_smua_volt - numeric\n",
       " Beast_X - numeric\n",
       " Dilbert_X - numeric\n",
       " Zoe_X - numeric\n",
       " Dilbert_P - numeric\n",
       " smu_smua_curr - numeric,\n",
       " [None],\n",
       " [None])"
      ]
     },
     "execution_count": 80,
     "metadata": {},
     "output_type": "execute_result"
    }
   ],
   "source": [
    "do1d(smu.smua.volt, 0.600, 0.400, 200, 0.3, rxx1.X, rxy.X, rxx2.X, rxy.P, smu.smua.curr, do_plot = False)"
   ]
  },
  {
   "cell_type": "code",
   "execution_count": 81,
   "metadata": {
    "ExecuteTime": {
     "end_time": "2021-10-20T22:50:59.500768Z",
     "start_time": "2021-10-20T22:48:59.496904Z"
    }
   },
   "outputs": [],
   "source": [
    "time.sleep(120)"
   ]
  },
  {
   "cell_type": "code",
   "execution_count": 82,
   "metadata": {
    "ExecuteTime": {
     "end_time": "2021-10-20T23:01:01.786216Z",
     "start_time": "2021-10-20T22:50:59.624775Z"
    }
   },
   "outputs": [
    {
     "name": "stdout",
     "output_type": "stream",
     "text": [
      "Starting experimental run with id: 245. \n"
     ]
    },
    {
     "name": "stderr",
     "output_type": "stream",
     "text": [
      "2021-10-20 19:01:01,718 ¦ qcodes.dataset.measurements ¦ WARNING ¦ measurements ¦ __exit__ ¦ 635 ¦ An exception occured in measurement with guid: aaaaaaaa-0000-0000-0000-017c9fe68f4a;\n",
      "Traceback:\n",
      "Traceback (most recent call last):\n",
      "  File \"<ipython-input-82-221804ec47f4>\", line 23, in <module>\n",
      "    time.sleep(1.6)\n",
      "KeyboardInterrupt\n",
      "\n"
     ]
    },
    {
     "ename": "KeyboardInterrupt",
     "evalue": "",
     "output_type": "error",
     "traceback": [
      "\u001b[1;31m---------------------------------------------------------------------------\u001b[0m",
      "\u001b[1;31mKeyboardInterrupt\u001b[0m                         Traceback (most recent call last)",
      "\u001b[1;32m<ipython-input-82-221804ec47f4>\u001b[0m in \u001b[0;36m<module>\u001b[1;34m\u001b[0m\n\u001b[0;32m     21\u001b[0m         \u001b[0mmag120\u001b[0m\u001b[1;33m.\u001b[0m\u001b[0mcurrent_setpoint\u001b[0m\u001b[1;33m(\u001b[0m\u001b[0mcurrent\u001b[0m\u001b[1;33m)\u001b[0m\u001b[1;33m\u001b[0m\u001b[1;33m\u001b[0m\u001b[0m\n\u001b[0;32m     22\u001b[0m         \u001b[0mmag120\u001b[0m\u001b[1;33m.\u001b[0m\u001b[0mto_setpoint\u001b[0m\u001b[1;33m(\u001b[0m\u001b[1;33m)\u001b[0m\u001b[1;33m\u001b[0m\u001b[1;33m\u001b[0m\u001b[0m\n\u001b[1;32m---> 23\u001b[1;33m         \u001b[0mtime\u001b[0m\u001b[1;33m.\u001b[0m\u001b[0msleep\u001b[0m\u001b[1;33m(\u001b[0m\u001b[1;36m1.6\u001b[0m\u001b[1;33m)\u001b[0m\u001b[1;33m\u001b[0m\u001b[1;33m\u001b[0m\u001b[0m\n\u001b[0m\u001b[0;32m     24\u001b[0m \u001b[1;33m\u001b[0m\u001b[0m\n\u001b[0;32m     25\u001b[0m     \u001b[0mdataset1\u001b[0m\u001b[1;33m=\u001b[0m\u001b[0mds\u001b[0m\u001b[1;33m.\u001b[0m\u001b[0mdataset\u001b[0m\u001b[1;33m\u001b[0m\u001b[1;33m\u001b[0m\u001b[0m\n",
      "\u001b[1;31mKeyboardInterrupt\u001b[0m: "
     ]
    }
   ],
   "source": [
    "exp = load_or_create_experiment('WAL 7.5mT/min b steps 0.0002A Vg=0.150V', '75um HB')\n",
    "meas = Measurement()\n",
    "meas.register_parameter(mag120.current)\n",
    "meas.register_parameter(rxx1.X, setpoints=[mag120.current])\n",
    "meas.register_parameter(rxx2.X, setpoints=[mag120.current])\n",
    "meas.register_parameter(rxy.X, setpoints=[mag120.current])\n",
    "\n",
    "mag120.sweeprate_field(0.01)\n",
    "\n",
    "current=-0.150\n",
    "final_current=0.130\n",
    "current_now = mag120.current()\n",
    "\n",
    "with meas.run() as ds:  \n",
    "    while current < final_current:\n",
    "        ds.add_result((mag120.current, mag120.current()),\n",
    "                         (rxx1.X, rxx1.X()),\n",
    "                         (rxx2.X,rxx2.X()),\n",
    "                         (rxy.X, rxy.X()))\n",
    "        current=current+0.0005\n",
    "        mag120.current_setpoint(current)\n",
    "        mag120.to_setpoint()\n",
    "        time.sleep(1.6)\n",
    "        \n",
    "    dataset1=ds.dataset"
   ]
  },
  {
   "cell_type": "code",
   "execution_count": 88,
   "metadata": {
    "ExecuteTime": {
     "end_time": "2021-10-21T00:42:12.061416Z",
     "start_time": "2021-10-21T00:42:11.917408Z"
    }
   },
   "outputs": [],
   "source": [
    "mag120.sweeprate_field(0.02)\n",
    "mag120.current_setpoint(0.13)\n",
    "mag120.to_setpoint()"
   ]
  },
  {
   "cell_type": "code",
   "execution_count": 90,
   "metadata": {
    "ExecuteTime": {
     "end_time": "2021-10-21T00:43:13.144910Z",
     "start_time": "2021-10-21T00:43:13.121909Z"
    }
   },
   "outputs": [
    {
     "data": {
      "text/plain": [
       "0.13"
      ]
     },
     "execution_count": 90,
     "metadata": {},
     "output_type": "execute_result"
    }
   ],
   "source": [
    "mag120.current()"
   ]
  },
  {
   "cell_type": "code",
   "execution_count": 86,
   "metadata": {
    "ExecuteTime": {
     "end_time": "2021-10-20T23:44:12.882419Z",
     "start_time": "2021-10-20T23:03:28.632616Z"
    }
   },
   "outputs": [
    {
     "name": "stdout",
     "output_type": "stream",
     "text": [
      "Starting experimental run with id: 246. \n"
     ]
    }
   ],
   "source": [
    "exp = load_or_create_experiment('WAL 7.5mT/min b steps 0.0002A Vg=0.150V', '75um HB')\n",
    "meas = Measurement()\n",
    "meas.register_parameter(mag120.current)\n",
    "meas.register_parameter(rxx1.X, setpoints=[mag120.current])\n",
    "meas.register_parameter(rxx2.X, setpoints=[mag120.current])\n",
    "meas.register_parameter(rxy.X, setpoints=[mag120.current])\n",
    "\n",
    "mag120.sweeprate_field(0.075)\n",
    "\n",
    "current=-0.150\n",
    "final_current=0.130\n",
    "current_now = mag120.current()\n",
    "\n",
    "with meas.run() as ds:  \n",
    "    while current < final_current:\n",
    "        ds.add_result((mag120.current, mag120.current()),\n",
    "                         (rxx1.X, rxx1.X()),\n",
    "                         (rxx2.X,rxx2.X()),\n",
    "                         (rxy.X, rxy.X()))\n",
    "        time.sleep(3)\n",
    "        current=current+0.0005\n",
    "        mag120.current_setpoint(current)\n",
    "        mag120.to_setpoint()\n",
    "        time.sleep(1.2)\n",
    "        \n",
    "        \n",
    "    dataset1=ds.dataset"
   ]
  },
  {
   "cell_type": "markdown",
   "metadata": {},
   "source": [
    "# Scan 247 test"
   ]
  },
  {
   "cell_type": "code",
   "execution_count": 91,
   "metadata": {
    "ExecuteTime": {
     "end_time": "2021-10-21T01:24:32.567725Z",
     "start_time": "2021-10-21T00:43:50.075022Z"
    }
   },
   "outputs": [
    {
     "name": "stdout",
     "output_type": "stream",
     "text": [
      "Starting experimental run with id: 248. \n"
     ]
    }
   ],
   "source": [
    "exp = load_or_create_experiment('WAL 7.5mT/min b steps 0.0002A Vg=0.150V', '75um HB')\n",
    "meas = Measurement()\n",
    "meas.register_parameter(mag120.current)\n",
    "meas.register_parameter(rxx1.X, setpoints=[mag120.current])\n",
    "meas.register_parameter(rxx2.X, setpoints=[mag120.current])\n",
    "meas.register_parameter(rxy.X, setpoints=[mag120.current])\n",
    "\n",
    "mag120.sweeprate_field(0.075)\n",
    "\n",
    "current=0.13\n",
    "final_current=-0.150\n",
    "current_now = mag120.current()\n",
    "\n",
    "with meas.run() as ds:  \n",
    "    while current > final_current:\n",
    "        ds.add_result((mag120.current, mag120.current()),\n",
    "                         (rxx1.X, rxx1.X()),\n",
    "                         (rxx2.X,rxx2.X()),\n",
    "                         (rxy.X, rxy.X()))\n",
    "        time.sleep(3)\n",
    "        current=current-0.0005\n",
    "        mag120.current_setpoint(current)\n",
    "        mag120.to_setpoint()\n",
    "        time.sleep(1.2)\n",
    "        \n",
    "        \n",
    "    dataset1=ds.dataset"
   ]
  },
  {
   "cell_type": "code",
   "execution_count": 92,
   "metadata": {
    "ExecuteTime": {
     "end_time": "2021-10-21T01:38:08.940419Z",
     "start_time": "2021-10-21T01:27:22.265431Z"
    }
   },
   "outputs": [
    {
     "name": "stdout",
     "output_type": "stream",
     "text": [
      "Starting experimental run with id: 249. Using 'qcodes.utils.dataset.doNd.do1d'\n",
      "Starting experimental run with id: 250. Using 'qcodes.utils.dataset.doNd.do1d'\n"
     ]
    },
    {
     "name": "stderr",
     "output_type": "stream",
     "text": [
      "2021-10-20 21:38:08,863 ¦ qcodes.dataset.measurements ¦ WARNING ¦ measurements ¦ __exit__ ¦ 635 ¦ An exception occured in measurement with guid: aaaaaaaa-0000-0000-0000-017ca07a797b;\n",
      "Traceback:\n",
      "Traceback (most recent call last):\n",
      "  File \"C:\\Users\\Admin\\.conda\\envs\\Sara\\lib\\site-packages\\qcodes\\utils\\dataset\\doNd.py\", line 271, in do1d\n",
      "    param_set.set(set_point)\n",
      "  File \"C:\\Users\\Admin\\.conda\\envs\\Sara\\lib\\site-packages\\qcodes\\instrument\\parameter.py\", line 683, in set_wrapper\n",
      "    time.sleep(self.post_delay - t_elapsed)\n",
      "KeyboardInterrupt\n",
      "\n"
     ]
    },
    {
     "ename": "KeyboardInterrupt",
     "evalue": "",
     "output_type": "error",
     "traceback": [
      "\u001b[1;31m---------------------------------------------------------------------------\u001b[0m",
      "\u001b[1;31mKeyboardInterrupt\u001b[0m                         Traceback (most recent call last)",
      "\u001b[1;32m<ipython-input-92-30409738c331>\u001b[0m in \u001b[0;36m<module>\u001b[1;34m\u001b[0m\n\u001b[0;32m      1\u001b[0m \u001b[0mdo1d\u001b[0m\u001b[1;33m(\u001b[0m\u001b[0msim\u001b[0m\u001b[1;33m.\u001b[0m\u001b[0mvolt_2\u001b[0m\u001b[1;33m,\u001b[0m \u001b[1;36m0.400\u001b[0m\u001b[1;33m,\u001b[0m \u001b[1;36m0\u001b[0m \u001b[1;33m,\u001b[0m\u001b[1;36m400\u001b[0m\u001b[1;33m,\u001b[0m \u001b[1;36m0.3\u001b[0m\u001b[1;33m,\u001b[0m \u001b[0mrxx1\u001b[0m\u001b[1;33m.\u001b[0m\u001b[0mX\u001b[0m\u001b[1;33m,\u001b[0m \u001b[0mrxy\u001b[0m\u001b[1;33m.\u001b[0m\u001b[0mX\u001b[0m\u001b[1;33m,\u001b[0m \u001b[0mrxx2\u001b[0m\u001b[1;33m.\u001b[0m\u001b[0mX\u001b[0m\u001b[1;33m,\u001b[0m  \u001b[0mdo_plot\u001b[0m \u001b[1;33m=\u001b[0m \u001b[1;32mFalse\u001b[0m\u001b[1;33m)\u001b[0m\u001b[1;33m\u001b[0m\u001b[1;33m\u001b[0m\u001b[0m\n\u001b[1;32m----> 2\u001b[1;33m \u001b[0mdo1d\u001b[0m\u001b[1;33m(\u001b[0m\u001b[0msim\u001b[0m\u001b[1;33m.\u001b[0m\u001b[0mvolt_2\u001b[0m\u001b[1;33m,\u001b[0m \u001b[1;36m0\u001b[0m\u001b[1;33m,\u001b[0m \u001b[1;36m0.6\u001b[0m\u001b[1;33m,\u001b[0m\u001b[1;36m600\u001b[0m\u001b[1;33m,\u001b[0m \u001b[1;36m0.3\u001b[0m\u001b[1;33m,\u001b[0m \u001b[0mrxx1\u001b[0m\u001b[1;33m.\u001b[0m\u001b[0mX\u001b[0m\u001b[1;33m,\u001b[0m \u001b[0mrxy\u001b[0m\u001b[1;33m.\u001b[0m\u001b[0mX\u001b[0m\u001b[1;33m,\u001b[0m \u001b[0mrxx2\u001b[0m\u001b[1;33m.\u001b[0m\u001b[0mX\u001b[0m\u001b[1;33m,\u001b[0m  \u001b[0mdo_plot\u001b[0m \u001b[1;33m=\u001b[0m \u001b[1;32mFalse\u001b[0m\u001b[1;33m)\u001b[0m\u001b[1;33m\u001b[0m\u001b[1;33m\u001b[0m\u001b[0m\n\u001b[0m",
      "\u001b[1;32m~\\.conda\\envs\\Sara\\lib\\site-packages\\qcodes\\utils\\dataset\\doNd.py\u001b[0m in \u001b[0;36mdo1d\u001b[1;34m(param_set, start, stop, num_points, delay, enter_actions, exit_actions, write_period, measurement_name, exp, do_plot, use_threads, additional_setpoints, show_progress, log_info, *param_meas)\u001b[0m\n\u001b[0;32m    278\u001b[0m     \u001b[0mparam_set\u001b[0m\u001b[1;33m.\u001b[0m\u001b[0mpost_delay\u001b[0m \u001b[1;33m=\u001b[0m \u001b[0moriginal_delay\u001b[0m\u001b[1;33m\u001b[0m\u001b[1;33m\u001b[0m\u001b[0m\n\u001b[0;32m    279\u001b[0m \u001b[1;33m\u001b[0m\u001b[0m\n\u001b[1;32m--> 280\u001b[1;33m     \u001b[1;32mreturn\u001b[0m \u001b[0m_handle_plotting\u001b[0m\u001b[1;33m(\u001b[0m\u001b[0mdataset\u001b[0m\u001b[1;33m,\u001b[0m \u001b[0mdo_plot\u001b[0m\u001b[1;33m,\u001b[0m \u001b[0minterrupted\u001b[0m\u001b[1;33m(\u001b[0m\u001b[1;33m)\u001b[0m\u001b[1;33m)\u001b[0m\u001b[1;33m\u001b[0m\u001b[1;33m\u001b[0m\u001b[0m\n\u001b[0m\u001b[0;32m    281\u001b[0m \u001b[1;33m\u001b[0m\u001b[0m\n\u001b[0;32m    282\u001b[0m \u001b[1;33m\u001b[0m\u001b[0m\n",
      "\u001b[1;32m~\\.conda\\envs\\Sara\\lib\\site-packages\\qcodes\\utils\\dataset\\doNd.py\u001b[0m in \u001b[0;36m_handle_plotting\u001b[1;34m(data, do_plot, interrupted)\u001b[0m\n\u001b[0;32m    742\u001b[0m \u001b[1;33m\u001b[0m\u001b[0m\n\u001b[0;32m    743\u001b[0m     \u001b[1;32mif\u001b[0m \u001b[0minterrupted\u001b[0m\u001b[1;33m:\u001b[0m\u001b[1;33m\u001b[0m\u001b[1;33m\u001b[0m\u001b[0m\n\u001b[1;32m--> 744\u001b[1;33m         \u001b[1;32mraise\u001b[0m \u001b[0mKeyboardInterrupt\u001b[0m\u001b[1;33m\u001b[0m\u001b[1;33m\u001b[0m\u001b[0m\n\u001b[0m\u001b[0;32m    745\u001b[0m \u001b[1;33m\u001b[0m\u001b[0m\n\u001b[0;32m    746\u001b[0m     \u001b[1;32mreturn\u001b[0m \u001b[0mres\u001b[0m\u001b[1;33m\u001b[0m\u001b[1;33m\u001b[0m\u001b[0m\n",
      "\u001b[1;31mKeyboardInterrupt\u001b[0m: "
     ]
    }
   ],
   "source": [
    "do1d(sim.volt_2, 0.400, 0 ,400, 0.3, rxx1.X, rxy.X, rxx2.X,  do_plot = False)\n",
    "do1d(sim.volt_2, 0, 0.6,600, 0.3, rxx1.X, rxy.X, rxx2.X,  do_plot = False)"
   ]
  },
  {
   "cell_type": "code",
   "execution_count": 93,
   "metadata": {
    "ExecuteTime": {
     "end_time": "2021-10-21T01:39:25.506798Z",
     "start_time": "2021-10-21T01:38:40.551227Z"
    }
   },
   "outputs": [
    {
     "name": "stdout",
     "output_type": "stream",
     "text": [
      "Starting experimental run with id: 251. Using 'qcodes.utils.dataset.doNd.do1d'\n"
     ]
    },
    {
     "data": {
      "text/plain": [
       "(results #251@C:\\Users\\Sara\\DataBases\\M12-09-20.1SM1\\M12-09-20.1SM1.db\n",
       " ---------------------------------------------------------------------\n",
       " sim_volt_2 - numeric\n",
       " Beast_X - numeric\n",
       " Dilbert_X - numeric\n",
       " Zoe_X - numeric,\n",
       " [None],\n",
       " [None])"
      ]
     },
     "execution_count": 93,
     "metadata": {},
     "output_type": "execute_result"
    }
   ],
   "source": [
    "do1d(sim.volt_2, 0.53, 0.6,70, 0.3, rxx1.X, rxy.X, rxx2.X,  do_plot = False)"
   ]
  },
  {
   "cell_type": "markdown",
   "metadata": {},
   "source": [
    "# Started new WAL Scans"
   ]
  },
  {
   "cell_type": "code",
   "execution_count": 94,
   "metadata": {
    "ExecuteTime": {
     "end_time": "2021-10-21T01:44:25.636965Z",
     "start_time": "2021-10-21T01:39:25.632805Z"
    }
   },
   "outputs": [],
   "source": [
    "time.sleep(300)"
   ]
  },
  {
   "cell_type": "code",
   "execution_count": 95,
   "metadata": {
    "ExecuteTime": {
     "end_time": "2021-10-21T02:25:09.944771Z",
     "start_time": "2021-10-21T01:44:25.766972Z"
    }
   },
   "outputs": [
    {
     "name": "stdout",
     "output_type": "stream",
     "text": [
      "Starting experimental run with id: 252. \n"
     ]
    }
   ],
   "source": [
    "exp = load_or_create_experiment('WAL 7.5mT/min b steps 0.0005A Vg=0.60V', '75um HB')\n",
    "meas = Measurement()\n",
    "meas.register_parameter(mag120.current)\n",
    "meas.register_parameter(rxx1.X, setpoints=[mag120.current])\n",
    "meas.register_parameter(rxx2.X, setpoints=[mag120.current])\n",
    "meas.register_parameter(rxy.X, setpoints=[mag120.current])\n",
    "\n",
    "mag120.sweeprate_field(0.075)\n",
    "\n",
    "current=-0.150\n",
    "final_current=0.130\n",
    "current_now = mag120.current()\n",
    "\n",
    "with meas.run() as ds:  \n",
    "    while current < final_current:\n",
    "        ds.add_result((mag120.current, mag120.current()),\n",
    "                         (rxx1.X, rxx1.X()),\n",
    "                         (rxx2.X,rxx2.X()),\n",
    "                         (rxy.X, rxy.X()))\n",
    "        time.sleep(3)\n",
    "        current=current+0.0005\n",
    "        mag120.current_setpoint(current)\n",
    "        mag120.to_setpoint()\n",
    "        time.sleep(1.2)\n",
    "        \n",
    "        \n",
    "    dataset1=ds.dataset"
   ]
  },
  {
   "cell_type": "code",
   "execution_count": 96,
   "metadata": {
    "ExecuteTime": {
     "end_time": "2021-10-21T02:35:10.041095Z",
     "start_time": "2021-10-21T02:25:10.037776Z"
    }
   },
   "outputs": [],
   "source": [
    "time.sleep(600)"
   ]
  },
  {
   "cell_type": "code",
   "execution_count": 97,
   "metadata": {
    "ExecuteTime": {
     "end_time": "2021-10-21T03:15:52.794812Z",
     "start_time": "2021-10-21T02:35:10.101098Z"
    }
   },
   "outputs": [
    {
     "name": "stdout",
     "output_type": "stream",
     "text": [
      "Starting experimental run with id: 253. \n"
     ]
    }
   ],
   "source": [
    "exp = load_or_create_experiment('WAL 7.5mT/min b steps 0.0005A Vg=0.16V', '75um HB')\n",
    "meas = Measurement()\n",
    "meas.register_parameter(mag120.current)\n",
    "meas.register_parameter(rxx1.X, setpoints=[mag120.current])\n",
    "meas.register_parameter(rxx2.X, setpoints=[mag120.current])\n",
    "meas.register_parameter(rxy.X, setpoints=[mag120.current])\n",
    "\n",
    "mag120.sweeprate_field(0.075)\n",
    "\n",
    "current=0.13\n",
    "final_current=-0.150\n",
    "current_now = mag120.current()\n",
    "\n",
    "with meas.run() as ds:  \n",
    "    while current > final_current:\n",
    "        ds.add_result((mag120.current, mag120.current()),\n",
    "                         (rxx1.X, rxx1.X()),\n",
    "                         (rxx2.X,rxx2.X()),\n",
    "                         (rxy.X, rxy.X()))\n",
    "        time.sleep(3)\n",
    "        current=current-0.0005\n",
    "        mag120.current_setpoint(current)\n",
    "        mag120.to_setpoint()\n",
    "        time.sleep(1.2)\n",
    "        \n",
    "        \n",
    "    dataset1=ds.dataset"
   ]
  },
  {
   "cell_type": "code",
   "execution_count": 98,
   "metadata": {
    "ExecuteTime": {
     "end_time": "2021-10-21T03:22:25.640282Z",
     "start_time": "2021-10-21T03:15:52.874817Z"
    }
   },
   "outputs": [
    {
     "name": "stdout",
     "output_type": "stream",
     "text": [
      "Starting experimental run with id: 254. Using 'qcodes.utils.dataset.doNd.do1d'\n"
     ]
    }
   ],
   "source": [
    "do1d(sim.volt_2, 0.600, 0.400 ,100, 0.3, rxx1.X, rxy.X, rxx2.X,  do_plot = False)\n",
    "time.sleep(300)"
   ]
  },
  {
   "cell_type": "code",
   "execution_count": 99,
   "metadata": {
    "ExecuteTime": {
     "end_time": "2021-10-21T04:03:09.121041Z",
     "start_time": "2021-10-21T03:22:25.726286Z"
    }
   },
   "outputs": [
    {
     "name": "stdout",
     "output_type": "stream",
     "text": [
      "Starting experimental run with id: 255. \n"
     ]
    }
   ],
   "source": [
    "exp = load_or_create_experiment('WAL 7.5mT/min b steps 0.0005A Vg=0.40V', '75um HB')\n",
    "meas = Measurement()\n",
    "meas.register_parameter(mag120.current)\n",
    "meas.register_parameter(rxx1.X, setpoints=[mag120.current])\n",
    "meas.register_parameter(rxx2.X, setpoints=[mag120.current])\n",
    "meas.register_parameter(rxy.X, setpoints=[mag120.current])\n",
    "\n",
    "mag120.sweeprate_field(0.075)\n",
    "\n",
    "current=-0.150\n",
    "final_current=0.130\n",
    "current_now = mag120.current()\n",
    "\n",
    "with meas.run() as ds:  \n",
    "    while current < final_current:\n",
    "        ds.add_result((mag120.current, mag120.current()),\n",
    "                         (rxx1.X, rxx1.X()),\n",
    "                         (rxx2.X,rxx2.X()),\n",
    "                         (rxy.X, rxy.X()))\n",
    "        time.sleep(3)\n",
    "        current=current+0.0005\n",
    "        mag120.current_setpoint(current)\n",
    "        mag120.to_setpoint()\n",
    "        time.sleep(1.2)\n",
    "        \n",
    "        \n",
    "    dataset1=ds.dataset"
   ]
  },
  {
   "cell_type": "code",
   "execution_count": 100,
   "metadata": {
    "ExecuteTime": {
     "end_time": "2021-10-21T04:13:09.198363Z",
     "start_time": "2021-10-21T04:03:09.195045Z"
    }
   },
   "outputs": [],
   "source": [
    "time.sleep(600)"
   ]
  },
  {
   "cell_type": "code",
   "execution_count": 101,
   "metadata": {
    "ExecuteTime": {
     "end_time": "2021-10-21T04:53:52.909135Z",
     "start_time": "2021-10-21T04:13:09.255366Z"
    }
   },
   "outputs": [
    {
     "name": "stdout",
     "output_type": "stream",
     "text": [
      "Starting experimental run with id: 256. \n"
     ]
    }
   ],
   "source": [
    "exp = load_or_create_experiment('WAL 7.5mT/min b steps 0.0005A Vg=0.4V', '75um HB')\n",
    "meas = Measurement()\n",
    "meas.register_parameter(mag120.current)\n",
    "meas.register_parameter(rxx1.X, setpoints=[mag120.current])\n",
    "meas.register_parameter(rxx2.X, setpoints=[mag120.current])\n",
    "meas.register_parameter(rxy.X, setpoints=[mag120.current])\n",
    "\n",
    "mag120.sweeprate_field(0.075)\n",
    "\n",
    "current=0.13\n",
    "final_current=-0.150\n",
    "current_now = mag120.current()\n",
    "\n",
    "with meas.run() as ds:  \n",
    "    while current > final_current:\n",
    "        ds.add_result((mag120.current, mag120.current()),\n",
    "                         (rxx1.X, rxx1.X()),\n",
    "                         (rxx2.X,rxx2.X()),\n",
    "                         (rxy.X, rxy.X()))\n",
    "        time.sleep(3)\n",
    "        current=current-0.0005\n",
    "        mag120.current_setpoint(current)\n",
    "        mag120.to_setpoint()\n",
    "        time.sleep(1.2)\n",
    "        \n",
    "        \n",
    "    dataset1=ds.dataset"
   ]
  },
  {
   "cell_type": "code",
   "execution_count": 102,
   "metadata": {
    "ExecuteTime": {
     "end_time": "2021-10-21T04:59:56.041905Z",
     "start_time": "2021-10-21T04:53:52.970139Z"
    }
   },
   "outputs": [
    {
     "name": "stdout",
     "output_type": "stream",
     "text": [
      "Starting experimental run with id: 257. Using 'qcodes.utils.dataset.doNd.do1d'\n"
     ]
    }
   ],
   "source": [
    "do1d(sim.volt_2, 0.400, 0.300 ,100, 0.3, rxx1.X, rxy.X, rxx2.X,  do_plot = False)\n",
    "time.sleep(300)"
   ]
  },
  {
   "cell_type": "code",
   "execution_count": 103,
   "metadata": {
    "ExecuteTime": {
     "end_time": "2021-10-21T07:18:10.887343Z",
     "start_time": "2021-10-21T06:37:28.392641Z"
    }
   },
   "outputs": [
    {
     "name": "stdout",
     "output_type": "stream",
     "text": [
      "Starting experimental run with id: 258. \n"
     ]
    }
   ],
   "source": [
    "exp = load_or_create_experiment('WAL 7.5mT/min b steps 0.0005A Vg=0.30V', '75um HB')\n",
    "meas = Measurement()\n",
    "meas.register_parameter(mag120.current)\n",
    "meas.register_parameter(rxx1.X, setpoints=[mag120.current])\n",
    "meas.register_parameter(rxx2.X, setpoints=[mag120.current])\n",
    "meas.register_parameter(rxy.X, setpoints=[mag120.current])\n",
    "\n",
    "mag120.sweeprate_field(0.075)\n",
    "\n",
    "current=-0.150\n",
    "final_current=0.130\n",
    "current_now = mag120.current()\n",
    "\n",
    "with meas.run() as ds:  \n",
    "    while current < final_current:\n",
    "        ds.add_result((mag120.current, mag120.current()),\n",
    "                         (rxx1.X, rxx1.X()),\n",
    "                         (rxx2.X,rxx2.X()),\n",
    "                         (rxy.X, rxy.X()))\n",
    "        time.sleep(3)\n",
    "        current=current+0.0005\n",
    "        mag120.current_setpoint(current)\n",
    "        mag120.to_setpoint()\n",
    "        time.sleep(1.2)\n",
    "        \n",
    "        \n",
    "    dataset1=ds.dataset"
   ]
  },
  {
   "cell_type": "code",
   "execution_count": 104,
   "metadata": {
    "ExecuteTime": {
     "end_time": "2021-10-21T07:28:10.960666Z",
     "start_time": "2021-10-21T07:18:10.957347Z"
    }
   },
   "outputs": [],
   "source": [
    "time.sleep(600)"
   ]
  },
  {
   "cell_type": "code",
   "execution_count": 105,
   "metadata": {
    "ExecuteTime": {
     "end_time": "2021-10-21T08:08:53.883393Z",
     "start_time": "2021-10-21T07:28:11.020669Z"
    }
   },
   "outputs": [
    {
     "name": "stdout",
     "output_type": "stream",
     "text": [
      "Starting experimental run with id: 259. \n"
     ]
    }
   ],
   "source": [
    "exp = load_or_create_experiment('WAL 7.5mT/min b steps 0.0005A Vg=0.3V', '75um HB')\n",
    "meas = Measurement()\n",
    "meas.register_parameter(mag120.current)\n",
    "meas.register_parameter(rxx1.X, setpoints=[mag120.current])\n",
    "meas.register_parameter(rxx2.X, setpoints=[mag120.current])\n",
    "meas.register_parameter(rxy.X, setpoints=[mag120.current])\n",
    "\n",
    "mag120.sweeprate_field(0.075)\n",
    "\n",
    "current=0.13\n",
    "final_current=-0.150\n",
    "current_now = mag120.current()\n",
    "\n",
    "with meas.run() as ds:  \n",
    "    while current > final_current:\n",
    "        ds.add_result((mag120.current, mag120.current()),\n",
    "                         (rxx1.X, rxx1.X()),\n",
    "                         (rxx2.X,rxx2.X()),\n",
    "                         (rxy.X, rxy.X()))\n",
    "        time.sleep(3)\n",
    "        current=current-0.0005\n",
    "        mag120.current_setpoint(current)\n",
    "        mag120.to_setpoint()\n",
    "        time.sleep(1.2)\n",
    "        \n",
    "        \n",
    "    dataset1=ds.dataset"
   ]
  },
  {
   "cell_type": "code",
   "execution_count": 106,
   "metadata": {
    "ExecuteTime": {
     "end_time": "2021-10-21T06:37:28.304636Z",
     "start_time": "2021-10-21T06:31:25.383878Z"
    }
   },
   "outputs": [
    {
     "name": "stdout",
     "output_type": "stream",
     "text": [
      "Starting experimental run with id: 260. Using 'qcodes.utils.dataset.doNd.do1d'\n"
     ]
    }
   ],
   "source": [
    "do1d(sim.volt_2, 0.300, 0.200 ,100, 0.3, rxx1.X, rxy.X, rxx2.X,  do_plot = False)\n",
    "time.sleep(300)"
   ]
  },
  {
   "cell_type": "code",
   "execution_count": 107,
   "metadata": {
    "ExecuteTime": {
     "end_time": "2021-10-21T07:18:10.887343Z",
     "start_time": "2021-10-21T06:37:28.392641Z"
    }
   },
   "outputs": [
    {
     "name": "stdout",
     "output_type": "stream",
     "text": [
      "Starting experimental run with id: 261. \n"
     ]
    }
   ],
   "source": [
    "exp = load_or_create_experiment('WAL 7.5mT/min b steps 0.0005A Vg=0.20V', '75um HB')\n",
    "meas = Measurement()\n",
    "meas.register_parameter(mag120.current)\n",
    "meas.register_parameter(rxx1.X, setpoints=[mag120.current])\n",
    "meas.register_parameter(rxx2.X, setpoints=[mag120.current])\n",
    "meas.register_parameter(rxy.X, setpoints=[mag120.current])\n",
    "\n",
    "mag120.sweeprate_field(0.075)\n",
    "\n",
    "current=-0.150\n",
    "final_current=0.130\n",
    "current_now = mag120.current()\n",
    "\n",
    "with meas.run() as ds:  \n",
    "    while current < final_current:\n",
    "        ds.add_result((mag120.current, mag120.current()),\n",
    "                         (rxx1.X, rxx1.X()),\n",
    "                         (rxx2.X,rxx2.X()),\n",
    "                         (rxy.X, rxy.X()))\n",
    "        time.sleep(3)\n",
    "        current=current+0.0005\n",
    "        mag120.current_setpoint(current)\n",
    "        mag120.to_setpoint()\n",
    "        time.sleep(1.2)\n",
    "        \n",
    "        \n",
    "    dataset1=ds.dataset"
   ]
  },
  {
   "cell_type": "code",
   "execution_count": 108,
   "metadata": {
    "ExecuteTime": {
     "end_time": "2021-10-21T07:28:10.960666Z",
     "start_time": "2021-10-21T07:18:10.957347Z"
    }
   },
   "outputs": [],
   "source": [
    "time.sleep(600)"
   ]
  },
  {
   "cell_type": "code",
   "execution_count": 109,
   "metadata": {
    "ExecuteTime": {
     "end_time": "2021-10-21T08:08:53.883393Z",
     "start_time": "2021-10-21T07:28:11.020669Z"
    }
   },
   "outputs": [
    {
     "name": "stdout",
     "output_type": "stream",
     "text": [
      "Starting experimental run with id: 262. \n"
     ]
    }
   ],
   "source": [
    "exp = load_or_create_experiment('WAL 7.5mT/min b steps 0.0005A Vg=0.2V', '75um HB')\n",
    "meas = Measurement()\n",
    "meas.register_parameter(mag120.current)\n",
    "meas.register_parameter(rxx1.X, setpoints=[mag120.current])\n",
    "meas.register_parameter(rxx2.X, setpoints=[mag120.current])\n",
    "meas.register_parameter(rxy.X, setpoints=[mag120.current])\n",
    "\n",
    "mag120.sweeprate_field(0.075)\n",
    "\n",
    "current=0.13\n",
    "final_current=-0.150\n",
    "current_now = mag120.current()\n",
    "\n",
    "with meas.run() as ds:  \n",
    "    while current > final_current:\n",
    "        ds.add_result((mag120.current, mag120.current()),\n",
    "                         (rxx1.X, rxx1.X()),\n",
    "                         (rxx2.X,rxx2.X()),\n",
    "                         (rxy.X, rxy.X()))\n",
    "        time.sleep(3)\n",
    "        current=current-0.0005\n",
    "        mag120.current_setpoint(current)\n",
    "        mag120.to_setpoint()\n",
    "        time.sleep(1.2)\n",
    "        \n",
    "        \n",
    "    dataset1=ds.dataset"
   ]
  },
  {
   "cell_type": "code",
   "execution_count": 110,
   "metadata": {
    "ExecuteTime": {
     "end_time": "2021-10-21T08:14:25.393354Z",
     "start_time": "2021-10-21T08:08:53.945396Z"
    }
   },
   "outputs": [
    {
     "name": "stdout",
     "output_type": "stream",
     "text": [
      "Starting experimental run with id: 263. Using 'qcodes.utils.dataset.doNd.do1d'\n"
     ]
    }
   ],
   "source": [
    "do1d(sim.volt_2, 0.200, 0.150 ,50, 0.3, rxx1.X, rxy.X, rxx2.X,  do_plot = False)\n",
    "time.sleep(300)"
   ]
  },
  {
   "cell_type": "code",
   "execution_count": 111,
   "metadata": {
    "ExecuteTime": {
     "end_time": "2021-10-21T13:46:04.373511Z",
     "start_time": "2021-10-21T13:05:16.529502Z"
    }
   },
   "outputs": [
    {
     "name": "stdout",
     "output_type": "stream",
     "text": [
      "Starting experimental run with id: 264. \n"
     ]
    }
   ],
   "source": [
    "exp = load_or_create_experiment('WAL 7.5mT/min b steps 0.0005A Vg=0.15V', '75um HB')\n",
    "meas = Measurement()\n",
    "meas.register_parameter(mag120.current)\n",
    "meas.register_parameter(rxx1.X, setpoints=[mag120.current])\n",
    "meas.register_parameter(rxx2.X, setpoints=[mag120.current])\n",
    "meas.register_parameter(rxy.X, setpoints=[mag120.current])\n",
    "\n",
    "mag120.sweeprate_field(0.075)\n",
    "\n",
    "current=-0.150\n",
    "final_current=0.130\n",
    "current_now = mag120.current()\n",
    "\n",
    "with meas.run() as ds:  \n",
    "    while current < final_current:\n",
    "        ds.add_result((mag120.current, mag120.current()),\n",
    "                         (rxx1.X, rxx1.X()),\n",
    "                         (rxx2.X,rxx2.X()),\n",
    "                         (rxy.X, rxy.X()))\n",
    "        time.sleep(3)\n",
    "        current=current+0.0005\n",
    "        mag120.current_setpoint(current)\n",
    "        mag120.to_setpoint()\n",
    "        time.sleep(1.2)\n",
    "        \n",
    "        \n",
    "    dataset1=ds.dataset"
   ]
  },
  {
   "cell_type": "code",
   "execution_count": 112,
   "metadata": {
    "ExecuteTime": {
     "end_time": "2021-10-21T13:56:04.456833Z",
     "start_time": "2021-10-21T13:46:04.453515Z"
    }
   },
   "outputs": [],
   "source": [
    "time.sleep(600)"
   ]
  },
  {
   "cell_type": "code",
   "execution_count": 113,
   "metadata": {
    "ExecuteTime": {
     "end_time": "2021-10-21T14:36:45.087430Z",
     "start_time": "2021-10-21T13:56:04.528838Z"
    }
   },
   "outputs": [
    {
     "name": "stdout",
     "output_type": "stream",
     "text": [
      "Starting experimental run with id: 265. \n"
     ]
    }
   ],
   "source": [
    "exp = load_or_create_experiment('WAL 7.5mT/min b steps 0.0005A Vg=0.15V', '75um HB')\n",
    "meas = Measurement()\n",
    "meas.register_parameter(mag120.current)\n",
    "meas.register_parameter(rxx1.X, setpoints=[mag120.current])\n",
    "meas.register_parameter(rxx2.X, setpoints=[mag120.current])\n",
    "meas.register_parameter(rxy.X, setpoints=[mag120.current])\n",
    "\n",
    "mag120.sweeprate_field(0.075)\n",
    "\n",
    "current=0.13\n",
    "final_current=-0.150\n",
    "current_now = mag120.current()\n",
    "\n",
    "with meas.run() as ds:  \n",
    "    while current > final_current:\n",
    "        ds.add_result((mag120.current, mag120.current()),\n",
    "                         (rxx1.X, rxx1.X()),\n",
    "                         (rxx2.X,rxx2.X()),\n",
    "                         (rxy.X, rxy.X()))\n",
    "        time.sleep(3)\n",
    "        current=current-0.0005\n",
    "        mag120.current_setpoint(current)\n",
    "        mag120.to_setpoint()\n",
    "        time.sleep(1.2)\n",
    "        \n",
    "        \n",
    "    dataset1=ds.dataset"
   ]
  },
  {
   "cell_type": "code",
   "execution_count": 114,
   "metadata": {
    "ExecuteTime": {
     "end_time": "2021-10-21T09:51:23.099108Z",
     "start_time": "2021-10-21T09:45:51.717154Z"
    }
   },
   "outputs": [
    {
     "name": "stdout",
     "output_type": "stream",
     "text": [
      "Starting experimental run with id: 266. Using 'qcodes.utils.dataset.doNd.do1d'\n"
     ]
    }
   ],
   "source": [
    "do1d(sim.volt_2, 0.150, 0.100 ,50, 0.3, rxx1.X, rxy.X, rxx2.X,  do_plot = False)\n",
    "time.sleep(300)"
   ]
  },
  {
   "cell_type": "code",
   "execution_count": 115,
   "metadata": {
    "ExecuteTime": {
     "end_time": "2021-10-21T13:46:04.373511Z",
     "start_time": "2021-10-21T13:05:16.529502Z"
    }
   },
   "outputs": [
    {
     "name": "stdout",
     "output_type": "stream",
     "text": [
      "Starting experimental run with id: 267. \n"
     ]
    }
   ],
   "source": [
    "exp = load_or_create_experiment('WAL 7.5mT/min b steps 0.0005A Vg=0.10V', '75um HB')\n",
    "meas = Measurement()\n",
    "meas.register_parameter(mag120.current)\n",
    "meas.register_parameter(rxx1.X, setpoints=[mag120.current])\n",
    "meas.register_parameter(rxx2.X, setpoints=[mag120.current])\n",
    "meas.register_parameter(rxy.X, setpoints=[mag120.current])\n",
    "\n",
    "mag120.sweeprate_field(0.075)\n",
    "\n",
    "current=-0.150\n",
    "final_current=0.130\n",
    "current_now = mag120.current()\n",
    "\n",
    "with meas.run() as ds:  \n",
    "    while current < final_current:\n",
    "        ds.add_result((mag120.current, mag120.current()),\n",
    "                         (rxx1.X, rxx1.X()),\n",
    "                         (rxx2.X,rxx2.X()),\n",
    "                         (rxy.X, rxy.X()))\n",
    "        time.sleep(3)\n",
    "        current=current+0.0005\n",
    "        mag120.current_setpoint(current)\n",
    "        mag120.to_setpoint()\n",
    "        time.sleep(1.2)\n",
    "        \n",
    "        \n",
    "    dataset1=ds.dataset"
   ]
  },
  {
   "cell_type": "code",
   "execution_count": 116,
   "metadata": {
    "ExecuteTime": {
     "end_time": "2021-10-21T13:56:04.456833Z",
     "start_time": "2021-10-21T13:46:04.453515Z"
    }
   },
   "outputs": [],
   "source": [
    "time.sleep(600)"
   ]
  },
  {
   "cell_type": "code",
   "execution_count": 117,
   "metadata": {
    "ExecuteTime": {
     "end_time": "2021-10-21T14:36:45.087430Z",
     "start_time": "2021-10-21T13:56:04.528838Z"
    }
   },
   "outputs": [
    {
     "name": "stdout",
     "output_type": "stream",
     "text": [
      "Starting experimental run with id: 268. \n"
     ]
    }
   ],
   "source": [
    "exp = load_or_create_experiment('WAL 7.5mT/min b steps 0.0005A Vg=0.1V', '75um HB')\n",
    "meas = Measurement()\n",
    "meas.register_parameter(mag120.current)\n",
    "meas.register_parameter(rxx1.X, setpoints=[mag120.current])\n",
    "meas.register_parameter(rxx2.X, setpoints=[mag120.current])\n",
    "meas.register_parameter(rxy.X, setpoints=[mag120.current])\n",
    "\n",
    "mag120.sweeprate_field(0.075)\n",
    "\n",
    "current=0.13\n",
    "final_current=-0.150\n",
    "current_now = mag120.current()\n",
    "\n",
    "with meas.run() as ds:  \n",
    "    while current > final_current:\n",
    "        ds.add_result((mag120.current, mag120.current()),\n",
    "                         (rxx1.X, rxx1.X()),\n",
    "                         (rxx2.X,rxx2.X()),\n",
    "                         (rxy.X, rxy.X()))\n",
    "        time.sleep(3)\n",
    "        current=current-0.0005\n",
    "        mag120.current_setpoint(current)\n",
    "        mag120.to_setpoint()\n",
    "        time.sleep(1.2)\n",
    "        \n",
    "        \n",
    "    dataset1=ds.dataset"
   ]
  },
  {
   "cell_type": "code",
   "execution_count": 118,
   "metadata": {
    "ExecuteTime": {
     "end_time": "2021-10-21T11:28:20.302833Z",
     "start_time": "2021-10-21T11:22:48.828874Z"
    }
   },
   "outputs": [
    {
     "name": "stdout",
     "output_type": "stream",
     "text": [
      "Starting experimental run with id: 269. Using 'qcodes.utils.dataset.doNd.do1d'\n"
     ]
    }
   ],
   "source": [
    "do1d(sim.volt_2, 0.100, 0.05 ,50, 0.3, rxx1.X, rxy.X, rxx2.X,  do_plot = False)\n",
    "time.sleep(300)"
   ]
  },
  {
   "cell_type": "code",
   "execution_count": 119,
   "metadata": {
    "ExecuteTime": {
     "end_time": "2021-10-21T13:46:04.373511Z",
     "start_time": "2021-10-21T13:05:16.529502Z"
    }
   },
   "outputs": [
    {
     "name": "stdout",
     "output_type": "stream",
     "text": [
      "Starting experimental run with id: 270. \n"
     ]
    }
   ],
   "source": [
    "exp = load_or_create_experiment('WAL 7.5mT/min b steps 0.0005A Vg=0.05V', '75um HB')\n",
    "meas = Measurement()\n",
    "meas.register_parameter(mag120.current)\n",
    "meas.register_parameter(rxx1.X, setpoints=[mag120.current])\n",
    "meas.register_parameter(rxx2.X, setpoints=[mag120.current])\n",
    "meas.register_parameter(rxy.X, setpoints=[mag120.current])\n",
    "\n",
    "mag120.sweeprate_field(0.075)\n",
    "\n",
    "current=-0.150\n",
    "final_current=0.130\n",
    "current_now = mag120.current()\n",
    "\n",
    "with meas.run() as ds:  \n",
    "    while current < final_current:\n",
    "        ds.add_result((mag120.current, mag120.current()),\n",
    "                         (rxx1.X, rxx1.X()),\n",
    "                         (rxx2.X,rxx2.X()),\n",
    "                         (rxy.X, rxy.X()))\n",
    "        time.sleep(3)\n",
    "        current=current+0.0005\n",
    "        mag120.current_setpoint(current)\n",
    "        mag120.to_setpoint()\n",
    "        time.sleep(1.2)\n",
    "        \n",
    "        \n",
    "    dataset1=ds.dataset"
   ]
  },
  {
   "cell_type": "code",
   "execution_count": 120,
   "metadata": {
    "ExecuteTime": {
     "end_time": "2021-10-21T13:56:04.456833Z",
     "start_time": "2021-10-21T13:46:04.453515Z"
    }
   },
   "outputs": [],
   "source": [
    "time.sleep(600)"
   ]
  },
  {
   "cell_type": "code",
   "execution_count": 121,
   "metadata": {
    "ExecuteTime": {
     "end_time": "2021-10-21T14:36:45.087430Z",
     "start_time": "2021-10-21T13:56:04.528838Z"
    }
   },
   "outputs": [
    {
     "name": "stdout",
     "output_type": "stream",
     "text": [
      "Starting experimental run with id: 271. \n"
     ]
    }
   ],
   "source": [
    "exp = load_or_create_experiment('WAL 7.5mT/min b steps 0.0005A Vg=0.05V', '75um HB')\n",
    "meas = Measurement()\n",
    "meas.register_parameter(mag120.current)\n",
    "meas.register_parameter(rxx1.X, setpoints=[mag120.current])\n",
    "meas.register_parameter(rxx2.X, setpoints=[mag120.current])\n",
    "meas.register_parameter(rxy.X, setpoints=[mag120.current])\n",
    "\n",
    "mag120.sweeprate_field(0.075)\n",
    "\n",
    "current=0.13\n",
    "final_current=-0.150\n",
    "current_now = mag120.current()\n",
    "\n",
    "with meas.run() as ds:  \n",
    "    while current > final_current:\n",
    "        ds.add_result((mag120.current, mag120.current()),\n",
    "                         (rxx1.X, rxx1.X()),\n",
    "                         (rxx2.X,rxx2.X()),\n",
    "                         (rxy.X, rxy.X()))\n",
    "        time.sleep(3)\n",
    "        current=current-0.0005\n",
    "        mag120.current_setpoint(current)\n",
    "        mag120.to_setpoint()\n",
    "        time.sleep(1.2)\n",
    "        \n",
    "        \n",
    "    dataset1=ds.dataset"
   ]
  },
  {
   "cell_type": "code",
   "execution_count": 122,
   "metadata": {
    "ExecuteTime": {
     "end_time": "2021-10-21T13:05:16.422496Z",
     "start_time": "2021-10-21T12:59:44.988539Z"
    }
   },
   "outputs": [
    {
     "name": "stdout",
     "output_type": "stream",
     "text": [
      "Starting experimental run with id: 272. Using 'qcodes.utils.dataset.doNd.do1d'\n"
     ]
    }
   ],
   "source": [
    "do1d(sim.volt_2, 0.05, 0 ,50, 0.3, rxx1.X, rxy.X, rxx2.X,  do_plot = False)\n",
    "time.sleep(300)"
   ]
  },
  {
   "cell_type": "code",
   "execution_count": 123,
   "metadata": {
    "ExecuteTime": {
     "end_time": "2021-10-21T13:46:04.373511Z",
     "start_time": "2021-10-21T13:05:16.529502Z"
    }
   },
   "outputs": [
    {
     "name": "stdout",
     "output_type": "stream",
     "text": [
      "Starting experimental run with id: 273. \n"
     ]
    }
   ],
   "source": [
    "exp = load_or_create_experiment('WAL 7.5mT/min b steps 0.0005A Vg=0.0V', '75um HB')\n",
    "meas = Measurement()\n",
    "meas.register_parameter(mag120.current)\n",
    "meas.register_parameter(rxx1.X, setpoints=[mag120.current])\n",
    "meas.register_parameter(rxx2.X, setpoints=[mag120.current])\n",
    "meas.register_parameter(rxy.X, setpoints=[mag120.current])\n",
    "\n",
    "mag120.sweeprate_field(0.075)\n",
    "\n",
    "current=-0.150\n",
    "final_current=0.130\n",
    "current_now = mag120.current()\n",
    "\n",
    "with meas.run() as ds:  \n",
    "    while current < final_current:\n",
    "        ds.add_result((mag120.current, mag120.current()),\n",
    "                         (rxx1.X, rxx1.X()),\n",
    "                         (rxx2.X,rxx2.X()),\n",
    "                         (rxy.X, rxy.X()))\n",
    "        time.sleep(3)\n",
    "        current=current+0.0005\n",
    "        mag120.current_setpoint(current)\n",
    "        mag120.to_setpoint()\n",
    "        time.sleep(1.2)\n",
    "        \n",
    "        \n",
    "    dataset1=ds.dataset"
   ]
  },
  {
   "cell_type": "code",
   "execution_count": 124,
   "metadata": {
    "ExecuteTime": {
     "end_time": "2021-10-21T13:56:04.456833Z",
     "start_time": "2021-10-21T13:46:04.453515Z"
    }
   },
   "outputs": [],
   "source": [
    "time.sleep(600)"
   ]
  },
  {
   "cell_type": "code",
   "execution_count": 125,
   "metadata": {
    "ExecuteTime": {
     "end_time": "2021-10-21T14:36:45.087430Z",
     "start_time": "2021-10-21T13:56:04.528838Z"
    }
   },
   "outputs": [
    {
     "name": "stdout",
     "output_type": "stream",
     "text": [
      "Starting experimental run with id: 274. \n"
     ]
    }
   ],
   "source": [
    "exp = load_or_create_experiment('WAL 7.5mT/min b steps 0.0005A Vg=0.0V', '75um HB')\n",
    "meas = Measurement()\n",
    "meas.register_parameter(mag120.current)\n",
    "meas.register_parameter(rxx1.X, setpoints=[mag120.current])\n",
    "meas.register_parameter(rxx2.X, setpoints=[mag120.current])\n",
    "meas.register_parameter(rxy.X, setpoints=[mag120.current])\n",
    "\n",
    "mag120.sweeprate_field(0.075)\n",
    "\n",
    "current=0.13\n",
    "final_current=-0.150\n",
    "current_now = mag120.current()\n",
    "\n",
    "with meas.run() as ds:  \n",
    "    while current > final_current:\n",
    "        ds.add_result((mag120.current, mag120.current()),\n",
    "                         (rxx1.X, rxx1.X()),\n",
    "                         (rxx2.X,rxx2.X()),\n",
    "                         (rxy.X, rxy.X()))\n",
    "        time.sleep(3)\n",
    "        current=current-0.0005\n",
    "        mag120.current_setpoint(current)\n",
    "        mag120.to_setpoint()\n",
    "        time.sleep(1.2)\n",
    "        \n",
    "        \n",
    "    dataset1=ds.dataset"
   ]
  },
  {
   "cell_type": "code",
   "execution_count": 126,
   "metadata": {
    "ExecuteTime": {
     "end_time": "2021-10-21T14:42:16.564389Z",
     "start_time": "2021-10-21T14:36:45.156434Z"
    },
    "scrolled": true
   },
   "outputs": [
    {
     "name": "stdout",
     "output_type": "stream",
     "text": [
      "Starting experimental run with id: 275. Using 'qcodes.utils.dataset.doNd.do1d'\n"
     ]
    }
   ],
   "source": [
    "do1d(sim.volt_2, 0.0, -0.05 ,50, 0.3, rxx1.X, rxy.X, rxx2.X,  do_plot = False)\n",
    "time.sleep(300)"
   ]
  },
  {
   "cell_type": "code",
   "execution_count": null,
   "metadata": {},
   "outputs": [],
   "source": []
  },
  {
   "cell_type": "code",
   "execution_count": 128,
   "metadata": {
    "ExecuteTime": {
     "end_time": "2021-10-21T15:27:59.379269Z",
     "start_time": "2021-10-21T14:44:28.084911Z"
    }
   },
   "outputs": [
    {
     "name": "stdout",
     "output_type": "stream",
     "text": [
      "Starting experimental run with id: 277. \n"
     ]
    }
   ],
   "source": [
    "exp = load_or_create_experiment('WAL 7.5mT/min b steps 0.0005A Vg=0.0V', '75um HB')\n",
    "meas = Measurement()\n",
    "meas.register_parameter(mag120.current)\n",
    "meas.register_parameter(rxx1.X, setpoints=[mag120.current])\n",
    "meas.register_parameter(rxx2.X, setpoints=[mag120.current])\n",
    "meas.register_parameter(rxy.X, setpoints=[mag120.current])\n",
    "\n",
    "mag120.sweeprate_field(0.075)\n",
    "\n",
    "current=-0.150\n",
    "final_current=0.130\n",
    "current_now = mag120.current()\n",
    "\n",
    "with meas.run() as ds:  \n",
    "    while current < final_current:\n",
    "        time.sleep(3.3)\n",
    "        ds.add_result((mag120.current, mag120.current()),\n",
    "                         (rxx1.X, rxx1.X()),\n",
    "                         (rxx2.X,rxx2.X()),\n",
    "                         (rxy.X, rxy.X()))\n",
    "        current=current+0.0005\n",
    "        mag120.current_setpoint(current)\n",
    "        mag120.to_setpoint()\n",
    "        time.sleep(1.2)\n",
    "        \n",
    "        \n",
    "    dataset1=ds.dataset"
   ]
  },
  {
   "cell_type": "code",
   "execution_count": 129,
   "metadata": {
    "ExecuteTime": {
     "end_time": "2021-10-21T15:37:59.483593Z",
     "start_time": "2021-10-21T15:27:59.480275Z"
    }
   },
   "outputs": [],
   "source": [
    "time.sleep(600)"
   ]
  },
  {
   "cell_type": "code",
   "execution_count": 130,
   "metadata": {
    "ExecuteTime": {
     "end_time": "2021-10-21T16:18:42.639334Z",
     "start_time": "2021-10-21T15:37:59.654603Z"
    }
   },
   "outputs": [
    {
     "name": "stdout",
     "output_type": "stream",
     "text": [
      "Starting experimental run with id: 278. \n"
     ]
    }
   ],
   "source": [
    "exp = load_or_create_experiment('WAL 7.5mT/min b steps 0.0005A Vg=0.0V', '75um HB')\n",
    "meas = Measurement()\n",
    "meas.register_parameter(mag120.current)\n",
    "meas.register_parameter(rxx1.X, setpoints=[mag120.current])\n",
    "meas.register_parameter(rxx2.X, setpoints=[mag120.current])\n",
    "meas.register_parameter(rxy.X, setpoints=[mag120.current])\n",
    "\n",
    "mag120.sweeprate_field(0.075)\n",
    "\n",
    "current=0.13\n",
    "final_current=-0.150\n",
    "current_now = mag120.current()\n",
    "\n",
    "with meas.run() as ds:  \n",
    "    while current > final_current:\n",
    "        time.sleep(3)\n",
    "        ds.add_result((mag120.current, mag120.current()),\n",
    "                         (rxx1.X, rxx1.X()),\n",
    "                         (rxx2.X,rxx2.X()),\n",
    "                         (rxy.X, rxy.X()))\n",
    "        current=current-0.0005\n",
    "        mag120.current_setpoint(current)\n",
    "        mag120.to_setpoint()\n",
    "        time.sleep(1.2)\n",
    "        \n",
    "        \n",
    "    dataset1=ds.dataset"
   ]
  },
  {
   "cell_type": "code",
   "execution_count": 132,
   "metadata": {
    "ExecuteTime": {
     "end_time": "2021-10-21T16:23:19.493169Z",
     "start_time": "2021-10-21T16:23:19.400163Z"
    }
   },
   "outputs": [],
   "source": [
    "mag120.current_setpoint(0)\n",
    "mag120.to_setpoint()"
   ]
  },
  {
   "cell_type": "code",
   "execution_count": 133,
   "metadata": {
    "ExecuteTime": {
     "end_time": "2021-10-21T16:24:11.129122Z",
     "start_time": "2021-10-21T16:23:39.556316Z"
    }
   },
   "outputs": [
    {
     "name": "stdout",
     "output_type": "stream",
     "text": [
      "Starting experimental run with id: 279. Using 'qcodes.utils.dataset.doNd.do1d'\n"
     ]
    },
    {
     "data": {
      "text/plain": [
       "(results #279@C:\\Users\\Sara\\DataBases\\M12-09-20.1SM1\\M12-09-20.1SM1.db\n",
       " ---------------------------------------------------------------------\n",
       " sim_volt_2 - numeric\n",
       " Beast_X - numeric\n",
       " Dilbert_X - numeric\n",
       " Zoe_X - numeric,\n",
       " [None],\n",
       " [None])"
      ]
     },
     "execution_count": 133,
     "metadata": {},
     "output_type": "execute_result"
    }
   ],
   "source": [
    "do1d(sim.volt_2, -0.05 ,0, 50, 0.3, rxx1.X, rxy.X, rxx2.X,  do_plot = False)\n"
   ]
  },
  {
   "cell_type": "code",
   "execution_count": null,
   "metadata": {},
   "outputs": [],
   "source": []
  }
 ],
 "metadata": {
  "kernelspec": {
   "display_name": "Python 3",
   "language": "python",
   "name": "python3"
  },
  "language_info": {
   "codemirror_mode": {
    "name": "ipython",
    "version": 3
   },
   "file_extension": ".py",
   "mimetype": "text/x-python",
   "name": "python",
   "nbconvert_exporter": "python",
   "pygments_lexer": "ipython3",
   "version": "3.7.0"
  },
  "toc": {
   "base_numbering": 1,
   "nav_menu": {},
   "number_sections": true,
   "sideBar": true,
   "skip_h1_title": false,
   "title_cell": "Table of Contents",
   "title_sidebar": "Contents",
   "toc_cell": false,
   "toc_position": {
    "height": "calc(100% - 180px)",
    "left": "10px",
    "top": "150px",
    "width": "302.358px"
   },
   "toc_section_display": true,
   "toc_window_display": true
  },
  "varInspector": {
   "cols": {
    "lenName": 16,
    "lenType": 16,
    "lenVar": 40
   },
   "kernels_config": {
    "python": {
     "delete_cmd_postfix": "",
     "delete_cmd_prefix": "del ",
     "library": "var_list.py",
     "varRefreshCmd": "print(var_dic_list())"
    },
    "r": {
     "delete_cmd_postfix": ") ",
     "delete_cmd_prefix": "rm(",
     "library": "var_list.r",
     "varRefreshCmd": "cat(var_dic_list()) "
    }
   },
   "types_to_exclude": [
    "module",
    "function",
    "builtin_function_or_method",
    "instance",
    "_Feature"
   ],
   "window_display": false
  }
 },
 "nbformat": 4,
 "nbformat_minor": 5
}
