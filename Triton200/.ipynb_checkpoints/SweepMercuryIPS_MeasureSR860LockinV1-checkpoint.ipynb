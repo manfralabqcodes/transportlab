{
 "cells": [
  {
   "cell_type": "markdown",
   "metadata": {},
   "source": [
    "# Import Modules"
   ]
  },
  {
   "cell_type": "code",
   "execution_count": 1,
   "metadata": {
    "ExecuteTime": {
     "end_time": "2023-09-29T18:46:56.546024Z",
     "start_time": "2023-09-29T18:46:53.926874Z"
    }
   },
   "outputs": [
    {
     "name": "stdout",
     "output_type": "stream",
     "text": [
      "Logging hadn't been started.\n",
      "Activating auto-logging. Current session state plus future input saved.\n",
      "Filename       : C:\\Users\\manfra-lab\\.qcodes\\logs\\command_history.log\n",
      "Mode           : append\n",
      "Output logging : True\n",
      "Raw input log  : False\n",
      "Timestamping   : True\n",
      "State          : active\n",
      "Qcodes Logfile : C:\\Users\\manfra-lab\\.qcodes\\logs\\231017-19360-qcodes.log\n"
     ]
    }
   ],
   "source": [
    "#%qtconsole\n",
    "#%matplotlib inline\n",
    "\n",
    "import matplotlib.pyplot as plt\n",
    "from functools import partial\n",
    "import numpy as np\n",
    "import time \n",
    "import qcodes as qc\n",
    "import os\n",
    "import openpyxl\n",
    "from qcodes.math_utils import FieldVector\n",
    "from qcodes import Station, load_or_create_experiment, initialise_database, Measurement, load_by_run_spec, load_by_guid, initialise_or_create_database_at \n",
    "from qcodes.utils.dataset.doNd import do1d, do2d, plot\n",
    "\n",
    "from qcodes_contrib_drivers.drivers.Tektronix.Keithley_2700 import Keithley_2700\n",
    "from qcodes.instrument_drivers.tektronix.Keithley_2600_channels import Keithley_2600\n",
    "from qcodes_contrib_drivers.drivers.Oxford.IPS120 import OxfordInstruments_IPS120\n",
    "from qcodes.instrument.visa import VisaInstrument\n",
    "from qcodes_contrib_drivers.drivers.StanfordResearchSystems.SIM928 import SIM928\n",
    "from qcodes.instrument_drivers.stanford_research.SR830 import SR830\n",
    "from qcodes.instrument_drivers.stanford_research.SR860 import SR860\n",
    "from qcodes.dataset.plotting import plot_dataset\n",
    "from qcodes.instrument_drivers.oxford.MercuryiPS_VISA import MercuryiPS\n",
    "import IPython.lib.backgroundjobs as bg\n",
    "from plottr.apps import inspectr\n",
    "from qcodes.dataset import load_by_id"
   ]
  },
  {
   "cell_type": "markdown",
   "metadata": {},
   "source": [
    "# Connect to Instruments and Initialize Variables"
   ]
  },
  {
   "cell_type": "code",
   "execution_count": 2,
   "metadata": {
    "ExecuteTime": {
     "end_time": "2023-09-29T18:47:00.683261Z",
     "start_time": "2023-09-29T18:46:59.367186Z"
    }
   },
   "outputs": [
    {
     "name": "stdout",
     "output_type": "stream",
     "text": [
      "Connected to: Stanford_Research_Systems SIM900 (serial:s/n130891, firmware:ver3.6) in 1.05s\n",
      "Connected to: Stanford_Research_Systems SR830 (serial:s/n21560, firmware:ver1.01) in 0.09s\n"
     ]
    }
   ],
   "source": [
    "#Magnet \n",
    "mag120 = MercuryiPS('mips', 'TCPIP0::169.254.255.2::7020::SOCKET')\n",
    "#Lockins SR830\n",
    "lockIn=SR860('Gommorah','GPIB0::8::INSTR' )"
   ]
  },
  {
   "cell_type": "markdown",
   "metadata": {},
   "source": [
    "# Global Parameters for Instruments and Experiment"
   ]
  },
  {
   "cell_type": "code",
   "execution_count": 3,
   "metadata": {
    "ExecuteTime": {
     "end_time": "2023-09-29T18:47:06.212577Z",
     "start_time": "2023-09-29T18:47:06.207577Z"
    }
   },
   "outputs": [],
   "source": [
    "dataBasePath = 'C:\\\\Users\\\\manfra-lab\\\\Desktop\\\\Users\\\\Matt\\\\Data\\\\QcodesTest\\\\4K_Sample_MMDDYY.db'"
   ]
  },
  {
   "cell_type": "code",
   "execution_count": 4,
   "metadata": {},
   "outputs": [],
   "source": [
    "exp_name = \"QPC_Conductance\""
   ]
  },
  {
   "cell_type": "code",
   "execution_count": 16,
   "metadata": {},
   "outputs": [],
   "source": [
    "meas_name = 'Gates4&3_SweepDown'"
   ]
  },
  {
   "cell_type": "code",
   "execution_count": 18,
   "metadata": {
    "ExecuteTime": {
     "end_time": "2023-09-29T19:52:26.147785Z",
     "start_time": "2023-09-29T19:52:26.027778Z"
    }
   },
   "outputs": [],
   "source": [
    "csvPath = \"C:\\\\Users\\\\manfra-lab\\\\Desktop\\\\Users\\\\Matt\\\\Data\\\\QcodesTest\\\\placeHolder.csv\"\n",
    "sample = \"8-3-22.1MM11A3\"\n",
    "#Sweep rate in T/s\n",
    "#IMPORTANT: Never go above 50mT/min(0.83mT/s)\n",
    "sweepRate = 0.00083\n",
    "fieldTarget = 0"
   ]
  },
  {
   "cell_type": "markdown",
   "metadata": {},
   "source": [
    "# Set Magnetic Field Sweep Parameters"
   ]
  },
  {
   "cell_type": "code",
   "execution_count": null,
   "metadata": {},
   "outputs": [],
   "source": [
    "#Prints old sweep rate, sets new one, prints new sweep rate\n",
    "field = mag120._get_ramp_rate()\n",
    "print(\"Previous SweepRate\")\n",
    "print(field.z)\n",
    "rate = FieldVector(0.0,0.0,sweepRate)\n",
    "mag120._set_ramp_rate(rate)\n",
    "print(\"New SweepRate\")\n",
    "print(mag120._get_ramp_rate().z)"
   ]
  },
  {
   "cell_type": "code",
   "execution_count": null,
   "metadata": {},
   "outputs": [],
   "source": [
    "#Prints old target field, sets new one, prints new target field\n",
    "target = FieldVector(0.0,0.0,fieldTarget)\n",
    "print(\"Previous Target Field\")\n",
    "print(mag120._get_target_field().z)\n",
    "mag120._set_target_field(target)\n",
    "print(\"New Target Field\")\n",
    "print(mag120._get_target_field().z)"
   ]
  },
  {
   "cell_type": "markdown",
   "metadata": {},
   "source": [
    "# Set Up Database for Data Collection"
   ]
  },
  {
   "cell_type": "code",
   "execution_count": 7,
   "metadata": {
    "ExecuteTime": {
     "end_time": "2023-09-29T18:47:13.330984Z",
     "start_time": "2023-09-29T18:47:12.451934Z"
    }
   },
   "outputs": [],
   "source": [
    "db_file_path = os.path.join(os.getcwd(), dataBasePath)\n",
    "initialise_or_create_database_at(db_file_path)"
   ]
  },
  {
   "cell_type": "markdown",
   "metadata": {},
   "source": [
    "# Set Up Live Plot"
   ]
  },
  {
   "cell_type": "code",
   "execution_count": 8,
   "metadata": {
    "ExecuteTime": {
     "end_time": "2023-09-29T18:47:14.921075Z",
     "start_time": "2023-09-29T18:47:14.909075Z"
    }
   },
   "outputs": [
    {
     "data": {
      "text/plain": [
       "<BackgroundJob #0: <function main at 0x0000022291896700>>"
      ]
     },
     "execution_count": 8,
     "metadata": {},
     "output_type": "execute_result"
    }
   ],
   "source": [
    "#Opens windows that will plot results as they are collected\n",
    "#Make sure to turn on refresh rate once window opens or nothing will happen\n",
    "jobs = bg.BackgroundJobManager()\n",
    "jobs.new(inspectr.main, db_file_path)"
   ]
  },
  {
   "cell_type": "markdown",
   "metadata": {},
   "source": [
    "# Setup Station and Measurement Parameters"
   ]
  },
  {
   "cell_type": "code",
   "execution_count": 9,
   "metadata": {
    "ExecuteTime": {
     "end_time": "2023-09-29T18:47:25.964707Z",
     "start_time": "2023-09-29T18:47:24.409618Z"
    }
   },
   "outputs": [
    {
     "data": {
      "text/plain": [
       "'Gommorah'"
      ]
     },
     "execution_count": 9,
     "metadata": {},
     "output_type": "execute_result"
    }
   ],
   "source": [
    "#Handles equipment\n",
    "station = qc.Station()\n",
    "station.add_component(mag120)\n",
    "station.add_component(lockIn)"
   ]
  },
  {
   "cell_type": "code",
   "execution_count": 17,
   "metadata": {
    "ExecuteTime": {
     "end_time": "2023-09-29T19:52:29.925001Z",
     "start_time": "2023-09-29T19:52:29.870998Z"
    }
   },
   "outputs": [
    {
     "data": {
      "text/plain": [
       "<qcodes.dataset.measurements.Measurement at 0x2229aa998e0>"
      ]
     },
     "execution_count": 17,
     "metadata": {},
     "output_type": "execute_result"
    }
   ],
   "source": [
    "#Manages independent and dependent variables\n",
    "experiment = load_or_create_experiment(\n",
    "    experiment_name=exp_name,\n",
    "    sample_name=sample\n",
    ")\n",
    "context_meas = Measurement(exp=experiment, station=station, name=meas_name)\n",
    "context_meas.write_period = 0.1\n",
    "\n",
    "context_meas.register_parameter(mag120.field_measured)\n",
    "context_meas.register_parameter(lockIn.X, setpoints=(mag120.field_measured,))"
   ]
  },
  {
   "cell_type": "markdown",
   "metadata": {
    "ExecuteTime": {
     "end_time": "2023-08-21T20:15:41.493975Z",
     "start_time": "2023-08-21T20:15:41.435972Z"
    }
   },
   "source": [
    "# Sweep Magnetic Field and Measure Results"
   ]
  },
  {
   "cell_type": "code",
   "execution_count": 19,
   "metadata": {
    "ExecuteTime": {
     "start_time": "2023-09-29T19:52:32.706Z"
    }
   },
   "outputs": [
    {
     "name": "stdout",
     "output_type": "stream",
     "text": [
      "Starting experimental run with id: 6. \n"
     ]
    }
   ],
   "source": [
    "mag120.ramp('simul')\n",
    "with context_meas.run() as datasaver:\n",
    "    while(mag120._get_field().z>0.001):\n",
    "        set_m = mag120.field_measured.get().z\n",
    "        get_x = lockIn.X.get()\n",
    "\n",
    "        datasaver.add_result((mag120.field_measured, set_m),\n",
    "                             (lockIn.X, get_x))        \n",
    "        print(set_m)\n",
    "        time.sleep(1)\n",
    "\n",
    "    dataset = datasaver.dataset"
   ]
  },
  {
   "cell_type": "markdown",
   "metadata": {},
   "source": [
    "# Converts Dataset Results to CSV"
   ]
  },
  {
   "cell_type": "code",
   "execution_count": 12,
   "metadata": {
    "ExecuteTime": {
     "end_time": "2023-09-29T19:50:26.639949Z",
     "start_time": "2023-09-29T19:50:26.628949Z"
    }
   },
   "outputs": [],
   "source": [
    "#Converts to pandas dataframe\n",
    "#Will use most recent experimental id by default unless changed with the next cell\n",
    "df = dataset.to_pandas_dataframe()\n",
    "#Converts dataframe to csv\n",
    "df.to_csv(csvPath)"
   ]
  },
  {
   "cell_type": "code",
   "execution_count": null,
   "metadata": {},
   "outputs": [],
   "source": [
    "#Load previous experiment based on id number\n",
    "dataset = load_by_id(1)"
   ]
  },
  {
   "cell_type": "markdown",
   "metadata": {},
   "source": [
    "# Plot Dataset Results"
   ]
  },
  {
   "cell_type": "code",
   "execution_count": null,
   "metadata": {},
   "outputs": [],
   "source": [
    "plot_dataset(dataset)"
   ]
  }
 ],
 "metadata": {
  "kernelspec": {
   "display_name": "Python 3 (ipykernel)",
   "language": "python",
   "name": "python3"
  },
  "language_info": {
   "codemirror_mode": {
    "name": "ipython",
    "version": 3
   },
   "file_extension": ".py",
   "mimetype": "text/x-python",
   "name": "python",
   "nbconvert_exporter": "python",
   "pygments_lexer": "ipython3",
   "version": "3.10.8"
  },
  "toc": {
   "base_numbering": 1,
   "nav_menu": {},
   "number_sections": true,
   "sideBar": true,
   "skip_h1_title": false,
   "title_cell": "Table of Contents",
   "title_sidebar": "Contents",
   "toc_cell": false,
   "toc_position": {},
   "toc_section_display": true,
   "toc_window_display": false
  },
  "varInspector": {
   "cols": {
    "lenName": 16,
    "lenType": 16,
    "lenVar": 40
   },
   "kernels_config": {
    "python": {
     "delete_cmd_postfix": "",
     "delete_cmd_prefix": "del ",
     "library": "var_list.py",
     "varRefreshCmd": "print(var_dic_list())"
    },
    "r": {
     "delete_cmd_postfix": ") ",
     "delete_cmd_prefix": "rm(",
     "library": "var_list.r",
     "varRefreshCmd": "cat(var_dic_list()) "
    }
   },
   "types_to_exclude": [
    "module",
    "function",
    "builtin_function_or_method",
    "instance",
    "_Feature"
   ],
   "window_display": false
  }
 },
 "nbformat": 4,
 "nbformat_minor": 4
}
