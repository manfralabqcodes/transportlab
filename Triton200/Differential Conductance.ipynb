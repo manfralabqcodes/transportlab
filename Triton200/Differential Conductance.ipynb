{
 "cells": [
  {
   "cell_type": "markdown",
   "metadata": {},
   "source": [
    "# Import Modules"
   ]
  },
  {
   "cell_type": "code",
   "execution_count": 1,
   "metadata": {
    "ExecuteTime": {
     "end_time": "2023-09-29T18:46:56.546024Z",
     "start_time": "2023-09-29T18:46:53.926874Z"
    }
   },
   "outputs": [],
   "source": [
    "#%qtconsole\n",
    "#%matplotlib inline\n",
    "\n",
    "import matplotlib.pyplot as plt\n",
    "from functools import partial\n",
    "import numpy as np\n",
    "import time \n",
    "import qcodes as qc\n",
    "import os\n",
    "from qcodes.math_utils import FieldVector\n",
    "from qcodes import Station, load_or_create_experiment, initialise_database, Measurement, load_by_run_spec, load_by_guid, initialise_or_create_database_at \n",
    "from qcodes.utils.dataset.doNd import do1d, do2d, plot\n",
    "\n",
    "from qcodes_contrib_drivers.drivers.Tektronix.Keithley_2700 import Keithley_2700\n",
    "from qcodes.instrument_drivers.tektronix.Keithley_2600_channels import Keithley_2600\n",
    "from qcodes_contrib_drivers.drivers.Oxford.IPS120 import OxfordInstruments_IPS120\n",
    "from qcodes.instrument.visa import VisaInstrument\n",
    "from qcodes_contrib_drivers.drivers.StanfordResearchSystems.SIM928 import SIM928\n",
    "from qcodes.instrument_drivers.stanford_research.SR830 import SR830\n",
    "from qcodes.instrument_drivers.stanford_research.SR860 import SR860\n",
    "from qcodes.dataset.plotting import plot_dataset\n",
    "from qcodes.instrument_drivers.oxford.MercuryiPS_VISA import MercuryiPS\n",
    "import IPython.lib.backgroundjobs as bg\n",
    "from plottr.apps import inspectr"
   ]
  },
  {
   "cell_type": "markdown",
   "metadata": {},
   "source": [
    "# Connect to Instruments and Initialize Variables"
   ]
  },
  {
   "cell_type": "code",
   "execution_count": 2,
   "metadata": {
    "ExecuteTime": {
     "end_time": "2023-09-29T18:47:00.683261Z",
     "start_time": "2023-09-29T18:46:59.367186Z"
    }
   },
   "outputs": [
    {
     "name": "stdout",
     "output_type": "stream",
     "text": [
      "Connected to: Stanford_Research_Systems SIM900 (serial:s/n130213, firmware:ver3.6) in 1.26s\n",
      "Connected to: Stanford_Research_Systems SR860 (serial:004479, firmware:V1.51) in 0.05s\n"
     ]
    }
   ],
   "source": [
    "#SIM Controller\n",
    "sim=SIM928('George','GPIB1::15::INSTR')\n",
    "#Lockins(SR860 and SR830)\n",
    "#diff1=SR830('Dilbert','GPIB1::6::INSTR' )\n",
    "diff1=SR860('Laughlin', 'GPIB1::4::INSTR')"
   ]
  },
  {
   "cell_type": "markdown",
   "metadata": {},
   "source": [
    "# Global Parameters for Instruments and Experiment"
   ]
  },
  {
   "cell_type": "code",
   "execution_count": 3,
   "metadata": {
    "ExecuteTime": {
     "end_time": "2023-09-29T18:47:06.212577Z",
     "start_time": "2023-09-29T18:47:06.207577Z"
    }
   },
   "outputs": [],
   "source": [
    "dataBasePath = 'C:\\\\Users\\\\Admin\\Desktop\\\\MattMann\\\\8-3-22.1MM11A3\\\\DifferentialResistance2\\\\DifferentialResistance_092923_nu=2.db'\n"
   ]
  },
  {
   "cell_type": "code",
   "execution_count": 70,
   "metadata": {
    "ExecuteTime": {
     "end_time": "2023-09-29T19:52:26.147785Z",
     "start_time": "2023-09-29T19:52:26.027778Z"
    }
   },
   "outputs": [],
   "source": [
    "csvPath = \"C:\\\\Users\\\\Admin\\\\Desktop\\\\MattMann\\\\8-3-22.1MM11A3\\\\DifferentialResistance2\\\\DifferentialResistance_Contact4_100pA_nu=2_SweepDown.csv\"\n",
    "sample = \"8-3-22.1MM11A3\"\n",
    "exp_name = \"Differential_Conductance_100pA_Contact4_SweepDown\"\n",
    "meas_name = 'Differential_Conductance_100pA'\n",
    "dc_amp = 0.1\n",
    "amp = 0.000001\n",
    "#Module number on SIM controller\n",
    "sim_port = 1\n",
    "#Units are in volts\n",
    "V1_start = sim.get_voltage(sim_port)\n",
    "V1_end = -0.5\n",
    "#Ramp rate is volts/sec\n",
    "rampRate = 0.002\n",
    "#Changes direction of ramp if ramping down to a voltage instead of up\n",
    "if V1_end < V1_start:\n",
    "    rampRate = rampRate *(-1)"
   ]
  },
  {
   "cell_type": "markdown",
   "metadata": {},
   "source": [
    "# Set Up Database for Data Collection"
   ]
  },
  {
   "cell_type": "code",
   "execution_count": 5,
   "metadata": {
    "ExecuteTime": {
     "end_time": "2023-09-29T18:47:13.330984Z",
     "start_time": "2023-09-29T18:47:12.451934Z"
    }
   },
   "outputs": [],
   "source": [
    "db_file_path = os.path.join(os.getcwd(), dataBasePath)\n",
    "initialise_or_create_database_at(db_file_path)"
   ]
  },
  {
   "cell_type": "markdown",
   "metadata": {},
   "source": [
    "# Set Up Live Plot"
   ]
  },
  {
   "cell_type": "code",
   "execution_count": 6,
   "metadata": {
    "ExecuteTime": {
     "end_time": "2023-09-29T18:47:14.921075Z",
     "start_time": "2023-09-29T18:47:14.909075Z"
    }
   },
   "outputs": [
    {
     "data": {
      "text/plain": [
       "<BackgroundJob #0: <function main at 0x000000001D5410D8>>"
      ]
     },
     "execution_count": 6,
     "metadata": {},
     "output_type": "execute_result"
    }
   ],
   "source": [
    "#Opens windows that will plot results as they are collected\n",
    "#Make sure to turn on refresh rate once window opens or nothing will happen\n",
    "jobs = bg.BackgroundJobManager()\n",
    "jobs.new(inspectr.main, db_file_path)"
   ]
  },
  {
   "cell_type": "markdown",
   "metadata": {},
   "source": [
    "# Setup Station and Measurement Parameters"
   ]
  },
  {
   "cell_type": "code",
   "execution_count": 7,
   "metadata": {
    "ExecuteTime": {
     "end_time": "2023-09-29T18:47:25.964707Z",
     "start_time": "2023-09-29T18:47:24.409618Z"
    }
   },
   "outputs": [
    {
     "data": {
      "text/plain": [
       "'Laughlin'"
      ]
     },
     "execution_count": 7,
     "metadata": {},
     "output_type": "execute_result"
    }
   ],
   "source": [
    "#Handles equipment\n",
    "station = qc.Station()\n",
    "station.add_component(sim)\n",
    "station.add_component(diff1)"
   ]
  },
  {
   "cell_type": "code",
   "execution_count": 71,
   "metadata": {
    "ExecuteTime": {
     "end_time": "2023-09-29T19:52:29.925001Z",
     "start_time": "2023-09-29T19:52:29.870998Z"
    }
   },
   "outputs": [
    {
     "data": {
      "text/plain": [
       "<qcodes.dataset.measurements.Measurement at 0x3fcbfd08>"
      ]
     },
     "execution_count": 71,
     "metadata": {},
     "output_type": "execute_result"
    }
   ],
   "source": [
    "#Manages independent and dependent variables\n",
    "diff_Conduct = load_or_create_experiment(\n",
    "    experiment_name=exp_name,\n",
    "    sample_name=sample\n",
    ")\n",
    "context_meas = Measurement(exp=diff_Conduct, station=station, name=meas_name)\n",
    "context_meas.write_period = 0.1\n",
    "\n",
    "context_meas.register_parameter(sim.volt_1)\n",
    "context_meas.register_parameter(diff1.X, setpoints=(sim.volt_1,))"
   ]
  },
  {
   "cell_type": "markdown",
   "metadata": {
    "ExecuteTime": {
     "end_time": "2023-08-21T20:15:41.493975Z",
     "start_time": "2023-08-21T20:15:41.435972Z"
    }
   },
   "source": [
    "# Sweep DC Voltage and Measure Differential Conductance"
   ]
  },
  {
   "cell_type": "code",
   "execution_count": null,
   "metadata": {
    "ExecuteTime": {
     "start_time": "2023-09-29T19:52:32.706Z"
    }
   },
   "outputs": [
    {
     "name": "stdout",
     "output_type": "stream",
     "text": [
      "Starting experimental run with id: 17. \n"
     ]
    }
   ],
   "source": [
    "with context_meas.run() as datasaver:\n",
    "    for v_set in np.arange(V1_start, V1_end+rampRate, rampRate):\n",
    "        sim.set_voltage(sim_port, v_set)\n",
    "        get_x1 = diff1.X.get()/amp\n",
    "        datasaver.add_result((sim.volt_1, v_set/dc_amp),\n",
    "                             (diff1.X, get_x1))        \n",
    "        time.sleep(1)\n",
    "    dataset = datasaver.dataset"
   ]
  },
  {
   "cell_type": "markdown",
   "metadata": {},
   "source": [
    "# Converts Dataset Results to CSV"
   ]
  },
  {
   "cell_type": "code",
   "execution_count": 66,
   "metadata": {
    "ExecuteTime": {
     "end_time": "2023-09-29T19:50:26.639949Z",
     "start_time": "2023-09-29T19:50:26.628949Z"
    }
   },
   "outputs": [],
   "source": [
    "#Converts to pandas dataframe\n",
    "df = dataset.to_pandas_dataframe()\n",
    "#Converts dataframe to csv\n",
    "df.to_csv(csvPath)"
   ]
  },
  {
   "cell_type": "markdown",
   "metadata": {},
   "source": [
    "# Plot Dataset Results"
   ]
  },
  {
   "cell_type": "code",
   "execution_count": null,
   "metadata": {},
   "outputs": [],
   "source": [
    "plot_dataset(dataset)"
   ]
  }
 ],
 "metadata": {
  "kernelspec": {
   "display_name": "Python 3 (ipykernel)",
   "language": "python",
   "name": "python3"
  },
  "language_info": {
   "codemirror_mode": {
    "name": "ipython",
    "version": 3
   },
   "file_extension": ".py",
   "mimetype": "text/x-python",
   "name": "python",
   "nbconvert_exporter": "python",
   "pygments_lexer": "ipython3",
   "version": "3.7.16"
  },
  "toc": {
   "base_numbering": 1,
   "nav_menu": {},
   "number_sections": true,
   "sideBar": true,
   "skip_h1_title": false,
   "title_cell": "Table of Contents",
   "title_sidebar": "Contents",
   "toc_cell": false,
   "toc_position": {},
   "toc_section_display": true,
   "toc_window_display": false
  },
  "varInspector": {
   "cols": {
    "lenName": 16,
    "lenType": 16,
    "lenVar": 40
   },
   "kernels_config": {
    "python": {
     "delete_cmd_postfix": "",
     "delete_cmd_prefix": "del ",
     "library": "var_list.py",
     "varRefreshCmd": "print(var_dic_list())"
    },
    "r": {
     "delete_cmd_postfix": ") ",
     "delete_cmd_prefix": "rm(",
     "library": "var_list.r",
     "varRefreshCmd": "cat(var_dic_list()) "
    }
   },
   "types_to_exclude": [
    "module",
    "function",
    "builtin_function_or_method",
    "instance",
    "_Feature"
   ],
   "window_display": false
  }
 },
 "nbformat": 4,
 "nbformat_minor": 2
}
