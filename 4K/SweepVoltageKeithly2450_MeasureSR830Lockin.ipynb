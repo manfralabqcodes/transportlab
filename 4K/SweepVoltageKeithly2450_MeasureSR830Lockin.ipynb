{
 "cells": [
  {
   "cell_type": "markdown",
   "id": "13534b89",
   "metadata": {},
   "source": [
    "# Import Commands"
   ]
  },
  {
   "cell_type": "code",
   "execution_count": 1,
   "id": "f62dbc38",
   "metadata": {
    "scrolled": true
   },
   "outputs": [
    {
     "name": "stdout",
     "output_type": "stream",
     "text": [
      "Logging hadn't been started.\n",
      "Activating auto-logging. Current session state plus future input saved.\n",
      "Filename       : C:\\Users\\manfra-lab\\.qcodes\\logs\\command_history.log\n",
      "Mode           : append\n",
      "Output logging : True\n",
      "Raw input log  : False\n",
      "Timestamping   : True\n",
      "State          : active\n",
      "Qcodes Logfile : C:\\Users\\manfra-lab\\.qcodes\\logs\\231018-18116-qcodes.log\n"
     ]
    }
   ],
   "source": [
    "#%qtconsole\n",
    "#%matplotlib inline\n",
    "\n",
    "import matplotlib.pyplot as plt\n",
    "from functools import partial\n",
    "import numpy as np\n",
    "import time \n",
    "import qcodes as qc\n",
    "import os\n",
    "import openpyxl\n",
    "\n",
    "from qcodes import Station, load_or_create_experiment, initialise_database, Measurement, load_by_run_spec, load_by_guid, initialise_or_create_database_at \n",
    "from qcodes.utils.dataset.doNd import do1d, do2d, plot\n",
    "from pyvisa import VisaIOError\n",
    "\n",
    "from qcodes.instrument_drivers.stanford_research.SR830 import SR830\n",
    "from qcodes.instrument_drivers.Keithley.Keithley_2450 import *\n",
    "import IPython.lib.backgroundjobs as bg\n",
    "from plottr.apps import inspectr"
   ]
  },
  {
   "cell_type": "markdown",
   "id": "b9be0f2d",
   "metadata": {},
   "source": [
    "# Initialize Instruments"
   ]
  },
  {
   "cell_type": "code",
   "execution_count": 2,
   "id": "0e7f9f7a",
   "metadata": {},
   "outputs": [
    {
     "name": "stdout",
     "output_type": "stream",
     "text": [
      "Connected to: Stanford_Research_Systems SR830 (serial:s/n21560, firmware:ver1.01) in 0.20s\n",
      "Connected to: KEITHLEY INSTRUMENTS 2450 (serial:04509597, firmware:1.7.5b) in 0.04s\n"
     ]
    }
   ],
   "source": [
    "#Lockins(SR830)\n",
    "lockIn = SR830('Gomorrah','GPIB0::8::INSTR' )\n",
    "#SIM900 Controller(DC Voltage source)\n",
    "keith = Keithley2450('Parrot', 'GPIB0::18::INSTR')\n",
    "keith.reset()"
   ]
  },
  {
   "cell_type": "markdown",
   "id": "0941faff",
   "metadata": {},
   "source": [
    "# Global Parameters for Instruments and Experiment"
   ]
  },
  {
   "cell_type": "code",
   "execution_count": 3,
   "id": "57668808",
   "metadata": {},
   "outputs": [],
   "source": [
    "dataBasePath = 'C:\\\\Users\\\\manfra-lab\\\\Desktop\\\\Users\\\\Matt\\\\Data\\\\QcodesTest\\\\test.db'"
   ]
  },
  {
   "cell_type": "code",
   "execution_count": 4,
   "id": "2a361e2f",
   "metadata": {},
   "outputs": [],
   "source": [
    "exp_name = \"Differential_Conductance_100pA_Contact4_SweepDown\""
   ]
  },
  {
   "cell_type": "code",
   "execution_count": 5,
   "id": "42ff1495",
   "metadata": {},
   "outputs": [],
   "source": [
    "meas_name = 'Differential_Conductance_100pA'"
   ]
  },
  {
   "cell_type": "code",
   "execution_count": 7,
   "id": "9a5be244",
   "metadata": {},
   "outputs": [],
   "source": [
    "csvPath = \"C:\\\\Users\\\\manfra-lab\\\\Desktop\\\\Users\\\\Matt\\\\Data\\\\QcodesTest\\\\test.csv\"\n",
    "sample = \"8-3-22.1MM11A3\"\n",
    "#Sets the keithly to measure current and source voltage\n",
    "keith.sense.function(\"current\")\n",
    "keith.source.function(\"voltage\")\n",
    "#Units are in volts\n",
    "V_start = keith.source.voltage()\n",
    "V_end = -0.5\n",
    "#Ramp rate is volts/delay\n",
    "rampRate = 0.1\n",
    "#Time Delay(seconds)\n",
    "delay = 1\n",
    "#Changes direction of ramp if ramping down to a voltage instead of up\n",
    "if V_end < V_start:\n",
    "    rampRate = rampRate *(-1)\n",
    "    \n",
    "keith.output_enabled.set_to(True)\n",
    "keith.terminals(\"front\")"
   ]
  },
  {
   "cell_type": "markdown",
   "id": "f3a44443",
   "metadata": {},
   "source": [
    "# Set Up Database for Data Collection"
   ]
  },
  {
   "cell_type": "code",
   "execution_count": 8,
   "id": "765cb02a",
   "metadata": {},
   "outputs": [],
   "source": [
    "db_file_path = os.path.join(os.getcwd(), dataBasePath)\n",
    "initialise_or_create_database_at(db_file_path)"
   ]
  },
  {
   "cell_type": "markdown",
   "id": "83714e12",
   "metadata": {},
   "source": [
    "# Set Up Live Plot"
   ]
  },
  {
   "cell_type": "code",
   "execution_count": 9,
   "id": "9e4ddfea",
   "metadata": {},
   "outputs": [
    {
     "data": {
      "text/plain": [
       "<BackgroundJob #0: <function main at 0x000001E4061D1B80>>"
      ]
     },
     "execution_count": 9,
     "metadata": {},
     "output_type": "execute_result"
    }
   ],
   "source": [
    "#Opens windows that will plot results as they are collected\n",
    "#Make sure to turn on refresh rate once window opens or nothing will happen\n",
    "jobs = bg.BackgroundJobManager()\n",
    "jobs.new(inspectr.main, db_file_path)"
   ]
  },
  {
   "cell_type": "markdown",
   "id": "7f42c4e9",
   "metadata": {},
   "source": [
    "# Setup Station and Measurement Parameters"
   ]
  },
  {
   "cell_type": "code",
   "execution_count": 10,
   "id": "e3b65d95",
   "metadata": {},
   "outputs": [
    {
     "data": {
      "text/plain": [
       "'Gomorrah'"
      ]
     },
     "execution_count": 10,
     "metadata": {},
     "output_type": "execute_result"
    }
   ],
   "source": [
    "#Handles equipment\n",
    "station = qc.Station()\n",
    "station.add_component(keith)\n",
    "station.add_component(lockIn)"
   ]
  },
  {
   "cell_type": "code",
   "execution_count": 11,
   "id": "fe122801",
   "metadata": {},
   "outputs": [
    {
     "data": {
      "text/plain": [
       "<qcodes.dataset.measurements.Measurement at 0x1e40bac1130>"
      ]
     },
     "execution_count": 11,
     "metadata": {},
     "output_type": "execute_result"
    }
   ],
   "source": [
    "#Manages independent and dependent variables\n",
    "sweepKeith = load_or_create_experiment(\n",
    "    experiment_name=exp_name,\n",
    "    sample_name=sample\n",
    ")\n",
    "context_meas = Measurement(exp=sweepKeith, name=meas_name)\n",
    "context_meas.write_period = 0.1\n",
    "\n",
    "context_meas.register_parameter(keith.source.voltage)\n",
    "context_meas.register_parameter(lockIn.X,setpoints=(keith.source.voltage,))"
   ]
  },
  {
   "cell_type": "markdown",
   "id": "12a87ef2",
   "metadata": {},
   "source": [
    "# Sweep Keithly and Measure Lockin With Context Manager"
   ]
  },
  {
   "cell_type": "code",
   "execution_count": 12,
   "id": "bb387106",
   "metadata": {},
   "outputs": [
    {
     "name": "stdout",
     "output_type": "stream",
     "text": [
      "Starting experimental run with id: 15. \n"
     ]
    }
   ],
   "source": [
    "with context_meas.run() as datasaver:\n",
    "    for v_set in np.arange(V_start, V_end+rampRate, rampRate):\n",
    "        keith.source.voltage(v_set)\n",
    "        get_x = lockIn.X.get()\n",
    "        datasaver.add_result((keith.source.voltage, v_set),\n",
    "                             (lockIn.X, get_x))        \n",
    "        time.sleep(delay)\n",
    "    dataset = datasaver.dataset"
   ]
  },
  {
   "cell_type": "markdown",
   "id": "92252c99",
   "metadata": {},
   "source": [
    "# Converts Dataset Results to CSV"
   ]
  },
  {
   "cell_type": "code",
   "execution_count": 13,
   "id": "2920e84b",
   "metadata": {},
   "outputs": [],
   "source": [
    "#Converts to pandas dataframe\n",
    "df = dataset.to_pandas_dataframe()\n",
    "#Converts dataframe to csv\n",
    "df.to_csv(csvPath)"
   ]
  },
  {
   "cell_type": "code",
   "execution_count": null,
   "id": "dba19540",
   "metadata": {},
   "outputs": [],
   "source": []
  }
 ],
 "metadata": {
  "kernelspec": {
   "display_name": "Python 3 (ipykernel)",
   "language": "python",
   "name": "python3"
  },
  "language_info": {
   "codemirror_mode": {
    "name": "ipython",
    "version": 3
   },
   "file_extension": ".py",
   "mimetype": "text/x-python",
   "name": "python",
   "nbconvert_exporter": "python",
   "pygments_lexer": "ipython3",
   "version": "3.9.13"
  }
 },
 "nbformat": 4,
 "nbformat_minor": 5
}
